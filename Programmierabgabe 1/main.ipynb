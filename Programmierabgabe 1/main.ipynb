{
 "cells": [
  {
   "cell_type": "markdown",
   "id": "bb65eb7ba196d88e",
   "metadata": {
    "collapsed": false,
    "jupyter": {
     "outputs_hidden": false
    }
   },
   "source": [
    "Abgabe von: Mat.Nr.: 9452857 & 1113800"
   ]
  },
  {
   "cell_type": "markdown",
   "id": "b0f63a4d",
   "metadata": {},
   "source": [
    "Aufteilung: <br>\n",
    "Import, Regression Models: Matr. Nr 9452857 <br>\n",
    "Hyperparameter Tuning, Comments: Matr. Nr 1113800"
   ]
  },
  {
   "cell_type": "markdown",
   "id": "78f9cd52ee8704d3",
   "metadata": {
    "collapsed": false,
    "jupyter": {
     "outputs_hidden": false
    }
   },
   "source": [
    "Before doing anything installing all needed dependencies"
   ]
  },
  {
   "cell_type": "markdown",
   "id": "56436fce6a392329",
   "metadata": {
    "collapsed": false,
    "jupyter": {
     "outputs_hidden": false
    }
   },
   "source": [
    "!pip3 install pandas\n",
    "!pip3 install scikit-learn"
   ]
  },
  {
   "cell_type": "code",
   "execution_count": 2,
   "id": "5470d3d6",
   "metadata": {},
   "outputs": [
    {
     "name": "stdout",
     "output_type": "stream",
     "text": [
      "Requirement already satisfied: pandas in /Users/paulbrenner/anaconda3/lib/python3.11/site-packages (2.0.3)\n",
      "Requirement already satisfied: python-dateutil>=2.8.2 in /Users/paulbrenner/anaconda3/lib/python3.11/site-packages (from pandas) (2.8.2)\n",
      "Requirement already satisfied: pytz>=2020.1 in /Users/paulbrenner/anaconda3/lib/python3.11/site-packages (from pandas) (2023.3.post1)\n",
      "Requirement already satisfied: tzdata>=2022.1 in /Users/paulbrenner/anaconda3/lib/python3.11/site-packages (from pandas) (2023.3)\n",
      "Requirement already satisfied: numpy>=1.21.0 in /Users/paulbrenner/anaconda3/lib/python3.11/site-packages (from pandas) (1.24.3)\n",
      "Requirement already satisfied: six>=1.5 in /Users/paulbrenner/anaconda3/lib/python3.11/site-packages (from python-dateutil>=2.8.2->pandas) (1.16.0)\n",
      "Requirement already satisfied: scikit-learn in /Users/paulbrenner/anaconda3/lib/python3.11/site-packages (1.2.2)\n",
      "Requirement already satisfied: numpy>=1.17.3 in /Users/paulbrenner/anaconda3/lib/python3.11/site-packages (from scikit-learn) (1.24.3)\n",
      "Requirement already satisfied: scipy>=1.3.2 in /Users/paulbrenner/anaconda3/lib/python3.11/site-packages (from scikit-learn) (1.11.1)\n",
      "Requirement already satisfied: joblib>=1.1.1 in /Users/paulbrenner/anaconda3/lib/python3.11/site-packages (from scikit-learn) (1.2.0)\n",
      "Requirement already satisfied: threadpoolctl>=2.0.0 in /Users/paulbrenner/anaconda3/lib/python3.11/site-packages (from scikit-learn) (2.2.0)\n"
     ]
    }
   ],
   "source": [
    "!pip3 install pandas\n",
    "!pip3 install scikit-learn\n"
   ]
  },
  {
   "cell_type": "markdown",
   "id": "c9d16a75f67202c7",
   "metadata": {
    "collapsed": false,
    "jupyter": {
     "outputs_hidden": false
    }
   },
   "source": [
    "# Aufgabe 1"
   ]
  },
  {
   "cell_type": "code",
   "execution_count": 3,
   "id": "681dc39cdab0db77",
   "metadata": {
    "ExecuteTime": {
     "end_time": "2024-04-08T07:25:44.731958Z",
     "start_time": "2024-04-08T07:25:42.862707Z"
    },
    "collapsed": false,
    "jupyter": {
     "outputs_hidden": false
    }
   },
   "outputs": [],
   "source": [
    "import os\n",
    "import pandas as pd\n",
    "from sklearn.model_selection import train_test_split\n",
    "from sklearn import set_config\n",
    "set_config(transform_output=\"pandas\")"
   ]
  },
  {
   "cell_type": "markdown",
   "id": "05b1cc1a",
   "metadata": {},
   "source": [
    "Import data"
   ]
  },
  {
   "cell_type": "code",
   "execution_count": 4,
   "id": "6277f25d21edcf7e",
   "metadata": {
    "ExecuteTime": {
     "end_time": "2024-04-08T07:25:44.761754Z",
     "start_time": "2024-04-08T07:25:44.733963Z"
    },
    "collapsed": false,
    "jupyter": {
     "outputs_hidden": false
    }
   },
   "outputs": [],
   "source": [
    "white_raw = pd.read_csv(os.getcwd() + \"/dataset/winequality-white.csv\", delimiter=\";\")\n",
    "red_raw = pd.read_csv(os.getcwd() + \"/dataset/winequality-red.csv\", delimiter=\";\")"
   ]
  },
  {
   "cell_type": "markdown",
   "id": "f54922f2bb8e4690",
   "metadata": {
    "collapsed": false,
    "jupyter": {
     "outputs_hidden": false
    }
   },
   "source": [
    "Split wine in Test and Training Data (75% / 25%)"
   ]
  },
  {
   "cell_type": "code",
   "execution_count": 5,
   "id": "f5154b42661b5c13",
   "metadata": {
    "ExecuteTime": {
     "end_time": "2024-04-08T07:25:44.810628Z",
     "start_time": "2024-04-08T07:25:44.763314Z"
    },
    "collapsed": false,
    "jupyter": {
     "outputs_hidden": false
    }
   },
   "outputs": [
    {
     "data": {
      "text/html": [
       "<div>\n",
       "<style scoped>\n",
       "    .dataframe tbody tr th:only-of-type {\n",
       "        vertical-align: middle;\n",
       "    }\n",
       "\n",
       "    .dataframe tbody tr th {\n",
       "        vertical-align: top;\n",
       "    }\n",
       "\n",
       "    .dataframe thead th {\n",
       "        text-align: right;\n",
       "    }\n",
       "</style>\n",
       "<table border=\"1\" class=\"dataframe\">\n",
       "  <thead>\n",
       "    <tr style=\"text-align: right;\">\n",
       "      <th></th>\n",
       "      <th>fixed acidity</th>\n",
       "      <th>volatile acidity</th>\n",
       "      <th>citric acid</th>\n",
       "      <th>residual sugar</th>\n",
       "      <th>chlorides</th>\n",
       "      <th>free sulfur dioxide</th>\n",
       "      <th>total sulfur dioxide</th>\n",
       "      <th>density</th>\n",
       "      <th>pH</th>\n",
       "      <th>sulphates</th>\n",
       "      <th>alcohol</th>\n",
       "      <th>quality</th>\n",
       "    </tr>\n",
       "  </thead>\n",
       "  <tbody>\n",
       "    <tr>\n",
       "      <th>0</th>\n",
       "      <td>7.4</td>\n",
       "      <td>0.700</td>\n",
       "      <td>0.00</td>\n",
       "      <td>1.9</td>\n",
       "      <td>0.076</td>\n",
       "      <td>11.0</td>\n",
       "      <td>34.0</td>\n",
       "      <td>0.99780</td>\n",
       "      <td>3.51</td>\n",
       "      <td>0.56</td>\n",
       "      <td>9.4</td>\n",
       "      <td>5</td>\n",
       "    </tr>\n",
       "    <tr>\n",
       "      <th>1</th>\n",
       "      <td>7.8</td>\n",
       "      <td>0.880</td>\n",
       "      <td>0.00</td>\n",
       "      <td>2.6</td>\n",
       "      <td>0.098</td>\n",
       "      <td>25.0</td>\n",
       "      <td>67.0</td>\n",
       "      <td>0.99680</td>\n",
       "      <td>3.20</td>\n",
       "      <td>0.68</td>\n",
       "      <td>9.8</td>\n",
       "      <td>5</td>\n",
       "    </tr>\n",
       "    <tr>\n",
       "      <th>2</th>\n",
       "      <td>7.8</td>\n",
       "      <td>0.760</td>\n",
       "      <td>0.04</td>\n",
       "      <td>2.3</td>\n",
       "      <td>0.092</td>\n",
       "      <td>15.0</td>\n",
       "      <td>54.0</td>\n",
       "      <td>0.99700</td>\n",
       "      <td>3.26</td>\n",
       "      <td>0.65</td>\n",
       "      <td>9.8</td>\n",
       "      <td>5</td>\n",
       "    </tr>\n",
       "    <tr>\n",
       "      <th>3</th>\n",
       "      <td>11.2</td>\n",
       "      <td>0.280</td>\n",
       "      <td>0.56</td>\n",
       "      <td>1.9</td>\n",
       "      <td>0.075</td>\n",
       "      <td>17.0</td>\n",
       "      <td>60.0</td>\n",
       "      <td>0.99800</td>\n",
       "      <td>3.16</td>\n",
       "      <td>0.58</td>\n",
       "      <td>9.8</td>\n",
       "      <td>6</td>\n",
       "    </tr>\n",
       "    <tr>\n",
       "      <th>4</th>\n",
       "      <td>7.4</td>\n",
       "      <td>0.700</td>\n",
       "      <td>0.00</td>\n",
       "      <td>1.9</td>\n",
       "      <td>0.076</td>\n",
       "      <td>11.0</td>\n",
       "      <td>34.0</td>\n",
       "      <td>0.99780</td>\n",
       "      <td>3.51</td>\n",
       "      <td>0.56</td>\n",
       "      <td>9.4</td>\n",
       "      <td>5</td>\n",
       "    </tr>\n",
       "    <tr>\n",
       "      <th>...</th>\n",
       "      <td>...</td>\n",
       "      <td>...</td>\n",
       "      <td>...</td>\n",
       "      <td>...</td>\n",
       "      <td>...</td>\n",
       "      <td>...</td>\n",
       "      <td>...</td>\n",
       "      <td>...</td>\n",
       "      <td>...</td>\n",
       "      <td>...</td>\n",
       "      <td>...</td>\n",
       "      <td>...</td>\n",
       "    </tr>\n",
       "    <tr>\n",
       "      <th>1594</th>\n",
       "      <td>6.2</td>\n",
       "      <td>0.600</td>\n",
       "      <td>0.08</td>\n",
       "      <td>2.0</td>\n",
       "      <td>0.090</td>\n",
       "      <td>32.0</td>\n",
       "      <td>44.0</td>\n",
       "      <td>0.99490</td>\n",
       "      <td>3.45</td>\n",
       "      <td>0.58</td>\n",
       "      <td>10.5</td>\n",
       "      <td>5</td>\n",
       "    </tr>\n",
       "    <tr>\n",
       "      <th>1595</th>\n",
       "      <td>5.9</td>\n",
       "      <td>0.550</td>\n",
       "      <td>0.10</td>\n",
       "      <td>2.2</td>\n",
       "      <td>0.062</td>\n",
       "      <td>39.0</td>\n",
       "      <td>51.0</td>\n",
       "      <td>0.99512</td>\n",
       "      <td>3.52</td>\n",
       "      <td>0.76</td>\n",
       "      <td>11.2</td>\n",
       "      <td>6</td>\n",
       "    </tr>\n",
       "    <tr>\n",
       "      <th>1596</th>\n",
       "      <td>6.3</td>\n",
       "      <td>0.510</td>\n",
       "      <td>0.13</td>\n",
       "      <td>2.3</td>\n",
       "      <td>0.076</td>\n",
       "      <td>29.0</td>\n",
       "      <td>40.0</td>\n",
       "      <td>0.99574</td>\n",
       "      <td>3.42</td>\n",
       "      <td>0.75</td>\n",
       "      <td>11.0</td>\n",
       "      <td>6</td>\n",
       "    </tr>\n",
       "    <tr>\n",
       "      <th>1597</th>\n",
       "      <td>5.9</td>\n",
       "      <td>0.645</td>\n",
       "      <td>0.12</td>\n",
       "      <td>2.0</td>\n",
       "      <td>0.075</td>\n",
       "      <td>32.0</td>\n",
       "      <td>44.0</td>\n",
       "      <td>0.99547</td>\n",
       "      <td>3.57</td>\n",
       "      <td>0.71</td>\n",
       "      <td>10.2</td>\n",
       "      <td>5</td>\n",
       "    </tr>\n",
       "    <tr>\n",
       "      <th>1598</th>\n",
       "      <td>6.0</td>\n",
       "      <td>0.310</td>\n",
       "      <td>0.47</td>\n",
       "      <td>3.6</td>\n",
       "      <td>0.067</td>\n",
       "      <td>18.0</td>\n",
       "      <td>42.0</td>\n",
       "      <td>0.99549</td>\n",
       "      <td>3.39</td>\n",
       "      <td>0.66</td>\n",
       "      <td>11.0</td>\n",
       "      <td>6</td>\n",
       "    </tr>\n",
       "  </tbody>\n",
       "</table>\n",
       "<p>1599 rows × 12 columns</p>\n",
       "</div>"
      ],
      "text/plain": [
       "      fixed acidity  volatile acidity  citric acid  residual sugar  chlorides  \\\n",
       "0               7.4             0.700         0.00             1.9      0.076   \n",
       "1               7.8             0.880         0.00             2.6      0.098   \n",
       "2               7.8             0.760         0.04             2.3      0.092   \n",
       "3              11.2             0.280         0.56             1.9      0.075   \n",
       "4               7.4             0.700         0.00             1.9      0.076   \n",
       "...             ...               ...          ...             ...        ...   \n",
       "1594            6.2             0.600         0.08             2.0      0.090   \n",
       "1595            5.9             0.550         0.10             2.2      0.062   \n",
       "1596            6.3             0.510         0.13             2.3      0.076   \n",
       "1597            5.9             0.645         0.12             2.0      0.075   \n",
       "1598            6.0             0.310         0.47             3.6      0.067   \n",
       "\n",
       "      free sulfur dioxide  total sulfur dioxide  density    pH  sulphates  \\\n",
       "0                    11.0                  34.0  0.99780  3.51       0.56   \n",
       "1                    25.0                  67.0  0.99680  3.20       0.68   \n",
       "2                    15.0                  54.0  0.99700  3.26       0.65   \n",
       "3                    17.0                  60.0  0.99800  3.16       0.58   \n",
       "4                    11.0                  34.0  0.99780  3.51       0.56   \n",
       "...                   ...                   ...      ...   ...        ...   \n",
       "1594                 32.0                  44.0  0.99490  3.45       0.58   \n",
       "1595                 39.0                  51.0  0.99512  3.52       0.76   \n",
       "1596                 29.0                  40.0  0.99574  3.42       0.75   \n",
       "1597                 32.0                  44.0  0.99547  3.57       0.71   \n",
       "1598                 18.0                  42.0  0.99549  3.39       0.66   \n",
       "\n",
       "      alcohol  quality  \n",
       "0         9.4        5  \n",
       "1         9.8        5  \n",
       "2         9.8        5  \n",
       "3         9.8        6  \n",
       "4         9.4        5  \n",
       "...       ...      ...  \n",
       "1594     10.5        5  \n",
       "1595     11.2        6  \n",
       "1596     11.0        6  \n",
       "1597     10.2        5  \n",
       "1598     11.0        6  \n",
       "\n",
       "[1599 rows x 12 columns]"
      ]
     },
     "execution_count": 5,
     "metadata": {},
     "output_type": "execute_result"
    }
   ],
   "source": [
    "red_raw"
   ]
  },
  {
   "cell_type": "code",
   "execution_count": 6,
   "id": "d561e122e0a9ea7f",
   "metadata": {
    "ExecuteTime": {
     "end_time": "2024-04-08T07:25:44.824810Z",
     "start_time": "2024-04-08T07:25:44.811632Z"
    },
    "collapsed": false,
    "jupyter": {
     "outputs_hidden": false
    }
   },
   "outputs": [],
   "source": [
    "white_training_Data, white_test_data, white_training_scores, white_test_scores = (train_test_split(white_raw.drop(\"quality\", axis=1), white_raw['quality'],test_size=0.25, random_state=39))\n",
    "\n",
    "red_training_Data, red_test_data, red_training_scores, red_test_scores = (train_test_split(red_raw.drop(\"quality\", axis=1), red_raw['quality'],test_size=0.25, random_state=39))"
   ]
  },
  {
   "cell_type": "code",
   "execution_count": 7,
   "id": "25ce18e327b74cba",
   "metadata": {
    "ExecuteTime": {
     "end_time": "2024-04-08T07:25:44.850573Z",
     "start_time": "2024-04-08T07:25:44.826814Z"
    },
    "collapsed": false,
    "jupyter": {
     "outputs_hidden": false
    }
   },
   "outputs": [
    {
     "data": {
      "text/html": [
       "<div>\n",
       "<style scoped>\n",
       "    .dataframe tbody tr th:only-of-type {\n",
       "        vertical-align: middle;\n",
       "    }\n",
       "\n",
       "    .dataframe tbody tr th {\n",
       "        vertical-align: top;\n",
       "    }\n",
       "\n",
       "    .dataframe thead th {\n",
       "        text-align: right;\n",
       "    }\n",
       "</style>\n",
       "<table border=\"1\" class=\"dataframe\">\n",
       "  <thead>\n",
       "    <tr style=\"text-align: right;\">\n",
       "      <th></th>\n",
       "      <th>fixed acidity</th>\n",
       "      <th>volatile acidity</th>\n",
       "      <th>citric acid</th>\n",
       "      <th>residual sugar</th>\n",
       "      <th>chlorides</th>\n",
       "      <th>free sulfur dioxide</th>\n",
       "      <th>total sulfur dioxide</th>\n",
       "      <th>density</th>\n",
       "      <th>pH</th>\n",
       "      <th>sulphates</th>\n",
       "      <th>alcohol</th>\n",
       "    </tr>\n",
       "  </thead>\n",
       "  <tbody>\n",
       "    <tr>\n",
       "      <th>3965</th>\n",
       "      <td>7.3</td>\n",
       "      <td>0.380</td>\n",
       "      <td>0.23</td>\n",
       "      <td>6.50</td>\n",
       "      <td>0.050</td>\n",
       "      <td>18.0</td>\n",
       "      <td>102.0</td>\n",
       "      <td>0.99304</td>\n",
       "      <td>3.10</td>\n",
       "      <td>0.55</td>\n",
       "      <td>11.2</td>\n",
       "    </tr>\n",
       "    <tr>\n",
       "      <th>3954</th>\n",
       "      <td>6.3</td>\n",
       "      <td>0.330</td>\n",
       "      <td>0.20</td>\n",
       "      <td>17.90</td>\n",
       "      <td>0.066</td>\n",
       "      <td>36.0</td>\n",
       "      <td>161.0</td>\n",
       "      <td>0.99910</td>\n",
       "      <td>3.14</td>\n",
       "      <td>0.51</td>\n",
       "      <td>8.8</td>\n",
       "    </tr>\n",
       "    <tr>\n",
       "      <th>580</th>\n",
       "      <td>7.4</td>\n",
       "      <td>0.410</td>\n",
       "      <td>0.66</td>\n",
       "      <td>10.80</td>\n",
       "      <td>0.051</td>\n",
       "      <td>77.0</td>\n",
       "      <td>194.0</td>\n",
       "      <td>0.99760</td>\n",
       "      <td>3.05</td>\n",
       "      <td>0.46</td>\n",
       "      <td>8.7</td>\n",
       "    </tr>\n",
       "    <tr>\n",
       "      <th>1637</th>\n",
       "      <td>8.1</td>\n",
       "      <td>0.120</td>\n",
       "      <td>0.49</td>\n",
       "      <td>1.20</td>\n",
       "      <td>0.042</td>\n",
       "      <td>43.0</td>\n",
       "      <td>160.0</td>\n",
       "      <td>0.99340</td>\n",
       "      <td>3.13</td>\n",
       "      <td>0.48</td>\n",
       "      <td>9.7</td>\n",
       "    </tr>\n",
       "    <tr>\n",
       "      <th>1310</th>\n",
       "      <td>5.2</td>\n",
       "      <td>0.365</td>\n",
       "      <td>0.08</td>\n",
       "      <td>13.50</td>\n",
       "      <td>0.041</td>\n",
       "      <td>37.0</td>\n",
       "      <td>142.0</td>\n",
       "      <td>0.99700</td>\n",
       "      <td>3.46</td>\n",
       "      <td>0.39</td>\n",
       "      <td>9.9</td>\n",
       "    </tr>\n",
       "    <tr>\n",
       "      <th>...</th>\n",
       "      <td>...</td>\n",
       "      <td>...</td>\n",
       "      <td>...</td>\n",
       "      <td>...</td>\n",
       "      <td>...</td>\n",
       "      <td>...</td>\n",
       "      <td>...</td>\n",
       "      <td>...</td>\n",
       "      <td>...</td>\n",
       "      <td>...</td>\n",
       "      <td>...</td>\n",
       "    </tr>\n",
       "    <tr>\n",
       "      <th>3195</th>\n",
       "      <td>7.0</td>\n",
       "      <td>0.210</td>\n",
       "      <td>0.42</td>\n",
       "      <td>5.30</td>\n",
       "      <td>0.037</td>\n",
       "      <td>36.0</td>\n",
       "      <td>123.0</td>\n",
       "      <td>0.99321</td>\n",
       "      <td>3.14</td>\n",
       "      <td>0.52</td>\n",
       "      <td>10.9</td>\n",
       "    </tr>\n",
       "    <tr>\n",
       "      <th>2275</th>\n",
       "      <td>7.5</td>\n",
       "      <td>0.290</td>\n",
       "      <td>0.26</td>\n",
       "      <td>14.95</td>\n",
       "      <td>0.067</td>\n",
       "      <td>47.0</td>\n",
       "      <td>178.0</td>\n",
       "      <td>0.99838</td>\n",
       "      <td>3.04</td>\n",
       "      <td>0.49</td>\n",
       "      <td>9.2</td>\n",
       "    </tr>\n",
       "    <tr>\n",
       "      <th>1088</th>\n",
       "      <td>7.4</td>\n",
       "      <td>0.200</td>\n",
       "      <td>0.37</td>\n",
       "      <td>16.95</td>\n",
       "      <td>0.048</td>\n",
       "      <td>43.0</td>\n",
       "      <td>190.0</td>\n",
       "      <td>0.99950</td>\n",
       "      <td>3.03</td>\n",
       "      <td>0.42</td>\n",
       "      <td>9.2</td>\n",
       "    </tr>\n",
       "    <tr>\n",
       "      <th>105</th>\n",
       "      <td>7.3</td>\n",
       "      <td>0.130</td>\n",
       "      <td>0.32</td>\n",
       "      <td>14.40</td>\n",
       "      <td>0.051</td>\n",
       "      <td>34.0</td>\n",
       "      <td>109.0</td>\n",
       "      <td>0.99740</td>\n",
       "      <td>3.20</td>\n",
       "      <td>0.35</td>\n",
       "      <td>9.2</td>\n",
       "    </tr>\n",
       "    <tr>\n",
       "      <th>3465</th>\n",
       "      <td>6.8</td>\n",
       "      <td>0.190</td>\n",
       "      <td>0.34</td>\n",
       "      <td>1.90</td>\n",
       "      <td>0.040</td>\n",
       "      <td>41.0</td>\n",
       "      <td>108.0</td>\n",
       "      <td>0.99000</td>\n",
       "      <td>3.25</td>\n",
       "      <td>0.45</td>\n",
       "      <td>12.9</td>\n",
       "    </tr>\n",
       "  </tbody>\n",
       "</table>\n",
       "<p>3673 rows × 11 columns</p>\n",
       "</div>"
      ],
      "text/plain": [
       "      fixed acidity  volatile acidity  citric acid  residual sugar  chlorides  \\\n",
       "3965            7.3             0.380         0.23            6.50      0.050   \n",
       "3954            6.3             0.330         0.20           17.90      0.066   \n",
       "580             7.4             0.410         0.66           10.80      0.051   \n",
       "1637            8.1             0.120         0.49            1.20      0.042   \n",
       "1310            5.2             0.365         0.08           13.50      0.041   \n",
       "...             ...               ...          ...             ...        ...   \n",
       "3195            7.0             0.210         0.42            5.30      0.037   \n",
       "2275            7.5             0.290         0.26           14.95      0.067   \n",
       "1088            7.4             0.200         0.37           16.95      0.048   \n",
       "105             7.3             0.130         0.32           14.40      0.051   \n",
       "3465            6.8             0.190         0.34            1.90      0.040   \n",
       "\n",
       "      free sulfur dioxide  total sulfur dioxide  density    pH  sulphates  \\\n",
       "3965                 18.0                 102.0  0.99304  3.10       0.55   \n",
       "3954                 36.0                 161.0  0.99910  3.14       0.51   \n",
       "580                  77.0                 194.0  0.99760  3.05       0.46   \n",
       "1637                 43.0                 160.0  0.99340  3.13       0.48   \n",
       "1310                 37.0                 142.0  0.99700  3.46       0.39   \n",
       "...                   ...                   ...      ...   ...        ...   \n",
       "3195                 36.0                 123.0  0.99321  3.14       0.52   \n",
       "2275                 47.0                 178.0  0.99838  3.04       0.49   \n",
       "1088                 43.0                 190.0  0.99950  3.03       0.42   \n",
       "105                  34.0                 109.0  0.99740  3.20       0.35   \n",
       "3465                 41.0                 108.0  0.99000  3.25       0.45   \n",
       "\n",
       "      alcohol  \n",
       "3965     11.2  \n",
       "3954      8.8  \n",
       "580       8.7  \n",
       "1637      9.7  \n",
       "1310      9.9  \n",
       "...       ...  \n",
       "3195     10.9  \n",
       "2275      9.2  \n",
       "1088      9.2  \n",
       "105       9.2  \n",
       "3465     12.9  \n",
       "\n",
       "[3673 rows x 11 columns]"
      ]
     },
     "execution_count": 7,
     "metadata": {},
     "output_type": "execute_result"
    }
   ],
   "source": [
    "white_training_Data"
   ]
  },
  {
   "cell_type": "markdown",
   "id": "77609e637e8e3d89",
   "metadata": {
    "collapsed": false,
    "jupyter": {
     "outputs_hidden": false
    }
   },
   "source": [
    "# Aufgabe 2"
   ]
  },
  {
   "cell_type": "markdown",
   "id": "219e2396",
   "metadata": {},
   "source": [
    "Performing a Principal Component Analysis"
   ]
  },
  {
   "cell_type": "markdown",
   "id": "718a3fb4c7af2e73",
   "metadata": {
    "collapsed": false,
    "jupyter": {
     "outputs_hidden": false
    }
   },
   "source": [
    "we need to standardize features with StandardScaler(). We do this to make sure that different features have the same impact on the result"
   ]
  },
  {
   "cell_type": "code",
   "execution_count": 8,
   "id": "dd7c58f6b7caee11",
   "metadata": {
    "ExecuteTime": {
     "end_time": "2024-04-08T07:25:44.866801Z",
     "start_time": "2024-04-08T07:25:44.852577Z"
    },
    "collapsed": false,
    "jupyter": {
     "outputs_hidden": false
    }
   },
   "outputs": [],
   "source": [
    "from sklearn.preprocessing import StandardScaler\n",
    "scaler = StandardScaler()\n",
    "\n",
    "white_training_Data_scaled = scaler.fit_transform(white_training_Data)\n",
    "white_test_data_scaled = scaler.transform(white_test_data)\n",
    "\n",
    "red_training_Data_scaled = scaler.fit_transform(red_training_Data)\n",
    "red_test_data_scaled = scaler.transform (red_test_data)"
   ]
  },
  {
   "cell_type": "code",
   "execution_count": 9,
   "id": "22fabd7d52da4de7",
   "metadata": {
    "ExecuteTime": {
     "end_time": "2024-04-08T07:25:45.023591Z",
     "start_time": "2024-04-08T07:25:44.868805Z"
    },
    "collapsed": false,
    "jupyter": {
     "outputs_hidden": false
    }
   },
   "outputs": [],
   "source": [
    "from sklearn.decomposition import PCA"
   ]
  },
  {
   "cell_type": "code",
   "execution_count": 10,
   "id": "662926e421bcbac0",
   "metadata": {
    "ExecuteTime": {
     "end_time": "2024-04-08T07:25:45.047033Z",
     "start_time": "2024-04-08T07:25:45.024593Z"
    },
    "collapsed": false,
    "jupyter": {
     "outputs_hidden": false
    }
   },
   "outputs": [],
   "source": [
    "pcaWhite = PCA(n_components='mle')\n",
    "white_training_Data_pca = pcaWhite.fit_transform(white_training_Data_scaled)\n",
    "white_test_data_pca = pcaWhite.transform(white_test_data_scaled)"
   ]
  },
  {
   "cell_type": "code",
   "execution_count": 11,
   "id": "e4a83bfcfbd77221",
   "metadata": {
    "ExecuteTime": {
     "end_time": "2024-04-08T07:25:45.060085Z",
     "start_time": "2024-04-08T07:25:45.049036Z"
    },
    "collapsed": false,
    "jupyter": {
     "outputs_hidden": false
    }
   },
   "outputs": [],
   "source": [
    "pcaRed = PCA(n_components='mle')\n",
    "red_training_Data_pca = pcaRed.fit_transform(red_training_Data)\n",
    "red_test_data_pca = pcaRed.transform(red_test_data)"
   ]
  },
  {
   "cell_type": "markdown",
   "id": "b362deb2",
   "metadata": {},
   "source": [
    "# Aufgabe 3"
   ]
  },
  {
   "cell_type": "code",
   "execution_count": 12,
   "id": "6ffcb4def5221e94",
   "metadata": {
    "ExecuteTime": {
     "end_time": "2024-04-08T07:25:45.100208Z",
     "start_time": "2024-04-08T07:25:45.061088Z"
    },
    "collapsed": false,
    "jupyter": {
     "outputs_hidden": false
    }
   },
   "outputs": [],
   "source": [
    "import numpy as np\n",
    "from math import sqrt\n",
    "\n",
    "from sklearn.neighbors import KNeighborsRegressor\n",
    "from sklearn.svm import SVR\n",
    "from sklearn.model_selection import GridSearchCV\n",
    "from sklearn.metrics import mean_absolute_error, mean_squared_error\n",
    "from sklearn.metrics import r2_score, mean_absolute_percentage_error\n",
    "from imblearn.over_sampling import RandomOverSampler\n",
    "\n",
    "# Function to calculate model and print Bewertungsmetriken\n",
    "def model_regressor_grid_calculator(estimator: any, param_grid: dict | list,\n",
    "                               training_data: any, valid_data: any, training_scores: any, valid_scores: any):\n",
    "    #Initialisation Oversampling\n",
    "    ros = RandomOverSampler(random_state=42)\n",
    "    # Resample of training data\n",
    "    training_data_resampled, training_scores_resampled = ros.fit_resample(training_data, training_scores)\n",
    "    \n",
    "    #select the best HyperParameters while using cross-validation for it (cv=5)\n",
    "    random_search = GridSearchCV(estimator, param_grid=param_grid, cv=3, n_jobs=-1, scoring='r2')\n",
    "    random_search.fit(training_data_resampled, training_scores_resampled)\n",
    "    \n",
    "    print(\"Beste Hyperparameter: \" + str(random_search.best_params_))\n",
    "    \n",
    "    # Select the best model from Grid Search\n",
    "    optimal_model = random_search.best_estimator_\n",
    "    \n",
    "    # Selected Params\n",
    "    cv_results = pd.DataFrame(random_search.cv_results_).loc[random_search.best_index_]\n",
    "    \n",
    "    r2_score_cv = [cv_results['split0_test_score'], \n",
    "                   cv_results['split1_test_score'],\n",
    "                   cv_results['split2_test_score'],\n",
    "                   ]\n",
    "    r2_score_cv_mean = cv_results['mean_test_score']\n",
    "    r2_score_cv_std = cv_results['std_test_score']\n",
    "    \n",
    "    print('Cross Validation')\n",
    "    print(f'- R^2: {r2_score_cv}')\n",
    "    print(f'- R^2 Durchschnittlicher: {r2_score_cv_mean:.4f}')\n",
    "    print(f'- R^2 Standardabweichung: {r2_score_cv_std:.4f}')\n",
    "    print('\\r\\n')\n",
    "    \n",
    "    \n",
    "    predicted_test_scores = optimal_model.predict(valid_data)\n",
    "    \n",
    "    r2_score_test = r2_score(valid_scores, predicted_test_scores)\n",
    "    rmse_test = sqrt(mean_squared_error(valid_scores, predicted_test_scores))\n",
    "    mape_test = mean_absolute_percentage_error(valid_scores, predicted_test_scores)\n",
    "    \n",
    "    print('Test:')\n",
    "    print(f'- R^2: {r2_score_test:.4f}')\n",
    "    print(f'- RMSE: {rmse_test:.2f}')\n",
    "    print(f'- MAPE: {mape_test:.2%}')\n",
    "    \n",
    "    return cv_results, optimal_model"
   ]
  },
  {
   "cell_type": "markdown",
   "id": "03eef9f3",
   "metadata": {},
   "source": [
    "Implementing two Regression methods: Nearest Neighbor Regression and Support Vector Regression. Comparing the performance of both regression models at both datasets."
   ]
  },
  {
   "cell_type": "markdown",
   "id": "fc3a9c2b5b5dae5f",
   "metadata": {
    "collapsed": false,
    "jupyter": {
     "outputs_hidden": false
    }
   },
   "source": [
    "## White"
   ]
  },
  {
   "cell_type": "markdown",
   "id": "115ffc20",
   "metadata": {},
   "source": [
    "### Nearest Neighbor Regression"
   ]
  },
  {
   "cell_type": "code",
   "execution_count": 13,
   "id": "da35204b9d46b558",
   "metadata": {
    "ExecuteTime": {
     "end_time": "2024-04-08T07:25:47.454060Z",
     "start_time": "2024-04-08T07:25:45.101211Z"
    },
    "collapsed": false,
    "jupyter": {
     "outputs_hidden": false
    }
   },
   "outputs": [
    {
     "name": "stdout",
     "output_type": "stream",
     "text": [
      "Beste Hyperparameter: {'leaf_size': 1, 'n_neighbors': 23, 'weights': 'distance'}\n",
      "Cross Validation\n",
      "- R^2: [0.17994416937286117, 1.0, 1.0]\n",
      "- R^2 Durchschnittlicher: 0.7266\n",
      "- R^2 Standardabweichung: 0.3866\n",
      "\n",
      "\n",
      "Test:\n",
      "- R^2: 0.1530\n",
      "- RMSE: 0.82\n",
      "- MAPE: 9.61%\n"
     ]
    }
   ],
   "source": [
    "parameters = {\n",
    "    'n_neighbors': np.arange(1, 70, 1),\n",
    "    'leaf_size' : np.arange(1, 50, 1),\n",
    "    'weights': ['uniform', 'distance']\n",
    "}\n",
    "final_parameters = {\n",
    "    'n_neighbors': [23],\n",
    "    'leaf_size' : [1],\n",
    "    'weights': ['distance']\n",
    "}\n",
    "knn_regressor = KNeighborsRegressor()\n",
    "cv_results, optimal_model = model_regressor_grid_calculator(estimator=knn_regressor, param_grid=final_parameters, training_data=white_training_Data_pca, valid_data=white_test_data_pca, training_scores=white_training_scores, valid_scores=white_test_scores)\n"
   ]
  },
  {
   "cell_type": "markdown",
   "id": "413977c32b3097ed",
   "metadata": {
    "collapsed": false,
    "jupyter": {
     "outputs_hidden": false
    }
   },
   "source": [
    "### Support Vektor Regression"
   ]
  },
  {
   "cell_type": "code",
   "execution_count": 14,
   "id": "7256ccb77e8e7504",
   "metadata": {
    "ExecuteTime": {
     "end_time": "2024-04-08T07:25:49.064729Z",
     "start_time": "2024-04-08T07:25:47.454060Z"
    },
    "collapsed": false,
    "jupyter": {
     "outputs_hidden": false
    }
   },
   "outputs": [
    {
     "name": "stdout",
     "output_type": "stream",
     "text": [
      "Beste Hyperparameter: {'C': 1.631578947368421, 'epsilon': 0.3111111111111111, 'kernel': 'rbf'}\n",
      "Cross Validation\n",
      "- R^2: [-0.04647638356527395, -0.49468840666630753, -7.992208312056128]\n",
      "- R^2 Durchschnittlicher: -2.8445\n",
      "- R^2 Standardabweichung: 3.6446\n",
      "\n",
      "\n",
      "Test:\n",
      "- R^2: -0.0904\n",
      "- RMSE: 0.93\n",
      "- MAPE: 12.50%\n"
     ]
    }
   ],
   "source": [
    "parameters = {\n",
    "    'kernel': ['rbf'],\n",
    "    'epsilon': np.linspace(0.2, 0.4, 10),\n",
    "    'C': np.linspace(1, 5, 20),\n",
    "}\n",
    "final_parameters = {'C': [1.631578947368421], 'epsilon': [0.3111111111111111], 'kernel': ['rbf']}\n",
    "\n",
    "svm_regressor = SVR()\n",
    "cv_results, optimal_model = model_regressor_grid_calculator(estimator=svm_regressor, param_grid=final_parameters, training_data=white_training_Data_pca, valid_data=white_test_data_pca, training_scores=white_training_scores, valid_scores=white_test_scores)"
   ]
  },
  {
   "cell_type": "markdown",
   "id": "e43734aed480d309",
   "metadata": {
    "collapsed": false,
    "jupyter": {
     "outputs_hidden": false
    }
   },
   "source": [
    "The Nearest Neighbor Regression analysis for white wine provided a R^2 value of 0,4862, where as the SVR analysis delivered a R^2 value of 0,3616. The decreased value indicates a weaker explanatory power compared to the Nearest Neighbor Regression.\n",
    "Also, the RMSE value rose from 0,64 at Nearest Neighbor Regression to 0,71 in the Support Vector Regression. Therefore, the value shows a higher deviation between the predicted and actual values.\n",
    "Furthermore, the MAPE value rose from 7,66% to 9,86%, indicating a higher percentage average deviation.\n",
    "In conclusion, the Nearest Neighbor Regression provides a better performance in comparison to the Support Vector Regression."
   ]
  },
  {
   "cell_type": "markdown",
   "id": "3468bef4330758e",
   "metadata": {
    "collapsed": false,
    "jupyter": {
     "outputs_hidden": false
    }
   },
   "source": [
    "## Red"
   ]
  },
  {
   "cell_type": "markdown",
   "id": "a4c2511161861ac8",
   "metadata": {
    "collapsed": false,
    "jupyter": {
     "outputs_hidden": false
    }
   },
   "source": [
    "### Nearest Neighbor Regression"
   ]
  },
  {
   "cell_type": "markdown",
   "id": "e3177704c5b721e1",
   "metadata": {
    "collapsed": false,
    "jupyter": {
     "outputs_hidden": false
    }
   },
   "source": []
  },
  {
   "cell_type": "code",
   "execution_count": 15,
   "id": "db7bd8a07ee799f3",
   "metadata": {
    "ExecuteTime": {
     "end_time": "2024-04-08T07:25:50.109831Z",
     "start_time": "2024-04-08T07:25:49.064729Z"
    },
    "collapsed": false,
    "jupyter": {
     "outputs_hidden": false
    }
   },
   "outputs": [
    {
     "name": "stdout",
     "output_type": "stream",
     "text": [
      "Beste Hyperparameter: {'leaf_size': 1, 'n_neighbors': 19, 'weights': 'distance'}\n",
      "Cross Validation\n",
      "- R^2: [-0.910602617283802, 0.1969371882875468, 1.0]\n",
      "- R^2 Durchschnittlicher: 0.0954\n",
      "- R^2 Standardabweichung: 0.7833\n",
      "\n",
      "\n",
      "Test:\n",
      "- R^2: -0.1780\n",
      "- RMSE: 0.94\n",
      "- MAPE: 11.97%\n"
     ]
    }
   ],
   "source": [
    "parameters = {\n",
    "    'n_neighbors': np.arange(1, 70, 1),\n",
    "    'leaf_size' : np.arange(1, 50, 1),\n",
    "    'weights': ['uniform', 'distance']\n",
    "}\n",
    "final_parameters = {\n",
    "    'n_neighbors': [19],\n",
    "    'leaf_size' : [1],\n",
    "    'weights': ['distance']\n",
    "}\n",
    "knn_regressor = KNeighborsRegressor()\n",
    "cv_results, optimal_model = model_regressor_grid_calculator(estimator=knn_regressor, param_grid=final_parameters, training_data=red_training_Data_pca, valid_data=red_test_data_pca, training_scores=red_training_scores, valid_scores=red_test_scores)\n"
   ]
  },
  {
   "cell_type": "markdown",
   "id": "6171d1d19680264c",
   "metadata": {
    "collapsed": false,
    "jupyter": {
     "outputs_hidden": false
    }
   },
   "source": [
    "### Support Vektor Regression"
   ]
  },
  {
   "cell_type": "code",
   "execution_count": 16,
   "id": "4ac2e5e41c3be2fe",
   "metadata": {
    "ExecuteTime": {
     "end_time": "2024-04-08T07:25:51.251373Z",
     "start_time": "2024-04-08T07:25:50.110837Z"
    },
    "collapsed": false,
    "jupyter": {
     "outputs_hidden": false
    }
   },
   "outputs": [
    {
     "name": "stdout",
     "output_type": "stream",
     "text": [
      "Beste Hyperparameter: {'C': 67.77777777777777, 'epsilon': 0.2899999999999999, 'kernel': 'rbf'}\n",
      "Cross Validation\n",
      "- R^2: [-1.075430124674373, -1.4382488091954975, -0.35992273651606]\n",
      "- R^2 Durchschnittlicher: -0.9579\n",
      "- R^2 Standardabweichung: 0.4480\n",
      "\n",
      "\n",
      "Test:\n",
      "- R^2: 0.0348\n",
      "- RMSE: 0.86\n",
      "- MAPE: 12.16%\n"
     ]
    }
   ],
   "source": [
    "parameters = {\n",
    "    'kernel': ['rbf'],\n",
    "    #'gamma' : ['scale', 'auto'],\n",
    "    'epsilon': np.arange(0.1, 0.30, 0.01),\n",
    "    'C': np.linspace(60, 70, 10),\n",
    "}\n",
    "\n",
    "final_parameters = {'C': [67.77777777777777], 'epsilon': [0.2899999999999999], 'kernel': ['rbf']}\n",
    "\n",
    "svm_regressor = SVR()\n",
    "cv_results, optimal_model = model_regressor_grid_calculator(estimator=svm_regressor, param_grid=final_parameters, training_data=red_training_Data_pca, valid_data=red_test_data_pca, training_scores=red_training_scores, valid_scores=red_test_scores)"
   ]
  },
  {
   "cell_type": "markdown",
   "id": "991a60d7",
   "metadata": {},
   "source": [
    "For the red wine, the Support Vector Regression outperforms the Nearest Neighbor-Regression. The higher R^2 value (0,3914 vs 0,2810) indicates that the model explains a larger proportion of variance in the dataset. The other metrics also achieve better results, like a slightly higher MAPE value."
   ]
  },
  {
   "cell_type": "markdown",
   "id": "1993c35b",
   "metadata": {},
   "source": [
    "## Conclusion\n",
    "The Nearest Neighbor Regression based on the dataset for the white wine outperforms both its counterparts for the red wine, by relying on a larger dataset (~3 times larger).\n",
    "Despite that, the Support Vector Regression model for red wine outperforms the white wine SVR with its R^2 and MAPE, which indicates a better fit to the red wine dataset.\n",
    "\n",
    "In conclusion, the Nearest Neighbor Regression model seems to perform better for white wine, while the Support Vector Regression model seems to deliver better results for the red wine."
   ]
  }
 ],
 "metadata": {
  "kernelspec": {
   "display_name": "Python 3 (ipykernel)",
   "language": "python",
   "name": "python3"
  },
  "language_info": {
   "codemirror_mode": {
    "name": "ipython",
    "version": 3
   },
   "file_extension": ".py",
   "mimetype": "text/x-python",
   "name": "python",
   "nbconvert_exporter": "python",
   "pygments_lexer": "ipython3",
   "version": "3.11.8"
  }
 },
 "nbformat": 4,
 "nbformat_minor": 5
}
