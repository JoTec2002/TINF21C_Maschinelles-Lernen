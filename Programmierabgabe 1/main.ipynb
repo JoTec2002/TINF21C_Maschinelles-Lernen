{
 "cells": [
  {
   "cell_type": "markdown",
   "id": "bb65eb7ba196d88e",
   "metadata": {
    "collapsed": false
   },
   "source": [
    "Abgabe von: Mat.Nr.: 9452857 & 1113800"
   ]
  },
  {
   "cell_type": "markdown",
   "id": "78f9cd52ee8704d3",
   "metadata": {
    "collapsed": false
   },
   "source": [
    "Before doing anything installing all needed dependencies"
   ]
  },
  {
   "cell_type": "code",
   "execution_count": null,
   "id": "782b7d8297707e1a",
   "metadata": {
    "collapsed": false
   },
   "outputs": [],
   "source": [
    "!pip3 install pandas\n",
    "!pip3 install scikit-learn"
   ]
  },
  {
   "cell_type": "markdown",
   "id": "c9d16a75f67202c7",
   "metadata": {
    "collapsed": false
   },
   "source": [
    "# Aufgabe 1"
   ]
  },
  {
   "cell_type": "code",
   "execution_count": 2,
   "id": "681dc39cdab0db77",
   "metadata": {
    "collapsed": false,
    "ExecuteTime": {
     "end_time": "2024-03-21T11:37:38.753797Z",
     "start_time": "2024-03-21T11:37:32.364269Z"
    }
   },
   "outputs": [],
   "source": [
    "import os\n",
    "import pandas as pd\n",
    "from sklearn.model_selection import train_test_split"
   ]
  },
  {
   "cell_type": "code",
   "execution_count": 3,
   "id": "6277f25d21edcf7e",
   "metadata": {
    "collapsed": false,
    "ExecuteTime": {
     "end_time": "2024-03-21T11:37:38.909294Z",
     "start_time": "2024-03-21T11:37:38.754805Z"
    }
   },
   "outputs": [],
   "source": [
    "white_raw = pd.read_csv(os.getcwd() + \"/dataset/winequality-white.csv\", delimiter=\";\")\n",
    "red_raw = pd.read_csv(os.getcwd() + \"/dataset/winequality-red.csv\", delimiter=\";\")"
   ]
  },
  {
   "cell_type": "markdown",
   "id": "f54922f2bb8e4690",
   "metadata": {
    "collapsed": false
   },
   "source": [
    "Split wine in Test and Training Data (75% / 25%)"
   ]
  },
  {
   "cell_type": "code",
   "execution_count": 4,
   "id": "f5154b42661b5c13",
   "metadata": {
    "collapsed": false,
    "ExecuteTime": {
     "end_time": "2024-03-21T11:37:38.937468Z",
     "start_time": "2024-03-21T11:37:38.910298Z"
    }
   },
   "outputs": [
    {
     "data": {
      "text/plain": "      fixed acidity  volatile acidity  citric acid  residual sugar  chlorides  \\\n0               7.4             0.700         0.00             1.9      0.076   \n1               7.8             0.880         0.00             2.6      0.098   \n2               7.8             0.760         0.04             2.3      0.092   \n3              11.2             0.280         0.56             1.9      0.075   \n4               7.4             0.700         0.00             1.9      0.076   \n...             ...               ...          ...             ...        ...   \n1594            6.2             0.600         0.08             2.0      0.090   \n1595            5.9             0.550         0.10             2.2      0.062   \n1596            6.3             0.510         0.13             2.3      0.076   \n1597            5.9             0.645         0.12             2.0      0.075   \n1598            6.0             0.310         0.47             3.6      0.067   \n\n      free sulfur dioxide  total sulfur dioxide  density    pH  sulphates  \\\n0                    11.0                  34.0  0.99780  3.51       0.56   \n1                    25.0                  67.0  0.99680  3.20       0.68   \n2                    15.0                  54.0  0.99700  3.26       0.65   \n3                    17.0                  60.0  0.99800  3.16       0.58   \n4                    11.0                  34.0  0.99780  3.51       0.56   \n...                   ...                   ...      ...   ...        ...   \n1594                 32.0                  44.0  0.99490  3.45       0.58   \n1595                 39.0                  51.0  0.99512  3.52       0.76   \n1596                 29.0                  40.0  0.99574  3.42       0.75   \n1597                 32.0                  44.0  0.99547  3.57       0.71   \n1598                 18.0                  42.0  0.99549  3.39       0.66   \n\n      alcohol  quality  \n0         9.4        5  \n1         9.8        5  \n2         9.8        5  \n3         9.8        6  \n4         9.4        5  \n...       ...      ...  \n1594     10.5        5  \n1595     11.2        6  \n1596     11.0        6  \n1597     10.2        5  \n1598     11.0        6  \n\n[1599 rows x 12 columns]",
      "text/html": "<div>\n<style scoped>\n    .dataframe tbody tr th:only-of-type {\n        vertical-align: middle;\n    }\n\n    .dataframe tbody tr th {\n        vertical-align: top;\n    }\n\n    .dataframe thead th {\n        text-align: right;\n    }\n</style>\n<table border=\"1\" class=\"dataframe\">\n  <thead>\n    <tr style=\"text-align: right;\">\n      <th></th>\n      <th>fixed acidity</th>\n      <th>volatile acidity</th>\n      <th>citric acid</th>\n      <th>residual sugar</th>\n      <th>chlorides</th>\n      <th>free sulfur dioxide</th>\n      <th>total sulfur dioxide</th>\n      <th>density</th>\n      <th>pH</th>\n      <th>sulphates</th>\n      <th>alcohol</th>\n      <th>quality</th>\n    </tr>\n  </thead>\n  <tbody>\n    <tr>\n      <th>0</th>\n      <td>7.4</td>\n      <td>0.700</td>\n      <td>0.00</td>\n      <td>1.9</td>\n      <td>0.076</td>\n      <td>11.0</td>\n      <td>34.0</td>\n      <td>0.99780</td>\n      <td>3.51</td>\n      <td>0.56</td>\n      <td>9.4</td>\n      <td>5</td>\n    </tr>\n    <tr>\n      <th>1</th>\n      <td>7.8</td>\n      <td>0.880</td>\n      <td>0.00</td>\n      <td>2.6</td>\n      <td>0.098</td>\n      <td>25.0</td>\n      <td>67.0</td>\n      <td>0.99680</td>\n      <td>3.20</td>\n      <td>0.68</td>\n      <td>9.8</td>\n      <td>5</td>\n    </tr>\n    <tr>\n      <th>2</th>\n      <td>7.8</td>\n      <td>0.760</td>\n      <td>0.04</td>\n      <td>2.3</td>\n      <td>0.092</td>\n      <td>15.0</td>\n      <td>54.0</td>\n      <td>0.99700</td>\n      <td>3.26</td>\n      <td>0.65</td>\n      <td>9.8</td>\n      <td>5</td>\n    </tr>\n    <tr>\n      <th>3</th>\n      <td>11.2</td>\n      <td>0.280</td>\n      <td>0.56</td>\n      <td>1.9</td>\n      <td>0.075</td>\n      <td>17.0</td>\n      <td>60.0</td>\n      <td>0.99800</td>\n      <td>3.16</td>\n      <td>0.58</td>\n      <td>9.8</td>\n      <td>6</td>\n    </tr>\n    <tr>\n      <th>4</th>\n      <td>7.4</td>\n      <td>0.700</td>\n      <td>0.00</td>\n      <td>1.9</td>\n      <td>0.076</td>\n      <td>11.0</td>\n      <td>34.0</td>\n      <td>0.99780</td>\n      <td>3.51</td>\n      <td>0.56</td>\n      <td>9.4</td>\n      <td>5</td>\n    </tr>\n    <tr>\n      <th>...</th>\n      <td>...</td>\n      <td>...</td>\n      <td>...</td>\n      <td>...</td>\n      <td>...</td>\n      <td>...</td>\n      <td>...</td>\n      <td>...</td>\n      <td>...</td>\n      <td>...</td>\n      <td>...</td>\n      <td>...</td>\n    </tr>\n    <tr>\n      <th>1594</th>\n      <td>6.2</td>\n      <td>0.600</td>\n      <td>0.08</td>\n      <td>2.0</td>\n      <td>0.090</td>\n      <td>32.0</td>\n      <td>44.0</td>\n      <td>0.99490</td>\n      <td>3.45</td>\n      <td>0.58</td>\n      <td>10.5</td>\n      <td>5</td>\n    </tr>\n    <tr>\n      <th>1595</th>\n      <td>5.9</td>\n      <td>0.550</td>\n      <td>0.10</td>\n      <td>2.2</td>\n      <td>0.062</td>\n      <td>39.0</td>\n      <td>51.0</td>\n      <td>0.99512</td>\n      <td>3.52</td>\n      <td>0.76</td>\n      <td>11.2</td>\n      <td>6</td>\n    </tr>\n    <tr>\n      <th>1596</th>\n      <td>6.3</td>\n      <td>0.510</td>\n      <td>0.13</td>\n      <td>2.3</td>\n      <td>0.076</td>\n      <td>29.0</td>\n      <td>40.0</td>\n      <td>0.99574</td>\n      <td>3.42</td>\n      <td>0.75</td>\n      <td>11.0</td>\n      <td>6</td>\n    </tr>\n    <tr>\n      <th>1597</th>\n      <td>5.9</td>\n      <td>0.645</td>\n      <td>0.12</td>\n      <td>2.0</td>\n      <td>0.075</td>\n      <td>32.0</td>\n      <td>44.0</td>\n      <td>0.99547</td>\n      <td>3.57</td>\n      <td>0.71</td>\n      <td>10.2</td>\n      <td>5</td>\n    </tr>\n    <tr>\n      <th>1598</th>\n      <td>6.0</td>\n      <td>0.310</td>\n      <td>0.47</td>\n      <td>3.6</td>\n      <td>0.067</td>\n      <td>18.0</td>\n      <td>42.0</td>\n      <td>0.99549</td>\n      <td>3.39</td>\n      <td>0.66</td>\n      <td>11.0</td>\n      <td>6</td>\n    </tr>\n  </tbody>\n</table>\n<p>1599 rows × 12 columns</p>\n</div>"
     },
     "execution_count": 4,
     "metadata": {},
     "output_type": "execute_result"
    }
   ],
   "source": [
    "red_raw"
   ]
  },
  {
   "cell_type": "code",
   "execution_count": 5,
   "id": "d561e122e0a9ea7f",
   "metadata": {
    "collapsed": false,
    "ExecuteTime": {
     "end_time": "2024-03-21T11:37:38.945288Z",
     "start_time": "2024-03-21T11:37:38.938473Z"
    }
   },
   "outputs": [],
   "source": [
    "white_training_Data, white_test_data, white_training_scores, white_test_scores = (train_test_split(white_raw.drop(\"quality\", axis=1), white_raw['quality'],test_size=0.25, random_state=39))\n",
    "\n",
    "red_training_Data, red_test_data, red_training_scores, red_test_scores = (train_test_split(red_raw.drop(\"quality\", axis=1), red_raw['quality'],test_size=0.25, random_state=39))"
   ]
  },
  {
   "cell_type": "code",
   "execution_count": 6,
   "id": "25ce18e327b74cba",
   "metadata": {
    "collapsed": false,
    "ExecuteTime": {
     "end_time": "2024-03-21T11:37:38.962295Z",
     "start_time": "2024-03-21T11:37:38.945288Z"
    }
   },
   "outputs": [
    {
     "data": {
      "text/plain": "      fixed acidity  volatile acidity  citric acid  residual sugar  chlorides  \\\n3965            7.3             0.380         0.23            6.50      0.050   \n3954            6.3             0.330         0.20           17.90      0.066   \n580             7.4             0.410         0.66           10.80      0.051   \n1637            8.1             0.120         0.49            1.20      0.042   \n1310            5.2             0.365         0.08           13.50      0.041   \n...             ...               ...          ...             ...        ...   \n3195            7.0             0.210         0.42            5.30      0.037   \n2275            7.5             0.290         0.26           14.95      0.067   \n1088            7.4             0.200         0.37           16.95      0.048   \n105             7.3             0.130         0.32           14.40      0.051   \n3465            6.8             0.190         0.34            1.90      0.040   \n\n      free sulfur dioxide  total sulfur dioxide  density    pH  sulphates  \\\n3965                 18.0                 102.0  0.99304  3.10       0.55   \n3954                 36.0                 161.0  0.99910  3.14       0.51   \n580                  77.0                 194.0  0.99760  3.05       0.46   \n1637                 43.0                 160.0  0.99340  3.13       0.48   \n1310                 37.0                 142.0  0.99700  3.46       0.39   \n...                   ...                   ...      ...   ...        ...   \n3195                 36.0                 123.0  0.99321  3.14       0.52   \n2275                 47.0                 178.0  0.99838  3.04       0.49   \n1088                 43.0                 190.0  0.99950  3.03       0.42   \n105                  34.0                 109.0  0.99740  3.20       0.35   \n3465                 41.0                 108.0  0.99000  3.25       0.45   \n\n      alcohol  \n3965     11.2  \n3954      8.8  \n580       8.7  \n1637      9.7  \n1310      9.9  \n...       ...  \n3195     10.9  \n2275      9.2  \n1088      9.2  \n105       9.2  \n3465     12.9  \n\n[3673 rows x 11 columns]",
      "text/html": "<div>\n<style scoped>\n    .dataframe tbody tr th:only-of-type {\n        vertical-align: middle;\n    }\n\n    .dataframe tbody tr th {\n        vertical-align: top;\n    }\n\n    .dataframe thead th {\n        text-align: right;\n    }\n</style>\n<table border=\"1\" class=\"dataframe\">\n  <thead>\n    <tr style=\"text-align: right;\">\n      <th></th>\n      <th>fixed acidity</th>\n      <th>volatile acidity</th>\n      <th>citric acid</th>\n      <th>residual sugar</th>\n      <th>chlorides</th>\n      <th>free sulfur dioxide</th>\n      <th>total sulfur dioxide</th>\n      <th>density</th>\n      <th>pH</th>\n      <th>sulphates</th>\n      <th>alcohol</th>\n    </tr>\n  </thead>\n  <tbody>\n    <tr>\n      <th>3965</th>\n      <td>7.3</td>\n      <td>0.380</td>\n      <td>0.23</td>\n      <td>6.50</td>\n      <td>0.050</td>\n      <td>18.0</td>\n      <td>102.0</td>\n      <td>0.99304</td>\n      <td>3.10</td>\n      <td>0.55</td>\n      <td>11.2</td>\n    </tr>\n    <tr>\n      <th>3954</th>\n      <td>6.3</td>\n      <td>0.330</td>\n      <td>0.20</td>\n      <td>17.90</td>\n      <td>0.066</td>\n      <td>36.0</td>\n      <td>161.0</td>\n      <td>0.99910</td>\n      <td>3.14</td>\n      <td>0.51</td>\n      <td>8.8</td>\n    </tr>\n    <tr>\n      <th>580</th>\n      <td>7.4</td>\n      <td>0.410</td>\n      <td>0.66</td>\n      <td>10.80</td>\n      <td>0.051</td>\n      <td>77.0</td>\n      <td>194.0</td>\n      <td>0.99760</td>\n      <td>3.05</td>\n      <td>0.46</td>\n      <td>8.7</td>\n    </tr>\n    <tr>\n      <th>1637</th>\n      <td>8.1</td>\n      <td>0.120</td>\n      <td>0.49</td>\n      <td>1.20</td>\n      <td>0.042</td>\n      <td>43.0</td>\n      <td>160.0</td>\n      <td>0.99340</td>\n      <td>3.13</td>\n      <td>0.48</td>\n      <td>9.7</td>\n    </tr>\n    <tr>\n      <th>1310</th>\n      <td>5.2</td>\n      <td>0.365</td>\n      <td>0.08</td>\n      <td>13.50</td>\n      <td>0.041</td>\n      <td>37.0</td>\n      <td>142.0</td>\n      <td>0.99700</td>\n      <td>3.46</td>\n      <td>0.39</td>\n      <td>9.9</td>\n    </tr>\n    <tr>\n      <th>...</th>\n      <td>...</td>\n      <td>...</td>\n      <td>...</td>\n      <td>...</td>\n      <td>...</td>\n      <td>...</td>\n      <td>...</td>\n      <td>...</td>\n      <td>...</td>\n      <td>...</td>\n      <td>...</td>\n    </tr>\n    <tr>\n      <th>3195</th>\n      <td>7.0</td>\n      <td>0.210</td>\n      <td>0.42</td>\n      <td>5.30</td>\n      <td>0.037</td>\n      <td>36.0</td>\n      <td>123.0</td>\n      <td>0.99321</td>\n      <td>3.14</td>\n      <td>0.52</td>\n      <td>10.9</td>\n    </tr>\n    <tr>\n      <th>2275</th>\n      <td>7.5</td>\n      <td>0.290</td>\n      <td>0.26</td>\n      <td>14.95</td>\n      <td>0.067</td>\n      <td>47.0</td>\n      <td>178.0</td>\n      <td>0.99838</td>\n      <td>3.04</td>\n      <td>0.49</td>\n      <td>9.2</td>\n    </tr>\n    <tr>\n      <th>1088</th>\n      <td>7.4</td>\n      <td>0.200</td>\n      <td>0.37</td>\n      <td>16.95</td>\n      <td>0.048</td>\n      <td>43.0</td>\n      <td>190.0</td>\n      <td>0.99950</td>\n      <td>3.03</td>\n      <td>0.42</td>\n      <td>9.2</td>\n    </tr>\n    <tr>\n      <th>105</th>\n      <td>7.3</td>\n      <td>0.130</td>\n      <td>0.32</td>\n      <td>14.40</td>\n      <td>0.051</td>\n      <td>34.0</td>\n      <td>109.0</td>\n      <td>0.99740</td>\n      <td>3.20</td>\n      <td>0.35</td>\n      <td>9.2</td>\n    </tr>\n    <tr>\n      <th>3465</th>\n      <td>6.8</td>\n      <td>0.190</td>\n      <td>0.34</td>\n      <td>1.90</td>\n      <td>0.040</td>\n      <td>41.0</td>\n      <td>108.0</td>\n      <td>0.99000</td>\n      <td>3.25</td>\n      <td>0.45</td>\n      <td>12.9</td>\n    </tr>\n  </tbody>\n</table>\n<p>3673 rows × 11 columns</p>\n</div>"
     },
     "execution_count": 6,
     "metadata": {},
     "output_type": "execute_result"
    }
   ],
   "source": [
    "white_training_Data"
   ]
  },
  {
   "cell_type": "markdown",
   "id": "77609e637e8e3d89",
   "metadata": {
    "collapsed": false
   },
   "source": [
    "# Aufgabe 2"
   ]
  },
  {
   "cell_type": "code",
   "execution_count": 7,
   "id": "22fabd7d52da4de7",
   "metadata": {
    "collapsed": false,
    "ExecuteTime": {
     "end_time": "2024-03-21T11:37:39.351630Z",
     "start_time": "2024-03-21T11:37:38.962295Z"
    }
   },
   "outputs": [],
   "source": [
    "from sklearn.decomposition import PCA"
   ]
  },
  {
   "cell_type": "code",
   "execution_count": 8,
   "id": "662926e421bcbac0",
   "metadata": {
    "collapsed": false,
    "ExecuteTime": {
     "end_time": "2024-03-21T11:37:39.365595Z",
     "start_time": "2024-03-21T11:37:39.352635Z"
    }
   },
   "outputs": [],
   "source": [
    "pcaWhite = PCA(n_components='mle')\n",
    "white_training_Data_new = pcaWhite.fit_transform(white_training_Data)"
   ]
  },
  {
   "cell_type": "code",
   "execution_count": 9,
   "id": "20b586ce5d82794a",
   "metadata": {
    "collapsed": false,
    "ExecuteTime": {
     "end_time": "2024-03-21T11:37:39.370586Z",
     "start_time": "2024-03-21T11:37:39.366600Z"
    }
   },
   "outputs": [
    {
     "data": {
      "text/plain": "array([[-4.00103557e+01, -6.87821434e+00,  2.11026030e+00, ...,\n         1.28444382e-01,  3.49614917e-02,  9.18044474e-03],\n       [ 2.21501938e+01, -5.23959619e+00,  1.06453804e+01, ...,\n         7.67341894e-02, -2.11160196e-02,  1.40346026e-02],\n       [ 6.45488519e+01,  2.52772212e+01,  1.13759139e+00, ...,\n        -6.33555039e-02,  2.61252297e-01, -1.61776568e-02],\n       ...,\n       [ 5.18808060e+01, -6.30569792e+00,  8.25674853e+00, ...,\n        -5.56536626e-02, -1.06617467e-01, -1.68194167e-03],\n       [-2.85911312e+01,  6.74711547e+00,  9.42724438e+00, ...,\n        -1.42142098e-01, -1.18927311e-01,  7.26942620e-03],\n       [-2.83185232e+01,  1.36141437e+01, -3.45956834e+00, ...,\n        -5.85682403e-02, -7.14035963e-02,  1.17323611e-02]])"
     },
     "execution_count": 9,
     "metadata": {},
     "output_type": "execute_result"
    }
   ],
   "source": [
    "white_training_Data_new"
   ]
  },
  {
   "cell_type": "code",
   "execution_count": 10,
   "id": "e4a83bfcfbd77221",
   "metadata": {
    "collapsed": false,
    "ExecuteTime": {
     "end_time": "2024-03-21T11:37:39.386009Z",
     "start_time": "2024-03-21T11:37:39.371591Z"
    }
   },
   "outputs": [],
   "source": [
    "pcaRed = PCA(n_components='mle')\n",
    "red_training_Data_new = pcaRed.fit_transform(red_training_Data)"
   ]
  },
  {
   "cell_type": "code",
   "execution_count": 11,
   "id": "cb7275def863a7ee",
   "metadata": {
    "collapsed": false,
    "ExecuteTime": {
     "end_time": "2024-03-21T11:37:39.399355Z",
     "start_time": "2024-03-21T11:37:39.387014Z"
    }
   },
   "outputs": [
    {
     "data": {
      "text/plain": "array([[ 1.93275704e+01, -2.84958783e+00, -2.04300568e+00, ...,\n         7.98022353e-02, -3.28393710e-02, -5.71154558e-03],\n       [ 1.04274928e+01, -6.02523863e+00, -1.63324145e-01, ...,\n        -4.08037056e-02,  6.39039091e-03,  7.47101187e-03],\n       [-1.96857955e+01,  5.96053095e+00, -1.15712122e+00, ...,\n         4.40640270e-02,  2.12883618e-01, -3.47578343e-02],\n       ...,\n       [-2.69873637e+01, -3.67923205e+00, -7.82329099e-01, ...,\n         6.97301302e-02, -1.76938525e-02, -9.04143849e-03],\n       [ 1.82254881e+01, -7.78759871e+00, -4.16426906e-01, ...,\n        -6.42034231e-03, -1.98441864e-02, -3.01134280e-03],\n       [-7.10795780e+00,  7.23303451e+00, -8.47441370e-01, ...,\n         4.13081447e-02, -1.31414750e-02, -1.77071096e-02]])"
     },
     "execution_count": 11,
     "metadata": {},
     "output_type": "execute_result"
    }
   ],
   "source": [
    "red_training_Data_new"
   ]
  },
  {
   "cell_type": "markdown",
   "id": "b362deb2",
   "metadata": {},
   "source": [
    "# Aufgabe 3"
   ]
  },
  {
   "cell_type": "code",
   "execution_count": 12,
   "id": "66ab56dd",
   "metadata": {
    "ExecuteTime": {
     "end_time": "2024-03-21T11:37:39.414669Z",
     "start_time": "2024-03-21T11:37:39.399355Z"
    }
   },
   "outputs": [],
   "source": [
    "white_test_data_transformed = pcaWhite.transform(white_test_data)\n",
    "red_test_data_transformed = pcaRed.transform(red_test_data)"
   ]
  },
  {
   "cell_type": "code",
   "execution_count": 13,
   "id": "dc608212",
   "metadata": {
    "ExecuteTime": {
     "end_time": "2024-03-21T11:37:39.424744Z",
     "start_time": "2024-03-21T11:37:39.415673Z"
    }
   },
   "outputs": [
    {
     "data": {
      "text/plain": "array([[-4.71972270e+01, -1.32934987e+01, -2.43728032e+00, ...,\n        -5.83630646e-02,  1.87642549e-02,  4.63477946e-03],\n       [-5.06996249e+01, -7.65039679e-01,  3.38087811e+00, ...,\n         6.69725628e-02, -3.87760636e-02, -6.62287801e-03],\n       [-4.14682770e+01,  1.10559547e+01, -2.84080182e+00, ...,\n         1.26556487e-01,  2.93414861e-01, -5.91720606e-03],\n       ...,\n       [-1.01434923e+01, -1.19797557e+01,  5.19007289e+00, ...,\n        -3.03798119e-02, -9.34350700e-03,  4.11576562e-03],\n       [ 2.93704617e+01, -8.43245488e+00,  5.87848484e+00, ...,\n        -2.50101199e-02, -7.24458212e-02, -5.66281933e-03],\n       [ 1.13162959e+02, -3.17750964e+01,  3.74479346e+00, ...,\n         1.00400578e-01,  6.27130136e-02, -1.28183484e-02]])"
     },
     "execution_count": 13,
     "metadata": {},
     "output_type": "execute_result"
    }
   ],
   "source": [
    "white_test_data_transformed"
   ]
  },
  {
   "cell_type": "code",
   "execution_count": 14,
   "id": "6e4597f5",
   "metadata": {
    "ExecuteTime": {
     "end_time": "2024-03-21T11:37:39.438146Z",
     "start_time": "2024-03-21T11:37:39.425748Z"
    }
   },
   "outputs": [
    {
     "data": {
      "text/plain": "array([[ 9.63729178e+01, -2.03363107e+01, -7.23886655e-01, ...,\n         1.53294255e-02, -6.78996066e-02,  6.34989535e-03],\n       [ 1.39110646e+01,  3.77212851e-01, -3.82983197e-01, ...,\n         3.31648810e-02, -5.72404607e-03,  7.76505392e-03],\n       [ 9.76909623e+01, -1.45289486e+01,  1.05327717e+00, ...,\n        -1.31695529e-01, -7.67790682e-02,  2.10181040e-02],\n       ...,\n       [-1.22257975e+01, -1.91064351e+00, -3.55225679e-01, ...,\n        -1.15161785e-01, -6.11887325e-02,  1.21642748e-02],\n       [-1.09202881e+01,  3.87157129e+00,  2.41167752e+00, ...,\n        -1.26473823e-01, -4.55922970e-02, -5.52759808e-03],\n       [-1.81823629e+01, -5.66011318e+00, -4.87560240e-01, ...,\n        -5.44062853e-02, -6.95074163e-02,  7.52416669e-03]])"
     },
     "execution_count": 14,
     "metadata": {},
     "output_type": "execute_result"
    }
   ],
   "source": [
    "red_test_data_transformed"
   ]
  },
  {
   "cell_type": "markdown",
   "id": "115ffc20",
   "metadata": {},
   "source": [
    "## Nearest Neighbor Regression"
   ]
  },
  {
   "cell_type": "markdown",
   "id": "0e4df6c0",
   "metadata": {},
   "source": [
    "White:"
   ]
  },
  {
   "cell_type": "code",
   "execution_count": 22,
   "id": "2dc4391b",
   "metadata": {
    "ExecuteTime": {
     "end_time": "2024-03-21T11:44:44.051854Z",
     "start_time": "2024-03-21T11:44:43.968162Z"
    }
   },
   "outputs": [
    {
     "name": "stdout",
     "output_type": "stream",
     "text": [
      "Beste Hyperparameter: {'leaf_size': 1, 'n_neighbors': 32, 'weights': 'distance'}\n",
      "Mean Absolute Error (MAE): 0.47458541339346494\n",
      "Mean Squared Error (MSE): 0.49478122427971327\n",
      "Root Mean Squared Error (RMSE): 0.7034068696563271\n"
     ]
    }
   ],
   "source": [
    "import numpy as np\n",
    "from sklearn.neighbors import KNeighborsRegressor\n",
    "from sklearn.model_selection import GridSearchCV\n",
    "from sklearn.metrics import mean_absolute_error, mean_squared_error\n",
    "\n",
    "parameters = {\n",
    "    'n_neighbors': np.arange(1, 70, 1),\n",
    "    'leaf_size' : np.arange(1, 50, 1),\n",
    "    'weights': ['uniform', 'distance']\n",
    "}\n",
    "final_parameters = {\n",
    "    'n_neighbors': [32],\n",
    "    'leaf_size' : [1],         #egal 1-10 gleiches Ergebnis\n",
    "    'weights': ['distance']\n",
    "}\n",
    "\n",
    "model = KNeighborsRegressor()\n",
    "model_randomizedSearch = GridSearchCV(model, param_grid=final_parameters, cv=5, n_jobs=-1)\n",
    "\n",
    "model_randomizedSearch.fit(white_training_Data_new, white_training_scores)\n",
    "model_best = model_randomizedSearch.best_estimator_\n",
    "\n",
    "print(\"Beste Hyperparameter: \" + str(model_randomizedSearch.best_params_))\n",
    "y_pred_valid = model_best.predict(white_test_data_transformed)\n",
    "\n",
    "# Mean Absolute Error (MAE)\n",
    "mae = mean_absolute_error(white_test_scores, y_pred_valid)\n",
    "print(\"Mean Absolute Error (MAE):\", mae)\n",
    "\n",
    "# Mean Squared Error (MSE)\n",
    "mse = mean_squared_error(white_test_scores, y_pred_valid)\n",
    "print(\"Mean Squared Error (MSE):\", mse)\n",
    "\n",
    "# Root Mean Squared Error (RMSE)\n",
    "rmse = np.sqrt(mse)\n",
    "print(\"Root Mean Squared Error (RMSE):\", rmse)\n"
   ]
  },
  {
   "cell_type": "markdown",
   "id": "41b858cd",
   "metadata": {},
   "source": [
    "Red:"
   ]
  },
  {
   "cell_type": "code",
   "execution_count": 24,
   "id": "1f1b8c4a",
   "metadata": {
    "ExecuteTime": {
     "end_time": "2024-03-21T11:47:47.869620Z",
     "start_time": "2024-03-21T11:47:25.069694Z"
    }
   },
   "outputs": [
    {
     "name": "stdout",
     "output_type": "stream",
     "text": [
      "Beste Hyperparameter: {'leaf_size': 1, 'n_neighbors': 18, 'weights': 'distance'}\n",
      "Mean Absolute Error (MAE): 0.507777982888794\n",
      "Mean Squared Error (MSE): 0.5389834621716705\n",
      "Root Mean Squared Error (RMSE): 0.7341549306322681\n"
     ]
    }
   ],
   "source": [
    "import numpy as np\n",
    "from sklearn.neighbors import KNeighborsRegressor\n",
    "from sklearn.model_selection import GridSearchCV\n",
    "from sklearn.metrics import mean_absolute_error, mean_squared_error\n",
    "\n",
    "parameters = {\n",
    "    'n_neighbors': np.arange(1, 200, 1),\n",
    "    'leaf_size' : np.arange(1, 20, 1),\n",
    "    'weights': ['uniform', 'distance']\n",
    "}\n",
    "final_parameters = {\n",
    "    'n_neighbors': [18],\n",
    "    'leaf_size' : [1],         #egal 1-10 gleiches Ergebnis\n",
    "    'weights': ['distance']\n",
    "}\n",
    "\n",
    "model = KNeighborsRegressor()\n",
    "model_randomizedSearch = GridSearchCV(model, param_grid=final_parameters, cv=5, n_jobs=-1)\n",
    "\n",
    "model_randomizedSearch.fit(red_training_Data_new, red_training_scores)\n",
    "model_best = model_randomizedSearch.best_estimator_\n",
    "\n",
    "print(\"Beste Hyperparameter: \" + str(model_randomizedSearch.best_params_))\n",
    "y_pred_valid = model_best.predict(red_test_data_transformed)\n",
    "\n",
    "# Mean Absolute Error (MAE)\n",
    "mae = mean_absolute_error(red_test_scores, y_pred_valid)\n",
    "print(\"Mean Absolute Error (MAE):\", mae)\n",
    "\n",
    "# Mean Squared Error (MSE)\n",
    "mse = mean_squared_error(red_test_scores, y_pred_valid)\n",
    "print(\"Mean Squared Error (MSE):\", mse)\n",
    "\n",
    "# Root Mean Squared Error (RMSE)\n",
    "rmse = np.sqrt(mse)\n",
    "print(\"Root Mean Squared Error (RMSE):\", rmse)\n"
   ]
  },
  {
   "cell_type": "markdown",
   "id": "bdc6d149",
   "metadata": {},
   "source": [
    "## Support Vector Regression"
   ]
  },
  {
   "cell_type": "markdown",
   "id": "3488abab",
   "metadata": {},
   "source": [
    "White:"
   ]
  },
  {
   "cell_type": "code",
   "execution_count": 32,
   "id": "65ee2376",
   "metadata": {},
   "outputs": [
    {
     "name": "stdout",
     "output_type": "stream",
     "text": [
      "Beste Hyperparameter: {'kernel': 'rbf', 'epsilon': 1.0, 'C': 505.05949494949493}\n",
      "Mean Absolute Error (MAE): 0.6073450497065087\n",
      "Mean Squared Error (MSE): 0.6070314029654152\n",
      "Root Mean Squared Error (RMSE): 0.7791222002776043\n"
     ]
    }
   ],
   "source": [
    "import numpy as np\n",
    "from sklearn import metrics\n",
    "from sklearn.svm import SVR\n",
    "from sklearn.model_selection import RandomizedSearchCV\n",
    "from sklearn.metrics import mean_absolute_error, mean_squared_error\n",
    "\n",
    "\n",
    "parameters = {\n",
    "    'kernel': ['rbf', 'poly', 'sigmoid'],\n",
    "    #'gamma' : ['scale', 'auto'],\n",
    "    'epsilon': np.linspace(1, 42000, 100),\n",
    "    'C': np.linspace(0.01, 5000, 100),\n",
    "}\n",
    "final_parameters = {\n",
    "    'n_neighbors': [78],\n",
    "    'leaf_size' : [1],         #egal 1-10 gleiches Ergebnis\n",
    "    'weights': ['distance']\n",
    "}\n",
    "\n",
    "model = SVR()\n",
    "model_randomizedSearch = RandomizedSearchCV(model, param_distributions=parameters, cv=5, n_jobs=-1)\n",
    "\n",
    "model_randomizedSearch.fit(white_training_Data_new, white_training_scores)\n",
    "model_best = model_randomizedSearch.best_estimator_\n",
    "\n",
    "print(\"Beste Hyperparameter: \" + str(model_randomizedSearch.best_params_))\n",
    "y_pred_valid = model_best.predict(white_test_data_transformed)\n",
    "\n",
    "# Mean Absolute Error (MAE)\n",
    "mae = mean_absolute_error(white_test_scores, y_pred_valid)\n",
    "print(\"Mean Absolute Error (MAE):\", mae)\n",
    "\n",
    "# Mean Squared Error (MSE)\n",
    "mse = mean_squared_error(white_test_scores, y_pred_valid)\n",
    "print(\"Mean Squared Error (MSE):\", mse)\n",
    "\n",
    "# Root Mean Squared Error (RMSE)\n",
    "rmse = np.sqrt(mse)\n",
    "print(\"Root Mean Squared Error (RMSE):\", rmse)\n"
   ]
  },
  {
   "cell_type": "markdown",
   "id": "051efa33",
   "metadata": {},
   "source": [
    "Red:"
   ]
  },
  {
   "cell_type": "code",
   "execution_count": 33,
   "id": "81a6d401",
   "metadata": {},
   "outputs": [
    {
     "name": "stdout",
     "output_type": "stream",
     "text": [
      "Beste Hyperparameter: {'kernel': 'poly', 'epsilon': 26727.636363636364, 'C': 49.5}\n",
      "Mean Absolute Error (MAE): 0.745\n",
      "Mean Squared Error (MSE): 0.785\n",
      "Root Mean Squared Error (RMSE): 0.8860022573334675\n"
     ]
    }
   ],
   "source": [
    "import numpy as np\n",
    "from sklearn import metrics\n",
    "from sklearn.svm import SVR\n",
    "from sklearn.model_selection import GridSearchCV\n",
    "from sklearn.metrics import mean_absolute_error, mean_squared_error\n",
    "\n",
    "\n",
    "parameters = {\n",
    "    'kernel': ['rbf', 'poly', 'sigmoid'],\n",
    "    #'gamma' : ['scale', 'auto'],\n",
    "    'epsilon': np.linspace(1, 42000, 100),\n",
    "    'C': np.linspace(0.01, 100, 100),\n",
    "}\n",
    "final_parameters = {\n",
    "    'n_neighbors': [78],\n",
    "    'leaf_size' : [1],         #egal 1-10 gleiches Ergebnis\n",
    "    'weights': ['distance']\n",
    "}\n",
    "\n",
    "model = SVR()\n",
    "model_randomizedSearch = RandomizedSearchCV(model, param_distributions=parameters, cv=5, n_jobs=-1)\n",
    "\n",
    "model_randomizedSearch.fit(red_training_Data_new, red_training_scores)\n",
    "model_best = model_randomizedSearch.best_estimator_\n",
    "\n",
    "print(\"Beste Hyperparameter: \" + str(model_randomizedSearch.best_params_))\n",
    "y_pred_valid = model_best.predict(red_test_data_transformed)\n",
    "\n",
    "# Mean Absolute Error (MAE)\n",
    "mae = mean_absolute_error(red_test_scores, y_pred_valid)\n",
    "print(\"Mean Absolute Error (MAE):\", mae)\n",
    "\n",
    "# Mean Squared Error (MSE)\n",
    "mse = mean_squared_error(red_test_scores, y_pred_valid)\n",
    "print(\"Mean Squared Error (MSE):\", mse)\n",
    "\n",
    "# Root Mean Squared Error (RMSE)\n",
    "rmse = np.sqrt(mse)\n",
    "print(\"Root Mean Squared Error (RMSE):\", rmse)\n"
   ]
  }
 ],
 "metadata": {
  "kernelspec": {
   "display_name": "Python 3",
   "language": "python",
   "name": "python3"
  },
  "language_info": {
   "codemirror_mode": {
    "name": "ipython",
    "version": 3
   },
   "file_extension": ".py",
   "mimetype": "text/x-python",
   "name": "python",
   "nbconvert_exporter": "python",
   "pygments_lexer": "ipython3",
   "version": "3.11.8"
  }
 },
 "nbformat": 4,
 "nbformat_minor": 5
}
