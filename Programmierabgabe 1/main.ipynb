{
 "cells": [
  {
   "cell_type": "markdown",
   "id": "bb65eb7ba196d88e",
   "metadata": {
    "collapsed": false
   },
   "source": [
    "Abgabe von: Mat.Nr.: 9452857 & 1113800"
   ]
  },
  {
   "cell_type": "markdown",
   "id": "78f9cd52ee8704d3",
   "metadata": {
    "collapsed": false
   },
   "source": [
    "Before doing anything installing all needed dependencies"
   ]
  },
  {
   "cell_type": "markdown",
   "source": [
    "!pip3 install pandas\n",
    "!pip3 install scikit-learn"
   ],
   "metadata": {
    "collapsed": false
   },
   "id": "56436fce6a392329"
  },
  {
   "cell_type": "markdown",
   "id": "c9d16a75f67202c7",
   "metadata": {
    "collapsed": false
   },
   "source": [
    "# Aufgabe 1"
   ]
  },
  {
   "cell_type": "code",
   "execution_count": 57,
   "id": "681dc39cdab0db77",
   "metadata": {
    "collapsed": false,
    "ExecuteTime": {
     "end_time": "2024-03-26T14:40:59.032290Z",
     "start_time": "2024-03-26T14:40:59.029413Z"
    }
   },
   "outputs": [],
   "source": [
    "import os\n",
    "import pandas as pd\n",
    "from sklearn.model_selection import train_test_split\n",
    "from sklearn import set_config\n",
    "set_config(transform_output=\"pandas\")"
   ]
  },
  {
   "cell_type": "markdown",
   "id": "05b1cc1a",
   "metadata": {},
   "source": [
    "Import data"
   ]
  },
  {
   "cell_type": "code",
   "execution_count": 58,
   "id": "6277f25d21edcf7e",
   "metadata": {
    "collapsed": false,
    "ExecuteTime": {
     "end_time": "2024-03-26T14:40:59.118481Z",
     "start_time": "2024-03-26T14:40:59.107294Z"
    }
   },
   "outputs": [],
   "source": [
    "white_raw = pd.read_csv(os.getcwd() + \"/dataset/winequality-white.csv\", delimiter=\";\")\n",
    "red_raw = pd.read_csv(os.getcwd() + \"/dataset/winequality-red.csv\", delimiter=\";\")"
   ]
  },
  {
   "cell_type": "markdown",
   "id": "f54922f2bb8e4690",
   "metadata": {
    "collapsed": false
   },
   "source": [
    "Split wine in Test and Training Data (75% / 25%)"
   ]
  },
  {
   "cell_type": "code",
   "execution_count": 59,
   "id": "f5154b42661b5c13",
   "metadata": {
    "collapsed": false,
    "ExecuteTime": {
     "end_time": "2024-03-26T14:40:59.133335Z",
     "start_time": "2024-03-26T14:40:59.118481Z"
    }
   },
   "outputs": [
    {
     "data": {
      "text/plain": "      fixed acidity  volatile acidity  citric acid  residual sugar  chlorides  \\\n0               7.4             0.700         0.00             1.9      0.076   \n1               7.8             0.880         0.00             2.6      0.098   \n2               7.8             0.760         0.04             2.3      0.092   \n3              11.2             0.280         0.56             1.9      0.075   \n4               7.4             0.700         0.00             1.9      0.076   \n...             ...               ...          ...             ...        ...   \n1594            6.2             0.600         0.08             2.0      0.090   \n1595            5.9             0.550         0.10             2.2      0.062   \n1596            6.3             0.510         0.13             2.3      0.076   \n1597            5.9             0.645         0.12             2.0      0.075   \n1598            6.0             0.310         0.47             3.6      0.067   \n\n      free sulfur dioxide  total sulfur dioxide  density    pH  sulphates  \\\n0                    11.0                  34.0  0.99780  3.51       0.56   \n1                    25.0                  67.0  0.99680  3.20       0.68   \n2                    15.0                  54.0  0.99700  3.26       0.65   \n3                    17.0                  60.0  0.99800  3.16       0.58   \n4                    11.0                  34.0  0.99780  3.51       0.56   \n...                   ...                   ...      ...   ...        ...   \n1594                 32.0                  44.0  0.99490  3.45       0.58   \n1595                 39.0                  51.0  0.99512  3.52       0.76   \n1596                 29.0                  40.0  0.99574  3.42       0.75   \n1597                 32.0                  44.0  0.99547  3.57       0.71   \n1598                 18.0                  42.0  0.99549  3.39       0.66   \n\n      alcohol  quality  \n0         9.4        5  \n1         9.8        5  \n2         9.8        5  \n3         9.8        6  \n4         9.4        5  \n...       ...      ...  \n1594     10.5        5  \n1595     11.2        6  \n1596     11.0        6  \n1597     10.2        5  \n1598     11.0        6  \n\n[1599 rows x 12 columns]",
      "text/html": "<div>\n<style scoped>\n    .dataframe tbody tr th:only-of-type {\n        vertical-align: middle;\n    }\n\n    .dataframe tbody tr th {\n        vertical-align: top;\n    }\n\n    .dataframe thead th {\n        text-align: right;\n    }\n</style>\n<table border=\"1\" class=\"dataframe\">\n  <thead>\n    <tr style=\"text-align: right;\">\n      <th></th>\n      <th>fixed acidity</th>\n      <th>volatile acidity</th>\n      <th>citric acid</th>\n      <th>residual sugar</th>\n      <th>chlorides</th>\n      <th>free sulfur dioxide</th>\n      <th>total sulfur dioxide</th>\n      <th>density</th>\n      <th>pH</th>\n      <th>sulphates</th>\n      <th>alcohol</th>\n      <th>quality</th>\n    </tr>\n  </thead>\n  <tbody>\n    <tr>\n      <th>0</th>\n      <td>7.4</td>\n      <td>0.700</td>\n      <td>0.00</td>\n      <td>1.9</td>\n      <td>0.076</td>\n      <td>11.0</td>\n      <td>34.0</td>\n      <td>0.99780</td>\n      <td>3.51</td>\n      <td>0.56</td>\n      <td>9.4</td>\n      <td>5</td>\n    </tr>\n    <tr>\n      <th>1</th>\n      <td>7.8</td>\n      <td>0.880</td>\n      <td>0.00</td>\n      <td>2.6</td>\n      <td>0.098</td>\n      <td>25.0</td>\n      <td>67.0</td>\n      <td>0.99680</td>\n      <td>3.20</td>\n      <td>0.68</td>\n      <td>9.8</td>\n      <td>5</td>\n    </tr>\n    <tr>\n      <th>2</th>\n      <td>7.8</td>\n      <td>0.760</td>\n      <td>0.04</td>\n      <td>2.3</td>\n      <td>0.092</td>\n      <td>15.0</td>\n      <td>54.0</td>\n      <td>0.99700</td>\n      <td>3.26</td>\n      <td>0.65</td>\n      <td>9.8</td>\n      <td>5</td>\n    </tr>\n    <tr>\n      <th>3</th>\n      <td>11.2</td>\n      <td>0.280</td>\n      <td>0.56</td>\n      <td>1.9</td>\n      <td>0.075</td>\n      <td>17.0</td>\n      <td>60.0</td>\n      <td>0.99800</td>\n      <td>3.16</td>\n      <td>0.58</td>\n      <td>9.8</td>\n      <td>6</td>\n    </tr>\n    <tr>\n      <th>4</th>\n      <td>7.4</td>\n      <td>0.700</td>\n      <td>0.00</td>\n      <td>1.9</td>\n      <td>0.076</td>\n      <td>11.0</td>\n      <td>34.0</td>\n      <td>0.99780</td>\n      <td>3.51</td>\n      <td>0.56</td>\n      <td>9.4</td>\n      <td>5</td>\n    </tr>\n    <tr>\n      <th>...</th>\n      <td>...</td>\n      <td>...</td>\n      <td>...</td>\n      <td>...</td>\n      <td>...</td>\n      <td>...</td>\n      <td>...</td>\n      <td>...</td>\n      <td>...</td>\n      <td>...</td>\n      <td>...</td>\n      <td>...</td>\n    </tr>\n    <tr>\n      <th>1594</th>\n      <td>6.2</td>\n      <td>0.600</td>\n      <td>0.08</td>\n      <td>2.0</td>\n      <td>0.090</td>\n      <td>32.0</td>\n      <td>44.0</td>\n      <td>0.99490</td>\n      <td>3.45</td>\n      <td>0.58</td>\n      <td>10.5</td>\n      <td>5</td>\n    </tr>\n    <tr>\n      <th>1595</th>\n      <td>5.9</td>\n      <td>0.550</td>\n      <td>0.10</td>\n      <td>2.2</td>\n      <td>0.062</td>\n      <td>39.0</td>\n      <td>51.0</td>\n      <td>0.99512</td>\n      <td>3.52</td>\n      <td>0.76</td>\n      <td>11.2</td>\n      <td>6</td>\n    </tr>\n    <tr>\n      <th>1596</th>\n      <td>6.3</td>\n      <td>0.510</td>\n      <td>0.13</td>\n      <td>2.3</td>\n      <td>0.076</td>\n      <td>29.0</td>\n      <td>40.0</td>\n      <td>0.99574</td>\n      <td>3.42</td>\n      <td>0.75</td>\n      <td>11.0</td>\n      <td>6</td>\n    </tr>\n    <tr>\n      <th>1597</th>\n      <td>5.9</td>\n      <td>0.645</td>\n      <td>0.12</td>\n      <td>2.0</td>\n      <td>0.075</td>\n      <td>32.0</td>\n      <td>44.0</td>\n      <td>0.99547</td>\n      <td>3.57</td>\n      <td>0.71</td>\n      <td>10.2</td>\n      <td>5</td>\n    </tr>\n    <tr>\n      <th>1598</th>\n      <td>6.0</td>\n      <td>0.310</td>\n      <td>0.47</td>\n      <td>3.6</td>\n      <td>0.067</td>\n      <td>18.0</td>\n      <td>42.0</td>\n      <td>0.99549</td>\n      <td>3.39</td>\n      <td>0.66</td>\n      <td>11.0</td>\n      <td>6</td>\n    </tr>\n  </tbody>\n</table>\n<p>1599 rows × 12 columns</p>\n</div>"
     },
     "execution_count": 59,
     "metadata": {},
     "output_type": "execute_result"
    }
   ],
   "source": [
    "red_raw"
   ]
  },
  {
   "cell_type": "code",
   "execution_count": 60,
   "id": "d561e122e0a9ea7f",
   "metadata": {
    "collapsed": false,
    "ExecuteTime": {
     "end_time": "2024-03-26T14:40:59.147031Z",
     "start_time": "2024-03-26T14:40:59.134341Z"
    }
   },
   "outputs": [],
   "source": [
    "white_training_Data, white_test_data, white_training_scores, white_test_scores = (train_test_split(white_raw.drop(\"quality\", axis=1), white_raw['quality'],test_size=0.25, random_state=39))\n",
    "\n",
    "red_training_Data, red_test_data, red_training_scores, red_test_scores = (train_test_split(red_raw.drop(\"quality\", axis=1), red_raw['quality'],test_size=0.25, random_state=39))"
   ]
  },
  {
   "cell_type": "code",
   "execution_count": 61,
   "id": "25ce18e327b74cba",
   "metadata": {
    "collapsed": false,
    "ExecuteTime": {
     "end_time": "2024-03-26T14:40:59.164010Z",
     "start_time": "2024-03-26T14:40:59.148033Z"
    }
   },
   "outputs": [
    {
     "data": {
      "text/plain": "      fixed acidity  volatile acidity  citric acid  residual sugar  chlorides  \\\n3965            7.3             0.380         0.23            6.50      0.050   \n3954            6.3             0.330         0.20           17.90      0.066   \n580             7.4             0.410         0.66           10.80      0.051   \n1637            8.1             0.120         0.49            1.20      0.042   \n1310            5.2             0.365         0.08           13.50      0.041   \n...             ...               ...          ...             ...        ...   \n3195            7.0             0.210         0.42            5.30      0.037   \n2275            7.5             0.290         0.26           14.95      0.067   \n1088            7.4             0.200         0.37           16.95      0.048   \n105             7.3             0.130         0.32           14.40      0.051   \n3465            6.8             0.190         0.34            1.90      0.040   \n\n      free sulfur dioxide  total sulfur dioxide  density    pH  sulphates  \\\n3965                 18.0                 102.0  0.99304  3.10       0.55   \n3954                 36.0                 161.0  0.99910  3.14       0.51   \n580                  77.0                 194.0  0.99760  3.05       0.46   \n1637                 43.0                 160.0  0.99340  3.13       0.48   \n1310                 37.0                 142.0  0.99700  3.46       0.39   \n...                   ...                   ...      ...   ...        ...   \n3195                 36.0                 123.0  0.99321  3.14       0.52   \n2275                 47.0                 178.0  0.99838  3.04       0.49   \n1088                 43.0                 190.0  0.99950  3.03       0.42   \n105                  34.0                 109.0  0.99740  3.20       0.35   \n3465                 41.0                 108.0  0.99000  3.25       0.45   \n\n      alcohol  \n3965     11.2  \n3954      8.8  \n580       8.7  \n1637      9.7  \n1310      9.9  \n...       ...  \n3195     10.9  \n2275      9.2  \n1088      9.2  \n105       9.2  \n3465     12.9  \n\n[3673 rows x 11 columns]",
      "text/html": "<div>\n<style scoped>\n    .dataframe tbody tr th:only-of-type {\n        vertical-align: middle;\n    }\n\n    .dataframe tbody tr th {\n        vertical-align: top;\n    }\n\n    .dataframe thead th {\n        text-align: right;\n    }\n</style>\n<table border=\"1\" class=\"dataframe\">\n  <thead>\n    <tr style=\"text-align: right;\">\n      <th></th>\n      <th>fixed acidity</th>\n      <th>volatile acidity</th>\n      <th>citric acid</th>\n      <th>residual sugar</th>\n      <th>chlorides</th>\n      <th>free sulfur dioxide</th>\n      <th>total sulfur dioxide</th>\n      <th>density</th>\n      <th>pH</th>\n      <th>sulphates</th>\n      <th>alcohol</th>\n    </tr>\n  </thead>\n  <tbody>\n    <tr>\n      <th>3965</th>\n      <td>7.3</td>\n      <td>0.380</td>\n      <td>0.23</td>\n      <td>6.50</td>\n      <td>0.050</td>\n      <td>18.0</td>\n      <td>102.0</td>\n      <td>0.99304</td>\n      <td>3.10</td>\n      <td>0.55</td>\n      <td>11.2</td>\n    </tr>\n    <tr>\n      <th>3954</th>\n      <td>6.3</td>\n      <td>0.330</td>\n      <td>0.20</td>\n      <td>17.90</td>\n      <td>0.066</td>\n      <td>36.0</td>\n      <td>161.0</td>\n      <td>0.99910</td>\n      <td>3.14</td>\n      <td>0.51</td>\n      <td>8.8</td>\n    </tr>\n    <tr>\n      <th>580</th>\n      <td>7.4</td>\n      <td>0.410</td>\n      <td>0.66</td>\n      <td>10.80</td>\n      <td>0.051</td>\n      <td>77.0</td>\n      <td>194.0</td>\n      <td>0.99760</td>\n      <td>3.05</td>\n      <td>0.46</td>\n      <td>8.7</td>\n    </tr>\n    <tr>\n      <th>1637</th>\n      <td>8.1</td>\n      <td>0.120</td>\n      <td>0.49</td>\n      <td>1.20</td>\n      <td>0.042</td>\n      <td>43.0</td>\n      <td>160.0</td>\n      <td>0.99340</td>\n      <td>3.13</td>\n      <td>0.48</td>\n      <td>9.7</td>\n    </tr>\n    <tr>\n      <th>1310</th>\n      <td>5.2</td>\n      <td>0.365</td>\n      <td>0.08</td>\n      <td>13.50</td>\n      <td>0.041</td>\n      <td>37.0</td>\n      <td>142.0</td>\n      <td>0.99700</td>\n      <td>3.46</td>\n      <td>0.39</td>\n      <td>9.9</td>\n    </tr>\n    <tr>\n      <th>...</th>\n      <td>...</td>\n      <td>...</td>\n      <td>...</td>\n      <td>...</td>\n      <td>...</td>\n      <td>...</td>\n      <td>...</td>\n      <td>...</td>\n      <td>...</td>\n      <td>...</td>\n      <td>...</td>\n    </tr>\n    <tr>\n      <th>3195</th>\n      <td>7.0</td>\n      <td>0.210</td>\n      <td>0.42</td>\n      <td>5.30</td>\n      <td>0.037</td>\n      <td>36.0</td>\n      <td>123.0</td>\n      <td>0.99321</td>\n      <td>3.14</td>\n      <td>0.52</td>\n      <td>10.9</td>\n    </tr>\n    <tr>\n      <th>2275</th>\n      <td>7.5</td>\n      <td>0.290</td>\n      <td>0.26</td>\n      <td>14.95</td>\n      <td>0.067</td>\n      <td>47.0</td>\n      <td>178.0</td>\n      <td>0.99838</td>\n      <td>3.04</td>\n      <td>0.49</td>\n      <td>9.2</td>\n    </tr>\n    <tr>\n      <th>1088</th>\n      <td>7.4</td>\n      <td>0.200</td>\n      <td>0.37</td>\n      <td>16.95</td>\n      <td>0.048</td>\n      <td>43.0</td>\n      <td>190.0</td>\n      <td>0.99950</td>\n      <td>3.03</td>\n      <td>0.42</td>\n      <td>9.2</td>\n    </tr>\n    <tr>\n      <th>105</th>\n      <td>7.3</td>\n      <td>0.130</td>\n      <td>0.32</td>\n      <td>14.40</td>\n      <td>0.051</td>\n      <td>34.0</td>\n      <td>109.0</td>\n      <td>0.99740</td>\n      <td>3.20</td>\n      <td>0.35</td>\n      <td>9.2</td>\n    </tr>\n    <tr>\n      <th>3465</th>\n      <td>6.8</td>\n      <td>0.190</td>\n      <td>0.34</td>\n      <td>1.90</td>\n      <td>0.040</td>\n      <td>41.0</td>\n      <td>108.0</td>\n      <td>0.99000</td>\n      <td>3.25</td>\n      <td>0.45</td>\n      <td>12.9</td>\n    </tr>\n  </tbody>\n</table>\n<p>3673 rows × 11 columns</p>\n</div>"
     },
     "execution_count": 61,
     "metadata": {},
     "output_type": "execute_result"
    }
   ],
   "source": [
    "white_training_Data"
   ]
  },
  {
   "cell_type": "markdown",
   "id": "77609e637e8e3d89",
   "metadata": {
    "collapsed": false
   },
   "source": [
    "# Aufgabe 2"
   ]
  },
  {
   "cell_type": "markdown",
   "id": "219e2396",
   "metadata": {},
   "source": [
    "Performing a Principal Component Analysis"
   ]
  },
  {
   "cell_type": "markdown",
   "source": [
    "we need to standardize features with StandardScaler(). We do this to make sure that different features have the same impact on the result"
   ],
   "metadata": {
    "collapsed": false
   },
   "id": "718a3fb4c7af2e73"
  },
  {
   "cell_type": "code",
   "outputs": [],
   "source": [
    "from sklearn.preprocessing import StandardScaler\n",
    "scaler = StandardScaler()\n",
    "\n",
    "white_training_Data_scaled = scaler.fit_transform(white_training_Data)\n",
    "white_test_data_scaled = scaler.transform(white_test_data)\n",
    "\n",
    "red_training_Data_scaled = scaler.fit_transform(red_training_Data)\n",
    "red_test_data_scaled = scaler.transform (red_test_data)"
   ],
   "metadata": {
    "collapsed": false,
    "ExecuteTime": {
     "end_time": "2024-03-26T14:40:59.181933Z",
     "start_time": "2024-03-26T14:40:59.167012Z"
    }
   },
   "id": "dd7c58f6b7caee11",
   "execution_count": 62
  },
  {
   "cell_type": "code",
   "execution_count": 63,
   "id": "22fabd7d52da4de7",
   "metadata": {
    "collapsed": false,
    "ExecuteTime": {
     "end_time": "2024-03-26T14:40:59.190033Z",
     "start_time": "2024-03-26T14:40:59.182935Z"
    }
   },
   "outputs": [],
   "source": [
    "from sklearn.decomposition import PCA"
   ]
  },
  {
   "cell_type": "code",
   "execution_count": 64,
   "id": "662926e421bcbac0",
   "metadata": {
    "collapsed": false,
    "ExecuteTime": {
     "end_time": "2024-03-26T14:40:59.208213Z",
     "start_time": "2024-03-26T14:40:59.190033Z"
    }
   },
   "outputs": [],
   "source": [
    "pcaWhite = PCA(n_components='mle')\n",
    "white_training_Data_pca = pcaWhite.fit_transform(white_training_Data_scaled)\n",
    "white_test_data_pca = pcaWhite.transform(white_test_data_scaled)"
   ]
  },
  {
   "cell_type": "code",
   "execution_count": 65,
   "id": "e4a83bfcfbd77221",
   "metadata": {
    "collapsed": false,
    "ExecuteTime": {
     "end_time": "2024-03-26T14:40:59.219729Z",
     "start_time": "2024-03-26T14:40:59.208213Z"
    }
   },
   "outputs": [],
   "source": [
    "pcaRed = PCA(n_components='mle')\n",
    "red_training_Data_pca = pcaRed.fit_transform(red_training_Data)\n",
    "red_test_data_pca = pcaRed.transform(red_test_data)"
   ]
  },
  {
   "cell_type": "markdown",
   "id": "b362deb2",
   "metadata": {},
   "source": [
    "# Aufgabe 3"
   ]
  },
  {
   "cell_type": "code",
   "outputs": [],
   "source": [
    "import numpy as np\n",
    "from math import sqrt\n",
    "\n",
    "from sklearn.neighbors import KNeighborsRegressor\n",
    "from sklearn.svm import SVR\n",
    "from sklearn.model_selection import GridSearchCV\n",
    "from sklearn.metrics import mean_absolute_error, mean_squared_error\n",
    "from sklearn.metrics import r2_score, mean_absolute_percentage_error\n",
    "\n",
    "\n",
    "# Function to calculate model and print Bewertungsmetriken\n",
    "def model_regressor_grid_calculator(estimator: any, param_grid: dict | list,\n",
    "                               training_data: any, valid_data: any, training_scores: any, valid_scores: any):\n",
    "    #select the best HyperParameters while using cross-validation for it (cv=5)\n",
    "    random_search = GridSearchCV(estimator, param_grid=param_grid, cv=3, n_jobs=-1, scoring='r2')\n",
    "    random_search.fit(training_data, training_scores)\n",
    "    \n",
    "    print(\"Beste Hyperparameter: \" + str(random_search.best_params_))\n",
    "    \n",
    "    # Select the best model from Grid Search\n",
    "    optimal_model = random_search.best_estimator_\n",
    "    \n",
    "    # Selected Params\n",
    "    cv_results = pd.DataFrame(random_search.cv_results_).loc[random_search.best_index_]\n",
    "    \n",
    "    r2_score_cv = [cv_results['split0_test_score'], \n",
    "                   cv_results['split1_test_score'],\n",
    "                   cv_results['split2_test_score'],\n",
    "                   ]\n",
    "    r2_score_cv_mean = cv_results['mean_test_score']\n",
    "    r2_score_cv_std = cv_results['std_test_score']\n",
    "    \n",
    "    print('Cross Validation')\n",
    "    print(f'- R^2: {r2_score_cv}')\n",
    "    print(f'- R^2 Durchschnittlicher: {r2_score_cv_mean:.4f}')\n",
    "    print(f'- R^2 Standardabweichung: {r2_score_cv_std:.4f}')\n",
    "    print('\\r\\n')\n",
    "    \n",
    "    \n",
    "    predicted_test_scores = optimal_model.predict(valid_data)\n",
    "    \n",
    "    r2_score_test = r2_score(valid_scores, predicted_test_scores)\n",
    "    rmse_test = sqrt(mean_squared_error(valid_scores, predicted_test_scores))\n",
    "    mape_test = mean_absolute_percentage_error(valid_scores, predicted_test_scores)\n",
    "    \n",
    "    print('Test:')\n",
    "    print(f'- R^2: {r2_score_test:.4f}')\n",
    "    print(f'- RMSE: {rmse_test:.2f}')\n",
    "    print(f'- MAPE: {mape_test:.2%}')\n",
    "    \n",
    "    return cv_results, optimal_model"
   ],
   "metadata": {
    "collapsed": false,
    "ExecuteTime": {
     "end_time": "2024-03-26T14:40:59.231146Z",
     "start_time": "2024-03-26T14:40:59.219729Z"
    }
   },
   "id": "6ffcb4def5221e94",
   "execution_count": 66
  },
  {
   "cell_type": "markdown",
   "id": "03eef9f3",
   "metadata": {},
   "source": [
    "Implementing two Regression methods: Nearest Neighbor Regression and Support Vector Regression. Comparing the performance of both regression models at both datasets."
   ]
  },
  {
   "cell_type": "markdown",
   "source": [
    "## White"
   ],
   "metadata": {
    "collapsed": false
   },
   "id": "fc3a9c2b5b5dae5f"
  },
  {
   "cell_type": "markdown",
   "id": "115ffc20",
   "metadata": {},
   "source": [
    "### Nearest Neighbor Regression"
   ]
  },
  {
   "cell_type": "code",
   "outputs": [
    {
     "name": "stdout",
     "output_type": "stream",
     "text": [
      "Beste Hyperparameter: {'leaf_size': 1, 'n_neighbors': 23, 'weights': 'distance'}\n",
      "Cross Validation\n",
      "- R^2: [0.4439410001966234, 0.4578456890889915, 0.46936491337660613]\n",
      "- R^2 Durchschnittlicher: 0.4571\n",
      "- R^2 Standardabweichung: 0.0104\n",
      "\r\n",
      "\n",
      "Test:\n",
      "- R^2: 0.4862\n",
      "- RMSE: 0.64\n",
      "- MAPE: 7.66%\n"
     ]
    }
   ],
   "source": [
    "parameters = {\n",
    "    'n_neighbors': np.arange(1, 70, 1),\n",
    "    'leaf_size' : np.arange(1, 50, 1),\n",
    "    'weights': ['uniform', 'distance']\n",
    "}\n",
    "final_parameters = {\n",
    "    'n_neighbors': [23],\n",
    "    'leaf_size' : [1],\n",
    "    'weights': ['distance']\n",
    "}\n",
    "knn_regressor = KNeighborsRegressor()\n",
    "cv_results, optimal_model = model_regressor_grid_calculator(estimator=knn_regressor, param_grid=final_parameters, training_data=white_training_Data_pca, valid_data=white_test_data_pca, training_scores=white_training_scores, valid_scores=white_test_scores)\n"
   ],
   "metadata": {
    "collapsed": false,
    "ExecuteTime": {
     "end_time": "2024-03-26T14:41:01.233735Z",
     "start_time": "2024-03-26T14:40:59.243147Z"
    }
   },
   "id": "da35204b9d46b558",
   "execution_count": 67
  },
  {
   "cell_type": "markdown",
   "source": [
    "### Support Vektor Regression"
   ],
   "metadata": {
    "collapsed": false
   },
   "id": "413977c32b3097ed"
  },
  {
   "cell_type": "code",
   "outputs": [
    {
     "name": "stdout",
     "output_type": "stream",
     "text": [
      "Beste Hyperparameter: {'C': 1.631578947368421, 'epsilon': 0.3111111111111111, 'kernel': 'rbf'}\n",
      "Cross Validation\n",
      "- R^2: [0.35387360216597596, 0.4023140411195696, 0.4207932174740727]\n",
      "- R^2 Durchschnittlicher: 0.3923\n",
      "- R^2 Standardabweichung: 0.0282\n",
      "\r\n",
      "\n",
      "Test:\n",
      "- R^2: 0.3616\n",
      "- RMSE: 0.71\n",
      "- MAPE: 9.86%\n"
     ]
    }
   ],
   "source": [
    "parameters = {\n",
    "    'kernel': ['rbf'],\n",
    "    'epsilon': np.linspace(0.2, 0.4, 10),\n",
    "    'C': np.linspace(1, 5, 20),\n",
    "}\n",
    "final_parameters = {'C': [1.631578947368421], 'epsilon': [0.3111111111111111], 'kernel': ['rbf']}\n",
    "\n",
    "svm_regressor = SVR()\n",
    "cv_results, optimal_model = model_regressor_grid_calculator(estimator=svm_regressor, param_grid=final_parameters, training_data=white_training_Data_pca, valid_data=white_test_data_pca, training_scores=white_training_scores, valid_scores=white_test_scores)"
   ],
   "metadata": {
    "collapsed": false,
    "ExecuteTime": {
     "end_time": "2024-03-26T14:41:02.538341Z",
     "start_time": "2024-03-26T14:41:01.233735Z"
    }
   },
   "id": "7256ccb77e8e7504",
   "execution_count": 68
  },
  {
   "cell_type": "markdown",
   "source": [
    "Based on the r2 score the Nearest Neighbor Regression results in the better result"
   ],
   "metadata": {
    "collapsed": false
   },
   "id": "e43734aed480d309"
  },
  {
   "cell_type": "markdown",
   "source": [
    "## Red"
   ],
   "metadata": {
    "collapsed": false
   },
   "id": "3468bef4330758e"
  },
  {
   "cell_type": "markdown",
   "source": [
    "### Nearest Neighbor Regression"
   ],
   "metadata": {
    "collapsed": false
   },
   "id": "a4c2511161861ac8"
  },
  {
   "cell_type": "markdown",
   "source": [],
   "metadata": {
    "collapsed": false
   },
   "id": "e3177704c5b721e1"
  },
  {
   "cell_type": "code",
   "outputs": [
    {
     "name": "stdout",
     "output_type": "stream",
     "text": [
      "Beste Hyperparameter: {'leaf_size': 1, 'n_neighbors': 19, 'weights': 'distance'}\n",
      "Cross Validation\n",
      "- R^2: [0.2569778231764722, 0.28101540049050555, 0.21336805786223734]\n",
      "- R^2 Durchschnittlicher: 0.2505\n",
      "- R^2 Standardabweichung: 0.0280\n",
      "\r\n",
      "\n",
      "Test:\n",
      "- R^2: 0.2810\n",
      "- RMSE: 0.74\n",
      "- MAPE: 9.36%\n"
     ]
    }
   ],
   "source": [
    "parameters = {\n",
    "    'n_neighbors': np.arange(1, 70, 1),\n",
    "    'leaf_size' : np.arange(1, 50, 1),\n",
    "    'weights': ['uniform', 'distance']\n",
    "}\n",
    "final_parameters = {\n",
    "    'n_neighbors': [19],\n",
    "    'leaf_size' : [1],\n",
    "    'weights': ['distance']\n",
    "}\n",
    "knn_regressor = KNeighborsRegressor()\n",
    "cv_results, optimal_model = model_regressor_grid_calculator(estimator=knn_regressor, param_grid=final_parameters, training_data=red_training_Data_pca, valid_data=red_test_data_pca, training_scores=red_training_scores, valid_scores=red_test_scores)\n"
   ],
   "metadata": {
    "collapsed": false,
    "ExecuteTime": {
     "end_time": "2024-03-26T14:42:28.402740Z",
     "start_time": "2024-03-26T14:42:28.362646Z"
    }
   },
   "id": "db7bd8a07ee799f3",
   "execution_count": 70
  },
  {
   "cell_type": "markdown",
   "source": [
    "### Support Vektor Regression"
   ],
   "metadata": {
    "collapsed": false
   },
   "id": "6171d1d19680264c"
  },
  {
   "cell_type": "code",
   "outputs": [
    {
     "name": "stdout",
     "output_type": "stream",
     "text": [
      "Beste Hyperparameter: {'C': 67.77777777777777, 'epsilon': 0.2899999999999999, 'kernel': 'rbf'}\n",
      "Cross Validation\n",
      "- R^2: [0.29053634264358497, 0.3103429817566672, 0.2715251995718748]\n",
      "- R^2 Durchschnittlicher: 0.2908\n",
      "- R^2 Standardabweichung: 0.0158\n",
      "\r\n",
      "\n",
      "Test:\n",
      "- R^2: 0.3914\n",
      "- RMSE: 0.68\n",
      "- MAPE: 9.77%\n"
     ]
    }
   ],
   "source": [
    "parameters = {\n",
    "    'kernel': ['rbf'],\n",
    "    #'gamma' : ['scale', 'auto'],\n",
    "    'epsilon': np.arange(0.1, 0.30, 0.01),\n",
    "    'C': np.linspace(60, 70, 10),\n",
    "}\n",
    "\n",
    "final_parameters = {'C': [67.77777777777777], 'epsilon': [0.2899999999999999], 'kernel': ['rbf']}\n",
    "\n",
    "svm_regressor = SVR()\n",
    "cv_results, optimal_model = model_regressor_grid_calculator(estimator=svm_regressor, param_grid=final_parameters, training_data=red_training_Data_pca, valid_data=red_test_data_pca, training_scores=red_training_scores, valid_scores=red_test_scores)"
   ],
   "metadata": {
    "collapsed": false,
    "ExecuteTime": {
     "end_time": "2024-03-26T14:48:06.627453Z",
     "start_time": "2024-03-26T14:48:06.492489Z"
    }
   },
   "id": "4ac2e5e41c3be2fe",
   "execution_count": 78
  }
 ],
 "metadata": {
  "kernelspec": {
   "display_name": "Python 3",
   "language": "python",
   "name": "python3"
  },
  "language_info": {
   "codemirror_mode": {
    "name": "ipython",
    "version": 3
   },
   "file_extension": ".py",
   "mimetype": "text/x-python",
   "name": "python",
   "nbconvert_exporter": "python",
   "pygments_lexer": "ipython3",
   "version": "3.11.8"
  }
 },
 "nbformat": 4,
 "nbformat_minor": 5
}
