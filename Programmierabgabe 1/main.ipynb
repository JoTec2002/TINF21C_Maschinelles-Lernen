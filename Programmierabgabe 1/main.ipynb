{
 "cells": [
  {
   "cell_type": "markdown",
   "id": "bb65eb7ba196d88e",
   "metadata": {
    "collapsed": false
   },
   "source": [
    "Abgabe von: Mat.Nr.: 9452857 &"
   ]
  },
  {
   "cell_type": "markdown",
   "id": "78f9cd52ee8704d3",
   "metadata": {
    "collapsed": false
   },
   "source": [
    "Before doing anything installing all needed dependencies"
   ]
  },
  {
   "cell_type": "code",
   "execution_count": 61,
   "id": "782b7d8297707e1a",
   "metadata": {
    "collapsed": false
   },
   "outputs": [
    {
     "name": "stdout",
     "output_type": "stream",
     "text": [
      "Requirement already satisfied: pandas in /Users/paulbrenner/anaconda3/lib/python3.11/site-packages (2.0.3)\n",
      "Requirement already satisfied: python-dateutil>=2.8.2 in /Users/paulbrenner/anaconda3/lib/python3.11/site-packages (from pandas) (2.8.2)\n",
      "Requirement already satisfied: pytz>=2020.1 in /Users/paulbrenner/anaconda3/lib/python3.11/site-packages (from pandas) (2023.3.post1)\n",
      "Requirement already satisfied: tzdata>=2022.1 in /Users/paulbrenner/anaconda3/lib/python3.11/site-packages (from pandas) (2023.3)\n",
      "Requirement already satisfied: numpy>=1.21.0 in /Users/paulbrenner/anaconda3/lib/python3.11/site-packages (from pandas) (1.24.3)\n",
      "Requirement already satisfied: six>=1.5 in /Users/paulbrenner/anaconda3/lib/python3.11/site-packages (from python-dateutil>=2.8.2->pandas) (1.16.0)\n",
      "Requirement already satisfied: scikit-learn in /Users/paulbrenner/anaconda3/lib/python3.11/site-packages (1.3.0)\n",
      "Requirement already satisfied: numpy>=1.17.3 in /Users/paulbrenner/anaconda3/lib/python3.11/site-packages (from scikit-learn) (1.24.3)\n",
      "Requirement already satisfied: scipy>=1.5.0 in /Users/paulbrenner/anaconda3/lib/python3.11/site-packages (from scikit-learn) (1.11.1)\n",
      "Requirement already satisfied: joblib>=1.1.1 in /Users/paulbrenner/anaconda3/lib/python3.11/site-packages (from scikit-learn) (1.2.0)\n",
      "Requirement already satisfied: threadpoolctl>=2.0.0 in /Users/paulbrenner/anaconda3/lib/python3.11/site-packages (from scikit-learn) (2.2.0)\n"
     ]
    }
   ],
   "source": [
    "!pip3 install pandas\n",
    "!pip3 install scikit-learn"
   ]
  },
  {
   "cell_type": "markdown",
   "id": "c9d16a75f67202c7",
   "metadata": {
    "collapsed": false
   },
   "source": [
    "# Aufgabe 1"
   ]
  },
  {
   "cell_type": "code",
   "execution_count": 62,
   "id": "681dc39cdab0db77",
   "metadata": {
    "ExecuteTime": {
     "end_time": "2024-03-18T08:39:27.438916Z",
     "start_time": "2024-03-18T08:39:25.992978Z"
    },
    "collapsed": false
   },
   "outputs": [],
   "source": [
    "import os\n",
    "import pandas as pd\n",
    "from sklearn.model_selection import train_test_split"
   ]
  },
  {
   "cell_type": "code",
   "execution_count": 63,
   "id": "6277f25d21edcf7e",
   "metadata": {
    "ExecuteTime": {
     "end_time": "2024-03-18T08:42:15.492412Z",
     "start_time": "2024-03-18T08:42:15.477148Z"
    },
    "collapsed": false
   },
   "outputs": [],
   "source": [
    "white_raw = pd.read_csv(os.getcwd() + \"/dataset/winequality-white.csv\", delimiter=\";\")\n",
    "red_raw = pd.read_csv(os.getcwd() + \"/dataset/winequality-red.csv\", delimiter=\";\")"
   ]
  },
  {
   "cell_type": "markdown",
   "id": "f54922f2bb8e4690",
   "metadata": {
    "collapsed": false
   },
   "source": [
    "Split wine in Test and Training Data (75% / 25%)"
   ]
  },
  {
   "cell_type": "code",
   "execution_count": 64,
   "id": "f5154b42661b5c13",
   "metadata": {
    "collapsed": false
   },
   "outputs": [
    {
     "data": {
      "text/html": [
       "<div>\n",
       "<style scoped>\n",
       "    .dataframe tbody tr th:only-of-type {\n",
       "        vertical-align: middle;\n",
       "    }\n",
       "\n",
       "    .dataframe tbody tr th {\n",
       "        vertical-align: top;\n",
       "    }\n",
       "\n",
       "    .dataframe thead th {\n",
       "        text-align: right;\n",
       "    }\n",
       "</style>\n",
       "<table border=\"1\" class=\"dataframe\">\n",
       "  <thead>\n",
       "    <tr style=\"text-align: right;\">\n",
       "      <th></th>\n",
       "      <th>fixed acidity</th>\n",
       "      <th>volatile acidity</th>\n",
       "      <th>citric acid</th>\n",
       "      <th>residual sugar</th>\n",
       "      <th>chlorides</th>\n",
       "      <th>free sulfur dioxide</th>\n",
       "      <th>total sulfur dioxide</th>\n",
       "      <th>density</th>\n",
       "      <th>pH</th>\n",
       "      <th>sulphates</th>\n",
       "      <th>alcohol</th>\n",
       "      <th>quality</th>\n",
       "    </tr>\n",
       "  </thead>\n",
       "  <tbody>\n",
       "    <tr>\n",
       "      <th>0</th>\n",
       "      <td>7.4</td>\n",
       "      <td>0.700</td>\n",
       "      <td>0.00</td>\n",
       "      <td>1.9</td>\n",
       "      <td>0.076</td>\n",
       "      <td>11.0</td>\n",
       "      <td>34.0</td>\n",
       "      <td>0.99780</td>\n",
       "      <td>3.51</td>\n",
       "      <td>0.56</td>\n",
       "      <td>9.4</td>\n",
       "      <td>5</td>\n",
       "    </tr>\n",
       "    <tr>\n",
       "      <th>1</th>\n",
       "      <td>7.8</td>\n",
       "      <td>0.880</td>\n",
       "      <td>0.00</td>\n",
       "      <td>2.6</td>\n",
       "      <td>0.098</td>\n",
       "      <td>25.0</td>\n",
       "      <td>67.0</td>\n",
       "      <td>0.99680</td>\n",
       "      <td>3.20</td>\n",
       "      <td>0.68</td>\n",
       "      <td>9.8</td>\n",
       "      <td>5</td>\n",
       "    </tr>\n",
       "    <tr>\n",
       "      <th>2</th>\n",
       "      <td>7.8</td>\n",
       "      <td>0.760</td>\n",
       "      <td>0.04</td>\n",
       "      <td>2.3</td>\n",
       "      <td>0.092</td>\n",
       "      <td>15.0</td>\n",
       "      <td>54.0</td>\n",
       "      <td>0.99700</td>\n",
       "      <td>3.26</td>\n",
       "      <td>0.65</td>\n",
       "      <td>9.8</td>\n",
       "      <td>5</td>\n",
       "    </tr>\n",
       "    <tr>\n",
       "      <th>3</th>\n",
       "      <td>11.2</td>\n",
       "      <td>0.280</td>\n",
       "      <td>0.56</td>\n",
       "      <td>1.9</td>\n",
       "      <td>0.075</td>\n",
       "      <td>17.0</td>\n",
       "      <td>60.0</td>\n",
       "      <td>0.99800</td>\n",
       "      <td>3.16</td>\n",
       "      <td>0.58</td>\n",
       "      <td>9.8</td>\n",
       "      <td>6</td>\n",
       "    </tr>\n",
       "    <tr>\n",
       "      <th>4</th>\n",
       "      <td>7.4</td>\n",
       "      <td>0.700</td>\n",
       "      <td>0.00</td>\n",
       "      <td>1.9</td>\n",
       "      <td>0.076</td>\n",
       "      <td>11.0</td>\n",
       "      <td>34.0</td>\n",
       "      <td>0.99780</td>\n",
       "      <td>3.51</td>\n",
       "      <td>0.56</td>\n",
       "      <td>9.4</td>\n",
       "      <td>5</td>\n",
       "    </tr>\n",
       "    <tr>\n",
       "      <th>...</th>\n",
       "      <td>...</td>\n",
       "      <td>...</td>\n",
       "      <td>...</td>\n",
       "      <td>...</td>\n",
       "      <td>...</td>\n",
       "      <td>...</td>\n",
       "      <td>...</td>\n",
       "      <td>...</td>\n",
       "      <td>...</td>\n",
       "      <td>...</td>\n",
       "      <td>...</td>\n",
       "      <td>...</td>\n",
       "    </tr>\n",
       "    <tr>\n",
       "      <th>1594</th>\n",
       "      <td>6.2</td>\n",
       "      <td>0.600</td>\n",
       "      <td>0.08</td>\n",
       "      <td>2.0</td>\n",
       "      <td>0.090</td>\n",
       "      <td>32.0</td>\n",
       "      <td>44.0</td>\n",
       "      <td>0.99490</td>\n",
       "      <td>3.45</td>\n",
       "      <td>0.58</td>\n",
       "      <td>10.5</td>\n",
       "      <td>5</td>\n",
       "    </tr>\n",
       "    <tr>\n",
       "      <th>1595</th>\n",
       "      <td>5.9</td>\n",
       "      <td>0.550</td>\n",
       "      <td>0.10</td>\n",
       "      <td>2.2</td>\n",
       "      <td>0.062</td>\n",
       "      <td>39.0</td>\n",
       "      <td>51.0</td>\n",
       "      <td>0.99512</td>\n",
       "      <td>3.52</td>\n",
       "      <td>0.76</td>\n",
       "      <td>11.2</td>\n",
       "      <td>6</td>\n",
       "    </tr>\n",
       "    <tr>\n",
       "      <th>1596</th>\n",
       "      <td>6.3</td>\n",
       "      <td>0.510</td>\n",
       "      <td>0.13</td>\n",
       "      <td>2.3</td>\n",
       "      <td>0.076</td>\n",
       "      <td>29.0</td>\n",
       "      <td>40.0</td>\n",
       "      <td>0.99574</td>\n",
       "      <td>3.42</td>\n",
       "      <td>0.75</td>\n",
       "      <td>11.0</td>\n",
       "      <td>6</td>\n",
       "    </tr>\n",
       "    <tr>\n",
       "      <th>1597</th>\n",
       "      <td>5.9</td>\n",
       "      <td>0.645</td>\n",
       "      <td>0.12</td>\n",
       "      <td>2.0</td>\n",
       "      <td>0.075</td>\n",
       "      <td>32.0</td>\n",
       "      <td>44.0</td>\n",
       "      <td>0.99547</td>\n",
       "      <td>3.57</td>\n",
       "      <td>0.71</td>\n",
       "      <td>10.2</td>\n",
       "      <td>5</td>\n",
       "    </tr>\n",
       "    <tr>\n",
       "      <th>1598</th>\n",
       "      <td>6.0</td>\n",
       "      <td>0.310</td>\n",
       "      <td>0.47</td>\n",
       "      <td>3.6</td>\n",
       "      <td>0.067</td>\n",
       "      <td>18.0</td>\n",
       "      <td>42.0</td>\n",
       "      <td>0.99549</td>\n",
       "      <td>3.39</td>\n",
       "      <td>0.66</td>\n",
       "      <td>11.0</td>\n",
       "      <td>6</td>\n",
       "    </tr>\n",
       "  </tbody>\n",
       "</table>\n",
       "<p>1599 rows × 12 columns</p>\n",
       "</div>"
      ],
      "text/plain": [
       "      fixed acidity  volatile acidity  citric acid  residual sugar  chlorides  \\\n",
       "0               7.4             0.700         0.00             1.9      0.076   \n",
       "1               7.8             0.880         0.00             2.6      0.098   \n",
       "2               7.8             0.760         0.04             2.3      0.092   \n",
       "3              11.2             0.280         0.56             1.9      0.075   \n",
       "4               7.4             0.700         0.00             1.9      0.076   \n",
       "...             ...               ...          ...             ...        ...   \n",
       "1594            6.2             0.600         0.08             2.0      0.090   \n",
       "1595            5.9             0.550         0.10             2.2      0.062   \n",
       "1596            6.3             0.510         0.13             2.3      0.076   \n",
       "1597            5.9             0.645         0.12             2.0      0.075   \n",
       "1598            6.0             0.310         0.47             3.6      0.067   \n",
       "\n",
       "      free sulfur dioxide  total sulfur dioxide  density    pH  sulphates  \\\n",
       "0                    11.0                  34.0  0.99780  3.51       0.56   \n",
       "1                    25.0                  67.0  0.99680  3.20       0.68   \n",
       "2                    15.0                  54.0  0.99700  3.26       0.65   \n",
       "3                    17.0                  60.0  0.99800  3.16       0.58   \n",
       "4                    11.0                  34.0  0.99780  3.51       0.56   \n",
       "...                   ...                   ...      ...   ...        ...   \n",
       "1594                 32.0                  44.0  0.99490  3.45       0.58   \n",
       "1595                 39.0                  51.0  0.99512  3.52       0.76   \n",
       "1596                 29.0                  40.0  0.99574  3.42       0.75   \n",
       "1597                 32.0                  44.0  0.99547  3.57       0.71   \n",
       "1598                 18.0                  42.0  0.99549  3.39       0.66   \n",
       "\n",
       "      alcohol  quality  \n",
       "0         9.4        5  \n",
       "1         9.8        5  \n",
       "2         9.8        5  \n",
       "3         9.8        6  \n",
       "4         9.4        5  \n",
       "...       ...      ...  \n",
       "1594     10.5        5  \n",
       "1595     11.2        6  \n",
       "1596     11.0        6  \n",
       "1597     10.2        5  \n",
       "1598     11.0        6  \n",
       "\n",
       "[1599 rows x 12 columns]"
      ]
     },
     "execution_count": 64,
     "metadata": {},
     "output_type": "execute_result"
    }
   ],
   "source": [
    "red_raw"
   ]
  },
  {
   "cell_type": "code",
   "execution_count": 65,
   "id": "d561e122e0a9ea7f",
   "metadata": {
    "ExecuteTime": {
     "end_time": "2024-03-18T08:42:40.834046Z",
     "start_time": "2024-03-18T08:42:40.827770Z"
    },
    "collapsed": false
   },
   "outputs": [],
   "source": [
    "white_training_Data, white_test_data, white_training_scores, white_test_scores = (train_test_split(white_raw.drop(\"quality\", axis=1), white_raw['quality'],test_size=0.25, random_state=39))\n",
    "\n",
    "red_training_Data, red_test_data, red_training_scores, red_test_scores = (train_test_split(red_raw.drop(\"quality\", axis=1), red_raw['quality'],test_size=0.25, random_state=39))"
   ]
  },
  {
   "cell_type": "code",
   "execution_count": 66,
   "id": "25ce18e327b74cba",
   "metadata": {
    "ExecuteTime": {
     "end_time": "2024-03-18T09:03:18.938568Z",
     "start_time": "2024-03-18T09:03:18.928474Z"
    },
    "collapsed": false
   },
   "outputs": [
    {
     "data": {
      "text/html": [
       "<div>\n",
       "<style scoped>\n",
       "    .dataframe tbody tr th:only-of-type {\n",
       "        vertical-align: middle;\n",
       "    }\n",
       "\n",
       "    .dataframe tbody tr th {\n",
       "        vertical-align: top;\n",
       "    }\n",
       "\n",
       "    .dataframe thead th {\n",
       "        text-align: right;\n",
       "    }\n",
       "</style>\n",
       "<table border=\"1\" class=\"dataframe\">\n",
       "  <thead>\n",
       "    <tr style=\"text-align: right;\">\n",
       "      <th></th>\n",
       "      <th>fixed acidity</th>\n",
       "      <th>volatile acidity</th>\n",
       "      <th>citric acid</th>\n",
       "      <th>residual sugar</th>\n",
       "      <th>chlorides</th>\n",
       "      <th>free sulfur dioxide</th>\n",
       "      <th>total sulfur dioxide</th>\n",
       "      <th>density</th>\n",
       "      <th>pH</th>\n",
       "      <th>sulphates</th>\n",
       "      <th>alcohol</th>\n",
       "    </tr>\n",
       "  </thead>\n",
       "  <tbody>\n",
       "    <tr>\n",
       "      <th>3965</th>\n",
       "      <td>7.3</td>\n",
       "      <td>0.380</td>\n",
       "      <td>0.23</td>\n",
       "      <td>6.50</td>\n",
       "      <td>0.050</td>\n",
       "      <td>18.0</td>\n",
       "      <td>102.0</td>\n",
       "      <td>0.99304</td>\n",
       "      <td>3.10</td>\n",
       "      <td>0.55</td>\n",
       "      <td>11.2</td>\n",
       "    </tr>\n",
       "    <tr>\n",
       "      <th>3954</th>\n",
       "      <td>6.3</td>\n",
       "      <td>0.330</td>\n",
       "      <td>0.20</td>\n",
       "      <td>17.90</td>\n",
       "      <td>0.066</td>\n",
       "      <td>36.0</td>\n",
       "      <td>161.0</td>\n",
       "      <td>0.99910</td>\n",
       "      <td>3.14</td>\n",
       "      <td>0.51</td>\n",
       "      <td>8.8</td>\n",
       "    </tr>\n",
       "    <tr>\n",
       "      <th>580</th>\n",
       "      <td>7.4</td>\n",
       "      <td>0.410</td>\n",
       "      <td>0.66</td>\n",
       "      <td>10.80</td>\n",
       "      <td>0.051</td>\n",
       "      <td>77.0</td>\n",
       "      <td>194.0</td>\n",
       "      <td>0.99760</td>\n",
       "      <td>3.05</td>\n",
       "      <td>0.46</td>\n",
       "      <td>8.7</td>\n",
       "    </tr>\n",
       "    <tr>\n",
       "      <th>1637</th>\n",
       "      <td>8.1</td>\n",
       "      <td>0.120</td>\n",
       "      <td>0.49</td>\n",
       "      <td>1.20</td>\n",
       "      <td>0.042</td>\n",
       "      <td>43.0</td>\n",
       "      <td>160.0</td>\n",
       "      <td>0.99340</td>\n",
       "      <td>3.13</td>\n",
       "      <td>0.48</td>\n",
       "      <td>9.7</td>\n",
       "    </tr>\n",
       "    <tr>\n",
       "      <th>1310</th>\n",
       "      <td>5.2</td>\n",
       "      <td>0.365</td>\n",
       "      <td>0.08</td>\n",
       "      <td>13.50</td>\n",
       "      <td>0.041</td>\n",
       "      <td>37.0</td>\n",
       "      <td>142.0</td>\n",
       "      <td>0.99700</td>\n",
       "      <td>3.46</td>\n",
       "      <td>0.39</td>\n",
       "      <td>9.9</td>\n",
       "    </tr>\n",
       "    <tr>\n",
       "      <th>...</th>\n",
       "      <td>...</td>\n",
       "      <td>...</td>\n",
       "      <td>...</td>\n",
       "      <td>...</td>\n",
       "      <td>...</td>\n",
       "      <td>...</td>\n",
       "      <td>...</td>\n",
       "      <td>...</td>\n",
       "      <td>...</td>\n",
       "      <td>...</td>\n",
       "      <td>...</td>\n",
       "    </tr>\n",
       "    <tr>\n",
       "      <th>3195</th>\n",
       "      <td>7.0</td>\n",
       "      <td>0.210</td>\n",
       "      <td>0.42</td>\n",
       "      <td>5.30</td>\n",
       "      <td>0.037</td>\n",
       "      <td>36.0</td>\n",
       "      <td>123.0</td>\n",
       "      <td>0.99321</td>\n",
       "      <td>3.14</td>\n",
       "      <td>0.52</td>\n",
       "      <td>10.9</td>\n",
       "    </tr>\n",
       "    <tr>\n",
       "      <th>2275</th>\n",
       "      <td>7.5</td>\n",
       "      <td>0.290</td>\n",
       "      <td>0.26</td>\n",
       "      <td>14.95</td>\n",
       "      <td>0.067</td>\n",
       "      <td>47.0</td>\n",
       "      <td>178.0</td>\n",
       "      <td>0.99838</td>\n",
       "      <td>3.04</td>\n",
       "      <td>0.49</td>\n",
       "      <td>9.2</td>\n",
       "    </tr>\n",
       "    <tr>\n",
       "      <th>1088</th>\n",
       "      <td>7.4</td>\n",
       "      <td>0.200</td>\n",
       "      <td>0.37</td>\n",
       "      <td>16.95</td>\n",
       "      <td>0.048</td>\n",
       "      <td>43.0</td>\n",
       "      <td>190.0</td>\n",
       "      <td>0.99950</td>\n",
       "      <td>3.03</td>\n",
       "      <td>0.42</td>\n",
       "      <td>9.2</td>\n",
       "    </tr>\n",
       "    <tr>\n",
       "      <th>105</th>\n",
       "      <td>7.3</td>\n",
       "      <td>0.130</td>\n",
       "      <td>0.32</td>\n",
       "      <td>14.40</td>\n",
       "      <td>0.051</td>\n",
       "      <td>34.0</td>\n",
       "      <td>109.0</td>\n",
       "      <td>0.99740</td>\n",
       "      <td>3.20</td>\n",
       "      <td>0.35</td>\n",
       "      <td>9.2</td>\n",
       "    </tr>\n",
       "    <tr>\n",
       "      <th>3465</th>\n",
       "      <td>6.8</td>\n",
       "      <td>0.190</td>\n",
       "      <td>0.34</td>\n",
       "      <td>1.90</td>\n",
       "      <td>0.040</td>\n",
       "      <td>41.0</td>\n",
       "      <td>108.0</td>\n",
       "      <td>0.99000</td>\n",
       "      <td>3.25</td>\n",
       "      <td>0.45</td>\n",
       "      <td>12.9</td>\n",
       "    </tr>\n",
       "  </tbody>\n",
       "</table>\n",
       "<p>3673 rows × 11 columns</p>\n",
       "</div>"
      ],
      "text/plain": [
       "      fixed acidity  volatile acidity  citric acid  residual sugar  chlorides  \\\n",
       "3965            7.3             0.380         0.23            6.50      0.050   \n",
       "3954            6.3             0.330         0.20           17.90      0.066   \n",
       "580             7.4             0.410         0.66           10.80      0.051   \n",
       "1637            8.1             0.120         0.49            1.20      0.042   \n",
       "1310            5.2             0.365         0.08           13.50      0.041   \n",
       "...             ...               ...          ...             ...        ...   \n",
       "3195            7.0             0.210         0.42            5.30      0.037   \n",
       "2275            7.5             0.290         0.26           14.95      0.067   \n",
       "1088            7.4             0.200         0.37           16.95      0.048   \n",
       "105             7.3             0.130         0.32           14.40      0.051   \n",
       "3465            6.8             0.190         0.34            1.90      0.040   \n",
       "\n",
       "      free sulfur dioxide  total sulfur dioxide  density    pH  sulphates  \\\n",
       "3965                 18.0                 102.0  0.99304  3.10       0.55   \n",
       "3954                 36.0                 161.0  0.99910  3.14       0.51   \n",
       "580                  77.0                 194.0  0.99760  3.05       0.46   \n",
       "1637                 43.0                 160.0  0.99340  3.13       0.48   \n",
       "1310                 37.0                 142.0  0.99700  3.46       0.39   \n",
       "...                   ...                   ...      ...   ...        ...   \n",
       "3195                 36.0                 123.0  0.99321  3.14       0.52   \n",
       "2275                 47.0                 178.0  0.99838  3.04       0.49   \n",
       "1088                 43.0                 190.0  0.99950  3.03       0.42   \n",
       "105                  34.0                 109.0  0.99740  3.20       0.35   \n",
       "3465                 41.0                 108.0  0.99000  3.25       0.45   \n",
       "\n",
       "      alcohol  \n",
       "3965     11.2  \n",
       "3954      8.8  \n",
       "580       8.7  \n",
       "1637      9.7  \n",
       "1310      9.9  \n",
       "...       ...  \n",
       "3195     10.9  \n",
       "2275      9.2  \n",
       "1088      9.2  \n",
       "105       9.2  \n",
       "3465     12.9  \n",
       "\n",
       "[3673 rows x 11 columns]"
      ]
     },
     "execution_count": 66,
     "metadata": {},
     "output_type": "execute_result"
    }
   ],
   "source": [
    "white_training_Data"
   ]
  },
  {
   "cell_type": "markdown",
   "id": "77609e637e8e3d89",
   "metadata": {
    "collapsed": false
   },
   "source": [
    "# Aufgabe 2"
   ]
  },
  {
   "cell_type": "code",
   "execution_count": 67,
   "id": "22fabd7d52da4de7",
   "metadata": {
    "ExecuteTime": {
     "end_time": "2024-03-18T09:02:59.406378Z",
     "start_time": "2024-03-18T09:02:59.359542Z"
    },
    "collapsed": false
   },
   "outputs": [],
   "source": [
    "from sklearn.decomposition import PCA"
   ]
  },
  {
   "cell_type": "code",
   "execution_count": 68,
   "id": "662926e421bcbac0",
   "metadata": {
    "ExecuteTime": {
     "end_time": "2024-03-18T09:03:00.205216Z",
     "start_time": "2024-03-18T09:03:00.196194Z"
    },
    "collapsed": false
   },
   "outputs": [],
   "source": [
    "pcaWhite = PCA(n_components='mle')\n",
    "white_training_Data_new = pcaWhite.fit_transform(white_training_Data)"
   ]
  },
  {
   "cell_type": "code",
   "execution_count": 69,
   "id": "20b586ce5d82794a",
   "metadata": {
    "ExecuteTime": {
     "end_time": "2024-03-18T09:03:01.132994Z",
     "start_time": "2024-03-18T09:03:01.128891Z"
    },
    "collapsed": false
   },
   "outputs": [
    {
     "data": {
      "text/plain": [
       "array([[-4.00103557e+01, -6.87821434e+00,  2.11026030e+00, ...,\n",
       "         1.28444382e-01,  3.49614917e-02,  9.18044474e-03],\n",
       "       [ 2.21501938e+01, -5.23959619e+00,  1.06453804e+01, ...,\n",
       "         7.67341894e-02, -2.11160196e-02,  1.40346026e-02],\n",
       "       [ 6.45488519e+01,  2.52772212e+01,  1.13759139e+00, ...,\n",
       "        -6.33555039e-02,  2.61252297e-01, -1.61776568e-02],\n",
       "       ...,\n",
       "       [ 5.18808060e+01, -6.30569792e+00,  8.25674853e+00, ...,\n",
       "        -5.56536626e-02, -1.06617467e-01, -1.68194167e-03],\n",
       "       [-2.85911312e+01,  6.74711547e+00,  9.42724438e+00, ...,\n",
       "        -1.42142098e-01, -1.18927311e-01,  7.26942620e-03],\n",
       "       [-2.83185232e+01,  1.36141437e+01, -3.45956834e+00, ...,\n",
       "        -5.85682403e-02, -7.14035963e-02,  1.17323611e-02]])"
      ]
     },
     "execution_count": 69,
     "metadata": {},
     "output_type": "execute_result"
    }
   ],
   "source": [
    "white_training_Data_new"
   ]
  },
  {
   "cell_type": "code",
   "execution_count": 70,
   "id": "e4a83bfcfbd77221",
   "metadata": {
    "ExecuteTime": {
     "end_time": "2024-03-18T09:13:20.422711Z",
     "start_time": "2024-03-18T09:13:20.415384Z"
    },
    "collapsed": false
   },
   "outputs": [],
   "source": [
    "pcaRed = PCA(n_components='mle')\n",
    "red_training_Data_new = pcaRed.fit_transform(red_training_Data)"
   ]
  },
  {
   "cell_type": "code",
   "execution_count": 71,
   "id": "cb7275def863a7ee",
   "metadata": {
    "ExecuteTime": {
     "end_time": "2024-03-18T09:13:21.154860Z",
     "start_time": "2024-03-18T09:13:21.151016Z"
    },
    "collapsed": false
   },
   "outputs": [
    {
     "data": {
      "text/plain": [
       "array([[ 1.93275704e+01, -2.84958783e+00, -2.04300568e+00, ...,\n",
       "         7.98022353e-02, -3.28393710e-02, -5.71154558e-03],\n",
       "       [ 1.04274928e+01, -6.02523863e+00, -1.63324145e-01, ...,\n",
       "        -4.08037056e-02,  6.39039091e-03,  7.47101187e-03],\n",
       "       [-1.96857955e+01,  5.96053095e+00, -1.15712122e+00, ...,\n",
       "         4.40640270e-02,  2.12883618e-01, -3.47578343e-02],\n",
       "       ...,\n",
       "       [-2.69873637e+01, -3.67923205e+00, -7.82329099e-01, ...,\n",
       "         6.97301302e-02, -1.76938525e-02, -9.04143849e-03],\n",
       "       [ 1.82254881e+01, -7.78759871e+00, -4.16426906e-01, ...,\n",
       "        -6.42034231e-03, -1.98441864e-02, -3.01134280e-03],\n",
       "       [-7.10795780e+00,  7.23303451e+00, -8.47441370e-01, ...,\n",
       "         4.13081447e-02, -1.31414750e-02, -1.77071096e-02]])"
      ]
     },
     "execution_count": 71,
     "metadata": {},
     "output_type": "execute_result"
    }
   ],
   "source": [
    "red_training_Data_new"
   ]
  },
  {
   "cell_type": "markdown",
   "id": "b362deb2",
   "metadata": {},
   "source": [
    "# Aufgabe 3"
   ]
  },
  {
   "cell_type": "code",
   "execution_count": 73,
   "id": "66ab56dd",
   "metadata": {},
   "outputs": [],
   "source": [
    "white_test_data_transformed = pcaWhite.transform(white_test_data)"
   ]
  },
  {
   "cell_type": "code",
   "execution_count": 74,
   "id": "dc608212",
   "metadata": {},
   "outputs": [
    {
     "data": {
      "text/plain": [
       "array([[-4.71972270e+01, -1.32934987e+01, -2.43728032e+00, ...,\n",
       "        -5.83630646e-02,  1.87642549e-02,  4.63477946e-03],\n",
       "       [-5.06996249e+01, -7.65039679e-01,  3.38087811e+00, ...,\n",
       "         6.69725628e-02, -3.87760636e-02, -6.62287801e-03],\n",
       "       [-4.14682770e+01,  1.10559547e+01, -2.84080182e+00, ...,\n",
       "         1.26556487e-01,  2.93414861e-01, -5.91720606e-03],\n",
       "       ...,\n",
       "       [-1.01434923e+01, -1.19797557e+01,  5.19007289e+00, ...,\n",
       "        -3.03798119e-02, -9.34350700e-03,  4.11576562e-03],\n",
       "       [ 2.93704617e+01, -8.43245488e+00,  5.87848484e+00, ...,\n",
       "        -2.50101199e-02, -7.24458212e-02, -5.66281933e-03],\n",
       "       [ 1.13162959e+02, -3.17750964e+01,  3.74479346e+00, ...,\n",
       "         1.00400578e-01,  6.27130136e-02, -1.28183484e-02]])"
      ]
     },
     "execution_count": 74,
     "metadata": {},
     "output_type": "execute_result"
    }
   ],
   "source": [
    "white_test_data_transformed"
   ]
  },
  {
   "cell_type": "markdown",
   "id": "115ffc20",
   "metadata": {},
   "source": [
    "Nearest Neighbor Regression"
   ]
  },
  {
   "cell_type": "code",
   "execution_count": 75,
   "id": "2dc4391b",
   "metadata": {},
   "outputs": [
    {
     "name": "stdout",
     "output_type": "stream",
     "text": [
      "Confusion Matrix:\n",
      "[[  0   1   2   3   0   0]\n",
      " [  0   2  24  18   3   0]\n",
      " [  0   3 156 188  19   1]\n",
      " [  0   1 147 356  51   0]\n",
      " [  0   0  30 135  40   1]\n",
      " [  0   0   7  24  11   2]]\n",
      "Classification Report:\n",
      "              precision    recall  f1-score   support\n",
      "\n",
      "           3       0.00      0.00      0.00         6\n",
      "           4       0.29      0.04      0.07        47\n",
      "           5       0.43      0.43      0.43       367\n",
      "           6       0.49      0.64      0.56       555\n",
      "           7       0.32      0.19      0.24       206\n",
      "           8       0.50      0.05      0.08        44\n",
      "\n",
      "    accuracy                           0.45      1225\n",
      "   macro avg       0.34      0.22      0.23      1225\n",
      "weighted avg       0.43      0.45      0.43      1225\n",
      "\n"
     ]
    },
    {
     "name": "stderr",
     "output_type": "stream",
     "text": [
      "/Users/paulbrenner/anaconda3/lib/python3.11/site-packages/sklearn/metrics/_classification.py:1469: UndefinedMetricWarning: Precision and F-score are ill-defined and being set to 0.0 in labels with no predicted samples. Use `zero_division` parameter to control this behavior.\n",
      "  _warn_prf(average, modifier, msg_start, len(result))\n",
      "/Users/paulbrenner/anaconda3/lib/python3.11/site-packages/sklearn/metrics/_classification.py:1469: UndefinedMetricWarning: Precision and F-score are ill-defined and being set to 0.0 in labels with no predicted samples. Use `zero_division` parameter to control this behavior.\n",
      "  _warn_prf(average, modifier, msg_start, len(result))\n",
      "/Users/paulbrenner/anaconda3/lib/python3.11/site-packages/sklearn/metrics/_classification.py:1469: UndefinedMetricWarning: Precision and F-score are ill-defined and being set to 0.0 in labels with no predicted samples. Use `zero_division` parameter to control this behavior.\n",
      "  _warn_prf(average, modifier, msg_start, len(result))\n"
     ]
    }
   ],
   "source": [
    "from sklearn import metrics\n",
    "from sklearn.neighbors import KNeighborsClassifier\n",
    "\n",
    "Range_k = range(1,15)\n",
    "scores = {}\n",
    "scores_list = []\n",
    "for k in Range_k:\n",
    "   classifier = KNeighborsClassifier(n_neighbors=k)\n",
    "   classifier.fit(white_training_Data_new, white_training_scores)\n",
    "   y_pred = classifier.predict(white_test_data_transformed)\n",
    "   scores[k] = metrics.accuracy_score(white_test_scores,y_pred)\n",
    "   scores_list.append(metrics.accuracy_score(white_test_scores,y_pred))\n",
    "result = metrics.confusion_matrix(white_test_scores, y_pred)\n",
    "print(\"Confusion Matrix:\")\n",
    "print(result)\n",
    "result1 = metrics.classification_report(white_test_scores, y_pred)\n",
    "print(\"Classification Report:\",)\n",
    "print (result1)"
   ]
  }
 ],
 "metadata": {
  "kernelspec": {
   "display_name": "Python 3",
   "language": "python",
   "name": "python3"
  },
  "language_info": {
   "codemirror_mode": {
    "name": "ipython",
    "version": 3
   },
   "file_extension": ".py",
   "mimetype": "text/x-python",
   "name": "python",
   "nbconvert_exporter": "python",
   "pygments_lexer": "ipython3",
   "version": "3.11.8"
  }
 },
 "nbformat": 4,
 "nbformat_minor": 5
}
