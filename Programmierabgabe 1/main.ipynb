{
 "cells": [
  {
   "cell_type": "markdown",
   "source": [
    "Abgabe von: Mat.Nr.: 9452857 &"
   ],
   "metadata": {
    "collapsed": false
   },
   "id": "bb65eb7ba196d88e"
  },
  {
   "cell_type": "markdown",
   "source": [
    "Before doing anything installing all needed dependencies"
   ],
   "metadata": {
    "collapsed": false
   },
   "id": "78f9cd52ee8704d3"
  },
  {
   "cell_type": "code",
   "outputs": [],
   "source": [
    "!pip3 install pandas\n",
    "!pip3 install scikit-learn"
   ],
   "metadata": {
    "collapsed": false
   },
   "id": "782b7d8297707e1a",
   "execution_count": null
  },
  {
   "cell_type": "markdown",
   "source": [
    "# Aufgabe 1"
   ],
   "metadata": {
    "collapsed": false
   },
   "id": "c9d16a75f67202c7"
  },
  {
   "cell_type": "code",
   "outputs": [],
   "source": [
    "import os\n",
    "import pandas as pd\n",
    "from sklearn.model_selection import train_test_split"
   ],
   "metadata": {
    "collapsed": false,
    "ExecuteTime": {
     "end_time": "2024-03-18T08:39:27.438916Z",
     "start_time": "2024-03-18T08:39:25.992978Z"
    }
   },
   "id": "681dc39cdab0db77",
   "execution_count": 2
  },
  {
   "cell_type": "code",
   "outputs": [],
   "source": [
    "white_raw = pd.read_csv(os.getcwd() + \"/dataset/winequality-white.csv\", delimiter=\";\")\n",
    "red_raw = pd.read_csv(os.getcwd() + \"/dataset/winequality-red.csv\", delimiter=\";\")"
   ],
   "metadata": {
    "collapsed": false,
    "ExecuteTime": {
     "end_time": "2024-03-18T08:42:15.492412Z",
     "start_time": "2024-03-18T08:42:15.477148Z"
    }
   },
   "id": "6277f25d21edcf7e",
   "execution_count": 8
  },
  {
   "cell_type": "markdown",
   "source": [
    "Split wine in Test and Training Data (75% / 25%)"
   ],
   "metadata": {
    "collapsed": false
   },
   "id": "f54922f2bb8e4690"
  },
  {
   "cell_type": "code",
   "outputs": [],
   "source": [
    "red_raw"
   ],
   "metadata": {
    "collapsed": false
   },
   "id": "f5154b42661b5c13",
   "execution_count": null
  },
  {
   "cell_type": "code",
   "outputs": [],
   "source": [
    "white_training_Data, white_test_data, white_training_scores, white_test_scores = (train_test_split(white_raw.drop(\"quality\", axis=1), white_raw['quality'],test_size=0.25, random_state=39))\n",
    "\n",
    "red_training_Data, red_test_data, red_training_scores, red_test_scores = (train_test_split(red_raw.drop(\"quality\", axis=1), red_raw['quality'],test_size=0.25, random_state=39))"
   ],
   "metadata": {
    "collapsed": false,
    "ExecuteTime": {
     "end_time": "2024-03-18T08:42:40.834046Z",
     "start_time": "2024-03-18T08:42:40.827770Z"
    }
   },
   "id": "d561e122e0a9ea7f",
   "execution_count": 11
  },
  {
   "cell_type": "code",
   "outputs": [],
   "source": [],
   "metadata": {
    "collapsed": false
   },
   "id": "25ce18e327b74cba"
  }
 ],
 "metadata": {
  "kernelspec": {
   "display_name": "Python 3",
   "language": "python",
   "name": "python3"
  },
  "language_info": {
   "codemirror_mode": {
    "name": "ipython",
    "version": 2
   },
   "file_extension": ".py",
   "mimetype": "text/x-python",
   "name": "python",
   "nbconvert_exporter": "python",
   "pygments_lexer": "ipython2",
   "version": "2.7.6"
  }
 },
 "nbformat": 4,
 "nbformat_minor": 5
}
