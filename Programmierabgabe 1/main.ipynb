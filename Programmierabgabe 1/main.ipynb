{
 "cells": [
  {
   "cell_type": "markdown",
   "source": [
    "Abgabe von: Mat.Nr.: 9452857 &"
   ],
   "metadata": {
    "collapsed": false
   },
   "id": "bb65eb7ba196d88e"
  },
  {
   "cell_type": "markdown",
   "source": [
    "Before doing anything installing all needed dependencies"
   ],
   "metadata": {
    "collapsed": false
   },
   "id": "78f9cd52ee8704d3"
  },
  {
   "cell_type": "code",
   "outputs": [],
   "source": [
    "!pip3 install pandas\n",
    "!pip3 install scikit-learn"
   ],
   "metadata": {
    "collapsed": false
   },
   "id": "782b7d8297707e1a",
   "execution_count": null
  },
  {
   "cell_type": "markdown",
   "source": [
    "# Aufgabe 1"
   ],
   "metadata": {
    "collapsed": false
   },
   "id": "c9d16a75f67202c7"
  },
  {
   "cell_type": "code",
   "outputs": [],
   "source": [
    "import os\n",
    "import pandas as pd\n",
    "from sklearn.model_selection import train_test_split"
   ],
   "metadata": {
    "collapsed": false,
    "ExecuteTime": {
     "end_time": "2024-03-18T08:39:27.438916Z",
     "start_time": "2024-03-18T08:39:25.992978Z"
    }
   },
   "id": "681dc39cdab0db77",
   "execution_count": 2
  },
  {
   "cell_type": "code",
   "outputs": [],
   "source": [
    "white_raw = pd.read_csv(os.getcwd() + \"/dataset/winequality-white.csv\", delimiter=\";\")\n",
    "red_raw = pd.read_csv(os.getcwd() + \"/dataset/winequality-red.csv\", delimiter=\";\")"
   ],
   "metadata": {
    "collapsed": false,
    "ExecuteTime": {
     "end_time": "2024-03-18T08:42:15.492412Z",
     "start_time": "2024-03-18T08:42:15.477148Z"
    }
   },
   "id": "6277f25d21edcf7e",
   "execution_count": 8
  },
  {
   "cell_type": "markdown",
   "source": [
    "Split wine in Test and Training Data (75% / 25%)"
   ],
   "metadata": {
    "collapsed": false
   },
   "id": "f54922f2bb8e4690"
  },
  {
   "cell_type": "code",
   "outputs": [],
   "source": [
    "red_raw"
   ],
   "metadata": {
    "collapsed": false
   },
   "id": "f5154b42661b5c13",
   "execution_count": null
  },
  {
   "cell_type": "code",
   "outputs": [],
   "source": [
    "white_training_Data, white_test_data, white_training_scores, white_test_scores = (train_test_split(white_raw.drop(\"quality\", axis=1), white_raw['quality'],test_size=0.25, random_state=39))\n",
    "\n",
    "red_training_Data, red_test_data, red_training_scores, red_test_scores = (train_test_split(red_raw.drop(\"quality\", axis=1), red_raw['quality'],test_size=0.25, random_state=39))"
   ],
   "metadata": {
    "collapsed": false,
    "ExecuteTime": {
     "end_time": "2024-03-18T08:42:40.834046Z",
     "start_time": "2024-03-18T08:42:40.827770Z"
    }
   },
   "id": "d561e122e0a9ea7f",
   "execution_count": 11
  },
  {
   "cell_type": "code",
   "outputs": [
    {
     "data": {
      "text/plain": "      fixed acidity  volatile acidity  citric acid  residual sugar  chlorides  \\\n3965            7.3             0.380         0.23            6.50      0.050   \n3954            6.3             0.330         0.20           17.90      0.066   \n580             7.4             0.410         0.66           10.80      0.051   \n1637            8.1             0.120         0.49            1.20      0.042   \n1310            5.2             0.365         0.08           13.50      0.041   \n...             ...               ...          ...             ...        ...   \n3195            7.0             0.210         0.42            5.30      0.037   \n2275            7.5             0.290         0.26           14.95      0.067   \n1088            7.4             0.200         0.37           16.95      0.048   \n105             7.3             0.130         0.32           14.40      0.051   \n3465            6.8             0.190         0.34            1.90      0.040   \n\n      free sulfur dioxide  total sulfur dioxide  density    pH  sulphates  \\\n3965                 18.0                 102.0  0.99304  3.10       0.55   \n3954                 36.0                 161.0  0.99910  3.14       0.51   \n580                  77.0                 194.0  0.99760  3.05       0.46   \n1637                 43.0                 160.0  0.99340  3.13       0.48   \n1310                 37.0                 142.0  0.99700  3.46       0.39   \n...                   ...                   ...      ...   ...        ...   \n3195                 36.0                 123.0  0.99321  3.14       0.52   \n2275                 47.0                 178.0  0.99838  3.04       0.49   \n1088                 43.0                 190.0  0.99950  3.03       0.42   \n105                  34.0                 109.0  0.99740  3.20       0.35   \n3465                 41.0                 108.0  0.99000  3.25       0.45   \n\n      alcohol  \n3965     11.2  \n3954      8.8  \n580       8.7  \n1637      9.7  \n1310      9.9  \n...       ...  \n3195     10.9  \n2275      9.2  \n1088      9.2  \n105       9.2  \n3465     12.9  \n\n[3673 rows x 11 columns]",
      "text/html": "<div>\n<style scoped>\n    .dataframe tbody tr th:only-of-type {\n        vertical-align: middle;\n    }\n\n    .dataframe tbody tr th {\n        vertical-align: top;\n    }\n\n    .dataframe thead th {\n        text-align: right;\n    }\n</style>\n<table border=\"1\" class=\"dataframe\">\n  <thead>\n    <tr style=\"text-align: right;\">\n      <th></th>\n      <th>fixed acidity</th>\n      <th>volatile acidity</th>\n      <th>citric acid</th>\n      <th>residual sugar</th>\n      <th>chlorides</th>\n      <th>free sulfur dioxide</th>\n      <th>total sulfur dioxide</th>\n      <th>density</th>\n      <th>pH</th>\n      <th>sulphates</th>\n      <th>alcohol</th>\n    </tr>\n  </thead>\n  <tbody>\n    <tr>\n      <th>3965</th>\n      <td>7.3</td>\n      <td>0.380</td>\n      <td>0.23</td>\n      <td>6.50</td>\n      <td>0.050</td>\n      <td>18.0</td>\n      <td>102.0</td>\n      <td>0.99304</td>\n      <td>3.10</td>\n      <td>0.55</td>\n      <td>11.2</td>\n    </tr>\n    <tr>\n      <th>3954</th>\n      <td>6.3</td>\n      <td>0.330</td>\n      <td>0.20</td>\n      <td>17.90</td>\n      <td>0.066</td>\n      <td>36.0</td>\n      <td>161.0</td>\n      <td>0.99910</td>\n      <td>3.14</td>\n      <td>0.51</td>\n      <td>8.8</td>\n    </tr>\n    <tr>\n      <th>580</th>\n      <td>7.4</td>\n      <td>0.410</td>\n      <td>0.66</td>\n      <td>10.80</td>\n      <td>0.051</td>\n      <td>77.0</td>\n      <td>194.0</td>\n      <td>0.99760</td>\n      <td>3.05</td>\n      <td>0.46</td>\n      <td>8.7</td>\n    </tr>\n    <tr>\n      <th>1637</th>\n      <td>8.1</td>\n      <td>0.120</td>\n      <td>0.49</td>\n      <td>1.20</td>\n      <td>0.042</td>\n      <td>43.0</td>\n      <td>160.0</td>\n      <td>0.99340</td>\n      <td>3.13</td>\n      <td>0.48</td>\n      <td>9.7</td>\n    </tr>\n    <tr>\n      <th>1310</th>\n      <td>5.2</td>\n      <td>0.365</td>\n      <td>0.08</td>\n      <td>13.50</td>\n      <td>0.041</td>\n      <td>37.0</td>\n      <td>142.0</td>\n      <td>0.99700</td>\n      <td>3.46</td>\n      <td>0.39</td>\n      <td>9.9</td>\n    </tr>\n    <tr>\n      <th>...</th>\n      <td>...</td>\n      <td>...</td>\n      <td>...</td>\n      <td>...</td>\n      <td>...</td>\n      <td>...</td>\n      <td>...</td>\n      <td>...</td>\n      <td>...</td>\n      <td>...</td>\n      <td>...</td>\n    </tr>\n    <tr>\n      <th>3195</th>\n      <td>7.0</td>\n      <td>0.210</td>\n      <td>0.42</td>\n      <td>5.30</td>\n      <td>0.037</td>\n      <td>36.0</td>\n      <td>123.0</td>\n      <td>0.99321</td>\n      <td>3.14</td>\n      <td>0.52</td>\n      <td>10.9</td>\n    </tr>\n    <tr>\n      <th>2275</th>\n      <td>7.5</td>\n      <td>0.290</td>\n      <td>0.26</td>\n      <td>14.95</td>\n      <td>0.067</td>\n      <td>47.0</td>\n      <td>178.0</td>\n      <td>0.99838</td>\n      <td>3.04</td>\n      <td>0.49</td>\n      <td>9.2</td>\n    </tr>\n    <tr>\n      <th>1088</th>\n      <td>7.4</td>\n      <td>0.200</td>\n      <td>0.37</td>\n      <td>16.95</td>\n      <td>0.048</td>\n      <td>43.0</td>\n      <td>190.0</td>\n      <td>0.99950</td>\n      <td>3.03</td>\n      <td>0.42</td>\n      <td>9.2</td>\n    </tr>\n    <tr>\n      <th>105</th>\n      <td>7.3</td>\n      <td>0.130</td>\n      <td>0.32</td>\n      <td>14.40</td>\n      <td>0.051</td>\n      <td>34.0</td>\n      <td>109.0</td>\n      <td>0.99740</td>\n      <td>3.20</td>\n      <td>0.35</td>\n      <td>9.2</td>\n    </tr>\n    <tr>\n      <th>3465</th>\n      <td>6.8</td>\n      <td>0.190</td>\n      <td>0.34</td>\n      <td>1.90</td>\n      <td>0.040</td>\n      <td>41.0</td>\n      <td>108.0</td>\n      <td>0.99000</td>\n      <td>3.25</td>\n      <td>0.45</td>\n      <td>12.9</td>\n    </tr>\n  </tbody>\n</table>\n<p>3673 rows × 11 columns</p>\n</div>"
     },
     "execution_count": 15,
     "metadata": {},
     "output_type": "execute_result"
    }
   ],
   "source": [
    "white_training_Data"
   ],
   "metadata": {
    "collapsed": false,
    "ExecuteTime": {
     "end_time": "2024-03-18T09:03:18.938568Z",
     "start_time": "2024-03-18T09:03:18.928474Z"
    }
   },
   "id": "25ce18e327b74cba",
   "execution_count": 15
  },
  {
   "cell_type": "markdown",
   "source": [
    "# Aufgabe 2"
   ],
   "metadata": {
    "collapsed": false
   },
   "id": "77609e637e8e3d89"
  },
  {
   "cell_type": "code",
   "outputs": [],
   "source": [
    "from sklearn.decomposition import PCA"
   ],
   "metadata": {
    "collapsed": false,
    "ExecuteTime": {
     "end_time": "2024-03-18T09:02:59.406378Z",
     "start_time": "2024-03-18T09:02:59.359542Z"
    }
   },
   "id": "22fabd7d52da4de7",
   "execution_count": 12
  },
  {
   "cell_type": "code",
   "outputs": [],
   "source": [
    "pca = PCA(n_components='mle')\n",
    "white_training_Data_new = pca.fit_transform(white_training_Data)"
   ],
   "metadata": {
    "collapsed": false,
    "ExecuteTime": {
     "end_time": "2024-03-18T09:03:00.205216Z",
     "start_time": "2024-03-18T09:03:00.196194Z"
    }
   },
   "id": "662926e421bcbac0",
   "execution_count": 13
  },
  {
   "cell_type": "code",
   "outputs": [
    {
     "data": {
      "text/plain": "array([[-4.00103557e+01, -6.87821434e+00,  2.11026030e+00, ...,\n         1.28444382e-01,  3.49614917e-02,  9.18044474e-03],\n       [ 2.21501938e+01, -5.23959619e+00,  1.06453804e+01, ...,\n         7.67341894e-02, -2.11160196e-02,  1.40346026e-02],\n       [ 6.45488519e+01,  2.52772212e+01,  1.13759139e+00, ...,\n        -6.33555039e-02,  2.61252297e-01, -1.61776568e-02],\n       ...,\n       [ 5.18808060e+01, -6.30569792e+00,  8.25674853e+00, ...,\n        -5.56536626e-02, -1.06617467e-01, -1.68194167e-03],\n       [-2.85911312e+01,  6.74711547e+00,  9.42724438e+00, ...,\n        -1.42142098e-01, -1.18927311e-01,  7.26942620e-03],\n       [-2.83185232e+01,  1.36141437e+01, -3.45956834e+00, ...,\n        -5.85682403e-02, -7.14035963e-02,  1.17323611e-02]])"
     },
     "execution_count": 14,
     "metadata": {},
     "output_type": "execute_result"
    }
   ],
   "source": [
    "white_training_Data_new"
   ],
   "metadata": {
    "collapsed": false,
    "ExecuteTime": {
     "end_time": "2024-03-18T09:03:01.132994Z",
     "start_time": "2024-03-18T09:03:01.128891Z"
    }
   },
   "id": "20b586ce5d82794a",
   "execution_count": 14
  },
  {
   "cell_type": "code",
   "outputs": [],
   "source": [
    "pca = PCA(n_components='mle')\n",
    "red_training_Data_new = pca.fit_transform(red_training_Data)"
   ],
   "metadata": {
    "collapsed": false,
    "ExecuteTime": {
     "end_time": "2024-03-18T09:13:20.422711Z",
     "start_time": "2024-03-18T09:13:20.415384Z"
    }
   },
   "id": "e4a83bfcfbd77221",
   "execution_count": 16
  },
  {
   "cell_type": "code",
   "outputs": [
    {
     "data": {
      "text/plain": "array([[ 1.93275704e+01, -2.84958783e+00, -2.04300568e+00, ...,\n         7.98022353e-02, -3.28393710e-02, -5.71154558e-03],\n       [ 1.04274928e+01, -6.02523863e+00, -1.63324145e-01, ...,\n        -4.08037056e-02,  6.39039091e-03,  7.47101187e-03],\n       [-1.96857955e+01,  5.96053095e+00, -1.15712122e+00, ...,\n         4.40640270e-02,  2.12883618e-01, -3.47578343e-02],\n       ...,\n       [-2.69873637e+01, -3.67923205e+00, -7.82329099e-01, ...,\n         6.97301302e-02, -1.76938525e-02, -9.04143849e-03],\n       [ 1.82254881e+01, -7.78759871e+00, -4.16426906e-01, ...,\n        -6.42034231e-03, -1.98441864e-02, -3.01134280e-03],\n       [-7.10795780e+00,  7.23303451e+00, -8.47441370e-01, ...,\n         4.13081447e-02, -1.31414750e-02, -1.77071096e-02]])"
     },
     "execution_count": 17,
     "metadata": {},
     "output_type": "execute_result"
    }
   ],
   "source": [
    "red_training_Data_new"
   ],
   "metadata": {
    "collapsed": false,
    "ExecuteTime": {
     "end_time": "2024-03-18T09:13:21.154860Z",
     "start_time": "2024-03-18T09:13:21.151016Z"
    }
   },
   "id": "cb7275def863a7ee",
   "execution_count": 17
  },
  {
   "cell_type": "code",
   "outputs": [],
   "source": [],
   "metadata": {
    "collapsed": false
   },
   "id": "f0b4f208bbeca29e"
  }
 ],
 "metadata": {
  "kernelspec": {
   "display_name": "Python 3",
   "language": "python",
   "name": "python3"
  },
  "language_info": {
   "codemirror_mode": {
    "name": "ipython",
    "version": 2
   },
   "file_extension": ".py",
   "mimetype": "text/x-python",
   "name": "python",
   "nbconvert_exporter": "python",
   "pygments_lexer": "ipython2",
   "version": "2.7.6"
  }
 },
 "nbformat": 4,
 "nbformat_minor": 5
}
