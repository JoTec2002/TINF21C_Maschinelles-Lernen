{
 "cells": [
  {
   "cell_type": "markdown",
   "id": "bb65eb7ba196d88e",
   "metadata": {
    "collapsed": false
   },
   "source": [
    "Abgabe von: Mat.Nr.: 9452857 & 1113800"
   ]
  },
  {
   "cell_type": "markdown",
   "id": "78f9cd52ee8704d3",
   "metadata": {
    "collapsed": false
   },
   "source": [
    "Before doing anything installing all needed dependencies"
   ]
  },
  {
   "cell_type": "markdown",
   "source": [
    "!pip3 install pandas\n",
    "!pip3 install scikit-learn"
   ],
   "metadata": {
    "collapsed": false
   },
   "id": "56436fce6a392329"
  },
  {
   "cell_type": "markdown",
   "id": "c9d16a75f67202c7",
   "metadata": {
    "collapsed": false
   },
   "source": [
    "# Aufgabe 1"
   ]
  },
  {
   "cell_type": "code",
   "execution_count": 38,
   "id": "681dc39cdab0db77",
   "metadata": {
    "collapsed": false,
    "ExecuteTime": {
     "end_time": "2024-03-25T10:38:20.049356Z",
     "start_time": "2024-03-25T10:38:20.046479Z"
    }
   },
   "outputs": [],
   "source": [
    "import os\n",
    "import pandas as pd\n",
    "from sklearn.model_selection import train_test_split\n",
    "from sklearn import set_config\n",
    "set_config(transform_output=\"pandas\")"
   ]
  },
  {
   "cell_type": "markdown",
   "id": "05b1cc1a",
   "metadata": {},
   "source": [
    "Import data"
   ]
  },
  {
   "cell_type": "code",
   "execution_count": 39,
   "id": "6277f25d21edcf7e",
   "metadata": {
    "collapsed": false,
    "ExecuteTime": {
     "end_time": "2024-03-25T10:38:21.859309Z",
     "start_time": "2024-03-25T10:38:21.847096Z"
    }
   },
   "outputs": [],
   "source": [
    "white_raw = pd.read_csv(os.getcwd() + \"/dataset/winequality-white.csv\", delimiter=\";\")\n",
    "red_raw = pd.read_csv(os.getcwd() + \"/dataset/winequality-red.csv\", delimiter=\";\")"
   ]
  },
  {
   "cell_type": "markdown",
   "id": "f54922f2bb8e4690",
   "metadata": {
    "collapsed": false
   },
   "source": [
    "Split wine in Test and Training Data (75% / 25%)"
   ]
  },
  {
   "cell_type": "code",
   "execution_count": 40,
   "id": "f5154b42661b5c13",
   "metadata": {
    "collapsed": false,
    "ExecuteTime": {
     "end_time": "2024-03-25T10:38:23.327798Z",
     "start_time": "2024-03-25T10:38:23.315700Z"
    }
   },
   "outputs": [
    {
     "data": {
      "text/plain": "      fixed acidity  volatile acidity  citric acid  residual sugar  chlorides  \\\n0               7.4             0.700         0.00             1.9      0.076   \n1               7.8             0.880         0.00             2.6      0.098   \n2               7.8             0.760         0.04             2.3      0.092   \n3              11.2             0.280         0.56             1.9      0.075   \n4               7.4             0.700         0.00             1.9      0.076   \n...             ...               ...          ...             ...        ...   \n1594            6.2             0.600         0.08             2.0      0.090   \n1595            5.9             0.550         0.10             2.2      0.062   \n1596            6.3             0.510         0.13             2.3      0.076   \n1597            5.9             0.645         0.12             2.0      0.075   \n1598            6.0             0.310         0.47             3.6      0.067   \n\n      free sulfur dioxide  total sulfur dioxide  density    pH  sulphates  \\\n0                    11.0                  34.0  0.99780  3.51       0.56   \n1                    25.0                  67.0  0.99680  3.20       0.68   \n2                    15.0                  54.0  0.99700  3.26       0.65   \n3                    17.0                  60.0  0.99800  3.16       0.58   \n4                    11.0                  34.0  0.99780  3.51       0.56   \n...                   ...                   ...      ...   ...        ...   \n1594                 32.0                  44.0  0.99490  3.45       0.58   \n1595                 39.0                  51.0  0.99512  3.52       0.76   \n1596                 29.0                  40.0  0.99574  3.42       0.75   \n1597                 32.0                  44.0  0.99547  3.57       0.71   \n1598                 18.0                  42.0  0.99549  3.39       0.66   \n\n      alcohol  quality  \n0         9.4        5  \n1         9.8        5  \n2         9.8        5  \n3         9.8        6  \n4         9.4        5  \n...       ...      ...  \n1594     10.5        5  \n1595     11.2        6  \n1596     11.0        6  \n1597     10.2        5  \n1598     11.0        6  \n\n[1599 rows x 12 columns]",
      "text/html": "<div>\n<style scoped>\n    .dataframe tbody tr th:only-of-type {\n        vertical-align: middle;\n    }\n\n    .dataframe tbody tr th {\n        vertical-align: top;\n    }\n\n    .dataframe thead th {\n        text-align: right;\n    }\n</style>\n<table border=\"1\" class=\"dataframe\">\n  <thead>\n    <tr style=\"text-align: right;\">\n      <th></th>\n      <th>fixed acidity</th>\n      <th>volatile acidity</th>\n      <th>citric acid</th>\n      <th>residual sugar</th>\n      <th>chlorides</th>\n      <th>free sulfur dioxide</th>\n      <th>total sulfur dioxide</th>\n      <th>density</th>\n      <th>pH</th>\n      <th>sulphates</th>\n      <th>alcohol</th>\n      <th>quality</th>\n    </tr>\n  </thead>\n  <tbody>\n    <tr>\n      <th>0</th>\n      <td>7.4</td>\n      <td>0.700</td>\n      <td>0.00</td>\n      <td>1.9</td>\n      <td>0.076</td>\n      <td>11.0</td>\n      <td>34.0</td>\n      <td>0.99780</td>\n      <td>3.51</td>\n      <td>0.56</td>\n      <td>9.4</td>\n      <td>5</td>\n    </tr>\n    <tr>\n      <th>1</th>\n      <td>7.8</td>\n      <td>0.880</td>\n      <td>0.00</td>\n      <td>2.6</td>\n      <td>0.098</td>\n      <td>25.0</td>\n      <td>67.0</td>\n      <td>0.99680</td>\n      <td>3.20</td>\n      <td>0.68</td>\n      <td>9.8</td>\n      <td>5</td>\n    </tr>\n    <tr>\n      <th>2</th>\n      <td>7.8</td>\n      <td>0.760</td>\n      <td>0.04</td>\n      <td>2.3</td>\n      <td>0.092</td>\n      <td>15.0</td>\n      <td>54.0</td>\n      <td>0.99700</td>\n      <td>3.26</td>\n      <td>0.65</td>\n      <td>9.8</td>\n      <td>5</td>\n    </tr>\n    <tr>\n      <th>3</th>\n      <td>11.2</td>\n      <td>0.280</td>\n      <td>0.56</td>\n      <td>1.9</td>\n      <td>0.075</td>\n      <td>17.0</td>\n      <td>60.0</td>\n      <td>0.99800</td>\n      <td>3.16</td>\n      <td>0.58</td>\n      <td>9.8</td>\n      <td>6</td>\n    </tr>\n    <tr>\n      <th>4</th>\n      <td>7.4</td>\n      <td>0.700</td>\n      <td>0.00</td>\n      <td>1.9</td>\n      <td>0.076</td>\n      <td>11.0</td>\n      <td>34.0</td>\n      <td>0.99780</td>\n      <td>3.51</td>\n      <td>0.56</td>\n      <td>9.4</td>\n      <td>5</td>\n    </tr>\n    <tr>\n      <th>...</th>\n      <td>...</td>\n      <td>...</td>\n      <td>...</td>\n      <td>...</td>\n      <td>...</td>\n      <td>...</td>\n      <td>...</td>\n      <td>...</td>\n      <td>...</td>\n      <td>...</td>\n      <td>...</td>\n      <td>...</td>\n    </tr>\n    <tr>\n      <th>1594</th>\n      <td>6.2</td>\n      <td>0.600</td>\n      <td>0.08</td>\n      <td>2.0</td>\n      <td>0.090</td>\n      <td>32.0</td>\n      <td>44.0</td>\n      <td>0.99490</td>\n      <td>3.45</td>\n      <td>0.58</td>\n      <td>10.5</td>\n      <td>5</td>\n    </tr>\n    <tr>\n      <th>1595</th>\n      <td>5.9</td>\n      <td>0.550</td>\n      <td>0.10</td>\n      <td>2.2</td>\n      <td>0.062</td>\n      <td>39.0</td>\n      <td>51.0</td>\n      <td>0.99512</td>\n      <td>3.52</td>\n      <td>0.76</td>\n      <td>11.2</td>\n      <td>6</td>\n    </tr>\n    <tr>\n      <th>1596</th>\n      <td>6.3</td>\n      <td>0.510</td>\n      <td>0.13</td>\n      <td>2.3</td>\n      <td>0.076</td>\n      <td>29.0</td>\n      <td>40.0</td>\n      <td>0.99574</td>\n      <td>3.42</td>\n      <td>0.75</td>\n      <td>11.0</td>\n      <td>6</td>\n    </tr>\n    <tr>\n      <th>1597</th>\n      <td>5.9</td>\n      <td>0.645</td>\n      <td>0.12</td>\n      <td>2.0</td>\n      <td>0.075</td>\n      <td>32.0</td>\n      <td>44.0</td>\n      <td>0.99547</td>\n      <td>3.57</td>\n      <td>0.71</td>\n      <td>10.2</td>\n      <td>5</td>\n    </tr>\n    <tr>\n      <th>1598</th>\n      <td>6.0</td>\n      <td>0.310</td>\n      <td>0.47</td>\n      <td>3.6</td>\n      <td>0.067</td>\n      <td>18.0</td>\n      <td>42.0</td>\n      <td>0.99549</td>\n      <td>3.39</td>\n      <td>0.66</td>\n      <td>11.0</td>\n      <td>6</td>\n    </tr>\n  </tbody>\n</table>\n<p>1599 rows × 12 columns</p>\n</div>"
     },
     "execution_count": 40,
     "metadata": {},
     "output_type": "execute_result"
    }
   ],
   "source": [
    "red_raw"
   ]
  },
  {
   "cell_type": "code",
   "execution_count": 41,
   "id": "d561e122e0a9ea7f",
   "metadata": {
    "collapsed": false,
    "ExecuteTime": {
     "end_time": "2024-03-25T10:38:24.314831Z",
     "start_time": "2024-03-25T10:38:24.307738Z"
    }
   },
   "outputs": [],
   "source": [
    "white_training_Data, white_test_data, white_training_scores, white_test_scores = (train_test_split(white_raw.drop(\"quality\", axis=1), white_raw['quality'],test_size=0.25, random_state=39))\n",
    "\n",
    "red_training_Data, red_test_data, red_training_scores, red_test_scores = (train_test_split(red_raw.drop(\"quality\", axis=1), red_raw['quality'],test_size=0.25, random_state=39))"
   ]
  },
  {
   "cell_type": "code",
   "execution_count": 42,
   "id": "25ce18e327b74cba",
   "metadata": {
    "collapsed": false,
    "ExecuteTime": {
     "end_time": "2024-03-25T10:38:25.394239Z",
     "start_time": "2024-03-25T10:38:25.383999Z"
    }
   },
   "outputs": [
    {
     "data": {
      "text/plain": "      fixed acidity  volatile acidity  citric acid  residual sugar  chlorides  \\\n3965            7.3             0.380         0.23            6.50      0.050   \n3954            6.3             0.330         0.20           17.90      0.066   \n580             7.4             0.410         0.66           10.80      0.051   \n1637            8.1             0.120         0.49            1.20      0.042   \n1310            5.2             0.365         0.08           13.50      0.041   \n...             ...               ...          ...             ...        ...   \n3195            7.0             0.210         0.42            5.30      0.037   \n2275            7.5             0.290         0.26           14.95      0.067   \n1088            7.4             0.200         0.37           16.95      0.048   \n105             7.3             0.130         0.32           14.40      0.051   \n3465            6.8             0.190         0.34            1.90      0.040   \n\n      free sulfur dioxide  total sulfur dioxide  density    pH  sulphates  \\\n3965                 18.0                 102.0  0.99304  3.10       0.55   \n3954                 36.0                 161.0  0.99910  3.14       0.51   \n580                  77.0                 194.0  0.99760  3.05       0.46   \n1637                 43.0                 160.0  0.99340  3.13       0.48   \n1310                 37.0                 142.0  0.99700  3.46       0.39   \n...                   ...                   ...      ...   ...        ...   \n3195                 36.0                 123.0  0.99321  3.14       0.52   \n2275                 47.0                 178.0  0.99838  3.04       0.49   \n1088                 43.0                 190.0  0.99950  3.03       0.42   \n105                  34.0                 109.0  0.99740  3.20       0.35   \n3465                 41.0                 108.0  0.99000  3.25       0.45   \n\n      alcohol  \n3965     11.2  \n3954      8.8  \n580       8.7  \n1637      9.7  \n1310      9.9  \n...       ...  \n3195     10.9  \n2275      9.2  \n1088      9.2  \n105       9.2  \n3465     12.9  \n\n[3673 rows x 11 columns]",
      "text/html": "<div>\n<style scoped>\n    .dataframe tbody tr th:only-of-type {\n        vertical-align: middle;\n    }\n\n    .dataframe tbody tr th {\n        vertical-align: top;\n    }\n\n    .dataframe thead th {\n        text-align: right;\n    }\n</style>\n<table border=\"1\" class=\"dataframe\">\n  <thead>\n    <tr style=\"text-align: right;\">\n      <th></th>\n      <th>fixed acidity</th>\n      <th>volatile acidity</th>\n      <th>citric acid</th>\n      <th>residual sugar</th>\n      <th>chlorides</th>\n      <th>free sulfur dioxide</th>\n      <th>total sulfur dioxide</th>\n      <th>density</th>\n      <th>pH</th>\n      <th>sulphates</th>\n      <th>alcohol</th>\n    </tr>\n  </thead>\n  <tbody>\n    <tr>\n      <th>3965</th>\n      <td>7.3</td>\n      <td>0.380</td>\n      <td>0.23</td>\n      <td>6.50</td>\n      <td>0.050</td>\n      <td>18.0</td>\n      <td>102.0</td>\n      <td>0.99304</td>\n      <td>3.10</td>\n      <td>0.55</td>\n      <td>11.2</td>\n    </tr>\n    <tr>\n      <th>3954</th>\n      <td>6.3</td>\n      <td>0.330</td>\n      <td>0.20</td>\n      <td>17.90</td>\n      <td>0.066</td>\n      <td>36.0</td>\n      <td>161.0</td>\n      <td>0.99910</td>\n      <td>3.14</td>\n      <td>0.51</td>\n      <td>8.8</td>\n    </tr>\n    <tr>\n      <th>580</th>\n      <td>7.4</td>\n      <td>0.410</td>\n      <td>0.66</td>\n      <td>10.80</td>\n      <td>0.051</td>\n      <td>77.0</td>\n      <td>194.0</td>\n      <td>0.99760</td>\n      <td>3.05</td>\n      <td>0.46</td>\n      <td>8.7</td>\n    </tr>\n    <tr>\n      <th>1637</th>\n      <td>8.1</td>\n      <td>0.120</td>\n      <td>0.49</td>\n      <td>1.20</td>\n      <td>0.042</td>\n      <td>43.0</td>\n      <td>160.0</td>\n      <td>0.99340</td>\n      <td>3.13</td>\n      <td>0.48</td>\n      <td>9.7</td>\n    </tr>\n    <tr>\n      <th>1310</th>\n      <td>5.2</td>\n      <td>0.365</td>\n      <td>0.08</td>\n      <td>13.50</td>\n      <td>0.041</td>\n      <td>37.0</td>\n      <td>142.0</td>\n      <td>0.99700</td>\n      <td>3.46</td>\n      <td>0.39</td>\n      <td>9.9</td>\n    </tr>\n    <tr>\n      <th>...</th>\n      <td>...</td>\n      <td>...</td>\n      <td>...</td>\n      <td>...</td>\n      <td>...</td>\n      <td>...</td>\n      <td>...</td>\n      <td>...</td>\n      <td>...</td>\n      <td>...</td>\n      <td>...</td>\n    </tr>\n    <tr>\n      <th>3195</th>\n      <td>7.0</td>\n      <td>0.210</td>\n      <td>0.42</td>\n      <td>5.30</td>\n      <td>0.037</td>\n      <td>36.0</td>\n      <td>123.0</td>\n      <td>0.99321</td>\n      <td>3.14</td>\n      <td>0.52</td>\n      <td>10.9</td>\n    </tr>\n    <tr>\n      <th>2275</th>\n      <td>7.5</td>\n      <td>0.290</td>\n      <td>0.26</td>\n      <td>14.95</td>\n      <td>0.067</td>\n      <td>47.0</td>\n      <td>178.0</td>\n      <td>0.99838</td>\n      <td>3.04</td>\n      <td>0.49</td>\n      <td>9.2</td>\n    </tr>\n    <tr>\n      <th>1088</th>\n      <td>7.4</td>\n      <td>0.200</td>\n      <td>0.37</td>\n      <td>16.95</td>\n      <td>0.048</td>\n      <td>43.0</td>\n      <td>190.0</td>\n      <td>0.99950</td>\n      <td>3.03</td>\n      <td>0.42</td>\n      <td>9.2</td>\n    </tr>\n    <tr>\n      <th>105</th>\n      <td>7.3</td>\n      <td>0.130</td>\n      <td>0.32</td>\n      <td>14.40</td>\n      <td>0.051</td>\n      <td>34.0</td>\n      <td>109.0</td>\n      <td>0.99740</td>\n      <td>3.20</td>\n      <td>0.35</td>\n      <td>9.2</td>\n    </tr>\n    <tr>\n      <th>3465</th>\n      <td>6.8</td>\n      <td>0.190</td>\n      <td>0.34</td>\n      <td>1.90</td>\n      <td>0.040</td>\n      <td>41.0</td>\n      <td>108.0</td>\n      <td>0.99000</td>\n      <td>3.25</td>\n      <td>0.45</td>\n      <td>12.9</td>\n    </tr>\n  </tbody>\n</table>\n<p>3673 rows × 11 columns</p>\n</div>"
     },
     "execution_count": 42,
     "metadata": {},
     "output_type": "execute_result"
    }
   ],
   "source": [
    "white_training_Data"
   ]
  },
  {
   "cell_type": "markdown",
   "id": "77609e637e8e3d89",
   "metadata": {
    "collapsed": false
   },
   "source": [
    "# Aufgabe 2"
   ]
  },
  {
   "cell_type": "markdown",
   "id": "219e2396",
   "metadata": {},
   "source": [
    "Performing a Principal Component Analysis"
   ]
  },
  {
   "cell_type": "markdown",
   "source": [
    "we need to standardize features with StandardScaler(). We do this to make sure that different features have the same impact on the result"
   ],
   "metadata": {
    "collapsed": false
   },
   "id": "718a3fb4c7af2e73"
  },
  {
   "cell_type": "code",
   "outputs": [],
   "source": [
    "from sklearn.preprocessing import StandardScaler\n",
    "scaler = StandardScaler()\n",
    "\n",
    "#white_training_Data_scaled = pd.DataFrame(scaler.fit_transform(white_training_Data), columns = white_training_Data.columns)\n",
    "#white_test_data_scaled = pd.DataFrame(scaler.transform(white_test_data), columns = white_test_data.columns)\n",
    "white_training_Data_scaled = scaler.fit_transform(white_training_Data)\n",
    "white_test_data_scaled = scaler.transform(white_test_data)\n",
    "\n",
    "red_training_Data_scaled = scaler.fit_transform(red_training_Data)\n",
    "red_test_data_scaled = scaler.transform (red_test_data)"
   ],
   "metadata": {
    "collapsed": false,
    "ExecuteTime": {
     "end_time": "2024-03-25T10:39:10.318650Z",
     "start_time": "2024-03-25T10:39:10.309767Z"
    }
   },
   "id": "dd7c58f6b7caee11",
   "execution_count": 43
  },
  {
   "cell_type": "code",
   "execution_count": 62,
   "id": "22fabd7d52da4de7",
   "metadata": {
    "collapsed": false,
    "ExecuteTime": {
     "end_time": "2024-03-25T10:48:16.954913Z",
     "start_time": "2024-03-25T10:48:16.952796Z"
    }
   },
   "outputs": [],
   "source": [
    "from sklearn.decomposition import PCA"
   ]
  },
  {
   "cell_type": "code",
   "execution_count": 63,
   "id": "662926e421bcbac0",
   "metadata": {
    "collapsed": false,
    "ExecuteTime": {
     "end_time": "2024-03-25T10:48:17.653399Z",
     "start_time": "2024-03-25T10:48:17.646567Z"
    }
   },
   "outputs": [],
   "source": [
    "pcaWhite = PCA(n_components='mle')\n",
    "white_training_Data_new = pcaWhite.fit_transform(white_training_Data_scaled)\n",
    "white_test_data_new = pcaWhite.transform(white_test_data_scaled)"
   ]
  },
  {
   "cell_type": "code",
   "outputs": [
    {
     "data": {
      "text/plain": "          pca0      pca1      pca2      pca3      pca4      pca5      pca6  \\\n3965 -0.960584 -0.758147 -1.111015  0.604069  0.902745 -0.570553 -0.587492   \n3954  2.649368  0.810522 -1.822473  0.341559 -0.369262 -0.964783 -0.278326   \n580   3.541754 -0.759360  0.778158 -0.568343  1.079489  1.596032  1.427152   \n1637  0.521562 -1.311109  2.093258 -0.064200 -0.589456  0.476344 -0.395567   \n1310  0.465686  2.798701 -2.414727 -0.684728 -0.830662 -0.832977  0.505654   \n...        ...       ...       ...       ...       ...       ...       ...   \n3195 -0.392771 -0.571243  0.988778 -0.191087 -0.099276 -0.169873  0.075313   \n2275  2.874518 -0.372337 -0.879123 -0.000491 -0.056073 -0.108477 -0.824189   \n1088  3.196923 -0.789774 -0.222712 -0.900113 -0.740383 -0.529370 -0.049944   \n105   1.461473 -0.698580 -0.345484 -0.436361 -2.134091 -1.035271  0.206075   \n3465 -2.211460 -0.010342  1.047686 -0.594150 -0.285111  0.744495 -0.010393   \n\n          pca7      pca8      pca9  \n3965 -0.238428  0.391383  0.070784  \n3954 -0.802949  0.333797 -0.145787  \n580  -0.232118 -0.955701  1.186375  \n1637  1.010628 -0.545520  0.015280  \n1310  0.100887  0.431595  0.080600  \n...        ...       ...       ...  \n3195 -0.328443 -0.092271  0.106157  \n2275 -0.237555  0.583560 -0.088036  \n1088 -0.285685  0.281568 -0.612817  \n105   0.169134  0.748673  0.347071  \n3465 -0.163324  0.980099  0.014341  \n\n[3673 rows x 10 columns]",
      "text/html": "<div>\n<style scoped>\n    .dataframe tbody tr th:only-of-type {\n        vertical-align: middle;\n    }\n\n    .dataframe tbody tr th {\n        vertical-align: top;\n    }\n\n    .dataframe thead th {\n        text-align: right;\n    }\n</style>\n<table border=\"1\" class=\"dataframe\">\n  <thead>\n    <tr style=\"text-align: right;\">\n      <th></th>\n      <th>pca0</th>\n      <th>pca1</th>\n      <th>pca2</th>\n      <th>pca3</th>\n      <th>pca4</th>\n      <th>pca5</th>\n      <th>pca6</th>\n      <th>pca7</th>\n      <th>pca8</th>\n      <th>pca9</th>\n    </tr>\n  </thead>\n  <tbody>\n    <tr>\n      <th>3965</th>\n      <td>-0.960584</td>\n      <td>-0.758147</td>\n      <td>-1.111015</td>\n      <td>0.604069</td>\n      <td>0.902745</td>\n      <td>-0.570553</td>\n      <td>-0.587492</td>\n      <td>-0.238428</td>\n      <td>0.391383</td>\n      <td>0.070784</td>\n    </tr>\n    <tr>\n      <th>3954</th>\n      <td>2.649368</td>\n      <td>0.810522</td>\n      <td>-1.822473</td>\n      <td>0.341559</td>\n      <td>-0.369262</td>\n      <td>-0.964783</td>\n      <td>-0.278326</td>\n      <td>-0.802949</td>\n      <td>0.333797</td>\n      <td>-0.145787</td>\n    </tr>\n    <tr>\n      <th>580</th>\n      <td>3.541754</td>\n      <td>-0.759360</td>\n      <td>0.778158</td>\n      <td>-0.568343</td>\n      <td>1.079489</td>\n      <td>1.596032</td>\n      <td>1.427152</td>\n      <td>-0.232118</td>\n      <td>-0.955701</td>\n      <td>1.186375</td>\n    </tr>\n    <tr>\n      <th>1637</th>\n      <td>0.521562</td>\n      <td>-1.311109</td>\n      <td>2.093258</td>\n      <td>-0.064200</td>\n      <td>-0.589456</td>\n      <td>0.476344</td>\n      <td>-0.395567</td>\n      <td>1.010628</td>\n      <td>-0.545520</td>\n      <td>0.015280</td>\n    </tr>\n    <tr>\n      <th>1310</th>\n      <td>0.465686</td>\n      <td>2.798701</td>\n      <td>-2.414727</td>\n      <td>-0.684728</td>\n      <td>-0.830662</td>\n      <td>-0.832977</td>\n      <td>0.505654</td>\n      <td>0.100887</td>\n      <td>0.431595</td>\n      <td>0.080600</td>\n    </tr>\n    <tr>\n      <th>...</th>\n      <td>...</td>\n      <td>...</td>\n      <td>...</td>\n      <td>...</td>\n      <td>...</td>\n      <td>...</td>\n      <td>...</td>\n      <td>...</td>\n      <td>...</td>\n      <td>...</td>\n    </tr>\n    <tr>\n      <th>3195</th>\n      <td>-0.392771</td>\n      <td>-0.571243</td>\n      <td>0.988778</td>\n      <td>-0.191087</td>\n      <td>-0.099276</td>\n      <td>-0.169873</td>\n      <td>0.075313</td>\n      <td>-0.328443</td>\n      <td>-0.092271</td>\n      <td>0.106157</td>\n    </tr>\n    <tr>\n      <th>2275</th>\n      <td>2.874518</td>\n      <td>-0.372337</td>\n      <td>-0.879123</td>\n      <td>-0.000491</td>\n      <td>-0.056073</td>\n      <td>-0.108477</td>\n      <td>-0.824189</td>\n      <td>-0.237555</td>\n      <td>0.583560</td>\n      <td>-0.088036</td>\n    </tr>\n    <tr>\n      <th>1088</th>\n      <td>3.196923</td>\n      <td>-0.789774</td>\n      <td>-0.222712</td>\n      <td>-0.900113</td>\n      <td>-0.740383</td>\n      <td>-0.529370</td>\n      <td>-0.049944</td>\n      <td>-0.285685</td>\n      <td>0.281568</td>\n      <td>-0.612817</td>\n    </tr>\n    <tr>\n      <th>105</th>\n      <td>1.461473</td>\n      <td>-0.698580</td>\n      <td>-0.345484</td>\n      <td>-0.436361</td>\n      <td>-2.134091</td>\n      <td>-1.035271</td>\n      <td>0.206075</td>\n      <td>0.169134</td>\n      <td>0.748673</td>\n      <td>0.347071</td>\n    </tr>\n    <tr>\n      <th>3465</th>\n      <td>-2.211460</td>\n      <td>-0.010342</td>\n      <td>1.047686</td>\n      <td>-0.594150</td>\n      <td>-0.285111</td>\n      <td>0.744495</td>\n      <td>-0.010393</td>\n      <td>-0.163324</td>\n      <td>0.980099</td>\n      <td>0.014341</td>\n    </tr>\n  </tbody>\n</table>\n<p>3673 rows × 10 columns</p>\n</div>"
     },
     "execution_count": 64,
     "metadata": {},
     "output_type": "execute_result"
    }
   ],
   "source": [
    "white_training_Data_new"
   ],
   "metadata": {
    "collapsed": false,
    "ExecuteTime": {
     "end_time": "2024-03-25T10:48:18.468789Z",
     "start_time": "2024-03-25T10:48:18.460460Z"
    }
   },
   "id": "4726694bde912382",
   "execution_count": 64
  },
  {
   "cell_type": "code",
   "execution_count": 65,
   "id": "e4a83bfcfbd77221",
   "metadata": {
    "collapsed": false,
    "ExecuteTime": {
     "end_time": "2024-03-25T10:48:19.459478Z",
     "start_time": "2024-03-25T10:48:19.453623Z"
    }
   },
   "outputs": [],
   "source": [
    "pcaRed = PCA(n_components='mle')\n",
    "red_training_Data_new = pcaRed.fit_transform(red_training_Data)\n",
    "red_test_data_transformed = pcaRed.transform(red_test_data)"
   ]
  },
  {
   "cell_type": "code",
   "execution_count": 66,
   "id": "cb7275def863a7ee",
   "metadata": {
    "collapsed": false,
    "ExecuteTime": {
     "end_time": "2024-03-25T10:48:20.648491Z",
     "start_time": "2024-03-25T10:48:20.641381Z"
    }
   },
   "outputs": [
    {
     "data": {
      "text/plain": "           pca0       pca1      pca2      pca3      pca4      pca5      pca6  \\\n1513  19.327570  -2.849588 -2.043006 -0.264780  0.231112  0.017932 -0.034030   \n746   10.427493  -6.025239 -0.163324 -0.254769 -1.241494  0.191040 -0.268318   \n1508 -19.685796   5.960531 -1.157121  0.022882 -0.073797  0.469816 -0.107553   \n310  -22.119894  -4.866879  1.769453 -0.524202 -1.079615  0.024308 -0.075411   \n56   -37.183772  -3.493339  1.927791  0.511075 -1.083296  0.188706 -0.088054   \n...         ...        ...       ...       ...       ...       ...       ...   \n916   14.196238 -11.900340 -3.446656  0.058212  0.744126 -0.022870  0.033329   \n1088  -3.006347   7.166695  3.068111 -2.096552 -0.185046  0.051059  0.016010   \n1065 -26.987364  -3.679232 -0.782329  0.301064 -0.453680 -0.036489  0.009296   \n105   18.225488  -7.787599 -0.416427 -0.601496 -0.912681 -0.052850 -0.113300   \n1417  -7.107958   7.233035 -0.847441  0.492323  1.428096  0.202417  0.015704   \n\n          pca7      pca8      pca9  \n1513  0.079802 -0.032839 -0.005712  \n746  -0.040804  0.006390  0.007471  \n1508  0.044064  0.212884 -0.034758  \n310   0.076563  0.062807 -0.043596  \n56    0.160730  0.054771 -0.047597  \n...        ...       ...       ...  \n916  -0.068254  0.185086  0.075969  \n1088  0.088472 -0.001492 -0.012857  \n1065  0.069730 -0.017694 -0.009041  \n105  -0.006420 -0.019844 -0.003011  \n1417  0.041308 -0.013141 -0.017707  \n\n[1199 rows x 10 columns]",
      "text/html": "<div>\n<style scoped>\n    .dataframe tbody tr th:only-of-type {\n        vertical-align: middle;\n    }\n\n    .dataframe tbody tr th {\n        vertical-align: top;\n    }\n\n    .dataframe thead th {\n        text-align: right;\n    }\n</style>\n<table border=\"1\" class=\"dataframe\">\n  <thead>\n    <tr style=\"text-align: right;\">\n      <th></th>\n      <th>pca0</th>\n      <th>pca1</th>\n      <th>pca2</th>\n      <th>pca3</th>\n      <th>pca4</th>\n      <th>pca5</th>\n      <th>pca6</th>\n      <th>pca7</th>\n      <th>pca8</th>\n      <th>pca9</th>\n    </tr>\n  </thead>\n  <tbody>\n    <tr>\n      <th>1513</th>\n      <td>19.327570</td>\n      <td>-2.849588</td>\n      <td>-2.043006</td>\n      <td>-0.264780</td>\n      <td>0.231112</td>\n      <td>0.017932</td>\n      <td>-0.034030</td>\n      <td>0.079802</td>\n      <td>-0.032839</td>\n      <td>-0.005712</td>\n    </tr>\n    <tr>\n      <th>746</th>\n      <td>10.427493</td>\n      <td>-6.025239</td>\n      <td>-0.163324</td>\n      <td>-0.254769</td>\n      <td>-1.241494</td>\n      <td>0.191040</td>\n      <td>-0.268318</td>\n      <td>-0.040804</td>\n      <td>0.006390</td>\n      <td>0.007471</td>\n    </tr>\n    <tr>\n      <th>1508</th>\n      <td>-19.685796</td>\n      <td>5.960531</td>\n      <td>-1.157121</td>\n      <td>0.022882</td>\n      <td>-0.073797</td>\n      <td>0.469816</td>\n      <td>-0.107553</td>\n      <td>0.044064</td>\n      <td>0.212884</td>\n      <td>-0.034758</td>\n    </tr>\n    <tr>\n      <th>310</th>\n      <td>-22.119894</td>\n      <td>-4.866879</td>\n      <td>1.769453</td>\n      <td>-0.524202</td>\n      <td>-1.079615</td>\n      <td>0.024308</td>\n      <td>-0.075411</td>\n      <td>0.076563</td>\n      <td>0.062807</td>\n      <td>-0.043596</td>\n    </tr>\n    <tr>\n      <th>56</th>\n      <td>-37.183772</td>\n      <td>-3.493339</td>\n      <td>1.927791</td>\n      <td>0.511075</td>\n      <td>-1.083296</td>\n      <td>0.188706</td>\n      <td>-0.088054</td>\n      <td>0.160730</td>\n      <td>0.054771</td>\n      <td>-0.047597</td>\n    </tr>\n    <tr>\n      <th>...</th>\n      <td>...</td>\n      <td>...</td>\n      <td>...</td>\n      <td>...</td>\n      <td>...</td>\n      <td>...</td>\n      <td>...</td>\n      <td>...</td>\n      <td>...</td>\n      <td>...</td>\n    </tr>\n    <tr>\n      <th>916</th>\n      <td>14.196238</td>\n      <td>-11.900340</td>\n      <td>-3.446656</td>\n      <td>0.058212</td>\n      <td>0.744126</td>\n      <td>-0.022870</td>\n      <td>0.033329</td>\n      <td>-0.068254</td>\n      <td>0.185086</td>\n      <td>0.075969</td>\n    </tr>\n    <tr>\n      <th>1088</th>\n      <td>-3.006347</td>\n      <td>7.166695</td>\n      <td>3.068111</td>\n      <td>-2.096552</td>\n      <td>-0.185046</td>\n      <td>0.051059</td>\n      <td>0.016010</td>\n      <td>0.088472</td>\n      <td>-0.001492</td>\n      <td>-0.012857</td>\n    </tr>\n    <tr>\n      <th>1065</th>\n      <td>-26.987364</td>\n      <td>-3.679232</td>\n      <td>-0.782329</td>\n      <td>0.301064</td>\n      <td>-0.453680</td>\n      <td>-0.036489</td>\n      <td>0.009296</td>\n      <td>0.069730</td>\n      <td>-0.017694</td>\n      <td>-0.009041</td>\n    </tr>\n    <tr>\n      <th>105</th>\n      <td>18.225488</td>\n      <td>-7.787599</td>\n      <td>-0.416427</td>\n      <td>-0.601496</td>\n      <td>-0.912681</td>\n      <td>-0.052850</td>\n      <td>-0.113300</td>\n      <td>-0.006420</td>\n      <td>-0.019844</td>\n      <td>-0.003011</td>\n    </tr>\n    <tr>\n      <th>1417</th>\n      <td>-7.107958</td>\n      <td>7.233035</td>\n      <td>-0.847441</td>\n      <td>0.492323</td>\n      <td>1.428096</td>\n      <td>0.202417</td>\n      <td>0.015704</td>\n      <td>0.041308</td>\n      <td>-0.013141</td>\n      <td>-0.017707</td>\n    </tr>\n  </tbody>\n</table>\n<p>1199 rows × 10 columns</p>\n</div>"
     },
     "execution_count": 66,
     "metadata": {},
     "output_type": "execute_result"
    }
   ],
   "source": [
    "red_training_Data_new"
   ]
  },
  {
   "cell_type": "markdown",
   "id": "b362deb2",
   "metadata": {},
   "source": [
    "# Aufgabe 3"
   ]
  },
  {
   "cell_type": "markdown",
   "id": "03eef9f3",
   "metadata": {},
   "source": [
    "Implementing two Regression methods: Nearest Neighbor Regression and Support Vector Regression. Comparing the performance of both regression models at both datasets."
   ]
  },
  {
   "cell_type": "markdown",
   "id": "115ffc20",
   "metadata": {},
   "source": [
    "## Nearest Neighbor Regression"
   ]
  },
  {
   "cell_type": "markdown",
   "id": "0e4df6c0",
   "metadata": {},
   "source": [
    "White:"
   ]
  },
  {
   "cell_type": "code",
   "execution_count": 73,
   "id": "2dc4391b",
   "metadata": {
    "ExecuteTime": {
     "end_time": "2024-03-25T10:53:08.691597Z",
     "start_time": "2024-03-25T10:53:08.421323Z"
    }
   },
   "outputs": [
    {
     "name": "stdout",
     "output_type": "stream",
     "text": [
      "Beste Hyperparameter: {'leaf_size': 1, 'n_neighbors': 15, 'weights': 'distance'}\n",
      "Mean Absolute Error (MAE): 0.41345469056834505\n",
      "Mean Squared Error (MSE): 0.4040923370668591\n",
      "Root Mean Squared Error (RMSE): 0.6356825757143726\n"
     ]
    }
   ],
   "source": [
    "import numpy as np\n",
    "from sklearn.neighbors import KNeighborsRegressor\n",
    "from sklearn.model_selection import GridSearchCV\n",
    "from sklearn.metrics import mean_absolute_error, mean_squared_error\n",
    "\n",
    "parameters = {\n",
    "    'n_neighbors': np.arange(1, 70, 1),\n",
    "    'leaf_size' : np.arange(1, 50, 1),\n",
    "    'weights': ['uniform', 'distance']\n",
    "}\n",
    "final_parameters = {\n",
    "    'n_neighbors': [15],\n",
    "    'leaf_size' : [1],\n",
    "    'weights': ['distance']\n",
    "}\n",
    "\n",
    "model = KNeighborsRegressor()\n",
    "model_randomizedSearch = GridSearchCV(model, param_grid=final_parameters, cv=5, n_jobs=-1)\n",
    "\n",
    "model_randomizedSearch.fit(white_training_Data_new, white_training_scores)\n",
    "model_best = model_randomizedSearch.best_estimator_\n",
    "\n",
    "print(\"Beste Hyperparameter: \" + str(model_randomizedSearch.best_params_))\n",
    "y_pred_valid = model_best.predict(white_test_data_new)\n",
    "\n",
    "# Mean Absolute Error (MAE)\n",
    "mae = mean_absolute_error(white_test_scores, y_pred_valid)\n",
    "print(\"Mean Absolute Error (MAE):\", mae)\n",
    "\n",
    "# Mean Squared Error (MSE)\n",
    "mse = mean_squared_error(white_test_scores, y_pred_valid)\n",
    "print(\"Mean Squared Error (MSE):\", mse)\n",
    "\n",
    "# Root Mean Squared Error (RMSE)\n",
    "rmse = np.sqrt(mse)\n",
    "print(\"Root Mean Squared Error (RMSE):\", rmse)\n"
   ]
  },
  {
   "cell_type": "markdown",
   "id": "41b858cd",
   "metadata": {},
   "source": [
    "Red:"
   ]
  },
  {
   "cell_type": "code",
   "execution_count": 75,
   "id": "1f1b8c4a",
   "metadata": {
    "ExecuteTime": {
     "end_time": "2024-03-25T10:54:12.074651Z",
     "start_time": "2024-03-25T10:54:12.031841Z"
    }
   },
   "outputs": [
    {
     "name": "stdout",
     "output_type": "stream",
     "text": [
      "Beste Hyperparameter: {'leaf_size': 1, 'n_neighbors': 18, 'weights': 'distance'}\n",
      "Mean Absolute Error (MAE): 0.507777982888794\n",
      "Mean Squared Error (MSE): 0.5389834621716705\n",
      "Root Mean Squared Error (RMSE): 0.7341549306322681\n"
     ]
    }
   ],
   "source": [
    "import numpy as np\n",
    "from sklearn.neighbors import KNeighborsRegressor\n",
    "from sklearn.model_selection import RandomizedSearchCV\n",
    "from sklearn.metrics import mean_absolute_error, mean_squared_error\n",
    "\n",
    "parameters = {\n",
    "    'n_neighbors': np.arange(1, 70, 1),\n",
    "    'leaf_size' : np.arange(1, 50, 1),\n",
    "    'weights': ['uniform', 'distance']\n",
    "}\n",
    "final_parameters = {\n",
    "    'n_neighbors': [18],\n",
    "    'leaf_size' : [1],\n",
    "    'weights': ['distance']\n",
    "}\n",
    "\n",
    "model = KNeighborsRegressor()\n",
    "#model_randomizedSearch = RandomizedSearchCV(model, param_distributions=parameters, cv=5, n_jobs=-1)\n",
    "model_randomizedSearch = GridSearchCV(model, param_grid=final_parameters, cv=5, n_jobs=-1)\n",
    "\n",
    "model_randomizedSearch.fit(red_training_Data_new, red_training_scores)\n",
    "model_best = model_randomizedSearch.best_estimator_\n",
    "\n",
    "print(\"Beste Hyperparameter: \" + str(model_randomizedSearch.best_params_))\n",
    "y_pred_valid = model_best.predict(red_test_data_transformed)\n",
    "\n",
    "# Mean Absolute Error (MAE)\n",
    "mae = mean_absolute_error(red_test_scores, y_pred_valid)\n",
    "print(\"Mean Absolute Error (MAE):\", mae)\n",
    "\n",
    "# Mean Squared Error (MSE)\n",
    "mse = mean_squared_error(red_test_scores, y_pred_valid)\n",
    "print(\"Mean Squared Error (MSE):\", mse)\n",
    "\n",
    "# Root Mean Squared Error (RMSE)\n",
    "rmse = np.sqrt(mse)\n",
    "print(\"Root Mean Squared Error (RMSE):\", rmse)\n"
   ]
  },
  {
   "cell_type": "markdown",
   "id": "bdc6d149",
   "metadata": {},
   "source": [
    "## Support Vector Regression"
   ]
  },
  {
   "cell_type": "markdown",
   "id": "3488abab",
   "metadata": {},
   "source": [
    "White:"
   ]
  },
  {
   "cell_type": "code",
   "execution_count": 76,
   "id": "8cac47e3bc2395e9",
   "metadata": {
    "collapsed": false,
    "ExecuteTime": {
     "end_time": "2024-03-25T10:57:04.452955Z",
     "start_time": "2024-03-25T10:54:26.950898Z"
    }
   },
   "outputs": [
    {
     "ename": "KeyboardInterrupt",
     "evalue": "",
     "output_type": "error",
     "traceback": [
      "\u001B[1;31m---------------------------------------------------------------------------\u001B[0m",
      "\u001B[1;31mKeyboardInterrupt\u001B[0m                         Traceback (most recent call last)",
      "Cell \u001B[1;32mIn[76], line 19\u001B[0m\n\u001B[0;32m     16\u001B[0m \u001B[38;5;66;03m#model_randomizedSearch = RandomizedSearchCV(model, param_distributions=parameters, cv=5, n_jobs=-1, n_iter=20)\u001B[39;00m\n\u001B[0;32m     17\u001B[0m model_randomizedSearch \u001B[38;5;241m=\u001B[39m GridSearchCV(model, param_grid\u001B[38;5;241m=\u001B[39mparameters, cv\u001B[38;5;241m=\u001B[39m\u001B[38;5;241m5\u001B[39m, n_jobs\u001B[38;5;241m=\u001B[39m\u001B[38;5;241m-\u001B[39m\u001B[38;5;241m1\u001B[39m)\n\u001B[1;32m---> 19\u001B[0m \u001B[43mmodel_randomizedSearch\u001B[49m\u001B[38;5;241;43m.\u001B[39;49m\u001B[43mfit\u001B[49m\u001B[43m(\u001B[49m\u001B[43mwhite_training_Data_new\u001B[49m\u001B[43m,\u001B[49m\u001B[43m \u001B[49m\u001B[43mwhite_training_scores\u001B[49m\u001B[43m)\u001B[49m\n\u001B[0;32m     20\u001B[0m model_best \u001B[38;5;241m=\u001B[39m model_randomizedSearch\u001B[38;5;241m.\u001B[39mbest_estimator_\n\u001B[0;32m     22\u001B[0m \u001B[38;5;28mprint\u001B[39m(\u001B[38;5;124m\"\u001B[39m\u001B[38;5;124mBeste Hyperparameter: \u001B[39m\u001B[38;5;124m\"\u001B[39m \u001B[38;5;241m+\u001B[39m \u001B[38;5;28mstr\u001B[39m(model_randomizedSearch\u001B[38;5;241m.\u001B[39mbest_params_))\n",
      "File \u001B[1;32mC:\\GitClones\\TINF21C_Maschinelles-Lernen\\Programmierabgabe 1\\venv\\Lib\\site-packages\\sklearn\\base.py:1474\u001B[0m, in \u001B[0;36m_fit_context.<locals>.decorator.<locals>.wrapper\u001B[1;34m(estimator, *args, **kwargs)\u001B[0m\n\u001B[0;32m   1467\u001B[0m     estimator\u001B[38;5;241m.\u001B[39m_validate_params()\n\u001B[0;32m   1469\u001B[0m \u001B[38;5;28;01mwith\u001B[39;00m config_context(\n\u001B[0;32m   1470\u001B[0m     skip_parameter_validation\u001B[38;5;241m=\u001B[39m(\n\u001B[0;32m   1471\u001B[0m         prefer_skip_nested_validation \u001B[38;5;129;01mor\u001B[39;00m global_skip_validation\n\u001B[0;32m   1472\u001B[0m     )\n\u001B[0;32m   1473\u001B[0m ):\n\u001B[1;32m-> 1474\u001B[0m     \u001B[38;5;28;01mreturn\u001B[39;00m \u001B[43mfit_method\u001B[49m\u001B[43m(\u001B[49m\u001B[43mestimator\u001B[49m\u001B[43m,\u001B[49m\u001B[43m \u001B[49m\u001B[38;5;241;43m*\u001B[39;49m\u001B[43margs\u001B[49m\u001B[43m,\u001B[49m\u001B[43m \u001B[49m\u001B[38;5;241;43m*\u001B[39;49m\u001B[38;5;241;43m*\u001B[39;49m\u001B[43mkwargs\u001B[49m\u001B[43m)\u001B[49m\n",
      "File \u001B[1;32mC:\\GitClones\\TINF21C_Maschinelles-Lernen\\Programmierabgabe 1\\venv\\Lib\\site-packages\\sklearn\\model_selection\\_search.py:970\u001B[0m, in \u001B[0;36mBaseSearchCV.fit\u001B[1;34m(self, X, y, **params)\u001B[0m\n\u001B[0;32m    964\u001B[0m     results \u001B[38;5;241m=\u001B[39m \u001B[38;5;28mself\u001B[39m\u001B[38;5;241m.\u001B[39m_format_results(\n\u001B[0;32m    965\u001B[0m         all_candidate_params, n_splits, all_out, all_more_results\n\u001B[0;32m    966\u001B[0m     )\n\u001B[0;32m    968\u001B[0m     \u001B[38;5;28;01mreturn\u001B[39;00m results\n\u001B[1;32m--> 970\u001B[0m \u001B[38;5;28;43mself\u001B[39;49m\u001B[38;5;241;43m.\u001B[39;49m\u001B[43m_run_search\u001B[49m\u001B[43m(\u001B[49m\u001B[43mevaluate_candidates\u001B[49m\u001B[43m)\u001B[49m\n\u001B[0;32m    972\u001B[0m \u001B[38;5;66;03m# multimetric is determined here because in the case of a callable\u001B[39;00m\n\u001B[0;32m    973\u001B[0m \u001B[38;5;66;03m# self.scoring the return type is only known after calling\u001B[39;00m\n\u001B[0;32m    974\u001B[0m first_test_score \u001B[38;5;241m=\u001B[39m all_out[\u001B[38;5;241m0\u001B[39m][\u001B[38;5;124m\"\u001B[39m\u001B[38;5;124mtest_scores\u001B[39m\u001B[38;5;124m\"\u001B[39m]\n",
      "File \u001B[1;32mC:\\GitClones\\TINF21C_Maschinelles-Lernen\\Programmierabgabe 1\\venv\\Lib\\site-packages\\sklearn\\model_selection\\_search.py:1527\u001B[0m, in \u001B[0;36mGridSearchCV._run_search\u001B[1;34m(self, evaluate_candidates)\u001B[0m\n\u001B[0;32m   1525\u001B[0m \u001B[38;5;28;01mdef\u001B[39;00m \u001B[38;5;21m_run_search\u001B[39m(\u001B[38;5;28mself\u001B[39m, evaluate_candidates):\n\u001B[0;32m   1526\u001B[0m \u001B[38;5;250m    \u001B[39m\u001B[38;5;124;03m\"\"\"Search all candidates in param_grid\"\"\"\u001B[39;00m\n\u001B[1;32m-> 1527\u001B[0m     \u001B[43mevaluate_candidates\u001B[49m\u001B[43m(\u001B[49m\u001B[43mParameterGrid\u001B[49m\u001B[43m(\u001B[49m\u001B[38;5;28;43mself\u001B[39;49m\u001B[38;5;241;43m.\u001B[39;49m\u001B[43mparam_grid\u001B[49m\u001B[43m)\u001B[49m\u001B[43m)\u001B[49m\n",
      "File \u001B[1;32mC:\\GitClones\\TINF21C_Maschinelles-Lernen\\Programmierabgabe 1\\venv\\Lib\\site-packages\\sklearn\\model_selection\\_search.py:916\u001B[0m, in \u001B[0;36mBaseSearchCV.fit.<locals>.evaluate_candidates\u001B[1;34m(candidate_params, cv, more_results)\u001B[0m\n\u001B[0;32m    908\u001B[0m \u001B[38;5;28;01mif\u001B[39;00m \u001B[38;5;28mself\u001B[39m\u001B[38;5;241m.\u001B[39mverbose \u001B[38;5;241m>\u001B[39m \u001B[38;5;241m0\u001B[39m:\n\u001B[0;32m    909\u001B[0m     \u001B[38;5;28mprint\u001B[39m(\n\u001B[0;32m    910\u001B[0m         \u001B[38;5;124m\"\u001B[39m\u001B[38;5;124mFitting \u001B[39m\u001B[38;5;132;01m{0}\u001B[39;00m\u001B[38;5;124m folds for each of \u001B[39m\u001B[38;5;132;01m{1}\u001B[39;00m\u001B[38;5;124m candidates,\u001B[39m\u001B[38;5;124m\"\u001B[39m\n\u001B[0;32m    911\u001B[0m         \u001B[38;5;124m\"\u001B[39m\u001B[38;5;124m totalling \u001B[39m\u001B[38;5;132;01m{2}\u001B[39;00m\u001B[38;5;124m fits\u001B[39m\u001B[38;5;124m\"\u001B[39m\u001B[38;5;241m.\u001B[39mformat(\n\u001B[0;32m    912\u001B[0m             n_splits, n_candidates, n_candidates \u001B[38;5;241m*\u001B[39m n_splits\n\u001B[0;32m    913\u001B[0m         )\n\u001B[0;32m    914\u001B[0m     )\n\u001B[1;32m--> 916\u001B[0m out \u001B[38;5;241m=\u001B[39m \u001B[43mparallel\u001B[49m\u001B[43m(\u001B[49m\n\u001B[0;32m    917\u001B[0m \u001B[43m    \u001B[49m\u001B[43mdelayed\u001B[49m\u001B[43m(\u001B[49m\u001B[43m_fit_and_score\u001B[49m\u001B[43m)\u001B[49m\u001B[43m(\u001B[49m\n\u001B[0;32m    918\u001B[0m \u001B[43m        \u001B[49m\u001B[43mclone\u001B[49m\u001B[43m(\u001B[49m\u001B[43mbase_estimator\u001B[49m\u001B[43m)\u001B[49m\u001B[43m,\u001B[49m\n\u001B[0;32m    919\u001B[0m \u001B[43m        \u001B[49m\u001B[43mX\u001B[49m\u001B[43m,\u001B[49m\n\u001B[0;32m    920\u001B[0m \u001B[43m        \u001B[49m\u001B[43my\u001B[49m\u001B[43m,\u001B[49m\n\u001B[0;32m    921\u001B[0m \u001B[43m        \u001B[49m\u001B[43mtrain\u001B[49m\u001B[38;5;241;43m=\u001B[39;49m\u001B[43mtrain\u001B[49m\u001B[43m,\u001B[49m\n\u001B[0;32m    922\u001B[0m \u001B[43m        \u001B[49m\u001B[43mtest\u001B[49m\u001B[38;5;241;43m=\u001B[39;49m\u001B[43mtest\u001B[49m\u001B[43m,\u001B[49m\n\u001B[0;32m    923\u001B[0m \u001B[43m        \u001B[49m\u001B[43mparameters\u001B[49m\u001B[38;5;241;43m=\u001B[39;49m\u001B[43mparameters\u001B[49m\u001B[43m,\u001B[49m\n\u001B[0;32m    924\u001B[0m \u001B[43m        \u001B[49m\u001B[43msplit_progress\u001B[49m\u001B[38;5;241;43m=\u001B[39;49m\u001B[43m(\u001B[49m\u001B[43msplit_idx\u001B[49m\u001B[43m,\u001B[49m\u001B[43m \u001B[49m\u001B[43mn_splits\u001B[49m\u001B[43m)\u001B[49m\u001B[43m,\u001B[49m\n\u001B[0;32m    925\u001B[0m \u001B[43m        \u001B[49m\u001B[43mcandidate_progress\u001B[49m\u001B[38;5;241;43m=\u001B[39;49m\u001B[43m(\u001B[49m\u001B[43mcand_idx\u001B[49m\u001B[43m,\u001B[49m\u001B[43m \u001B[49m\u001B[43mn_candidates\u001B[49m\u001B[43m)\u001B[49m\u001B[43m,\u001B[49m\n\u001B[0;32m    926\u001B[0m \u001B[43m        \u001B[49m\u001B[38;5;241;43m*\u001B[39;49m\u001B[38;5;241;43m*\u001B[39;49m\u001B[43mfit_and_score_kwargs\u001B[49m\u001B[43m,\u001B[49m\n\u001B[0;32m    927\u001B[0m \u001B[43m    \u001B[49m\u001B[43m)\u001B[49m\n\u001B[0;32m    928\u001B[0m \u001B[43m    \u001B[49m\u001B[38;5;28;43;01mfor\u001B[39;49;00m\u001B[43m \u001B[49m\u001B[43m(\u001B[49m\u001B[43mcand_idx\u001B[49m\u001B[43m,\u001B[49m\u001B[43m \u001B[49m\u001B[43mparameters\u001B[49m\u001B[43m)\u001B[49m\u001B[43m,\u001B[49m\u001B[43m \u001B[49m\u001B[43m(\u001B[49m\u001B[43msplit_idx\u001B[49m\u001B[43m,\u001B[49m\u001B[43m \u001B[49m\u001B[43m(\u001B[49m\u001B[43mtrain\u001B[49m\u001B[43m,\u001B[49m\u001B[43m \u001B[49m\u001B[43mtest\u001B[49m\u001B[43m)\u001B[49m\u001B[43m)\u001B[49m\u001B[43m \u001B[49m\u001B[38;5;129;43;01min\u001B[39;49;00m\u001B[43m \u001B[49m\u001B[43mproduct\u001B[49m\u001B[43m(\u001B[49m\n\u001B[0;32m    929\u001B[0m \u001B[43m        \u001B[49m\u001B[38;5;28;43menumerate\u001B[39;49m\u001B[43m(\u001B[49m\u001B[43mcandidate_params\u001B[49m\u001B[43m)\u001B[49m\u001B[43m,\u001B[49m\n\u001B[0;32m    930\u001B[0m \u001B[43m        \u001B[49m\u001B[38;5;28;43menumerate\u001B[39;49m\u001B[43m(\u001B[49m\u001B[43mcv\u001B[49m\u001B[38;5;241;43m.\u001B[39;49m\u001B[43msplit\u001B[49m\u001B[43m(\u001B[49m\u001B[43mX\u001B[49m\u001B[43m,\u001B[49m\u001B[43m \u001B[49m\u001B[43my\u001B[49m\u001B[43m,\u001B[49m\u001B[43m \u001B[49m\u001B[38;5;241;43m*\u001B[39;49m\u001B[38;5;241;43m*\u001B[39;49m\u001B[43mrouted_params\u001B[49m\u001B[38;5;241;43m.\u001B[39;49m\u001B[43msplitter\u001B[49m\u001B[38;5;241;43m.\u001B[39;49m\u001B[43msplit\u001B[49m\u001B[43m)\u001B[49m\u001B[43m)\u001B[49m\u001B[43m,\u001B[49m\n\u001B[0;32m    931\u001B[0m \u001B[43m    \u001B[49m\u001B[43m)\u001B[49m\n\u001B[0;32m    932\u001B[0m \u001B[43m\u001B[49m\u001B[43m)\u001B[49m\n\u001B[0;32m    934\u001B[0m \u001B[38;5;28;01mif\u001B[39;00m \u001B[38;5;28mlen\u001B[39m(out) \u001B[38;5;241m<\u001B[39m \u001B[38;5;241m1\u001B[39m:\n\u001B[0;32m    935\u001B[0m     \u001B[38;5;28;01mraise\u001B[39;00m \u001B[38;5;167;01mValueError\u001B[39;00m(\n\u001B[0;32m    936\u001B[0m         \u001B[38;5;124m\"\u001B[39m\u001B[38;5;124mNo fits were performed. \u001B[39m\u001B[38;5;124m\"\u001B[39m\n\u001B[0;32m    937\u001B[0m         \u001B[38;5;124m\"\u001B[39m\u001B[38;5;124mWas the CV iterator empty? \u001B[39m\u001B[38;5;124m\"\u001B[39m\n\u001B[0;32m    938\u001B[0m         \u001B[38;5;124m\"\u001B[39m\u001B[38;5;124mWere there no candidates?\u001B[39m\u001B[38;5;124m\"\u001B[39m\n\u001B[0;32m    939\u001B[0m     )\n",
      "File \u001B[1;32mC:\\GitClones\\TINF21C_Maschinelles-Lernen\\Programmierabgabe 1\\venv\\Lib\\site-packages\\sklearn\\utils\\parallel.py:67\u001B[0m, in \u001B[0;36mParallel.__call__\u001B[1;34m(self, iterable)\u001B[0m\n\u001B[0;32m     62\u001B[0m config \u001B[38;5;241m=\u001B[39m get_config()\n\u001B[0;32m     63\u001B[0m iterable_with_config \u001B[38;5;241m=\u001B[39m (\n\u001B[0;32m     64\u001B[0m     (_with_config(delayed_func, config), args, kwargs)\n\u001B[0;32m     65\u001B[0m     \u001B[38;5;28;01mfor\u001B[39;00m delayed_func, args, kwargs \u001B[38;5;129;01min\u001B[39;00m iterable\n\u001B[0;32m     66\u001B[0m )\n\u001B[1;32m---> 67\u001B[0m \u001B[38;5;28;01mreturn\u001B[39;00m \u001B[38;5;28;43msuper\u001B[39;49m\u001B[43m(\u001B[49m\u001B[43m)\u001B[49m\u001B[38;5;241;43m.\u001B[39;49m\u001B[38;5;21;43m__call__\u001B[39;49m\u001B[43m(\u001B[49m\u001B[43miterable_with_config\u001B[49m\u001B[43m)\u001B[49m\n",
      "File \u001B[1;32mC:\\GitClones\\TINF21C_Maschinelles-Lernen\\Programmierabgabe 1\\venv\\Lib\\site-packages\\joblib\\parallel.py:1952\u001B[0m, in \u001B[0;36mParallel.__call__\u001B[1;34m(self, iterable)\u001B[0m\n\u001B[0;32m   1946\u001B[0m \u001B[38;5;66;03m# The first item from the output is blank, but it makes the interpreter\u001B[39;00m\n\u001B[0;32m   1947\u001B[0m \u001B[38;5;66;03m# progress until it enters the Try/Except block of the generator and\u001B[39;00m\n\u001B[0;32m   1948\u001B[0m \u001B[38;5;66;03m# reach the first `yield` statement. This starts the aynchronous\u001B[39;00m\n\u001B[0;32m   1949\u001B[0m \u001B[38;5;66;03m# dispatch of the tasks to the workers.\u001B[39;00m\n\u001B[0;32m   1950\u001B[0m \u001B[38;5;28mnext\u001B[39m(output)\n\u001B[1;32m-> 1952\u001B[0m \u001B[38;5;28;01mreturn\u001B[39;00m output \u001B[38;5;28;01mif\u001B[39;00m \u001B[38;5;28mself\u001B[39m\u001B[38;5;241m.\u001B[39mreturn_generator \u001B[38;5;28;01melse\u001B[39;00m \u001B[38;5;28;43mlist\u001B[39;49m\u001B[43m(\u001B[49m\u001B[43moutput\u001B[49m\u001B[43m)\u001B[49m\n",
      "File \u001B[1;32mC:\\GitClones\\TINF21C_Maschinelles-Lernen\\Programmierabgabe 1\\venv\\Lib\\site-packages\\joblib\\parallel.py:1595\u001B[0m, in \u001B[0;36mParallel._get_outputs\u001B[1;34m(self, iterator, pre_dispatch)\u001B[0m\n\u001B[0;32m   1592\u001B[0m     \u001B[38;5;28;01myield\u001B[39;00m\n\u001B[0;32m   1594\u001B[0m     \u001B[38;5;28;01mwith\u001B[39;00m \u001B[38;5;28mself\u001B[39m\u001B[38;5;241m.\u001B[39m_backend\u001B[38;5;241m.\u001B[39mretrieval_context():\n\u001B[1;32m-> 1595\u001B[0m         \u001B[38;5;28;01myield from\u001B[39;00m \u001B[38;5;28mself\u001B[39m\u001B[38;5;241m.\u001B[39m_retrieve()\n\u001B[0;32m   1597\u001B[0m \u001B[38;5;28;01mexcept\u001B[39;00m \u001B[38;5;167;01mGeneratorExit\u001B[39;00m:\n\u001B[0;32m   1598\u001B[0m     \u001B[38;5;66;03m# The generator has been garbage collected before being fully\u001B[39;00m\n\u001B[0;32m   1599\u001B[0m     \u001B[38;5;66;03m# consumed. This aborts the remaining tasks if possible and warn\u001B[39;00m\n\u001B[0;32m   1600\u001B[0m     \u001B[38;5;66;03m# the user if necessary.\u001B[39;00m\n\u001B[0;32m   1601\u001B[0m     \u001B[38;5;28mself\u001B[39m\u001B[38;5;241m.\u001B[39m_exception \u001B[38;5;241m=\u001B[39m \u001B[38;5;28;01mTrue\u001B[39;00m\n",
      "File \u001B[1;32mC:\\GitClones\\TINF21C_Maschinelles-Lernen\\Programmierabgabe 1\\venv\\Lib\\site-packages\\joblib\\parallel.py:1707\u001B[0m, in \u001B[0;36mParallel._retrieve\u001B[1;34m(self)\u001B[0m\n\u001B[0;32m   1702\u001B[0m \u001B[38;5;66;03m# If the next job is not ready for retrieval yet, we just wait for\u001B[39;00m\n\u001B[0;32m   1703\u001B[0m \u001B[38;5;66;03m# async callbacks to progress.\u001B[39;00m\n\u001B[0;32m   1704\u001B[0m \u001B[38;5;28;01mif\u001B[39;00m ((\u001B[38;5;28mlen\u001B[39m(\u001B[38;5;28mself\u001B[39m\u001B[38;5;241m.\u001B[39m_jobs) \u001B[38;5;241m==\u001B[39m \u001B[38;5;241m0\u001B[39m) \u001B[38;5;129;01mor\u001B[39;00m\n\u001B[0;32m   1705\u001B[0m     (\u001B[38;5;28mself\u001B[39m\u001B[38;5;241m.\u001B[39m_jobs[\u001B[38;5;241m0\u001B[39m]\u001B[38;5;241m.\u001B[39mget_status(\n\u001B[0;32m   1706\u001B[0m         timeout\u001B[38;5;241m=\u001B[39m\u001B[38;5;28mself\u001B[39m\u001B[38;5;241m.\u001B[39mtimeout) \u001B[38;5;241m==\u001B[39m TASK_PENDING)):\n\u001B[1;32m-> 1707\u001B[0m     \u001B[43mtime\u001B[49m\u001B[38;5;241;43m.\u001B[39;49m\u001B[43msleep\u001B[49m\u001B[43m(\u001B[49m\u001B[38;5;241;43m0.01\u001B[39;49m\u001B[43m)\u001B[49m\n\u001B[0;32m   1708\u001B[0m     \u001B[38;5;28;01mcontinue\u001B[39;00m\n\u001B[0;32m   1710\u001B[0m \u001B[38;5;66;03m# We need to be careful: the job list can be filling up as\u001B[39;00m\n\u001B[0;32m   1711\u001B[0m \u001B[38;5;66;03m# we empty it and Python list are not thread-safe by\u001B[39;00m\n\u001B[0;32m   1712\u001B[0m \u001B[38;5;66;03m# default hence the use of the lock\u001B[39;00m\n",
      "\u001B[1;31mKeyboardInterrupt\u001B[0m: "
     ]
    }
   ],
   "source": [
    "import numpy as np\n",
    "from sklearn import metrics\n",
    "from sklearn.svm import SVR\n",
    "from sklearn.model_selection import RandomizedSearchCV\n",
    "from sklearn.metrics import mean_absolute_error, mean_squared_error\n",
    "\n",
    "parameters = {\n",
    "    'kernel': ['rbf'],\n",
    "    #'gamma' : ['scale', 'auto'],\n",
    "    'epsilon': np.linspace(0.63, 0.65, 10),\n",
    "    'C': np.linspace(157, 165, 20),\n",
    "}\n",
    "final_parameters = {'C': [158.68421052631578], 'epsilon': [0.6433333333333333], 'kernel': ['rbf']}\n",
    "\n",
    "model = SVR()\n",
    "#model_randomizedSearch = RandomizedSearchCV(model, param_distributions=parameters, cv=5, n_jobs=-1, n_iter=20)\n",
    "model_randomizedSearch = GridSearchCV(model, param_grid=parameters, cv=5, n_jobs=-1)\n",
    "\n",
    "model_randomizedSearch.fit(white_training_Data_new, white_training_scores)\n",
    "model_best = model_randomizedSearch.best_estimator_\n",
    "\n",
    "print(\"Beste Hyperparameter: \" + str(model_randomizedSearch.best_params_))\n",
    "y_pred_valid = model_best.predict(white_test_data_new)\n",
    "\n",
    "# Mean Absolute Error (MAE)\n",
    "mae = mean_absolute_error(white_test_scores, y_pred_valid)\n",
    "print(\"Mean Absolute Error (MAE):\", mae)\n",
    "\n",
    "# Mean Squared Error (MSE)\n",
    "mse = mean_squared_error(white_test_scores, y_pred_valid)\n",
    "print(\"Mean Squared Error (MSE):\", mse)\n",
    "\n",
    "# Root Mean Squared Error (RMSE)\n",
    "rmse = np.sqrt(mse)\n",
    "print(\"Root Mean Squared Error (RMSE):\", rmse)\n"
   ]
  },
  {
   "cell_type": "markdown",
   "id": "051efa33",
   "metadata": {},
   "source": [
    "Red:"
   ]
  },
  {
   "cell_type": "code",
   "execution_count": 70,
   "id": "81a6d401",
   "metadata": {
    "ExecuteTime": {
     "end_time": "2024-03-25T10:48:34.942089Z",
     "start_time": "2024-03-25T10:48:33.796639Z"
    }
   },
   "outputs": [
    {
     "name": "stdout",
     "output_type": "stream",
     "text": [
      "Beste Hyperparameter: {'C': 125.55555555555556, 'epsilon': 0.2939999999999985, 'kernel': 'rbf'}\n",
      "Mean Absolute Error (MAE): 0.5313065226897858\n",
      "Mean Squared Error (MSE): 0.4618159426903597\n",
      "Root Mean Squared Error (RMSE): 0.6795704103993637\n"
     ]
    }
   ],
   "source": [
    "import numpy as np\n",
    "from sklearn import metrics\n",
    "from sklearn.svm import SVR\n",
    "from sklearn.model_selection import GridSearchCV\n",
    "from sklearn.metrics import mean_absolute_error, mean_squared_error\n",
    "\n",
    "\n",
    "parameters = {\n",
    "    'kernel': ['rbf'],\n",
    "    #'gamma' : ['scale', 'auto'],\n",
    "    'epsilon': np.arange(0.28, 0.30, 0.0001),\n",
    "    'C': np.linspace(125, 126, 10),\n",
    "}\n",
    "\n",
    "final_parameters = {'C': [125.55555555555556], 'epsilon': [0.2939999999999985], 'kernel': ['rbf']}\n",
    "\n",
    "model = SVR()\n",
    "model_randomizedSearch = GridSearchCV(model, param_grid=final_parameters, cv=5, n_jobs=-1)\n",
    "\n",
    "model_randomizedSearch.fit(red_training_Data_new, red_training_scores)\n",
    "model_best = model_randomizedSearch.best_estimator_\n",
    "\n",
    "print(\"Beste Hyperparameter: \" + str(model_randomizedSearch.best_params_))\n",
    "y_pred_valid = model_best.predict(red_test_data_transformed)\n",
    "\n",
    "# Mean Absolute Error (MAE)\n",
    "mae = mean_absolute_error(red_test_scores, y_pred_valid)\n",
    "print(\"Mean Absolute Error (MAE):\", mae)\n",
    "\n",
    "# Mean Squared Error (MSE)\n",
    "mse = mean_squared_error(red_test_scores, y_pred_valid)\n",
    "print(\"Mean Squared Error (MSE):\", mse)\n",
    "\n",
    "# Root Mean Squared Error (RMSE)\n",
    "rmse = np.sqrt(mse)\n",
    "print(\"Root Mean Squared Error (RMSE):\", rmse)\n"
   ]
  }
 ],
 "metadata": {
  "kernelspec": {
   "display_name": "Python 3",
   "language": "python",
   "name": "python3"
  },
  "language_info": {
   "codemirror_mode": {
    "name": "ipython",
    "version": 3
   },
   "file_extension": ".py",
   "mimetype": "text/x-python",
   "name": "python",
   "nbconvert_exporter": "python",
   "pygments_lexer": "ipython3",
   "version": "3.11.8"
  }
 },
 "nbformat": 4,
 "nbformat_minor": 5
}
