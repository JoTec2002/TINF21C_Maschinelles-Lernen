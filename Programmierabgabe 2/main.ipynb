{
 "cells": [
  {
   "metadata": {},
   "cell_type": "markdown",
   "source": "Abgabe von: Mat.Nr.: 9452857 & 1113800",
   "id": "a454e9c8e561de40"
  },
  {
   "metadata": {},
   "cell_type": "markdown",
   "source": "Before doing anything installing all needed dependencies",
   "id": "9c6dccc67e1c0231"
  },
  {
   "metadata": {},
   "cell_type": "markdown",
   "source": "# Software requirements",
   "id": "5888947177567c81"
  },
  {
   "metadata": {},
   "cell_type": "markdown",
   "source": [
    "Version\tPython version\tCompiler\tBuild tools\tcuDNN\tCUDA<br>\n",
    "tensorflow-2.16.1\t3.9-3.12\tClang 17.0.6\tBazel 6.5.0\t8.9\t12.3"
   ],
   "id": "513d72e8194e4e2b"
  },
  {
   "metadata": {},
   "cell_type": "markdown",
   "source": [
    "!pip3 install pandas\n",
    "!pip3 install scikit-learn\n",
    "!pip3 install tensorflow==2.16.1\n",
    "!pip3 install keras-tuner\n",
    "!pip3 install matplotlib\n",
    "!pip3 install imblearn"
   ],
   "id": "3a47993e1766df4f"
  },
  {
   "metadata": {},
   "cell_type": "markdown",
   "source": "# Aufgabe 1",
   "id": "4f23b98e8bec9a3e"
  },
  {
   "metadata": {
    "ExecuteTime": {
     "end_time": "2024-04-19T08:40:09.184979Z",
     "start_time": "2024-04-19T08:40:08.352694Z"
    }
   },
   "cell_type": "code",
   "source": [
    "import os\n",
    "os.environ[\"KERAS_BACKEND\"] = \"tensorflow\"\n",
    "import matplotlib.pyplot as plt\n",
    "import pandas as pd\n",
    "import numpy as np\n",
    "from sklearn.model_selection import train_test_split"
   ],
   "id": "7afb645d8eee8308",
   "outputs": [],
   "execution_count": 1
  },
  {
   "metadata": {},
   "cell_type": "markdown",
   "source": "Import data",
   "id": "97aabfa007d964d2"
  },
  {
   "metadata": {
    "ExecuteTime": {
     "end_time": "2024-04-19T08:40:09.194658Z",
     "start_time": "2024-04-19T08:40:09.184979Z"
    }
   },
   "cell_type": "code",
   "source": [
    "white_raw = pd.read_csv(os.getcwd() + \"/dataset/winequality-white.csv\", delimiter=\";\")\n",
    "red_raw = pd.read_csv(os.getcwd() + \"/dataset/winequality-red.csv\", delimiter=\";\")"
   ],
   "id": "4160001e3aab46f7",
   "outputs": [],
   "execution_count": 2
  },
  {
   "metadata": {
    "ExecuteTime": {
     "end_time": "2024-04-19T08:40:09.205079Z",
     "start_time": "2024-04-19T08:40:09.194658Z"
    }
   },
   "cell_type": "code",
   "source": "white_raw",
   "id": "1fcde4a3dd70d6bf",
   "outputs": [
    {
     "data": {
      "text/plain": [
       "      fixed acidity  volatile acidity  citric acid  residual sugar  chlorides  \\\n",
       "0               7.0              0.27         0.36            20.7      0.045   \n",
       "1               6.3              0.30         0.34             1.6      0.049   \n",
       "2               8.1              0.28         0.40             6.9      0.050   \n",
       "3               7.2              0.23         0.32             8.5      0.058   \n",
       "4               7.2              0.23         0.32             8.5      0.058   \n",
       "...             ...               ...          ...             ...        ...   \n",
       "4893            6.2              0.21         0.29             1.6      0.039   \n",
       "4894            6.6              0.32         0.36             8.0      0.047   \n",
       "4895            6.5              0.24         0.19             1.2      0.041   \n",
       "4896            5.5              0.29         0.30             1.1      0.022   \n",
       "4897            6.0              0.21         0.38             0.8      0.020   \n",
       "\n",
       "      free sulfur dioxide  total sulfur dioxide  density    pH  sulphates  \\\n",
       "0                    45.0                 170.0  1.00100  3.00       0.45   \n",
       "1                    14.0                 132.0  0.99400  3.30       0.49   \n",
       "2                    30.0                  97.0  0.99510  3.26       0.44   \n",
       "3                    47.0                 186.0  0.99560  3.19       0.40   \n",
       "4                    47.0                 186.0  0.99560  3.19       0.40   \n",
       "...                   ...                   ...      ...   ...        ...   \n",
       "4893                 24.0                  92.0  0.99114  3.27       0.50   \n",
       "4894                 57.0                 168.0  0.99490  3.15       0.46   \n",
       "4895                 30.0                 111.0  0.99254  2.99       0.46   \n",
       "4896                 20.0                 110.0  0.98869  3.34       0.38   \n",
       "4897                 22.0                  98.0  0.98941  3.26       0.32   \n",
       "\n",
       "      alcohol  quality  \n",
       "0         8.8        6  \n",
       "1         9.5        6  \n",
       "2        10.1        6  \n",
       "3         9.9        6  \n",
       "4         9.9        6  \n",
       "...       ...      ...  \n",
       "4893     11.2        6  \n",
       "4894      9.6        5  \n",
       "4895      9.4        6  \n",
       "4896     12.8        7  \n",
       "4897     11.8        6  \n",
       "\n",
       "[4898 rows x 12 columns]"
      ],
      "text/html": [
       "<div>\n",
       "<style scoped>\n",
       "    .dataframe tbody tr th:only-of-type {\n",
       "        vertical-align: middle;\n",
       "    }\n",
       "\n",
       "    .dataframe tbody tr th {\n",
       "        vertical-align: top;\n",
       "    }\n",
       "\n",
       "    .dataframe thead th {\n",
       "        text-align: right;\n",
       "    }\n",
       "</style>\n",
       "<table border=\"1\" class=\"dataframe\">\n",
       "  <thead>\n",
       "    <tr style=\"text-align: right;\">\n",
       "      <th></th>\n",
       "      <th>fixed acidity</th>\n",
       "      <th>volatile acidity</th>\n",
       "      <th>citric acid</th>\n",
       "      <th>residual sugar</th>\n",
       "      <th>chlorides</th>\n",
       "      <th>free sulfur dioxide</th>\n",
       "      <th>total sulfur dioxide</th>\n",
       "      <th>density</th>\n",
       "      <th>pH</th>\n",
       "      <th>sulphates</th>\n",
       "      <th>alcohol</th>\n",
       "      <th>quality</th>\n",
       "    </tr>\n",
       "  </thead>\n",
       "  <tbody>\n",
       "    <tr>\n",
       "      <th>0</th>\n",
       "      <td>7.0</td>\n",
       "      <td>0.27</td>\n",
       "      <td>0.36</td>\n",
       "      <td>20.7</td>\n",
       "      <td>0.045</td>\n",
       "      <td>45.0</td>\n",
       "      <td>170.0</td>\n",
       "      <td>1.00100</td>\n",
       "      <td>3.00</td>\n",
       "      <td>0.45</td>\n",
       "      <td>8.8</td>\n",
       "      <td>6</td>\n",
       "    </tr>\n",
       "    <tr>\n",
       "      <th>1</th>\n",
       "      <td>6.3</td>\n",
       "      <td>0.30</td>\n",
       "      <td>0.34</td>\n",
       "      <td>1.6</td>\n",
       "      <td>0.049</td>\n",
       "      <td>14.0</td>\n",
       "      <td>132.0</td>\n",
       "      <td>0.99400</td>\n",
       "      <td>3.30</td>\n",
       "      <td>0.49</td>\n",
       "      <td>9.5</td>\n",
       "      <td>6</td>\n",
       "    </tr>\n",
       "    <tr>\n",
       "      <th>2</th>\n",
       "      <td>8.1</td>\n",
       "      <td>0.28</td>\n",
       "      <td>0.40</td>\n",
       "      <td>6.9</td>\n",
       "      <td>0.050</td>\n",
       "      <td>30.0</td>\n",
       "      <td>97.0</td>\n",
       "      <td>0.99510</td>\n",
       "      <td>3.26</td>\n",
       "      <td>0.44</td>\n",
       "      <td>10.1</td>\n",
       "      <td>6</td>\n",
       "    </tr>\n",
       "    <tr>\n",
       "      <th>3</th>\n",
       "      <td>7.2</td>\n",
       "      <td>0.23</td>\n",
       "      <td>0.32</td>\n",
       "      <td>8.5</td>\n",
       "      <td>0.058</td>\n",
       "      <td>47.0</td>\n",
       "      <td>186.0</td>\n",
       "      <td>0.99560</td>\n",
       "      <td>3.19</td>\n",
       "      <td>0.40</td>\n",
       "      <td>9.9</td>\n",
       "      <td>6</td>\n",
       "    </tr>\n",
       "    <tr>\n",
       "      <th>4</th>\n",
       "      <td>7.2</td>\n",
       "      <td>0.23</td>\n",
       "      <td>0.32</td>\n",
       "      <td>8.5</td>\n",
       "      <td>0.058</td>\n",
       "      <td>47.0</td>\n",
       "      <td>186.0</td>\n",
       "      <td>0.99560</td>\n",
       "      <td>3.19</td>\n",
       "      <td>0.40</td>\n",
       "      <td>9.9</td>\n",
       "      <td>6</td>\n",
       "    </tr>\n",
       "    <tr>\n",
       "      <th>...</th>\n",
       "      <td>...</td>\n",
       "      <td>...</td>\n",
       "      <td>...</td>\n",
       "      <td>...</td>\n",
       "      <td>...</td>\n",
       "      <td>...</td>\n",
       "      <td>...</td>\n",
       "      <td>...</td>\n",
       "      <td>...</td>\n",
       "      <td>...</td>\n",
       "      <td>...</td>\n",
       "      <td>...</td>\n",
       "    </tr>\n",
       "    <tr>\n",
       "      <th>4893</th>\n",
       "      <td>6.2</td>\n",
       "      <td>0.21</td>\n",
       "      <td>0.29</td>\n",
       "      <td>1.6</td>\n",
       "      <td>0.039</td>\n",
       "      <td>24.0</td>\n",
       "      <td>92.0</td>\n",
       "      <td>0.99114</td>\n",
       "      <td>3.27</td>\n",
       "      <td>0.50</td>\n",
       "      <td>11.2</td>\n",
       "      <td>6</td>\n",
       "    </tr>\n",
       "    <tr>\n",
       "      <th>4894</th>\n",
       "      <td>6.6</td>\n",
       "      <td>0.32</td>\n",
       "      <td>0.36</td>\n",
       "      <td>8.0</td>\n",
       "      <td>0.047</td>\n",
       "      <td>57.0</td>\n",
       "      <td>168.0</td>\n",
       "      <td>0.99490</td>\n",
       "      <td>3.15</td>\n",
       "      <td>0.46</td>\n",
       "      <td>9.6</td>\n",
       "      <td>5</td>\n",
       "    </tr>\n",
       "    <tr>\n",
       "      <th>4895</th>\n",
       "      <td>6.5</td>\n",
       "      <td>0.24</td>\n",
       "      <td>0.19</td>\n",
       "      <td>1.2</td>\n",
       "      <td>0.041</td>\n",
       "      <td>30.0</td>\n",
       "      <td>111.0</td>\n",
       "      <td>0.99254</td>\n",
       "      <td>2.99</td>\n",
       "      <td>0.46</td>\n",
       "      <td>9.4</td>\n",
       "      <td>6</td>\n",
       "    </tr>\n",
       "    <tr>\n",
       "      <th>4896</th>\n",
       "      <td>5.5</td>\n",
       "      <td>0.29</td>\n",
       "      <td>0.30</td>\n",
       "      <td>1.1</td>\n",
       "      <td>0.022</td>\n",
       "      <td>20.0</td>\n",
       "      <td>110.0</td>\n",
       "      <td>0.98869</td>\n",
       "      <td>3.34</td>\n",
       "      <td>0.38</td>\n",
       "      <td>12.8</td>\n",
       "      <td>7</td>\n",
       "    </tr>\n",
       "    <tr>\n",
       "      <th>4897</th>\n",
       "      <td>6.0</td>\n",
       "      <td>0.21</td>\n",
       "      <td>0.38</td>\n",
       "      <td>0.8</td>\n",
       "      <td>0.020</td>\n",
       "      <td>22.0</td>\n",
       "      <td>98.0</td>\n",
       "      <td>0.98941</td>\n",
       "      <td>3.26</td>\n",
       "      <td>0.32</td>\n",
       "      <td>11.8</td>\n",
       "      <td>6</td>\n",
       "    </tr>\n",
       "  </tbody>\n",
       "</table>\n",
       "<p>4898 rows × 12 columns</p>\n",
       "</div>"
      ]
     },
     "execution_count": 3,
     "metadata": {},
     "output_type": "execute_result"
    }
   ],
   "execution_count": 3
  },
  {
   "metadata": {},
   "cell_type": "markdown",
   "source": "Split wine in Test and Training Data (75% / 25%)",
   "id": "f35c33506d4e5286"
  },
  {
   "metadata": {
    "ExecuteTime": {
     "end_time": "2024-04-19T08:40:09.210835Z",
     "start_time": "2024-04-19T08:40:09.205079Z"
    }
   },
   "cell_type": "code",
   "source": [
    "white_training_Data, white_test_data, white_training_scores, white_test_scores = (train_test_split(white_raw.drop(\"quality\", axis=1), white_raw['quality'],test_size=0.25, random_state=39))\n",
    "\n",
    "red_training_Data, red_test_data, red_training_scores, red_test_scores = (train_test_split(red_raw.drop(\"quality\", axis=1), red_raw['quality'],test_size=0.25, random_state=39))"
   ],
   "id": "580c5e24fed82ef7",
   "outputs": [],
   "execution_count": 4
  },
  {
   "metadata": {},
   "cell_type": "markdown",
   "source": [
    "Normalize the Data\n",
    "Standard Scaler to Scale around 0\n",
    "MIN May to Scale this than between 0-1\n",
    "\n",
    "Some Functionality as tensorflow Normalization Layer"
   ],
   "id": "277c1b6316304bb5"
  },
  {
   "metadata": {
    "ExecuteTime": {
     "end_time": "2024-04-19T08:40:09.336023Z",
     "start_time": "2024-04-19T08:40:09.210835Z"
    }
   },
   "cell_type": "code",
   "source": [
    "from sklearn.pipeline import Pipeline\n",
    "from sklearn.preprocessing import Normalizer, normalize, MinMaxScaler, StandardScaler\n",
    "from imblearn.over_sampling import RandomOverSampler\n",
    "\n",
    "ros = RandomOverSampler(random_state=39)\n",
    "white_training_Data, white_training_scores = ros.fit_resample(white_training_Data, white_training_scores)\n",
    "red_training_Data, red_training_scores = ros.fit_resample(red_training_Data, red_training_scores)\n",
    "\n",
    "pipeline = Pipeline([\n",
    "    ('scaler1', StandardScaler()),\n",
    "    ('scaler2', MinMaxScaler())\n",
    "])\n",
    "\n",
    "white_training_Data_scaled = np.array(pipeline.fit_transform(white_training_Data))\n",
    "white_training_scores = np.array(white_training_scores)\n",
    "white_test_data_scaled = np.array(pipeline.transform(white_test_data))\n",
    "white_test_scores = np.array(white_test_scores)\n",
    "\n",
    "red_training_Data_scaled = np.array(pipeline.fit_transform(red_training_Data))\n",
    "red_training_scores = np.array(red_training_scores)\n",
    "red_test_data_scaled = np.array(pipeline.transform (red_test_data))\n",
    "red_test_scores = np.array(red_test_scores)\n"
   ],
   "id": "a7db3b106afd6d33",
   "outputs": [],
   "execution_count": 5
  },
  {
   "metadata": {
    "ExecuteTime": {
     "end_time": "2024-04-19T08:40:09.340484Z",
     "start_time": "2024-04-19T08:40:09.336023Z"
    }
   },
   "cell_type": "code",
   "source": "white_training_Data_scaled",
   "id": "51f1963906260ecb",
   "outputs": [
    {
     "data": {
      "text/plain": [
       "array([[0.33653846, 0.29411765, 0.13855422, ..., 0.35185185, 0.39285714,\n",
       "        0.51612903],\n",
       "       [0.24038462, 0.24509804, 0.12048193, ..., 0.38888889, 0.3452381 ,\n",
       "        0.12903226],\n",
       "       [0.34615385, 0.32352941, 0.39759036, ..., 0.30555556, 0.28571429,\n",
       "        0.11290323],\n",
       "       ...,\n",
       "       [0.26923077, 0.2745098 , 0.1746988 , ..., 0.63888889, 0.46428571,\n",
       "        0.70967742],\n",
       "       [0.29807692, 0.2745098 , 0.20481928, ..., 0.51851852, 0.16666667,\n",
       "        0.75806452],\n",
       "       [0.26923077, 0.2745098 , 0.1746988 , ..., 0.63888889, 0.46428571,\n",
       "        0.70967742]])"
      ]
     },
     "execution_count": 6,
     "metadata": {},
     "output_type": "execute_result"
    }
   ],
   "execution_count": 6
  },
  {
   "metadata": {},
   "cell_type": "markdown",
   "source": "# Aufgabe 3",
   "id": "4e5e298fb6355054"
  },
  {
   "metadata": {},
   "cell_type": "markdown",
   "source": "## General Model definition",
   "id": "7d4751e485a223c1"
  },
  {
   "metadata": {
    "ExecuteTime": {
     "end_time": "2024-04-19T08:40:10.893604Z",
     "start_time": "2024-04-19T08:40:09.340484Z"
    }
   },
   "cell_type": "code",
   "source": [
    "from math import sqrt\n",
    "\n",
    "import keras\n",
    "from keras import layers\n",
    "from keras.src.models.cloning import clone_model\n",
    "\n",
    "import tensorflow as tf\n",
    "\n",
    "from sklearn.metrics import mean_squared_error\n",
    "from sklearn.metrics import r2_score, mean_absolute_percentage_error\n",
    "from sklearn.model_selection import KFold\n",
    "\n",
    "import keras_tuner"
   ],
   "id": "83ee2365a96b07c9",
   "outputs": [],
   "execution_count": 7
  },
  {
   "metadata": {
    "ExecuteTime": {
     "end_time": "2024-04-19T08:40:10.896622Z",
     "start_time": "2024-04-19T08:40:10.893604Z"
    }
   },
   "cell_type": "code",
   "source": [
    "#Check and Print Tensorflow GPU Availability\n",
    "print(\"Num GPUs Available: \", len(tf.config.list_physical_devices('GPU')))"
   ],
   "id": "3bde899157cc2a6c",
   "outputs": [
    {
     "name": "stdout",
     "output_type": "stream",
     "text": [
      "Num GPUs Available:  0\n"
     ]
    }
   ],
   "execution_count": 8
  },
  {
   "metadata": {
    "ExecuteTime": {
     "end_time": "2024-04-19T08:40:10.905348Z",
     "start_time": "2024-04-19T08:40:10.896622Z"
    }
   },
   "cell_type": "code",
   "source": [
    "from sklearn.metrics import confusion_matrix, ConfusionMatrixDisplay\n",
    "def plot_loss(keras_regressor_model):\n",
    "  plt.plot(keras_regressor_model.history['loss'], label='loss')\n",
    "  plt.plot(keras_regressor_model.history['val_loss'], label='val_loss')\n",
    "  plt.ylim([0, 2])\n",
    "  plt.xlabel('Epoch')\n",
    "  plt.ylabel('Mean Squared Error [Wine Quality Score]')\n",
    "  plt.legend()\n",
    "  plt.grid(True)\n",
    "  plt.show()\n",
    "  \n",
    "def plot_metrics(test_scores, test_predictions):\n",
    "    a = plt.axes(aspect='equal')\n",
    "    plt.scatter(test_scores, test_predictions)\n",
    "    plt.xlabel('True Values [winequality-white]')\n",
    "    plt.ylabel('Predictions [winequality-white]')\n",
    "    lims = [0, 10]\n",
    "    plt.xlim(lims)\n",
    "    plt.ylim(lims)\n",
    "    _ = plt.plot(lims, lims)\n",
    "    plt.show()\n",
    "    \n",
    "    cm = confusion_matrix(test_scores, test_predictions.round(), labels=[0, 1,2,3,4,5,6,7,8,9,10])\n",
    "    cm_disp = ConfusionMatrixDisplay(cm)\n",
    "    cm_disp.plot()"
   ],
   "id": "7f8221c6ce32687a",
   "outputs": [],
   "execution_count": 9
  },
  {
   "metadata": {
    "ExecuteTime": {
     "end_time": "2024-04-19T08:40:10.909536Z",
     "start_time": "2024-04-19T08:40:10.906352Z"
    }
   },
   "cell_type": "code",
   "source": [
    "def create_model_tuner(hp, learning_rate):    \n",
    "    # Konfiguriere die Verteilungsstrategie\n",
    "    input_layer = layers.Input(shape=(11,))\n",
    "    model = keras.Sequential([\n",
    "        input_layer       \n",
    "    ])\n",
    "    \n",
    "    for i in range(hp.Int(\"num_layers\", 2, 2)):\n",
    "        model.add(\n",
    "            layers.Dense(\n",
    "                # Tune number of units separately.\n",
    "                units=hp.Int(f\"units_{i}\", min_value=2, max_value=220, step=2),\n",
    "                activation='relu',\n",
    "            )\n",
    "        )\n",
    "        model.add(layers.Dropout(rate=0.2))\n",
    "    model.add(layers.Dense(1))#output\n",
    "    \n",
    "    model.compile(loss=keras.losses.mean_squared_error,\n",
    "            optimizer=keras.optimizers.Adam(learning_rate=learning_rate), metrics=[keras.metrics.mean_absolute_percentage_error, keras.metrics.R2Score])      \n",
    "    \n",
    "    return model"
   ],
   "id": "182ee7b7404dd257",
   "outputs": [],
   "execution_count": 10
  },
  {
   "metadata": {
    "ExecuteTime": {
     "end_time": "2024-04-19T08:40:10.915224Z",
     "start_time": "2024-04-19T08:40:10.909536Z"
    }
   },
   "cell_type": "code",
   "source": [
    "import concurrent.futures\n",
    "def fit_and_evaluate_model(model: keras.Sequential, x_train, y_train, x_test, y_test, **kwargs):\n",
    "    model_history = model.fit(x_train, y_train, batch_size=64, epochs=100, validation_data=(x_test, y_test), verbose=0, **kwargs)\n",
    "    score = model_history.history['val_loss'][-1]\n",
    "    \n",
    "    return score, model_history\n",
    "    \n",
    "\n",
    "def evaluate_model_cv(learning_rate, model, training_data, training_scores, **kwargs):\n",
    "    cv_scores = []\n",
    "    models_history = []\n",
    "    \n",
    "    kfold = KFold(n_splits=5, shuffle=True) #Cross Validation cv=5\n",
    "    for i, (train_index, test_index) in enumerate(kfold.split(training_data, training_scores)):\n",
    "        local_model = clone_model(model)\n",
    "        #model needs recompiling after clones - recompiled with same parameters\n",
    "        local_model.compile(\n",
    "            loss=keras.losses.mean_squared_error, \n",
    "            optimizer=keras.optimizers.Adam(learning_rate=learning_rate), \n",
    "            metrics=[keras.metrics.mean_absolute_percentage_error, keras.metrics.R2Score])  \n",
    "\n",
    "        score, model_history = fit_and_evaluate_model(local_model, training_data[train_index], training_scores[train_index], training_data[test_index], training_scores[test_index], **kwargs)\n",
    "        print(score)\n",
    "        cv_scores.append(score)\n",
    "        \n",
    "    cv_scores = np.array(cv_scores)\n",
    "    #cv_score_mean = np.mean(cv_scores[:, 0])\n",
    "    cv_score_mean = np.mean(cv_scores)\n",
    "    \n",
    "    return cv_score_mean\n",
    "\n",
    "\n",
    "def evaluate_model_cv_print(learning_rate, model, training_data, training_scores, valid_data, valid_scores,  **kwargs):\n",
    "    cv_scores = []\n",
    "    models_history = []\n",
    "    \n",
    "    kfold = KFold(n_splits=5, shuffle=True) #Cross Validation cv=5\n",
    "    for i, (train_index, test_index) in enumerate(kfold.split(training_data, training_scores)):\n",
    "        local_model = clone_model(model)\n",
    "        local_model.compile(\n",
    "            loss=keras.losses.mean_squared_error, \n",
    "            optimizer=keras.optimizers.Adam(learning_rate=learning_rate), \n",
    "            metrics=[keras.metrics.mean_absolute_percentage_error, keras.metrics.R2Score])\n",
    "        \n",
    "        model_history = local_model.fit(training_data[train_index], training_scores[train_index], batch_size=64, epochs=512, validation_data=(training_data[test_index], training_scores[test_index]), verbose=0, **kwargs)\n",
    "        cv_scores.append(local_model.evaluate(training_data[test_index], training_scores[test_index]))\n",
    "        models_history.append((local_model, model_history))\n",
    "        \n",
    "    cv_scores = np.array(cv_scores)\n",
    "        \n",
    "    print('\\r\\nCross Validation')\n",
    "    print(f'- R^2: {cv_scores[:, 2]}')\n",
    "    print(f'- R^2 Durchschnittlicher: {np.mean(cv_scores[:, 2]):.4f}')\n",
    "    print(f'- R^2 Standardabweichung: {np.std(cv_scores[:, 2]):.4f}')\n",
    "    print('\\r\\n')\n",
    "    \n",
    "    #get best model\n",
    "    best_model_index = np.argmax(cv_scores[:, 2])   #get best r2 score model\n",
    "    optimal_model = models_history[best_model_index]\n",
    "    \n",
    "    predicted_test_scores = optimal_model[0].predict(valid_data)\n",
    "    \n",
    "    r2_score_test = r2_score(valid_scores, predicted_test_scores)\n",
    "    rmse_test = sqrt(mean_squared_error(valid_scores, predicted_test_scores))\n",
    "    mape_test = mean_absolute_percentage_error(valid_scores, predicted_test_scores)\n",
    "    \n",
    "    print('Test:')\n",
    "    print(f'- R^2: {r2_score_test:.4f}')\n",
    "    print(f'- RMSE: {rmse_test:.2f}')\n",
    "    print(f'- MAPE: {mape_test:.2%}')\n",
    "    \n",
    "    plot_loss(optimal_model[1])\n",
    "    plot_metrics(valid_scores, predicted_test_scores)\n",
    "    \n",
    "    return cv_scores, optimal_model\n",
    "    \n",
    "        "
   ],
   "id": "ff5e2f6569da43b2",
   "outputs": [],
   "execution_count": 11
  },
  {
   "metadata": {},
   "cell_type": "markdown",
   "source": [
    "Ablauf Hyperparameter optimierung:\n",
    "Fitting 5 folds for each of x candidates totalling 5x fits\n",
    "Select best model based on r2 score mean (valid)"
   ],
   "id": "20aff0fcabd87ab"
  },
  {
   "metadata": {
    "ExecuteTime": {
     "end_time": "2024-04-19T08:40:10.918886Z",
     "start_time": "2024-04-19T08:40:10.915224Z"
    }
   },
   "cell_type": "code",
   "source": [
    "class HyperRegressor(keras_tuner.HyperModel):\n",
    "    def build(self, hp):\n",
    "        learning_rate = hp.Float(\"lr\", min_value=1e-4, max_value=1e-2, sampling=\"log\")\n",
    "        return create_model_tuner(hp, learning_rate)\n",
    "\n",
    "    def fit(self, hp, model, x, y, **kwargs):\n",
    "        # Return a single float to maximize\n",
    "        learning_rate = hp.get(\"lr\")\n",
    "        return evaluate_model_cv(learning_rate, model, x, y, **kwargs)"
   ],
   "id": "e4fc5dd69d91eb05",
   "outputs": [],
   "execution_count": 12
  },
  {
   "metadata": {},
   "cell_type": "markdown",
   "source": "## White Wine",
   "id": "c887c743e48975cd"
  },
  {
   "metadata": {
    "ExecuteTime": {
     "end_time": "2024-04-19T08:40:10.931952Z",
     "start_time": "2024-04-19T08:40:10.918886Z"
    }
   },
   "cell_type": "code",
   "source": [
    "tuner = keras_tuner.RandomSearch(\n",
    "    hypermodel=HyperRegressor(),\n",
    "    objective = keras_tuner.Objective(name=\"\", direction='min'),\n",
    "    max_trials=5,\n",
    "    overwrite=False,\n",
    "    directory=\"wine_score_training\",\n",
    "    project_name=\"white\",\n",
    ")"
   ],
   "id": "527545615ad27775",
   "outputs": [
    {
     "name": "stdout",
     "output_type": "stream",
     "text": [
      "Reloading Tuner from wine_score_training\\white\\tuner0.json\n"
     ]
    }
   ],
   "execution_count": 13
  },
  {
   "metadata": {},
   "cell_type": "markdown",
   "source": "Following cell could be disabled if values should just be loaded",
   "id": "fa7e3a40467b6a6"
  },
  {
   "metadata": {
    "ExecuteTime": {
     "end_time": "2024-04-19T08:40:10.934756Z",
     "start_time": "2024-04-19T08:40:10.931952Z"
    }
   },
   "cell_type": "code",
   "source": [
    "tuner.search(\n",
    "    x=white_training_Data_scaled,\n",
    "    y=white_training_scores,\n",
    ")\n",
    "\n",
    "tuner.results_summary()"
   ],
   "id": "e76a2255b09fe670",
   "outputs": [
    {
     "name": "stdout",
     "output_type": "stream",
     "text": [
      "Results summary\n",
      "Results in wine_score_training\\white\n",
      "Showing 10 best trials\n",
      "Objective(name=\"\", direction=\"min\")\n",
      "\n",
      "Trial 2 summary\n",
      "Hyperparameters:\n",
      "lr: 0.002683948539131404\n",
      "num_layers: 2\n",
      "units_0: 218\n",
      "units_1: 112\n",
      "Score: 0.2858366370201111\n",
      "\n",
      "Trial 1 summary\n",
      "Hyperparameters:\n",
      "lr: 0.0008657947905507466\n",
      "num_layers: 2\n",
      "units_0: 206\n",
      "units_1: 156\n",
      "Score: 0.3432918429374695\n",
      "\n",
      "Trial 4 summary\n",
      "Hyperparameters:\n",
      "lr: 0.007777725215796662\n",
      "num_layers: 2\n",
      "units_0: 170\n",
      "units_1: 24\n",
      "Score: 0.41993152499198916\n",
      "\n",
      "Trial 3 summary\n",
      "Hyperparameters:\n",
      "lr: 0.002206626353477078\n",
      "num_layers: 2\n",
      "units_0: 170\n",
      "units_1: 22\n",
      "Score: 0.43069403171539306\n",
      "\n",
      "Trial 0 summary\n",
      "Hyperparameters:\n",
      "lr: 0.000596921247059964\n",
      "num_layers: 2\n",
      "units_0: 2\n",
      "units_1: 112\n",
      "Score: 1.8987417221069336\n"
     ]
    }
   ],
   "execution_count": 14
  },
  {
   "metadata": {},
   "cell_type": "markdown",
   "source": "Note: the Input layer is there implicitly, but it is not considered a layer proper and it does not show up in model.summary()",
   "id": "f902fbb34b092f6b"
  },
  {
   "metadata": {
    "ExecuteTime": {
     "end_time": "2024-04-19T08:40:11.590647Z",
     "start_time": "2024-04-19T08:40:10.934756Z"
    }
   },
   "cell_type": "code",
   "source": [
    "best_model = tuner.get_best_models()[0]\n",
    "best_model.summary()"
   ],
   "id": "f18808ad89607bf6",
   "outputs": [
    {
     "name": "stdout",
     "output_type": "stream",
     "text": [
      "WARNING:tensorflow:From C:\\GitClones\\TINF21C_Maschinelles-Lernen\\Programmierabgabe 2\\.venv\\Lib\\site-packages\\keras\\src\\backend\\common\\global_state.py:74: The name tf.reset_default_graph is deprecated. Please use tf.compat.v1.reset_default_graph instead.\n",
      "\n"
     ]
    },
    {
     "name": "stderr",
     "output_type": "stream",
     "text": [
      "C:\\GitClones\\TINF21C_Maschinelles-Lernen\\Programmierabgabe 2\\.venv\\Lib\\site-packages\\keras\\src\\saving\\saving_lib.py:418: UserWarning: Skipping variable loading for optimizer 'adam', because it has 2 variables whereas the saved optimizer has 14 variables. \n",
      "  trackable.load_own_variables(weights_store.get(inner_path))\n"
     ]
    },
    {
     "data": {
      "text/plain": [
       "\u001B[1mModel: \"sequential\"\u001B[0m\n"
      ],
      "text/html": [
       "<pre style=\"white-space:pre;overflow-x:auto;line-height:normal;font-family:Menlo,'DejaVu Sans Mono',consolas,'Courier New',monospace\"><span style=\"font-weight: bold\">Model: \"sequential\"</span>\n",
       "</pre>\n"
      ]
     },
     "metadata": {},
     "output_type": "display_data"
    },
    {
     "data": {
      "text/plain": [
       "┏━━━━━━━━━━━━━━━━━━━━━━━━━━━━━━━━━┳━━━━━━━━━━━━━━━━━━━━━━━━┳━━━━━━━━━━━━━━━┓\n",
       "┃\u001B[1m \u001B[0m\u001B[1mLayer (type)                   \u001B[0m\u001B[1m \u001B[0m┃\u001B[1m \u001B[0m\u001B[1mOutput Shape          \u001B[0m\u001B[1m \u001B[0m┃\u001B[1m \u001B[0m\u001B[1m      Param #\u001B[0m\u001B[1m \u001B[0m┃\n",
       "┡━━━━━━━━━━━━━━━━━━━━━━━━━━━━━━━━━╇━━━━━━━━━━━━━━━━━━━━━━━━╇━━━━━━━━━━━━━━━┩\n",
       "│ dense (\u001B[38;5;33mDense\u001B[0m)                   │ (\u001B[38;5;45mNone\u001B[0m, \u001B[38;5;34m218\u001B[0m)            │         \u001B[38;5;34m2,616\u001B[0m │\n",
       "├─────────────────────────────────┼────────────────────────┼───────────────┤\n",
       "│ dropout (\u001B[38;5;33mDropout\u001B[0m)               │ (\u001B[38;5;45mNone\u001B[0m, \u001B[38;5;34m218\u001B[0m)            │             \u001B[38;5;34m0\u001B[0m │\n",
       "├─────────────────────────────────┼────────────────────────┼───────────────┤\n",
       "│ dense_1 (\u001B[38;5;33mDense\u001B[0m)                 │ (\u001B[38;5;45mNone\u001B[0m, \u001B[38;5;34m112\u001B[0m)            │        \u001B[38;5;34m24,528\u001B[0m │\n",
       "├─────────────────────────────────┼────────────────────────┼───────────────┤\n",
       "│ dropout_1 (\u001B[38;5;33mDropout\u001B[0m)             │ (\u001B[38;5;45mNone\u001B[0m, \u001B[38;5;34m112\u001B[0m)            │             \u001B[38;5;34m0\u001B[0m │\n",
       "├─────────────────────────────────┼────────────────────────┼───────────────┤\n",
       "│ dense_2 (\u001B[38;5;33mDense\u001B[0m)                 │ (\u001B[38;5;45mNone\u001B[0m, \u001B[38;5;34m1\u001B[0m)              │           \u001B[38;5;34m113\u001B[0m │\n",
       "└─────────────────────────────────┴────────────────────────┴───────────────┘\n"
      ],
      "text/html": [
       "<pre style=\"white-space:pre;overflow-x:auto;line-height:normal;font-family:Menlo,'DejaVu Sans Mono',consolas,'Courier New',monospace\">┏━━━━━━━━━━━━━━━━━━━━━━━━━━━━━━━━━┳━━━━━━━━━━━━━━━━━━━━━━━━┳━━━━━━━━━━━━━━━┓\n",
       "┃<span style=\"font-weight: bold\"> Layer (type)                    </span>┃<span style=\"font-weight: bold\"> Output Shape           </span>┃<span style=\"font-weight: bold\">       Param # </span>┃\n",
       "┡━━━━━━━━━━━━━━━━━━━━━━━━━━━━━━━━━╇━━━━━━━━━━━━━━━━━━━━━━━━╇━━━━━━━━━━━━━━━┩\n",
       "│ dense (<span style=\"color: #0087ff; text-decoration-color: #0087ff\">Dense</span>)                   │ (<span style=\"color: #00d7ff; text-decoration-color: #00d7ff\">None</span>, <span style=\"color: #00af00; text-decoration-color: #00af00\">218</span>)            │         <span style=\"color: #00af00; text-decoration-color: #00af00\">2,616</span> │\n",
       "├─────────────────────────────────┼────────────────────────┼───────────────┤\n",
       "│ dropout (<span style=\"color: #0087ff; text-decoration-color: #0087ff\">Dropout</span>)               │ (<span style=\"color: #00d7ff; text-decoration-color: #00d7ff\">None</span>, <span style=\"color: #00af00; text-decoration-color: #00af00\">218</span>)            │             <span style=\"color: #00af00; text-decoration-color: #00af00\">0</span> │\n",
       "├─────────────────────────────────┼────────────────────────┼───────────────┤\n",
       "│ dense_1 (<span style=\"color: #0087ff; text-decoration-color: #0087ff\">Dense</span>)                 │ (<span style=\"color: #00d7ff; text-decoration-color: #00d7ff\">None</span>, <span style=\"color: #00af00; text-decoration-color: #00af00\">112</span>)            │        <span style=\"color: #00af00; text-decoration-color: #00af00\">24,528</span> │\n",
       "├─────────────────────────────────┼────────────────────────┼───────────────┤\n",
       "│ dropout_1 (<span style=\"color: #0087ff; text-decoration-color: #0087ff\">Dropout</span>)             │ (<span style=\"color: #00d7ff; text-decoration-color: #00d7ff\">None</span>, <span style=\"color: #00af00; text-decoration-color: #00af00\">112</span>)            │             <span style=\"color: #00af00; text-decoration-color: #00af00\">0</span> │\n",
       "├─────────────────────────────────┼────────────────────────┼───────────────┤\n",
       "│ dense_2 (<span style=\"color: #0087ff; text-decoration-color: #0087ff\">Dense</span>)                 │ (<span style=\"color: #00d7ff; text-decoration-color: #00d7ff\">None</span>, <span style=\"color: #00af00; text-decoration-color: #00af00\">1</span>)              │           <span style=\"color: #00af00; text-decoration-color: #00af00\">113</span> │\n",
       "└─────────────────────────────────┴────────────────────────┴───────────────┘\n",
       "</pre>\n"
      ]
     },
     "metadata": {},
     "output_type": "display_data"
    },
    {
     "data": {
      "text/plain": [
       "\u001B[1m Total params: \u001B[0m\u001B[38;5;34m27,257\u001B[0m (106.47 KB)\n"
      ],
      "text/html": [
       "<pre style=\"white-space:pre;overflow-x:auto;line-height:normal;font-family:Menlo,'DejaVu Sans Mono',consolas,'Courier New',monospace\"><span style=\"font-weight: bold\"> Total params: </span><span style=\"color: #00af00; text-decoration-color: #00af00\">27,257</span> (106.47 KB)\n",
       "</pre>\n"
      ]
     },
     "metadata": {},
     "output_type": "display_data"
    },
    {
     "data": {
      "text/plain": [
       "\u001B[1m Trainable params: \u001B[0m\u001B[38;5;34m27,257\u001B[0m (106.47 KB)\n"
      ],
      "text/html": [
       "<pre style=\"white-space:pre;overflow-x:auto;line-height:normal;font-family:Menlo,'DejaVu Sans Mono',consolas,'Courier New',monospace\"><span style=\"font-weight: bold\"> Trainable params: </span><span style=\"color: #00af00; text-decoration-color: #00af00\">27,257</span> (106.47 KB)\n",
       "</pre>\n"
      ]
     },
     "metadata": {},
     "output_type": "display_data"
    },
    {
     "data": {
      "text/plain": [
       "\u001B[1m Non-trainable params: \u001B[0m\u001B[38;5;34m0\u001B[0m (0.00 B)\n"
      ],
      "text/html": [
       "<pre style=\"white-space:pre;overflow-x:auto;line-height:normal;font-family:Menlo,'DejaVu Sans Mono',consolas,'Courier New',monospace\"><span style=\"font-weight: bold\"> Non-trainable params: </span><span style=\"color: #00af00; text-decoration-color: #00af00\">0</span> (0.00 B)\n",
       "</pre>\n"
      ]
     },
     "metadata": {},
     "output_type": "display_data"
    }
   ],
   "execution_count": 15
  },
  {
   "metadata": {
    "ExecuteTime": {
     "end_time": "2024-04-19T08:45:43.928706Z",
     "start_time": "2024-04-19T08:40:11.590647Z"
    }
   },
   "cell_type": "code",
   "source": [
    "%%time\n",
    "#Retrain best Model\n",
    "best_hp = tuner.get_best_hyperparameters()[0]\n",
    "best_model = HyperRegressor().build(best_hp)\n",
    "learning_rate = best_hp.get(\"lr\")\n",
    "best_model_history = evaluate_model_cv_print(learning_rate, best_model, white_training_Data_scaled, white_training_scores, white_test_data_scaled, white_test_scores)\n",
    "best_model_history"
   ],
   "id": "93db6616d7a69c45",
   "outputs": [
    {
     "name": "stdout",
     "output_type": "stream",
     "text": [
      "\u001B[1m72/72\u001B[0m \u001B[32m━━━━━━━━━━━━━━━━━━━━\u001B[0m\u001B[37m\u001B[0m \u001B[1m0s\u001B[0m 430us/step - loss: 0.2550 - mean_absolute_percentage_error: 6.2975 - r2_score: 0.7816\n",
      "\u001B[1m72/72\u001B[0m \u001B[32m━━━━━━━━━━━━━━━━━━━━\u001B[0m\u001B[37m\u001B[0m \u001B[1m0s\u001B[0m 409us/step - loss: 0.2615 - mean_absolute_percentage_error: 6.5530 - r2_score: 0.7619\n",
      "\u001B[1m72/72\u001B[0m \u001B[32m━━━━━━━━━━━━━━━━━━━━\u001B[0m\u001B[37m\u001B[0m \u001B[1m0s\u001B[0m 416us/step - loss: 0.2518 - mean_absolute_percentage_error: 6.2088 - r2_score: 0.7996\n",
      "\u001B[1m72/72\u001B[0m \u001B[32m━━━━━━━━━━━━━━━━━━━━\u001B[0m\u001B[37m\u001B[0m \u001B[1m0s\u001B[0m 310us/step - loss: 0.2671 - mean_absolute_percentage_error: 6.2024 - r2_score: 0.7920\n",
      "\u001B[1m72/72\u001B[0m \u001B[32m━━━━━━━━━━━━━━━━━━━━\u001B[0m\u001B[37m\u001B[0m \u001B[1m0s\u001B[0m 331us/step - loss: 0.2786 - mean_absolute_percentage_error: 6.1949 - r2_score: 0.7714\n",
      "\r\n",
      "Cross Validation\n",
      "- R^2: [0.96131182 0.96444941 0.96102953 0.95636815 0.95839357]\n",
      "- R^2 Durchschnittlicher: 0.9603\n",
      "- R^2 Standardabweichung: 0.0028\n",
      "\r\n",
      "\n",
      "\u001B[1m39/39\u001B[0m \u001B[32m━━━━━━━━━━━━━━━━━━━━\u001B[0m\u001B[37m\u001B[0m \u001B[1m0s\u001B[0m 642us/step\n",
      "Test:\n",
      "- R^2: 0.2898\n",
      "- RMSE: 0.75\n",
      "- MAPE: 9.87%\n"
     ]
    },
    {
     "data": {
      "text/plain": [
       "<Figure size 640x480 with 1 Axes>"
      ],
      "image/png": "[encoded data removed]"
     },
     "metadata": {},
     "output_type": "display_data"
    },
    {
     "data": {
      "text/plain": [
       "<Figure size 640x480 with 1 Axes>"
      ],
      "image/png": "[encoded data removed]"
     },
     "metadata": {},
     "output_type": "display_data"
    },
    {
     "name": "stdout",
     "output_type": "stream",
     "text": [
      "CPU times: total: 48.7 s\n",
      "Wall time: 5min 32s\n"
     ]
    },
    {
     "data": {
      "text/plain": [
       "(array([[0.1542107 , 4.45728016, 0.96131182],\n",
       "        [0.14791885, 4.49845886, 0.96444941],\n",
       "        [0.15570462, 4.50561762, 0.96102953],\n",
       "        [0.17099798, 4.68437815, 0.95636815],\n",
       "        [0.16340664, 4.27979326, 0.95839357]]),\n",
       " (<Sequential name=sequential_1, built=True>,\n",
       "  <keras.src.callbacks.history.History at 0x1aedb433b90>))"
      ]
     },
     "execution_count": 16,
     "metadata": {},
     "output_type": "execute_result"
    },
    {
     "data": {
      "text/plain": [
       "<Figure size 640x480 with 2 Axes>"
      ],
      "image/png": "[encoded data removed]"
     },
     "metadata": {},
     "output_type": "display_data"
    }
   ],
   "execution_count": 16
  },
  {
   "metadata": {
    "ExecuteTime": {
     "end_time": "2024-04-19T08:45:43.932232Z",
     "start_time": "2024-04-19T08:45:43.928706Z"
    }
   },
   "cell_type": "code",
   "source": "best_hp.values",
   "id": "4a636f525cac62e7",
   "outputs": [
    {
     "data": {
      "text/plain": [
       "{'lr': 0.002683948539131404, 'num_layers': 2, 'units_0': 218, 'units_1': 112}"
      ]
     },
     "execution_count": 17,
     "metadata": {},
     "output_type": "execute_result"
    }
   ],
   "execution_count": 17
  },
  {
   "metadata": {},
   "cell_type": "markdown",
   "source": "## RED Wine",
   "id": "7c84be6b3622c9e"
  },
  {
   "metadata": {
    "ExecuteTime": {
     "end_time": "2024-04-19T08:45:43.952624Z",
     "start_time": "2024-04-19T08:45:43.932232Z"
    }
   },
   "cell_type": "code",
   "source": [
    "red_tuner = keras_tuner.RandomSearch(\n",
    "    hypermodel=HyperRegressor(),\n",
    "    objective = keras_tuner.Objective(name=\"val_r2_score\", direction='max'),\n",
    "    max_trials=5,\n",
    "    overwrite=False,\n",
    "    directory=\"wine_score_training\",\n",
    "    project_name=\"red\",\n",
    ")"
   ],
   "id": "ec9d082ca050879b",
   "outputs": [],
   "execution_count": 18
  },
  {
   "metadata": {},
   "cell_type": "code",
   "source": [
    "red_tuner.search(\n",
    "    x=red_training_Data_scaled,\n",
    "    y=red_training_scores,\n",
    ")\n",
    "\n",
    "red_tuner.results_summary()"
   ],
   "id": "54cfba8b4d9643e",
   "execution_count": 19,
   "outputs": [
    {
     "name": "stdout",
     "output_type": "stream",
     "text": [
      "Trial 5 Complete [00h 00m 27s]\n",
      "val_r2_score: 0.3742558419704437\n",
      "\n",
      "Best val_r2_score So Far: 0.5515918016433716\n",
      "Total elapsed time: 00h 02m 16s\n",
      "Results summary\n",
      "Results in wine_score_training\\red\n",
      "Showing 10 best trials\n",
      "Objective(name=\"val_r2_score\", direction=\"max\")\n",
      "\n",
      "Trial 0 summary\n",
      "Hyperparameters:\n",
      "lr: 0.00134650033602513\n",
      "num_layers: 2\n",
      "units_0: 92\n",
      "units_1: 6\n",
      "Score: 0.5515918016433716\n",
      "\n",
      "Trial 1 summary\n",
      "Hyperparameters:\n",
      "lr: 0.0008402218420646586\n",
      "num_layers: 2\n",
      "units_0: 40\n",
      "units_1: 100\n",
      "Score: 0.4825149834156036\n",
      "\n",
      "Trial 2 summary\n",
      "Hyperparameters:\n",
      "lr: 0.0003555649369416632\n",
      "num_layers: 2\n",
      "units_0: 162\n",
      "units_1: 130\n",
      "Score: 0.45422751903533937\n",
      "\n",
      "Trial 4 summary\n",
      "Hyperparameters:\n",
      "lr: 0.004569579155191588\n",
      "num_layers: 2\n",
      "units_0: 184\n",
      "units_1: 56\n",
      "Score: 0.3742558419704437\n",
      "\n",
      "Trial 3 summary\n",
      "Hyperparameters:\n",
      "lr: 0.0012633033032926032\n",
      "num_layers: 2\n",
      "units_0: 190\n",
      "units_1: 142\n",
      "Score: 0.36670589447021484\n"
     ]
    }
   ]
  },
  {
   "metadata": {
    "ExecuteTime": {
     "end_time": "2024-04-19T08:48:00.576663Z",
     "start_time": "2024-04-19T08:48:00.052793Z"
    }
   },
   "cell_type": "code",
   "source": [
    "best_red_model = red_tuner.get_best_models()[0]\n",
    "best_red_model.summary()"
   ],
   "id": "b87475aa64a74154",
   "outputs": [
    {
     "name": "stderr",
     "output_type": "stream",
     "text": [
      "C:\\GitClones\\TINF21C_Maschinelles-Lernen\\Programmierabgabe 2\\.venv\\Lib\\site-packages\\keras\\src\\saving\\saving_lib.py:418: UserWarning: Skipping variable loading for optimizer 'adam', because it has 2 variables whereas the saved optimizer has 14 variables. \n",
      "  trackable.load_own_variables(weights_store.get(inner_path))\n"
     ]
    },
    {
     "data": {
      "text/plain": [
       "\u001B[1mModel: \"sequential\"\u001B[0m\n"
      ],
      "text/html": [
       "<pre style=\"white-space:pre;overflow-x:auto;line-height:normal;font-family:Menlo,'DejaVu Sans Mono',consolas,'Courier New',monospace\"><span style=\"font-weight: bold\">Model: \"sequential\"</span>\n",
       "</pre>\n"
      ]
     },
     "metadata": {},
     "output_type": "display_data"
    },
    {
     "data": {
      "text/plain": [
       "┏━━━━━━━━━━━━━━━━━━━━━━━━━━━━━━━━━┳━━━━━━━━━━━━━━━━━━━━━━━━┳━━━━━━━━━━━━━━━┓\n",
       "┃\u001B[1m \u001B[0m\u001B[1mLayer (type)                   \u001B[0m\u001B[1m \u001B[0m┃\u001B[1m \u001B[0m\u001B[1mOutput Shape          \u001B[0m\u001B[1m \u001B[0m┃\u001B[1m \u001B[0m\u001B[1m      Param #\u001B[0m\u001B[1m \u001B[0m┃\n",
       "┡━━━━━━━━━━━━━━━━━━━━━━━━━━━━━━━━━╇━━━━━━━━━━━━━━━━━━━━━━━━╇━━━━━━━━━━━━━━━┩\n",
       "│ dense (\u001B[38;5;33mDense\u001B[0m)                   │ (\u001B[38;5;45mNone\u001B[0m, \u001B[38;5;34m92\u001B[0m)             │         \u001B[38;5;34m1,104\u001B[0m │\n",
       "├─────────────────────────────────┼────────────────────────┼───────────────┤\n",
       "│ dropout (\u001B[38;5;33mDropout\u001B[0m)               │ (\u001B[38;5;45mNone\u001B[0m, \u001B[38;5;34m92\u001B[0m)             │             \u001B[38;5;34m0\u001B[0m │\n",
       "├─────────────────────────────────┼────────────────────────┼───────────────┤\n",
       "│ dense_1 (\u001B[38;5;33mDense\u001B[0m)                 │ (\u001B[38;5;45mNone\u001B[0m, \u001B[38;5;34m6\u001B[0m)              │           \u001B[38;5;34m558\u001B[0m │\n",
       "├─────────────────────────────────┼────────────────────────┼───────────────┤\n",
       "│ dropout_1 (\u001B[38;5;33mDropout\u001B[0m)             │ (\u001B[38;5;45mNone\u001B[0m, \u001B[38;5;34m6\u001B[0m)              │             \u001B[38;5;34m0\u001B[0m │\n",
       "├─────────────────────────────────┼────────────────────────┼───────────────┤\n",
       "│ dense_2 (\u001B[38;5;33mDense\u001B[0m)                 │ (\u001B[38;5;45mNone\u001B[0m, \u001B[38;5;34m1\u001B[0m)              │             \u001B[38;5;34m7\u001B[0m │\n",
       "└─────────────────────────────────┴────────────────────────┴───────────────┘\n"
      ],
      "text/html": [
       "<pre style=\"white-space:pre;overflow-x:auto;line-height:normal;font-family:Menlo,'DejaVu Sans Mono',consolas,'Courier New',monospace\">┏━━━━━━━━━━━━━━━━━━━━━━━━━━━━━━━━━┳━━━━━━━━━━━━━━━━━━━━━━━━┳━━━━━━━━━━━━━━━┓\n",
       "┃<span style=\"font-weight: bold\"> Layer (type)                    </span>┃<span style=\"font-weight: bold\"> Output Shape           </span>┃<span style=\"font-weight: bold\">       Param # </span>┃\n",
       "┡━━━━━━━━━━━━━━━━━━━━━━━━━━━━━━━━━╇━━━━━━━━━━━━━━━━━━━━━━━━╇━━━━━━━━━━━━━━━┩\n",
       "│ dense (<span style=\"color: #0087ff; text-decoration-color: #0087ff\">Dense</span>)                   │ (<span style=\"color: #00d7ff; text-decoration-color: #00d7ff\">None</span>, <span style=\"color: #00af00; text-decoration-color: #00af00\">92</span>)             │         <span style=\"color: #00af00; text-decoration-color: #00af00\">1,104</span> │\n",
       "├─────────────────────────────────┼────────────────────────┼───────────────┤\n",
       "│ dropout (<span style=\"color: #0087ff; text-decoration-color: #0087ff\">Dropout</span>)               │ (<span style=\"color: #00d7ff; text-decoration-color: #00d7ff\">None</span>, <span style=\"color: #00af00; text-decoration-color: #00af00\">92</span>)             │             <span style=\"color: #00af00; text-decoration-color: #00af00\">0</span> │\n",
       "├─────────────────────────────────┼────────────────────────┼───────────────┤\n",
       "│ dense_1 (<span style=\"color: #0087ff; text-decoration-color: #0087ff\">Dense</span>)                 │ (<span style=\"color: #00d7ff; text-decoration-color: #00d7ff\">None</span>, <span style=\"color: #00af00; text-decoration-color: #00af00\">6</span>)              │           <span style=\"color: #00af00; text-decoration-color: #00af00\">558</span> │\n",
       "├─────────────────────────────────┼────────────────────────┼───────────────┤\n",
       "│ dropout_1 (<span style=\"color: #0087ff; text-decoration-color: #0087ff\">Dropout</span>)             │ (<span style=\"color: #00d7ff; text-decoration-color: #00d7ff\">None</span>, <span style=\"color: #00af00; text-decoration-color: #00af00\">6</span>)              │             <span style=\"color: #00af00; text-decoration-color: #00af00\">0</span> │\n",
       "├─────────────────────────────────┼────────────────────────┼───────────────┤\n",
       "│ dense_2 (<span style=\"color: #0087ff; text-decoration-color: #0087ff\">Dense</span>)                 │ (<span style=\"color: #00d7ff; text-decoration-color: #00d7ff\">None</span>, <span style=\"color: #00af00; text-decoration-color: #00af00\">1</span>)              │             <span style=\"color: #00af00; text-decoration-color: #00af00\">7</span> │\n",
       "└─────────────────────────────────┴────────────────────────┴───────────────┘\n",
       "</pre>\n"
      ]
     },
     "metadata": {},
     "output_type": "display_data"
    },
    {
     "data": {
      "text/plain": [
       "\u001B[1m Total params: \u001B[0m\u001B[38;5;34m1,669\u001B[0m (6.52 KB)\n"
      ],
      "text/html": [
       "<pre style=\"white-space:pre;overflow-x:auto;line-height:normal;font-family:Menlo,'DejaVu Sans Mono',consolas,'Courier New',monospace\"><span style=\"font-weight: bold\"> Total params: </span><span style=\"color: #00af00; text-decoration-color: #00af00\">1,669</span> (6.52 KB)\n",
       "</pre>\n"
      ]
     },
     "metadata": {},
     "output_type": "display_data"
    },
    {
     "data": {
      "text/plain": [
       "\u001B[1m Trainable params: \u001B[0m\u001B[38;5;34m1,669\u001B[0m (6.52 KB)\n"
      ],
      "text/html": [
       "<pre style=\"white-space:pre;overflow-x:auto;line-height:normal;font-family:Menlo,'DejaVu Sans Mono',consolas,'Courier New',monospace\"><span style=\"font-weight: bold\"> Trainable params: </span><span style=\"color: #00af00; text-decoration-color: #00af00\">1,669</span> (6.52 KB)\n",
       "</pre>\n"
      ]
     },
     "metadata": {},
     "output_type": "display_data"
    },
    {
     "data": {
      "text/plain": [
       "\u001B[1m Non-trainable params: \u001B[0m\u001B[38;5;34m0\u001B[0m (0.00 B)\n"
      ],
      "text/html": [
       "<pre style=\"white-space:pre;overflow-x:auto;line-height:normal;font-family:Menlo,'DejaVu Sans Mono',consolas,'Courier New',monospace\"><span style=\"font-weight: bold\"> Non-trainable params: </span><span style=\"color: #00af00; text-decoration-color: #00af00\">0</span> (0.00 B)\n",
       "</pre>\n"
      ]
     },
     "metadata": {},
     "output_type": "display_data"
    }
   ],
   "execution_count": 20
  },
  {
   "metadata": {
    "ExecuteTime": {
     "end_time": "2024-04-19T08:50:08.863742Z",
     "start_time": "2024-04-19T08:48:00.576663Z"
    }
   },
   "cell_type": "code",
   "source": [
    "%%time\n",
    "#Retrain best Model\n",
    "best_red_hp = red_tuner.get_best_hyperparameters()[0]\n",
    "best_red_model = HyperRegressor().build(best_red_hp)\n",
    "red_learning_rate = best_red_hp.get(\"lr\")\n",
    "best_red_model_history = evaluate_model_cv_print(red_learning_rate, best_model, red_training_Data_scaled, red_training_scores, red_test_data_scaled, red_test_scores)\n",
    "best_red_model_history"
   ],
   "id": "d866086c8d863252",
   "outputs": [
    {
     "name": "stdout",
     "output_type": "stream",
     "text": [
      "\u001B[1m20/20\u001B[0m \u001B[32m━━━━━━━━━━━━━━━━━━━━\u001B[0m\u001B[37m\u001B[0m \u001B[1m0s\u001B[0m 448us/step - loss: 0.2646 - mean_absolute_percentage_error: 6.4260 - r2_score: 0.7202\n",
      "\u001B[1m20/20\u001B[0m \u001B[32m━━━━━━━━━━━━━━━━━━━━\u001B[0m\u001B[37m\u001B[0m \u001B[1m0s\u001B[0m 474us/step - loss: 0.2222 - mean_absolute_percentage_error: 5.9054 - r2_score: 0.7743\n",
      "\u001B[1m20/20\u001B[0m \u001B[32m━━━━━━━━━━━━━━━━━━━━\u001B[0m\u001B[37m\u001B[0m \u001B[1m0s\u001B[0m 400us/step - loss: 0.2520 - mean_absolute_percentage_error: 6.6789 - r2_score: 0.7200\n",
      "\u001B[1m20/20\u001B[0m \u001B[32m━━━━━━━━━━━━━━━━━━━━\u001B[0m\u001B[37m\u001B[0m \u001B[1m0s\u001B[0m 396us/step - loss: 0.3044 - mean_absolute_percentage_error: 6.7129 - r2_score: 0.6590\n",
      "\u001B[1m20/20\u001B[0m \u001B[32m━━━━━━━━━━━━━━━━━━━━\u001B[0m\u001B[37m\u001B[0m \u001B[1m0s\u001B[0m 368us/step - loss: 0.2674 - mean_absolute_percentage_error: 6.6511 - r2_score: 0.7544\n",
      "\r\n",
      "Cross Validation\n",
      "- R^2: [0.9392426  0.95350766 0.94821966 0.93038535 0.93710041]\n",
      "- R^2 Durchschnittlicher: 0.9417\n",
      "- R^2 Standardabweichung: 0.0082\n",
      "\r\n",
      "\n",
      "\u001B[1m13/13\u001B[0m \u001B[32m━━━━━━━━━━━━━━━━━━━━\u001B[0m\u001B[37m\u001B[0m \u001B[1m0s\u001B[0m 1ms/step \n",
      "Test:\n",
      "- R^2: 0.3456\n",
      "- RMSE: 0.70\n",
      "- MAPE: 9.54%\n"
     ]
    },
    {
     "data": {
      "text/plain": [
       "<Figure size 640x480 with 1 Axes>"
      ],
      "image/png": "[encoded data removed]"
     },
     "metadata": {},
     "output_type": "display_data"
    },
    {
     "data": {
      "text/plain": [
       "<Figure size 640x480 with 1 Axes>"
      ],
      "image/png": "[encoded data removed]"
     },
     "metadata": {},
     "output_type": "display_data"
    },
    {
     "name": "stdout",
     "output_type": "stream",
     "text": [
      "CPU times: total: 25 s\n",
      "Wall time: 2min 8s\n"
     ]
    },
    {
     "data": {
      "text/plain": [
       "(array([[0.17881662, 4.96857452, 0.9392426 ],\n",
       "        [0.1354714 , 4.24529982, 0.95350766],\n",
       "        [0.15642959, 5.02269268, 0.94821966],\n",
       "        [0.19713016, 4.79331923, 0.93038535],\n",
       "        [0.18023071, 5.24596834, 0.93710041]]),\n",
       " (<Sequential name=sequential_1, built=True>,\n",
       "  <keras.src.callbacks.history.History at 0x1af139f0da0>))"
      ]
     },
     "execution_count": 21,
     "metadata": {},
     "output_type": "execute_result"
    },
    {
     "data": {
      "text/plain": [
       "<Figure size 640x480 with 2 Axes>"
      ],
      "image/png": "[encoded data removed]"
     },
     "metadata": {},
     "output_type": "display_data"
    }
   ],
   "execution_count": 21
  },
  {
   "metadata": {
    "ExecuteTime": {
     "end_time": "2024-04-19T08:50:08.866945Z",
     "start_time": "2024-04-19T08:50:08.863742Z"
    }
   },
   "cell_type": "code",
   "source": "best_red_hp.values",
   "id": "70a064210936b428",
   "outputs": [
    {
     "data": {
      "text/plain": [
       "{'lr': 0.00134650033602513, 'num_layers': 2, 'units_0': 92, 'units_1': 6}"
      ]
     },
     "execution_count": 22,
     "metadata": {},
     "output_type": "execute_result"
    }
   ],
   "execution_count": 22
  },
  {
   "metadata": {
    "ExecuteTime": {
     "end_time": "2024-04-19T08:50:08.868687Z",
     "start_time": "2024-04-19T08:50:08.866945Z"
    }
   },
   "cell_type": "code",
   "source": "",
   "id": "c42d12d1b01d3edf",
   "outputs": [],
   "execution_count": 22
  }
 ],
 "metadata": {
  "kernelspec": {
   "display_name": "Python 3",
   "language": "python",
   "name": "python3"
  },
  "language_info": {
   "codemirror_mode": {
    "name": "ipython",
    "version": 2
   },
   "file_extension": ".py",
   "mimetype": "text/x-python",
   "name": "python",
   "nbconvert_exporter": "python",
   "pygments_lexer": "ipython2",
   "version": "2.7.6"
  }
 },
 "nbformat": 4,
 "nbformat_minor": 5
}
