{
 "cells": [
  {
   "metadata": {},
   "cell_type": "markdown",
   "source": "Abgabe von: Mat.Nr.: 9452857 & 1113800",
   "id": "a454e9c8e561de40"
  },
  {
   "metadata": {},
   "cell_type": "markdown",
   "source": "Before doing anything installing all needed dependencies",
   "id": "9c6dccc67e1c0231"
  },
  {
   "metadata": {},
   "cell_type": "markdown",
   "source": [
    "# Software requirements\n",
    "\n",
    "Python 3.9–3.11"
   ],
   "id": "5888947177567c81"
  },
  {
   "metadata": {},
   "cell_type": "markdown",
   "source": [
    "!pip3 install pandas\n",
    "!pip3 install scikit-learn\n",
    "#!pip3 install tensorflow==2.14.1 windows only\n",
    "!pip3 install tensorflow\n",
    "!pip3 install scikeras\n",
    "!pip3 install matplotlib"
   ],
   "id": "7d6a84294779fdf6"
  },
  {
   "metadata": {},
   "cell_type": "markdown",
   "source": "# Aufgabe 1",
   "id": "4f23b98e8bec9a3e"
  },
  {
   "metadata": {
    "ExecuteTime": {
     "end_time": "2024-04-15T09:41:39.846683Z",
     "start_time": "2024-04-15T09:41:39.021344Z"
    }
   },
   "cell_type": "code",
   "source": [
    "import matplotlib.pyplot as plt\n",
    "import os\n",
    "import pandas as pd\n",
    "import numpy as np\n",
    "from sklearn.model_selection import train_test_split"
   ],
   "id": "7afb645d8eee8308",
   "outputs": [],
   "execution_count": 1
  },
  {
   "metadata": {},
   "cell_type": "markdown",
   "source": "Import data",
   "id": "97aabfa007d964d2"
  },
  {
   "metadata": {
    "ExecuteTime": {
     "end_time": "2024-04-15T09:41:39.858846Z",
     "start_time": "2024-04-15T09:41:39.847718Z"
    }
   },
   "cell_type": "code",
   "source": [
    "white_raw = pd.read_csv(os.getcwd() + \"/dataset/winequality-white.csv\", delimiter=\";\")\n",
    "red_raw = pd.read_csv(os.getcwd() + \"/dataset/winequality-red.csv\", delimiter=\";\")"
   ],
   "id": "4160001e3aab46f7",
   "outputs": [],
   "execution_count": 2
  },
  {
   "metadata": {
    "ExecuteTime": {
     "end_time": "2024-04-15T09:41:39.873811Z",
     "start_time": "2024-04-15T09:41:39.858846Z"
    }
   },
   "cell_type": "code",
   "source": "white_raw",
   "id": "1fcde4a3dd70d6bf",
   "outputs": [
    {
     "data": {
      "text/plain": [
       "      fixed acidity  volatile acidity  citric acid  residual sugar  chlorides  \\\n",
       "0               7.0              0.27         0.36            20.7      0.045   \n",
       "1               6.3              0.30         0.34             1.6      0.049   \n",
       "2               8.1              0.28         0.40             6.9      0.050   \n",
       "3               7.2              0.23         0.32             8.5      0.058   \n",
       "4               7.2              0.23         0.32             8.5      0.058   \n",
       "...             ...               ...          ...             ...        ...   \n",
       "4893            6.2              0.21         0.29             1.6      0.039   \n",
       "4894            6.6              0.32         0.36             8.0      0.047   \n",
       "4895            6.5              0.24         0.19             1.2      0.041   \n",
       "4896            5.5              0.29         0.30             1.1      0.022   \n",
       "4897            6.0              0.21         0.38             0.8      0.020   \n",
       "\n",
       "      free sulfur dioxide  total sulfur dioxide  density    pH  sulphates  \\\n",
       "0                    45.0                 170.0  1.00100  3.00       0.45   \n",
       "1                    14.0                 132.0  0.99400  3.30       0.49   \n",
       "2                    30.0                  97.0  0.99510  3.26       0.44   \n",
       "3                    47.0                 186.0  0.99560  3.19       0.40   \n",
       "4                    47.0                 186.0  0.99560  3.19       0.40   \n",
       "...                   ...                   ...      ...   ...        ...   \n",
       "4893                 24.0                  92.0  0.99114  3.27       0.50   \n",
       "4894                 57.0                 168.0  0.99490  3.15       0.46   \n",
       "4895                 30.0                 111.0  0.99254  2.99       0.46   \n",
       "4896                 20.0                 110.0  0.98869  3.34       0.38   \n",
       "4897                 22.0                  98.0  0.98941  3.26       0.32   \n",
       "\n",
       "      alcohol  quality  \n",
       "0         8.8        6  \n",
       "1         9.5        6  \n",
       "2        10.1        6  \n",
       "3         9.9        6  \n",
       "4         9.9        6  \n",
       "...       ...      ...  \n",
       "4893     11.2        6  \n",
       "4894      9.6        5  \n",
       "4895      9.4        6  \n",
       "4896     12.8        7  \n",
       "4897     11.8        6  \n",
       "\n",
       "[4898 rows x 12 columns]"
      ],
      "text/html": [
       "<div>\n",
       "<style scoped>\n",
       "    .dataframe tbody tr th:only-of-type {\n",
       "        vertical-align: middle;\n",
       "    }\n",
       "\n",
       "    .dataframe tbody tr th {\n",
       "        vertical-align: top;\n",
       "    }\n",
       "\n",
       "    .dataframe thead th {\n",
       "        text-align: right;\n",
       "    }\n",
       "</style>\n",
       "<table border=\"1\" class=\"dataframe\">\n",
       "  <thead>\n",
       "    <tr style=\"text-align: right;\">\n",
       "      <th></th>\n",
       "      <th>fixed acidity</th>\n",
       "      <th>volatile acidity</th>\n",
       "      <th>citric acid</th>\n",
       "      <th>residual sugar</th>\n",
       "      <th>chlorides</th>\n",
       "      <th>free sulfur dioxide</th>\n",
       "      <th>total sulfur dioxide</th>\n",
       "      <th>density</th>\n",
       "      <th>pH</th>\n",
       "      <th>sulphates</th>\n",
       "      <th>alcohol</th>\n",
       "      <th>quality</th>\n",
       "    </tr>\n",
       "  </thead>\n",
       "  <tbody>\n",
       "    <tr>\n",
       "      <th>0</th>\n",
       "      <td>7.0</td>\n",
       "      <td>0.27</td>\n",
       "      <td>0.36</td>\n",
       "      <td>20.7</td>\n",
       "      <td>0.045</td>\n",
       "      <td>45.0</td>\n",
       "      <td>170.0</td>\n",
       "      <td>1.00100</td>\n",
       "      <td>3.00</td>\n",
       "      <td>0.45</td>\n",
       "      <td>8.8</td>\n",
       "      <td>6</td>\n",
       "    </tr>\n",
       "    <tr>\n",
       "      <th>1</th>\n",
       "      <td>6.3</td>\n",
       "      <td>0.30</td>\n",
       "      <td>0.34</td>\n",
       "      <td>1.6</td>\n",
       "      <td>0.049</td>\n",
       "      <td>14.0</td>\n",
       "      <td>132.0</td>\n",
       "      <td>0.99400</td>\n",
       "      <td>3.30</td>\n",
       "      <td>0.49</td>\n",
       "      <td>9.5</td>\n",
       "      <td>6</td>\n",
       "    </tr>\n",
       "    <tr>\n",
       "      <th>2</th>\n",
       "      <td>8.1</td>\n",
       "      <td>0.28</td>\n",
       "      <td>0.40</td>\n",
       "      <td>6.9</td>\n",
       "      <td>0.050</td>\n",
       "      <td>30.0</td>\n",
       "      <td>97.0</td>\n",
       "      <td>0.99510</td>\n",
       "      <td>3.26</td>\n",
       "      <td>0.44</td>\n",
       "      <td>10.1</td>\n",
       "      <td>6</td>\n",
       "    </tr>\n",
       "    <tr>\n",
       "      <th>3</th>\n",
       "      <td>7.2</td>\n",
       "      <td>0.23</td>\n",
       "      <td>0.32</td>\n",
       "      <td>8.5</td>\n",
       "      <td>0.058</td>\n",
       "      <td>47.0</td>\n",
       "      <td>186.0</td>\n",
       "      <td>0.99560</td>\n",
       "      <td>3.19</td>\n",
       "      <td>0.40</td>\n",
       "      <td>9.9</td>\n",
       "      <td>6</td>\n",
       "    </tr>\n",
       "    <tr>\n",
       "      <th>4</th>\n",
       "      <td>7.2</td>\n",
       "      <td>0.23</td>\n",
       "      <td>0.32</td>\n",
       "      <td>8.5</td>\n",
       "      <td>0.058</td>\n",
       "      <td>47.0</td>\n",
       "      <td>186.0</td>\n",
       "      <td>0.99560</td>\n",
       "      <td>3.19</td>\n",
       "      <td>0.40</td>\n",
       "      <td>9.9</td>\n",
       "      <td>6</td>\n",
       "    </tr>\n",
       "    <tr>\n",
       "      <th>...</th>\n",
       "      <td>...</td>\n",
       "      <td>...</td>\n",
       "      <td>...</td>\n",
       "      <td>...</td>\n",
       "      <td>...</td>\n",
       "      <td>...</td>\n",
       "      <td>...</td>\n",
       "      <td>...</td>\n",
       "      <td>...</td>\n",
       "      <td>...</td>\n",
       "      <td>...</td>\n",
       "      <td>...</td>\n",
       "    </tr>\n",
       "    <tr>\n",
       "      <th>4893</th>\n",
       "      <td>6.2</td>\n",
       "      <td>0.21</td>\n",
       "      <td>0.29</td>\n",
       "      <td>1.6</td>\n",
       "      <td>0.039</td>\n",
       "      <td>24.0</td>\n",
       "      <td>92.0</td>\n",
       "      <td>0.99114</td>\n",
       "      <td>3.27</td>\n",
       "      <td>0.50</td>\n",
       "      <td>11.2</td>\n",
       "      <td>6</td>\n",
       "    </tr>\n",
       "    <tr>\n",
       "      <th>4894</th>\n",
       "      <td>6.6</td>\n",
       "      <td>0.32</td>\n",
       "      <td>0.36</td>\n",
       "      <td>8.0</td>\n",
       "      <td>0.047</td>\n",
       "      <td>57.0</td>\n",
       "      <td>168.0</td>\n",
       "      <td>0.99490</td>\n",
       "      <td>3.15</td>\n",
       "      <td>0.46</td>\n",
       "      <td>9.6</td>\n",
       "      <td>5</td>\n",
       "    </tr>\n",
       "    <tr>\n",
       "      <th>4895</th>\n",
       "      <td>6.5</td>\n",
       "      <td>0.24</td>\n",
       "      <td>0.19</td>\n",
       "      <td>1.2</td>\n",
       "      <td>0.041</td>\n",
       "      <td>30.0</td>\n",
       "      <td>111.0</td>\n",
       "      <td>0.99254</td>\n",
       "      <td>2.99</td>\n",
       "      <td>0.46</td>\n",
       "      <td>9.4</td>\n",
       "      <td>6</td>\n",
       "    </tr>\n",
       "    <tr>\n",
       "      <th>4896</th>\n",
       "      <td>5.5</td>\n",
       "      <td>0.29</td>\n",
       "      <td>0.30</td>\n",
       "      <td>1.1</td>\n",
       "      <td>0.022</td>\n",
       "      <td>20.0</td>\n",
       "      <td>110.0</td>\n",
       "      <td>0.98869</td>\n",
       "      <td>3.34</td>\n",
       "      <td>0.38</td>\n",
       "      <td>12.8</td>\n",
       "      <td>7</td>\n",
       "    </tr>\n",
       "    <tr>\n",
       "      <th>4897</th>\n",
       "      <td>6.0</td>\n",
       "      <td>0.21</td>\n",
       "      <td>0.38</td>\n",
       "      <td>0.8</td>\n",
       "      <td>0.020</td>\n",
       "      <td>22.0</td>\n",
       "      <td>98.0</td>\n",
       "      <td>0.98941</td>\n",
       "      <td>3.26</td>\n",
       "      <td>0.32</td>\n",
       "      <td>11.8</td>\n",
       "      <td>6</td>\n",
       "    </tr>\n",
       "  </tbody>\n",
       "</table>\n",
       "<p>4898 rows × 12 columns</p>\n",
       "</div>"
      ]
     },
     "execution_count": 3,
     "metadata": {},
     "output_type": "execute_result"
    }
   ],
   "execution_count": 3
  },
  {
   "metadata": {},
   "cell_type": "markdown",
   "source": "Split wine in Test and Training Data (75% / 25%)",
   "id": "f35c33506d4e5286"
  },
  {
   "metadata": {
    "ExecuteTime": {
     "end_time": "2024-04-15T09:41:39.880262Z",
     "start_time": "2024-04-15T09:41:39.874813Z"
    }
   },
   "cell_type": "code",
   "source": [
    "white_training_Data, white_test_data, white_training_scores, white_test_scores = (train_test_split(white_raw.drop(\"quality\", axis=1), white_raw['quality'],test_size=0.25, random_state=39))\n",
    "\n",
    "red_training_Data, red_test_data, red_training_scores, red_test_scores = (train_test_split(red_raw.drop(\"quality\", axis=1), red_raw['quality'],test_size=0.25, random_state=39))"
   ],
   "id": "580c5e24fed82ef7",
   "outputs": [],
   "execution_count": 4
  },
  {
   "metadata": {
    "ExecuteTime": {
     "end_time": "2024-04-15T09:41:39.890811Z",
     "start_time": "2024-04-15T09:41:39.880262Z"
    }
   },
   "cell_type": "code",
   "source": [
    "white_training_Data = np.array(white_training_Data)\n",
    "red_training_Data = np.array(red_training_Data)"
   ],
   "id": "f512593e7a495f2c",
   "outputs": [],
   "execution_count": 5
  },
  {
   "metadata": {
    "ExecuteTime": {
     "end_time": "2024-04-15T09:41:39.903891Z",
     "start_time": "2024-04-15T09:41:39.890811Z"
    }
   },
   "cell_type": "code",
   "source": "white_training_Data",
   "id": "51f1963906260ecb",
   "outputs": [
    {
     "data": {
      "text/plain": [
       "array([[ 7.3 ,  0.38,  0.23, ...,  3.1 ,  0.55, 11.2 ],\n",
       "       [ 6.3 ,  0.33,  0.2 , ...,  3.14,  0.51,  8.8 ],\n",
       "       [ 7.4 ,  0.41,  0.66, ...,  3.05,  0.46,  8.7 ],\n",
       "       ...,\n",
       "       [ 7.4 ,  0.2 ,  0.37, ...,  3.03,  0.42,  9.2 ],\n",
       "       [ 7.3 ,  0.13,  0.32, ...,  3.2 ,  0.35,  9.2 ],\n",
       "       [ 6.8 ,  0.19,  0.34, ...,  3.25,  0.45, 12.9 ]])"
      ]
     },
     "execution_count": 6,
     "metadata": {},
     "output_type": "execute_result"
    }
   ],
   "execution_count": 6
  },
  {
   "metadata": {},
   "cell_type": "markdown",
   "source": "# Aufgabe 3",
   "id": "4e5e298fb6355054"
  },
  {
   "metadata": {},
   "cell_type": "markdown",
   "source": "https://www.tensorflow.org/tutorials/keras/regression#regression_using_a_dnn_and_multiple_inputs",
   "id": "df0e56de4a7fc0fe"
  },
  {
   "metadata": {
    "ExecuteTime": {
     "end_time": "2024-04-15T09:41:41.549110Z",
     "start_time": "2024-04-15T09:41:39.903891Z"
    }
   },
   "cell_type": "code",
   "source": [
    "import keras\n",
    "from keras import layers\n",
    "import tensorflow as tf\n",
    "from math import sqrt\n",
    "\n",
    "from sklearn.model_selection import GridSearchCV\n",
    "from sklearn.metrics import mean_absolute_error, mean_squared_error\n",
    "from sklearn.metrics import r2_score, mean_absolute_percentage_error\n",
    "\n",
    "from scikeras.wrappers import KerasRegressor"
   ],
   "id": "83ee2365a96b07c9",
   "outputs": [],
   "execution_count": 7
  },
  {
   "metadata": {
    "ExecuteTime": {
     "end_time": "2024-04-15T09:41:41.553648Z",
     "start_time": "2024-04-15T09:41:41.549110Z"
    }
   },
   "cell_type": "code",
   "source": "print(\"Num GPUs Available: \", len(tf.config.list_physical_devices('GPU')))\n",
   "id": "3bde899157cc2a6c",
   "outputs": [
    {
     "name": "stdout",
     "output_type": "stream",
     "text": [
      "Num GPUs Available:  0\n"
     ]
    }
   ],
   "execution_count": 8
  },
  {
   "metadata": {
    "ExecuteTime": {
     "end_time": "2024-04-15T09:41:41.567129Z",
     "start_time": "2024-04-15T09:41:41.553648Z"
    }
   },
   "cell_type": "code",
   "source": [
    "def plot_loss(keras_regressor_model):\n",
    "  plt.plot(keras_regressor_model.history_['loss'], label='loss')\n",
    "  plt.plot(keras_regressor_model.history_['val_loss'], label='val_loss')\n",
    "  plt.ylim([0, 2])\n",
    "  plt.xlabel('Epoch')\n",
    "  plt.ylabel('Error [Wine Quality Score]')\n",
    "  plt.legend()\n",
    "  plt.grid(True)\n",
    "  plt.show()\n",
    "  \n",
    "def plot_metrics(white_test_scores, test_predictions):\n",
    "    a = plt.axes(aspect='equal')\n",
    "    plt.scatter(white_test_scores, test_predictions)\n",
    "    plt.xlabel('True Values [winequality-white]')\n",
    "    plt.ylabel('Predictions [winequality-white]')\n",
    "    lims = [0, 10]\n",
    "    plt.xlim(lims)\n",
    "    plt.ylim(lims)\n",
    "    _ = plt.plot(lims, lims)\n",
    "    plt.show()"
   ],
   "id": "7f8221c6ce32687a",
   "outputs": [],
   "execution_count": 9
  },
  {
   "metadata": {
    "ExecuteTime": {
     "end_time": "2024-04-15T09:41:41.578396Z",
     "start_time": "2024-04-15T09:41:41.568138Z"
    }
   },
   "cell_type": "code",
   "source": [
    "# Function to calculate model and print Bewertungsmetriken\n",
    "def model_regressor_grid_calculator(estimator: any, param_grid: dict | list,\n",
    "                               training_data: any, valid_data: any, training_scores: any, valid_scores: any):\n",
    "    #select the best HyperParameters while using cross-validation for it (cv=5)\n",
    "    grid_search = GridSearchCV(estimator, param_grid=param_grid, cv=5, scoring=\"r2\")\n",
    "    grid_search.fit(training_data, training_scores)\n",
    "    \n",
    "    print(\"Beste Hyperparameter: \" + str(grid_search.best_params_))\n",
    "    \n",
    "    # Select the best model from Grid Search\n",
    "    optimal_model = grid_search.best_estimator_\n",
    "    \n",
    "    # Selected Params\n",
    "    cv_results = pd.DataFrame(grid_search.cv_results_).loc[grid_search.best_index_]\n",
    "    \n",
    "    r2_score_cv = [cv_results['split0_test_score'], \n",
    "                   cv_results['split1_test_score'],\n",
    "                   cv_results['split2_test_score'],\n",
    "                   ]\n",
    "    r2_score_cv_mean = cv_results['mean_test_score']\n",
    "    r2_score_cv_std = cv_results['std_test_score']\n",
    "    \n",
    "    print('Cross Validation')\n",
    "    print(f'- R^2: {r2_score_cv}')\n",
    "    print(f'- R^2 Durchschnittlicher: {r2_score_cv_mean:.4f}')\n",
    "    print(f'- R^2 Standardabweichung: {r2_score_cv_std:.4f}')\n",
    "    print('\\r\\n')\n",
    "    \n",
    "    \n",
    "    predicted_test_scores = optimal_model.predict(valid_data)\n",
    "    \n",
    "    r2_score_test = r2_score(valid_scores, predicted_test_scores)\n",
    "    rmse_test = sqrt(mean_squared_error(valid_scores, predicted_test_scores))\n",
    "    mape_test = mean_absolute_percentage_error(valid_scores, predicted_test_scores)\n",
    "    \n",
    "    print('Test:')\n",
    "    print(f'- R^2: {r2_score_test:.4f}')\n",
    "    print(f'- RMSE: {rmse_test:.2f}')\n",
    "    print(f'- MAPE: {mape_test:.2%}')\n",
    "    \n",
    "    plot_loss(optimal_model)\n",
    "    plot_metrics(valid_scores, predicted_test_scores)\n",
    "    \n",
    "    return cv_results, optimal_model"
   ],
   "id": "15f492a10baa4b0b",
   "outputs": [],
   "execution_count": 10
  },
  {
   "metadata": {
    "ExecuteTime": {
     "end_time": "2024-04-15T09:41:41.593409Z",
     "start_time": "2024-04-15T09:41:41.578396Z"
    }
   },
   "cell_type": "code",
   "source": [
    "#input_layer = layers.Input(shape=(11,))\n",
    "normalizer = layers.Normalization(axis=-1)\n",
    "#normalizer.adapt(white_training_Data)"
   ],
   "id": "28d84388ffed991d",
   "outputs": [],
   "execution_count": 11
  },
  {
   "metadata": {
    "ExecuteTime": {
     "end_time": "2024-04-15T10:08:40.341229Z",
     "start_time": "2024-04-15T10:08:40.337481Z"
    }
   },
   "cell_type": "code",
   "source": [
    "def create_model(unit, n_layers):    \n",
    "    # Konfiguriere die Verteilungsstrategie\n",
    "    input_layer = layers.Input(shape=(11,))\n",
    "    model = keras.Sequential([\n",
    "        input_layer,\n",
    "        normalizer,\n",
    "    ])\n",
    "    for i in range(n_layers):\n",
    "        local_units = -1*i*(unit/(n_layers+1))+unit\n",
    "        model.add(layers.Dense(units=int(local_units), activation='relu'))\n",
    "    model.add(layers.Dense(1))\n",
    "         \n",
    "    model.compile(loss=keras.losses.mean_squared_error,\n",
    "            optimizer=keras.optimizers.Adam(0.001))      \n",
    "    \n",
    "    return model"
   ],
   "id": "93b5fd1a4d4c6e85",
   "outputs": [],
   "execution_count": 19
  },
  {
   "metadata": {
    "ExecuteTime": {
     "end_time": "2024-04-15T11:33:56.426599Z",
     "start_time": "2024-04-15T11:33:15.421486Z"
    }
   },
   "cell_type": "code",
   "source": [
    "%%time\n",
    " #normalizer = layers.Normalization(axis=-1)\n",
    "normalizer.adapt(white_training_Data)\n",
    "KerasRegressor_model=KerasRegressor(model=create_model, epochs=32, batch_size=32, model__unit=16, model__n_layers=1, verbose=0, validation_split=0.2)\n",
    "\n",
    "params={'batch_size':[16, 32, 64],  \n",
    "        'epochs':[32, 64, 128, 256], \n",
    "        'model__unit':[8, 16, 32], \n",
    "        'model__n_layers':[1,2,3,7,8],            \n",
    "} \n",
    "best_params={'batch_size':[64],  \n",
    "        'epochs':[128], \n",
    "        'model__unit':[18], \n",
    "        'model__n_layers':[2]\n",
    "} \n",
    "\n",
    "cv_results, optimal_model = model_regressor_grid_calculator(KerasRegressor_model, best_params, white_training_Data, white_test_data, white_training_scores, white_test_scores)"
   ],
   "id": "907426a53bf49d55",
   "outputs": [
    {
     "name": "stdout",
     "output_type": "stream",
     "text": [
      "Beste Hyperparameter: {'batch_size': 64, 'epochs': 128, 'model__n_layers': 2, 'model__unit': 18}\n",
      "Cross Validation\n",
      "- R^2: [0.3400777614856033, 0.3162903215931052, 0.29503470448414004]\n",
      "- R^2 Durchschnittlicher: 0.3491\n",
      "- R^2 Standardabweichung: 0.0419\n",
      "\r\n",
      "\n",
      "Test:\n",
      "- R^2: 0.3184\n",
      "- RMSE: 0.73\n",
      "- MAPE: 10.15%\n"
     ]
    },
    {
     "data": {
      "text/plain": [
       "<Figure size 640x480 with 1 Axes>"
      ],
      "image/png": "[encoded data removed]"
     },
     "metadata": {},
     "output_type": "display_data"
    },
    {
     "data": {
      "text/plain": [
       "<Figure size 640x480 with 1 Axes>"
      ],
      "image/png": "[encoded data removed]"
     },
     "metadata": {},
     "output_type": "display_data"
    },
    {
     "name": "stdout",
     "output_type": "stream",
     "text": [
      "CPU times: total: 12.4 s\n",
      "Wall time: 41 s\n"
     ]
    }
   ],
   "execution_count": 53
  },
  {
   "metadata": {
    "ExecuteTime": {
     "end_time": "2024-04-15T11:33:56.443660Z",
     "start_time": "2024-04-15T11:33:56.427608Z"
    }
   },
   "cell_type": "code",
   "source": "optimal_model.model_.summary()",
   "id": "d24385102968f077",
   "outputs": [
    {
     "name": "stdout",
     "output_type": "stream",
     "text": [
      "Model: \"sequential_197\"\n",
      "_________________________________________________________________\n",
      " Layer (type)                Output Shape              Param #   \n",
      "=================================================================\n",
      " normalization (Normalizati  (None, 11)                23        \n",
      " on)                                                             \n",
      "                                                                 \n",
      " dense_885 (Dense)           (None, 18)                216       \n",
      "                                                                 \n",
      " dense_886 (Dense)           (None, 12)                228       \n",
      "                                                                 \n",
      " dense_887 (Dense)           (None, 1)                 13        \n",
      "                                                                 \n",
      "=================================================================\n",
      "Total params: 480 (1.88 KB)\n",
      "Trainable params: 457 (1.79 KB)\n",
      "Non-trainable params: 23 (96.00 Byte)\n",
      "_________________________________________________________________\n"
     ]
    }
   ],
   "execution_count": 54
  },
  {
   "metadata": {
    "ExecuteTime": {
     "end_time": "2024-04-11T07:06:31.088885Z",
     "start_time": "2024-04-11T07:06:31.004679Z"
    }
   },
   "cell_type": "code",
   "source": [
    "error = test_predictions - white_test_scores\n",
    "plt.hist(error, bins=25)\n",
    "plt.xlabel('Prediction Error [winequality-white]')\n",
    "_ = plt.ylabel('Count')"
   ],
   "id": "39fbd9a03e414fb5",
   "outputs": [
    {
     "data": {
      "text/plain": [
       "<Figure size 640x480 with 1 Axes>"
      ],
      "image/png": "[encoded data removed]"
     },
     "metadata": {},
     "output_type": "display_data"
    }
   ],
   "execution_count": 17
  },
  {
   "metadata": {},
   "cell_type": "code",
   "outputs": [],
   "execution_count": null,
   "source": "",
   "id": "189342a4e271f992"
  }
 ],
 "metadata": {
  "kernelspec": {
   "display_name": "Python 3",
   "language": "python",
   "name": "python3"
  },
  "language_info": {
   "codemirror_mode": {
    "name": "ipython",
    "version": 2
   },
   "file_extension": ".py",
   "mimetype": "text/x-python",
   "name": "python",
   "nbconvert_exporter": "python",
   "pygments_lexer": "ipython2",
   "version": "2.7.6"
  }
 },
 "nbformat": 4,
 "nbformat_minor": 5
}
