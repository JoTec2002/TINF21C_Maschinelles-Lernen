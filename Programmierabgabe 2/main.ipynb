{
 "cells": [
  {
   "metadata": {},
   "cell_type": "markdown",
   "source": "Abgabe von: Mat.Nr.: 9452857 & 1113800",
   "id": "a454e9c8e561de40"
  },
  {
   "metadata": {},
   "cell_type": "markdown",
   "source": "Before doing anything installing all needed dependencies",
   "id": "9c6dccc67e1c0231"
  },
  {
   "metadata": {},
   "cell_type": "markdown",
   "source": [
    "# Software requirements\n",
    "\n",
    "Python 3.9–3.11"
   ],
   "id": "5888947177567c81"
  },
  {
   "metadata": {},
   "cell_type": "markdown",
   "source": [
    "Version\tPython version\tCompiler\tBuild tools\tcuDNN\tCUDA\n",
    "tensorflow-2.16.1\t3.9-3.12\tClang 17.0.6\tBazel 6.5.0\t8.9\t12.3"
   ],
   "id": "513d72e8194e4e2b"
  },
  {
   "metadata": {},
   "cell_type": "markdown",
   "source": [
    "!pip3 install pandas\n",
    "!pip3 install scikit-learn\n",
    "!pip3 install tensorflow==2.16.1\n",
    "!pip3 install keras-tuner\n",
    "!pip3 install matplotlib"
   ],
   "id": "e82305146ecde1ad"
  },
  {
   "metadata": {},
   "cell_type": "markdown",
   "source": "# Aufgabe 1",
   "id": "4f23b98e8bec9a3e"
  },
  {
   "metadata": {
    "ExecuteTime": {
     "end_time": "2024-04-17T12:30:54.455114Z",
     "start_time": "2024-04-17T12:30:53.694825Z"
    }
   },
   "cell_type": "code",
   "source": [
    "import os\n",
    "os.environ[\"KERAS_BACKEND\"] = \"tensorflow\"\n",
    "import matplotlib.pyplot as plt\n",
    "import pandas as pd\n",
    "import numpy as np\n",
    "from sklearn.model_selection import train_test_split"
   ],
   "id": "7afb645d8eee8308",
   "outputs": [],
   "execution_count": 1
  },
  {
   "metadata": {},
   "cell_type": "markdown",
   "source": "Import data",
   "id": "97aabfa007d964d2"
  },
  {
   "metadata": {
    "ExecuteTime": {
     "end_time": "2024-04-17T12:30:54.464051Z",
     "start_time": "2024-04-17T12:30:54.455114Z"
    }
   },
   "cell_type": "code",
   "source": [
    "white_raw = pd.read_csv(os.getcwd() + \"/dataset/winequality-white.csv\", delimiter=\";\")\n",
    "red_raw = pd.read_csv(os.getcwd() + \"/dataset/winequality-red.csv\", delimiter=\";\")"
   ],
   "id": "4160001e3aab46f7",
   "outputs": [],
   "execution_count": 2
  },
  {
   "metadata": {
    "ExecuteTime": {
     "end_time": "2024-04-17T12:30:54.474027Z",
     "start_time": "2024-04-17T12:30:54.464051Z"
    }
   },
   "cell_type": "code",
   "source": "white_raw",
   "id": "1fcde4a3dd70d6bf",
   "outputs": [
    {
     "data": {
      "text/plain": [
       "      fixed acidity  volatile acidity  citric acid  residual sugar  chlorides  \\\n",
       "0               7.0              0.27         0.36            20.7      0.045   \n",
       "1               6.3              0.30         0.34             1.6      0.049   \n",
       "2               8.1              0.28         0.40             6.9      0.050   \n",
       "3               7.2              0.23         0.32             8.5      0.058   \n",
       "4               7.2              0.23         0.32             8.5      0.058   \n",
       "...             ...               ...          ...             ...        ...   \n",
       "4893            6.2              0.21         0.29             1.6      0.039   \n",
       "4894            6.6              0.32         0.36             8.0      0.047   \n",
       "4895            6.5              0.24         0.19             1.2      0.041   \n",
       "4896            5.5              0.29         0.30             1.1      0.022   \n",
       "4897            6.0              0.21         0.38             0.8      0.020   \n",
       "\n",
       "      free sulfur dioxide  total sulfur dioxide  density    pH  sulphates  \\\n",
       "0                    45.0                 170.0  1.00100  3.00       0.45   \n",
       "1                    14.0                 132.0  0.99400  3.30       0.49   \n",
       "2                    30.0                  97.0  0.99510  3.26       0.44   \n",
       "3                    47.0                 186.0  0.99560  3.19       0.40   \n",
       "4                    47.0                 186.0  0.99560  3.19       0.40   \n",
       "...                   ...                   ...      ...   ...        ...   \n",
       "4893                 24.0                  92.0  0.99114  3.27       0.50   \n",
       "4894                 57.0                 168.0  0.99490  3.15       0.46   \n",
       "4895                 30.0                 111.0  0.99254  2.99       0.46   \n",
       "4896                 20.0                 110.0  0.98869  3.34       0.38   \n",
       "4897                 22.0                  98.0  0.98941  3.26       0.32   \n",
       "\n",
       "      alcohol  quality  \n",
       "0         8.8        6  \n",
       "1         9.5        6  \n",
       "2        10.1        6  \n",
       "3         9.9        6  \n",
       "4         9.9        6  \n",
       "...       ...      ...  \n",
       "4893     11.2        6  \n",
       "4894      9.6        5  \n",
       "4895      9.4        6  \n",
       "4896     12.8        7  \n",
       "4897     11.8        6  \n",
       "\n",
       "[4898 rows x 12 columns]"
      ],
      "text/html": [
       "<div>\n",
       "<style scoped>\n",
       "    .dataframe tbody tr th:only-of-type {\n",
       "        vertical-align: middle;\n",
       "    }\n",
       "\n",
       "    .dataframe tbody tr th {\n",
       "        vertical-align: top;\n",
       "    }\n",
       "\n",
       "    .dataframe thead th {\n",
       "        text-align: right;\n",
       "    }\n",
       "</style>\n",
       "<table border=\"1\" class=\"dataframe\">\n",
       "  <thead>\n",
       "    <tr style=\"text-align: right;\">\n",
       "      <th></th>\n",
       "      <th>fixed acidity</th>\n",
       "      <th>volatile acidity</th>\n",
       "      <th>citric acid</th>\n",
       "      <th>residual sugar</th>\n",
       "      <th>chlorides</th>\n",
       "      <th>free sulfur dioxide</th>\n",
       "      <th>total sulfur dioxide</th>\n",
       "      <th>density</th>\n",
       "      <th>pH</th>\n",
       "      <th>sulphates</th>\n",
       "      <th>alcohol</th>\n",
       "      <th>quality</th>\n",
       "    </tr>\n",
       "  </thead>\n",
       "  <tbody>\n",
       "    <tr>\n",
       "      <th>0</th>\n",
       "      <td>7.0</td>\n",
       "      <td>0.27</td>\n",
       "      <td>0.36</td>\n",
       "      <td>20.7</td>\n",
       "      <td>0.045</td>\n",
       "      <td>45.0</td>\n",
       "      <td>170.0</td>\n",
       "      <td>1.00100</td>\n",
       "      <td>3.00</td>\n",
       "      <td>0.45</td>\n",
       "      <td>8.8</td>\n",
       "      <td>6</td>\n",
       "    </tr>\n",
       "    <tr>\n",
       "      <th>1</th>\n",
       "      <td>6.3</td>\n",
       "      <td>0.30</td>\n",
       "      <td>0.34</td>\n",
       "      <td>1.6</td>\n",
       "      <td>0.049</td>\n",
       "      <td>14.0</td>\n",
       "      <td>132.0</td>\n",
       "      <td>0.99400</td>\n",
       "      <td>3.30</td>\n",
       "      <td>0.49</td>\n",
       "      <td>9.5</td>\n",
       "      <td>6</td>\n",
       "    </tr>\n",
       "    <tr>\n",
       "      <th>2</th>\n",
       "      <td>8.1</td>\n",
       "      <td>0.28</td>\n",
       "      <td>0.40</td>\n",
       "      <td>6.9</td>\n",
       "      <td>0.050</td>\n",
       "      <td>30.0</td>\n",
       "      <td>97.0</td>\n",
       "      <td>0.99510</td>\n",
       "      <td>3.26</td>\n",
       "      <td>0.44</td>\n",
       "      <td>10.1</td>\n",
       "      <td>6</td>\n",
       "    </tr>\n",
       "    <tr>\n",
       "      <th>3</th>\n",
       "      <td>7.2</td>\n",
       "      <td>0.23</td>\n",
       "      <td>0.32</td>\n",
       "      <td>8.5</td>\n",
       "      <td>0.058</td>\n",
       "      <td>47.0</td>\n",
       "      <td>186.0</td>\n",
       "      <td>0.99560</td>\n",
       "      <td>3.19</td>\n",
       "      <td>0.40</td>\n",
       "      <td>9.9</td>\n",
       "      <td>6</td>\n",
       "    </tr>\n",
       "    <tr>\n",
       "      <th>4</th>\n",
       "      <td>7.2</td>\n",
       "      <td>0.23</td>\n",
       "      <td>0.32</td>\n",
       "      <td>8.5</td>\n",
       "      <td>0.058</td>\n",
       "      <td>47.0</td>\n",
       "      <td>186.0</td>\n",
       "      <td>0.99560</td>\n",
       "      <td>3.19</td>\n",
       "      <td>0.40</td>\n",
       "      <td>9.9</td>\n",
       "      <td>6</td>\n",
       "    </tr>\n",
       "    <tr>\n",
       "      <th>...</th>\n",
       "      <td>...</td>\n",
       "      <td>...</td>\n",
       "      <td>...</td>\n",
       "      <td>...</td>\n",
       "      <td>...</td>\n",
       "      <td>...</td>\n",
       "      <td>...</td>\n",
       "      <td>...</td>\n",
       "      <td>...</td>\n",
       "      <td>...</td>\n",
       "      <td>...</td>\n",
       "      <td>...</td>\n",
       "    </tr>\n",
       "    <tr>\n",
       "      <th>4893</th>\n",
       "      <td>6.2</td>\n",
       "      <td>0.21</td>\n",
       "      <td>0.29</td>\n",
       "      <td>1.6</td>\n",
       "      <td>0.039</td>\n",
       "      <td>24.0</td>\n",
       "      <td>92.0</td>\n",
       "      <td>0.99114</td>\n",
       "      <td>3.27</td>\n",
       "      <td>0.50</td>\n",
       "      <td>11.2</td>\n",
       "      <td>6</td>\n",
       "    </tr>\n",
       "    <tr>\n",
       "      <th>4894</th>\n",
       "      <td>6.6</td>\n",
       "      <td>0.32</td>\n",
       "      <td>0.36</td>\n",
       "      <td>8.0</td>\n",
       "      <td>0.047</td>\n",
       "      <td>57.0</td>\n",
       "      <td>168.0</td>\n",
       "      <td>0.99490</td>\n",
       "      <td>3.15</td>\n",
       "      <td>0.46</td>\n",
       "      <td>9.6</td>\n",
       "      <td>5</td>\n",
       "    </tr>\n",
       "    <tr>\n",
       "      <th>4895</th>\n",
       "      <td>6.5</td>\n",
       "      <td>0.24</td>\n",
       "      <td>0.19</td>\n",
       "      <td>1.2</td>\n",
       "      <td>0.041</td>\n",
       "      <td>30.0</td>\n",
       "      <td>111.0</td>\n",
       "      <td>0.99254</td>\n",
       "      <td>2.99</td>\n",
       "      <td>0.46</td>\n",
       "      <td>9.4</td>\n",
       "      <td>6</td>\n",
       "    </tr>\n",
       "    <tr>\n",
       "      <th>4896</th>\n",
       "      <td>5.5</td>\n",
       "      <td>0.29</td>\n",
       "      <td>0.30</td>\n",
       "      <td>1.1</td>\n",
       "      <td>0.022</td>\n",
       "      <td>20.0</td>\n",
       "      <td>110.0</td>\n",
       "      <td>0.98869</td>\n",
       "      <td>3.34</td>\n",
       "      <td>0.38</td>\n",
       "      <td>12.8</td>\n",
       "      <td>7</td>\n",
       "    </tr>\n",
       "    <tr>\n",
       "      <th>4897</th>\n",
       "      <td>6.0</td>\n",
       "      <td>0.21</td>\n",
       "      <td>0.38</td>\n",
       "      <td>0.8</td>\n",
       "      <td>0.020</td>\n",
       "      <td>22.0</td>\n",
       "      <td>98.0</td>\n",
       "      <td>0.98941</td>\n",
       "      <td>3.26</td>\n",
       "      <td>0.32</td>\n",
       "      <td>11.8</td>\n",
       "      <td>6</td>\n",
       "    </tr>\n",
       "  </tbody>\n",
       "</table>\n",
       "<p>4898 rows × 12 columns</p>\n",
       "</div>"
      ]
     },
     "execution_count": 3,
     "metadata": {},
     "output_type": "execute_result"
    }
   ],
   "execution_count": 3
  },
  {
   "metadata": {},
   "cell_type": "markdown",
   "source": "Split wine in Test and Training Data (75% / 25%)",
   "id": "f35c33506d4e5286"
  },
  {
   "metadata": {
    "ExecuteTime": {
     "end_time": "2024-04-17T12:30:54.478772Z",
     "start_time": "2024-04-17T12:30:54.474027Z"
    }
   },
   "cell_type": "code",
   "source": [
    "white_training_Data, white_test_data, white_training_scores, white_test_scores = (train_test_split(white_raw.drop(\"quality\", axis=1), white_raw['quality'],test_size=0.25, random_state=39))\n",
    "\n",
    "red_training_Data, red_test_data, red_training_scores, red_test_scores = (train_test_split(red_raw.drop(\"quality\", axis=1), red_raw['quality'],test_size=0.25, random_state=39))"
   ],
   "id": "580c5e24fed82ef7",
   "outputs": [],
   "execution_count": 4
  },
  {
   "metadata": {},
   "cell_type": "markdown",
   "source": [
    "Normalize the Data\n",
    "Standard Scaler to Scale around 0\n",
    "MIN May to Scale this than between 0-1\n",
    "\n",
    "Some Functionality as tensorflow Normalization Layer"
   ],
   "id": "277c1b6316304bb5"
  },
  {
   "metadata": {
    "ExecuteTime": {
     "end_time": "2024-04-17T12:30:54.486733Z",
     "start_time": "2024-04-17T12:30:54.478772Z"
    }
   },
   "cell_type": "code",
   "source": [
    "from sklearn.pipeline import Pipeline\n",
    "from sklearn.preprocessing import Normalizer, normalize, MinMaxScaler, StandardScaler\n",
    "\n",
    "pipeline = Pipeline([\n",
    "    ('scaler1', StandardScaler()),\n",
    "    ('scaler2', MinMaxScaler())\n",
    "])\n",
    "\n",
    "white_training_Data_scaled = np.array(pipeline.fit_transform(white_training_Data))\n",
    "white_training_scores = np.array(white_training_scores)\n",
    "white_test_data_scaled = np.array(pipeline.transform(white_test_data))\n",
    "white_test_scores = np.array(white_test_scores)\n",
    "\n",
    "red_training_Data_scaled = np.array(pipeline.fit_transform(red_training_Data))\n",
    "red_training_scores = np.array(red_training_scores)\n",
    "red_test_data_scaled = np.array(pipeline.transform (red_test_data))\n",
    "red_test_scores = np.array(red_test_scores)\n"
   ],
   "id": "a7db3b106afd6d33",
   "outputs": [],
   "execution_count": 5
  },
  {
   "metadata": {
    "ExecuteTime": {
     "end_time": "2024-04-17T12:30:54.490069Z",
     "start_time": "2024-04-17T12:30:54.486733Z"
    }
   },
   "cell_type": "code",
   "source": "white_training_Data_scaled",
   "id": "51f1963906260ecb",
   "outputs": [
    {
     "data": {
      "text/plain": [
       "array([[0.33653846, 0.29411765, 0.13855422, ..., 0.35185185, 0.39285714,\n",
       "        0.51612903],\n",
       "       [0.24038462, 0.24509804, 0.12048193, ..., 0.38888889, 0.3452381 ,\n",
       "        0.12903226],\n",
       "       [0.34615385, 0.32352941, 0.39759036, ..., 0.30555556, 0.28571429,\n",
       "        0.11290323],\n",
       "       ...,\n",
       "       [0.34615385, 0.11764706, 0.22289157, ..., 0.28703704, 0.23809524,\n",
       "        0.19354839],\n",
       "       [0.33653846, 0.04901961, 0.19277108, ..., 0.44444444, 0.1547619 ,\n",
       "        0.19354839],\n",
       "       [0.28846154, 0.10784314, 0.20481928, ..., 0.49074074, 0.27380952,\n",
       "        0.79032258]])"
      ]
     },
     "execution_count": 6,
     "metadata": {},
     "output_type": "execute_result"
    }
   ],
   "execution_count": 6
  },
  {
   "metadata": {},
   "cell_type": "markdown",
   "source": "# Aufgabe 3",
   "id": "4e5e298fb6355054"
  },
  {
   "metadata": {},
   "cell_type": "markdown",
   "source": "https://www.tensorflow.org/tutorials/keras/regression#regression_using_a_dnn_and_multiple_inputs",
   "id": "df0e56de4a7fc0fe"
  },
  {
   "metadata": {},
   "cell_type": "markdown",
   "source": "## General Model definition",
   "id": "7d4751e485a223c1"
  },
  {
   "metadata": {
    "ExecuteTime": {
     "end_time": "2024-04-17T12:30:56.068828Z",
     "start_time": "2024-04-17T12:30:54.490069Z"
    }
   },
   "cell_type": "code",
   "source": [
    "from math import sqrt\n",
    "\n",
    "import keras\n",
    "from keras import layers\n",
    "from keras.src.models.cloning import clone_model\n",
    "\n",
    "import tensorflow as tf\n",
    "\n",
    "from sklearn.model_selection import GridSearchCV\n",
    "from sklearn.metrics import mean_absolute_error, mean_squared_error\n",
    "from sklearn.metrics import r2_score, mean_absolute_percentage_error\n",
    "from sklearn.model_selection import KFold\n",
    "\n",
    "import keras_tuner"
   ],
   "id": "83ee2365a96b07c9",
   "outputs": [],
   "execution_count": 7
  },
  {
   "metadata": {
    "ExecuteTime": {
     "end_time": "2024-04-17T12:30:56.071596Z",
     "start_time": "2024-04-17T12:30:56.069334Z"
    }
   },
   "cell_type": "code",
   "source": [
    "#Check and Print Tensorflow GPU Availability\n",
    "print(\"Num GPUs Available: \", len(tf.config.list_physical_devices('GPU')))"
   ],
   "id": "3bde899157cc2a6c",
   "outputs": [
    {
     "name": "stdout",
     "output_type": "stream",
     "text": [
      "Num GPUs Available:  0\n"
     ]
    }
   ],
   "execution_count": 8
  },
  {
   "metadata": {
    "ExecuteTime": {
     "end_time": "2024-04-17T12:30:56.076106Z",
     "start_time": "2024-04-17T12:30:56.071596Z"
    }
   },
   "cell_type": "code",
   "source": [
    "def plot_loss(keras_regressor_model):\n",
    "  plt.plot(keras_regressor_model.history['loss'], label='loss')\n",
    "  plt.plot(keras_regressor_model.history['val_loss'], label='val_loss')\n",
    "  plt.ylim([0, 2])\n",
    "  plt.xlabel('Epoch')\n",
    "  plt.ylabel('Mean Squared Error [Wine Quality Score]')\n",
    "  plt.legend()\n",
    "  plt.grid(True)\n",
    "  plt.show()\n",
    "  \n",
    "def plot_metrics(white_test_scores, test_predictions):\n",
    "    a = plt.axes(aspect='equal')\n",
    "    plt.scatter(white_test_scores, test_predictions)\n",
    "    plt.xlabel('True Values [winequality-white]')\n",
    "    plt.ylabel('Predictions [winequality-white]')\n",
    "    lims = [0, 10]\n",
    "    plt.xlim(lims)\n",
    "    plt.ylim(lims)\n",
    "    _ = plt.plot(lims, lims)\n",
    "    plt.show()"
   ],
   "id": "7f8221c6ce32687a",
   "outputs": [],
   "execution_count": 9
  },
  {
   "metadata": {
    "ExecuteTime": {
     "end_time": "2024-04-17T12:30:56.080525Z",
     "start_time": "2024-04-17T12:30:56.077112Z"
    }
   },
   "cell_type": "code",
   "source": [
    "# Function to calculate model and print Bewertungsmetriken\n",
    "def model_regressor_grid_calculator(estimator: any, param_grid: dict | list,\n",
    "                               training_data: any, valid_data: any, training_scores: any, valid_scores: any):\n",
    "    #select the best HyperParameters while using cross-validation for it (cv=5)\n",
    "    grid_search = GridSearchCV(estimator, param_grid=param_grid, cv=5, scoring=\"r2\")\n",
    "    grid_search.fit(training_data, training_scores)\n",
    "    \n",
    "    print(\"Beste Hyperparameter: \" + str(grid_search.best_params_))\n",
    "    \n",
    "    # Select the best model from Grid Search\n",
    "    optimal_model = grid_search.best_estimator_\n",
    "    \n",
    "    # Selected Params\n",
    "    cv_results = pd.DataFrame(grid_search.cv_results_).loc[grid_search.best_index_]\n",
    "    \n",
    "    r2_score_cv = [cv_results['split0_test_score'], \n",
    "                   cv_results['split1_test_score'],\n",
    "                   cv_results['split2_test_score'],\n",
    "                   cv_results['split3_test_score'],\n",
    "                   cv_results['split4_test_score'],\n",
    "                   ]\n",
    "    r2_score_cv_mean = cv_results['mean_test_score']\n",
    "    r2_score_cv_std = cv_results['std_test_score']\n",
    "    \n",
    "    print('Cross Validation')\n",
    "    print(f'- R^2: {r2_score_cv}')\n",
    "    print(f'- R^2 Durchschnittlicher: {r2_score_cv_mean:.4f}')\n",
    "    print(f'- R^2 Standardabweichung: {r2_score_cv_std:.4f}')\n",
    "    print('\\r\\n')\n",
    "    \n",
    "    \n",
    "    predicted_test_scores = optimal_model.predict(valid_data)\n",
    "    \n",
    "    r2_score_test = r2_score(valid_scores, predicted_test_scores)\n",
    "    rmse_test = sqrt(mean_squared_error(valid_scores, predicted_test_scores))\n",
    "    mape_test = mean_absolute_percentage_error(valid_scores, predicted_test_scores)\n",
    "    \n",
    "    print('Test:')\n",
    "    print(f'- R^2: {r2_score_test:.4f}')\n",
    "    print(f'- RMSE: {rmse_test:.2f}')\n",
    "    print(f'- MAPE: {mape_test:.2%}')\n",
    "    \n",
    "    plot_loss(optimal_model)\n",
    "    plot_metrics(valid_scores, predicted_test_scores)\n",
    "    \n",
    "    return cv_results, optimal_model"
   ],
   "id": "15f492a10baa4b0b",
   "outputs": [],
   "execution_count": 10
  },
  {
   "metadata": {
    "ExecuteTime": {
     "end_time": "2024-04-17T12:30:56.085123Z",
     "start_time": "2024-04-17T12:30:56.080525Z"
    }
   },
   "cell_type": "code",
   "source": [
    "def create_model_tuner(hp, learning_rate):    \n",
    "    # Konfiguriere die Verteilungsstrategie\n",
    "    input_layer = layers.Input(shape=(11,))\n",
    "    model = keras.Sequential([\n",
    "        input_layer       \n",
    "    ])\n",
    "    \n",
    "    for i in range(hp.Int(\"num_layers\", 2, 4)):\n",
    "        model.add(\n",
    "            layers.Dense(\n",
    "                # Tune number of units separately.\n",
    "                units=hp.Int(f\"units_{i}\", min_value=8, max_value=128, step=8),\n",
    "                activation='relu',\n",
    "            )\n",
    "        )\n",
    "    model.add(layers.Dense(1))#output\n",
    "    \n",
    "    model.compile(loss=keras.losses.mean_squared_error,\n",
    "            optimizer=keras.optimizers.Adam(learning_rate=learning_rate), metrics=[keras.metrics.mean_absolute_percentage_error, keras.metrics.R2Score])      \n",
    "    \n",
    "    return model"
   ],
   "id": "182ee7b7404dd257",
   "outputs": [],
   "execution_count": 11
  },
  {
   "metadata": {
    "ExecuteTime": {
     "end_time": "2024-04-17T12:30:56.090534Z",
     "start_time": "2024-04-17T12:30:56.085123Z"
    }
   },
   "cell_type": "code",
   "source": [
    "def evaluate_model_cv(learning_rate, model, training_data, training_scores, **kwargs):\n",
    "    cv_scores = []\n",
    "    models_history = []\n",
    "    \n",
    "    kfold = KFold(n_splits=5, shuffle=True) #Cross Validation cv=5\n",
    "    for i, (train_index, test_index) in enumerate(kfold.split(training_data, training_scores)):\n",
    "        local_model = clone_model(model)\n",
    "        local_model.compile(\n",
    "            loss=keras.losses.mean_squared_error, \n",
    "            optimizer=keras.optimizers.Adam(learning_rate=learning_rate), \n",
    "            metrics=[keras.metrics.mean_absolute_percentage_error, keras.metrics.R2Score])\n",
    "        \n",
    "        model_history = local_model.fit(training_data[train_index], training_scores[train_index], batch_size=64, epochs=64, validation_data=(training_data[test_index], training_scores[test_index]), verbose=0, **kwargs)\n",
    "        cv_scores.append(local_model.evaluate(training_data[test_index], training_scores[test_index]))\n",
    "        models_history.append(model_history)\n",
    "        \n",
    "    cv_scores = np.array(cv_scores)\n",
    "    r2_score_mean = np.mean(cv_scores[:, 2])\n",
    "    \n",
    "    return r2_score_mean\n",
    "\n",
    "\n",
    "def evaluate_model_cv_print(learning_rate, model, training_data, training_scores, valid_data, valid_scores,  **kwargs):\n",
    "    cv_scores = []\n",
    "    models_history = []\n",
    "    \n",
    "    kfold = KFold(n_splits=5, shuffle=True) #Cross Validation cv=5\n",
    "    for i, (train_index, test_index) in enumerate(kfold.split(training_data, training_scores)):\n",
    "        local_model = clone_model(model)\n",
    "        local_model.compile(\n",
    "            loss=keras.losses.mean_squared_error, \n",
    "            optimizer=keras.optimizers.Adam(learning_rate=learning_rate), \n",
    "            metrics=[keras.metrics.mean_absolute_percentage_error, keras.metrics.R2Score])\n",
    "        \n",
    "        model_history = local_model.fit(training_data[train_index], training_scores[train_index], batch_size=64, epochs=64, validation_data=(training_data[test_index], training_scores[test_index]), verbose=0, **kwargs)\n",
    "        cv_scores.append(local_model.evaluate(training_data[test_index], training_scores[test_index]))\n",
    "        models_history.append((local_model, model_history))\n",
    "        \n",
    "    cv_scores = np.array(cv_scores)\n",
    "        \n",
    "    print('\\r\\nCross Validation')\n",
    "    print(f'- R^2: {cv_scores[:, 2]}')\n",
    "    print(f'- R^2 Durchschnittlicher: {np.mean(cv_scores[:, 2]):.4f}')\n",
    "    print(f'- R^2 Standardabweichung: {np.std(cv_scores[:, 2]):.4f}')\n",
    "    print('\\r\\n')\n",
    "    \n",
    "    #get best model\n",
    "    best_model_index = np.argmax(cv_scores[:, 2])   #get best r2 score model\n",
    "    optimal_model = models_history[best_model_index]\n",
    "    \n",
    "    predicted_test_scores = optimal_model[0].predict(valid_data)\n",
    "    \n",
    "    r2_score_test = r2_score(valid_scores, predicted_test_scores)\n",
    "    rmse_test = sqrt(mean_squared_error(valid_scores, predicted_test_scores))\n",
    "    mape_test = mean_absolute_percentage_error(valid_scores, predicted_test_scores)\n",
    "    \n",
    "    print('Test:')\n",
    "    print(f'- R^2: {r2_score_test:.4f}')\n",
    "    print(f'- RMSE: {rmse_test:.2f}')\n",
    "    print(f'- MAPE: {mape_test:.2%}')\n",
    "    \n",
    "    plot_loss(optimal_model[1])\n",
    "    plot_metrics(valid_scores, predicted_test_scores)\n",
    "    \n",
    "    return cv_scores, optimal_model\n",
    "    \n",
    "        "
   ],
   "id": "ff5e2f6569da43b2",
   "outputs": [],
   "execution_count": 12
  },
  {
   "metadata": {},
   "cell_type": "markdown",
   "source": [
    "Ablauf Hyperparameter optimierung:\n",
    "Fitting 5 folds for each of x candidates totalling 5x fits\n",
    "Select best model based on r2 score mean (valid)"
   ],
   "id": "20aff0fcabd87ab"
  },
  {
   "metadata": {
    "ExecuteTime": {
     "end_time": "2024-04-17T12:30:56.094342Z",
     "start_time": "2024-04-17T12:30:56.090534Z"
    }
   },
   "cell_type": "code",
   "source": [
    "class HyperRegressor(keras_tuner.HyperModel):\n",
    "    def build(self, hp):\n",
    "        learning_rate = hp.Float(\"lr\", min_value=1e-4, max_value=1e-2, sampling=\"log\")\n",
    "        return create_model_tuner(hp, learning_rate)\n",
    "\n",
    "    def fit(self, hp, model, x, y, **kwargs):\n",
    "        # Return a single float to maximize\n",
    "        learning_rate = hp.get(\"lr\")\n",
    "        return evaluate_model_cv(learning_rate, model, x, y, **kwargs)"
   ],
   "id": "e4fc5dd69d91eb05",
   "outputs": [],
   "execution_count": 13
  },
  {
   "metadata": {},
   "cell_type": "markdown",
   "source": "## White Wine",
   "id": "c887c743e48975cd"
  },
  {
   "metadata": {
    "ExecuteTime": {
     "end_time": "2024-04-17T12:30:56.155706Z",
     "start_time": "2024-04-17T12:30:56.094342Z"
    }
   },
   "cell_type": "code",
   "source": [
    "tuner = keras_tuner.RandomSearch(\n",
    "    hypermodel=HyperRegressor(),\n",
    "    objective = keras_tuner.Objective(name=\"val_r2_score\", direction='max'),\n",
    "    max_trials=50,\n",
    "    overwrite=False,\n",
    "    directory=\"wine_score_training\",\n",
    "    project_name=\"white\",\n",
    ")"
   ],
   "id": "527545615ad27775",
   "outputs": [
    {
     "name": "stdout",
     "output_type": "stream",
     "text": [
      "Reloading Tuner from wine_score_training\\white\\tuner0.json\n"
     ]
    }
   ],
   "execution_count": 14
  },
  {
   "metadata": {},
   "cell_type": "markdown",
   "source": "Following cell could be disabled if values should just be loaded",
   "id": "fa7e3a40467b6a6"
  },
  {
   "metadata": {
    "ExecuteTime": {
     "end_time": "2024-04-17T12:30:56.159086Z",
     "start_time": "2024-04-17T12:30:56.155706Z"
    }
   },
   "cell_type": "code",
   "source": [
    "tuner.search(\n",
    "    x=white_training_Data_scaled,\n",
    "    y=white_training_scores,\n",
    ")\n",
    "\n",
    "tuner.results_summary()"
   ],
   "id": "e76a2255b09fe670",
   "outputs": [
    {
     "name": "stdout",
     "output_type": "stream",
     "text": [
      "Results summary\n",
      "Results in wine_score_training\\white\n",
      "Showing 10 best trials\n",
      "Objective(name=\"val_r2_score\", direction=\"max\")\n",
      "\n",
      "Trial 37 summary\n",
      "Hyperparameters:\n",
      "lr: 0.004160564576348168\n",
      "num_layers: 3\n",
      "units_0: 40\n",
      "units_1: 120\n",
      "units_2: 120\n",
      "units_3: 72\n",
      "Score: 0.38073197603225706\n",
      "\n",
      "Trial 28 summary\n",
      "Hyperparameters:\n",
      "lr: 0.0009031111745904648\n",
      "num_layers: 3\n",
      "units_0: 112\n",
      "units_1: 88\n",
      "units_2: 32\n",
      "units_3: 40\n",
      "Score: 0.37821786403656005\n",
      "\n",
      "Trial 36 summary\n",
      "Hyperparameters:\n",
      "lr: 0.0011161189472157437\n",
      "num_layers: 4\n",
      "units_0: 96\n",
      "units_1: 24\n",
      "units_2: 96\n",
      "units_3: 8\n",
      "Score: 0.3742436408996582\n",
      "\n",
      "Trial 43 summary\n",
      "Hyperparameters:\n",
      "lr: 0.0007000914691723327\n",
      "num_layers: 4\n",
      "units_0: 80\n",
      "units_1: 112\n",
      "units_2: 80\n",
      "units_3: 120\n",
      "Score: 0.3724264144897461\n",
      "\n",
      "Trial 32 summary\n",
      "Hyperparameters:\n",
      "lr: 0.0044008493021638305\n",
      "num_layers: 4\n",
      "units_0: 64\n",
      "units_1: 104\n",
      "units_2: 104\n",
      "units_3: 72\n",
      "Score: 0.3698438763618469\n",
      "\n",
      "Trial 46 summary\n",
      "Hyperparameters:\n",
      "lr: 0.0005711737114621607\n",
      "num_layers: 4\n",
      "units_0: 112\n",
      "units_1: 40\n",
      "units_2: 48\n",
      "units_3: 64\n",
      "Score: 0.36626834869384767\n",
      "\n",
      "Trial 41 summary\n",
      "Hyperparameters:\n",
      "lr: 0.003998503337915657\n",
      "num_layers: 4\n",
      "units_0: 56\n",
      "units_1: 80\n",
      "units_2: 64\n",
      "units_3: 48\n",
      "Score: 0.36603790521621704\n",
      "\n",
      "Trial 12 summary\n",
      "Hyperparameters:\n",
      "lr: 0.00326110302723218\n",
      "num_layers: 2\n",
      "units_0: 80\n",
      "units_1: 80\n",
      "units_2: 32\n",
      "units_3: 24\n",
      "Score: 0.363079571723938\n",
      "\n",
      "Trial 21 summary\n",
      "Hyperparameters:\n",
      "lr: 0.000757531594094117\n",
      "num_layers: 3\n",
      "units_0: 128\n",
      "units_1: 128\n",
      "units_2: 128\n",
      "units_3: 88\n",
      "Score: 0.36058562994003296\n",
      "\n",
      "Trial 18 summary\n",
      "Hyperparameters:\n",
      "lr: 0.0010787871371794912\n",
      "num_layers: 2\n",
      "units_0: 64\n",
      "units_1: 104\n",
      "units_2: 64\n",
      "units_3: 56\n",
      "Score: 0.35946652889251707\n"
     ]
    }
   ],
   "execution_count": 15
  },
  {
   "metadata": {
    "ExecuteTime": {
     "end_time": "2024-04-17T12:30:56.815992Z",
     "start_time": "2024-04-17T12:30:56.159086Z"
    }
   },
   "cell_type": "code",
   "source": [
    "best_model = tuner.get_best_models()[0]\n",
    "best_model.summary()"
   ],
   "id": "f18808ad89607bf6",
   "outputs": [
    {
     "name": "stdout",
     "output_type": "stream",
     "text": [
      "WARNING:tensorflow:From C:\\GitClones\\TINF21C_Maschinelles-Lernen\\Programmierabgabe 2\\.venv\\Lib\\site-packages\\keras\\src\\backend\\common\\global_state.py:74: The name tf.reset_default_graph is deprecated. Please use tf.compat.v1.reset_default_graph instead.\n",
      "\n"
     ]
    },
    {
     "name": "stderr",
     "output_type": "stream",
     "text": [
      "C:\\GitClones\\TINF21C_Maschinelles-Lernen\\Programmierabgabe 2\\.venv\\Lib\\site-packages\\keras\\src\\saving\\saving_lib.py:418: UserWarning: Skipping variable loading for optimizer 'adam', because it has 2 variables whereas the saved optimizer has 18 variables. \n",
      "  trackable.load_own_variables(weights_store.get(inner_path))\n"
     ]
    },
    {
     "data": {
      "text/plain": [
       "\u001B[1mModel: \"sequential\"\u001B[0m\n"
      ],
      "text/html": [
       "<pre style=\"white-space:pre;overflow-x:auto;line-height:normal;font-family:Menlo,'DejaVu Sans Mono',consolas,'Courier New',monospace\"><span style=\"font-weight: bold\">Model: \"sequential\"</span>\n",
       "</pre>\n"
      ]
     },
     "metadata": {},
     "output_type": "display_data"
    },
    {
     "data": {
      "text/plain": [
       "┏━━━━━━━━━━━━━━━━━━━━━━━━━━━━━━━━━┳━━━━━━━━━━━━━━━━━━━━━━━━┳━━━━━━━━━━━━━━━┓\n",
       "┃\u001B[1m \u001B[0m\u001B[1mLayer (type)                   \u001B[0m\u001B[1m \u001B[0m┃\u001B[1m \u001B[0m\u001B[1mOutput Shape          \u001B[0m\u001B[1m \u001B[0m┃\u001B[1m \u001B[0m\u001B[1m      Param #\u001B[0m\u001B[1m \u001B[0m┃\n",
       "┡━━━━━━━━━━━━━━━━━━━━━━━━━━━━━━━━━╇━━━━━━━━━━━━━━━━━━━━━━━━╇━━━━━━━━━━━━━━━┩\n",
       "│ dense (\u001B[38;5;33mDense\u001B[0m)                   │ (\u001B[38;5;45mNone\u001B[0m, \u001B[38;5;34m40\u001B[0m)             │           \u001B[38;5;34m480\u001B[0m │\n",
       "├─────────────────────────────────┼────────────────────────┼───────────────┤\n",
       "│ dense_1 (\u001B[38;5;33mDense\u001B[0m)                 │ (\u001B[38;5;45mNone\u001B[0m, \u001B[38;5;34m120\u001B[0m)            │         \u001B[38;5;34m4,920\u001B[0m │\n",
       "├─────────────────────────────────┼────────────────────────┼───────────────┤\n",
       "│ dense_2 (\u001B[38;5;33mDense\u001B[0m)                 │ (\u001B[38;5;45mNone\u001B[0m, \u001B[38;5;34m120\u001B[0m)            │        \u001B[38;5;34m14,520\u001B[0m │\n",
       "├─────────────────────────────────┼────────────────────────┼───────────────┤\n",
       "│ dense_3 (\u001B[38;5;33mDense\u001B[0m)                 │ (\u001B[38;5;45mNone\u001B[0m, \u001B[38;5;34m1\u001B[0m)              │           \u001B[38;5;34m121\u001B[0m │\n",
       "└─────────────────────────────────┴────────────────────────┴───────────────┘\n"
      ],
      "text/html": [
       "<pre style=\"white-space:pre;overflow-x:auto;line-height:normal;font-family:Menlo,'DejaVu Sans Mono',consolas,'Courier New',monospace\">┏━━━━━━━━━━━━━━━━━━━━━━━━━━━━━━━━━┳━━━━━━━━━━━━━━━━━━━━━━━━┳━━━━━━━━━━━━━━━┓\n",
       "┃<span style=\"font-weight: bold\"> Layer (type)                    </span>┃<span style=\"font-weight: bold\"> Output Shape           </span>┃<span style=\"font-weight: bold\">       Param # </span>┃\n",
       "┡━━━━━━━━━━━━━━━━━━━━━━━━━━━━━━━━━╇━━━━━━━━━━━━━━━━━━━━━━━━╇━━━━━━━━━━━━━━━┩\n",
       "│ dense (<span style=\"color: #0087ff; text-decoration-color: #0087ff\">Dense</span>)                   │ (<span style=\"color: #00d7ff; text-decoration-color: #00d7ff\">None</span>, <span style=\"color: #00af00; text-decoration-color: #00af00\">40</span>)             │           <span style=\"color: #00af00; text-decoration-color: #00af00\">480</span> │\n",
       "├─────────────────────────────────┼────────────────────────┼───────────────┤\n",
       "│ dense_1 (<span style=\"color: #0087ff; text-decoration-color: #0087ff\">Dense</span>)                 │ (<span style=\"color: #00d7ff; text-decoration-color: #00d7ff\">None</span>, <span style=\"color: #00af00; text-decoration-color: #00af00\">120</span>)            │         <span style=\"color: #00af00; text-decoration-color: #00af00\">4,920</span> │\n",
       "├─────────────────────────────────┼────────────────────────┼───────────────┤\n",
       "│ dense_2 (<span style=\"color: #0087ff; text-decoration-color: #0087ff\">Dense</span>)                 │ (<span style=\"color: #00d7ff; text-decoration-color: #00d7ff\">None</span>, <span style=\"color: #00af00; text-decoration-color: #00af00\">120</span>)            │        <span style=\"color: #00af00; text-decoration-color: #00af00\">14,520</span> │\n",
       "├─────────────────────────────────┼────────────────────────┼───────────────┤\n",
       "│ dense_3 (<span style=\"color: #0087ff; text-decoration-color: #0087ff\">Dense</span>)                 │ (<span style=\"color: #00d7ff; text-decoration-color: #00d7ff\">None</span>, <span style=\"color: #00af00; text-decoration-color: #00af00\">1</span>)              │           <span style=\"color: #00af00; text-decoration-color: #00af00\">121</span> │\n",
       "└─────────────────────────────────┴────────────────────────┴───────────────┘\n",
       "</pre>\n"
      ]
     },
     "metadata": {},
     "output_type": "display_data"
    },
    {
     "data": {
      "text/plain": [
       "\u001B[1m Total params: \u001B[0m\u001B[38;5;34m20,041\u001B[0m (78.29 KB)\n"
      ],
      "text/html": [
       "<pre style=\"white-space:pre;overflow-x:auto;line-height:normal;font-family:Menlo,'DejaVu Sans Mono',consolas,'Courier New',monospace\"><span style=\"font-weight: bold\"> Total params: </span><span style=\"color: #00af00; text-decoration-color: #00af00\">20,041</span> (78.29 KB)\n",
       "</pre>\n"
      ]
     },
     "metadata": {},
     "output_type": "display_data"
    },
    {
     "data": {
      "text/plain": [
       "\u001B[1m Trainable params: \u001B[0m\u001B[38;5;34m20,041\u001B[0m (78.29 KB)\n"
      ],
      "text/html": [
       "<pre style=\"white-space:pre;overflow-x:auto;line-height:normal;font-family:Menlo,'DejaVu Sans Mono',consolas,'Courier New',monospace\"><span style=\"font-weight: bold\"> Trainable params: </span><span style=\"color: #00af00; text-decoration-color: #00af00\">20,041</span> (78.29 KB)\n",
       "</pre>\n"
      ]
     },
     "metadata": {},
     "output_type": "display_data"
    },
    {
     "data": {
      "text/plain": [
       "\u001B[1m Non-trainable params: \u001B[0m\u001B[38;5;34m0\u001B[0m (0.00 B)\n"
      ],
      "text/html": [
       "<pre style=\"white-space:pre;overflow-x:auto;line-height:normal;font-family:Menlo,'DejaVu Sans Mono',consolas,'Courier New',monospace\"><span style=\"font-weight: bold\"> Non-trainable params: </span><span style=\"color: #00af00; text-decoration-color: #00af00\">0</span> (0.00 B)\n",
       "</pre>\n"
      ]
     },
     "metadata": {},
     "output_type": "display_data"
    }
   ],
   "execution_count": 16
  },
  {
   "metadata": {
    "ExecuteTime": {
     "end_time": "2024-04-17T12:31:15.232008Z",
     "start_time": "2024-04-17T12:30:56.815992Z"
    }
   },
   "cell_type": "code",
   "source": [
    "%%time\n",
    "#Retrain best Model\n",
    "best_hp = tuner.get_best_hyperparameters()[0]\n",
    "best_model = HyperRegressor().build(best_hp)\n",
    "learning_rate = best_hp.get(\"lr\")\n",
    "best_model_history = evaluate_model_cv_print(learning_rate, best_model, white_training_Data_scaled, white_training_scores, white_test_data_scaled, white_test_scores)\n",
    "best_model_history"
   ],
   "id": "93db6616d7a69c45",
   "outputs": [
    {
     "name": "stdout",
     "output_type": "stream",
     "text": [
      "\u001B[1m23/23\u001B[0m \u001B[32m━━━━━━━━━━━━━━━━━━━━\u001B[0m\u001B[37m\u001B[0m \u001B[1m0s\u001B[0m 387us/step - loss: 0.5438 - mean_absolute_percentage_error: 10.2642 - r2_score: 0.3517\n",
      "\u001B[1m23/23\u001B[0m \u001B[32m━━━━━━━━━━━━━━━━━━━━\u001B[0m\u001B[37m\u001B[0m \u001B[1m0s\u001B[0m 433us/step - loss: 0.5192 - mean_absolute_percentage_error: 9.7186 - r2_score: 0.3063\n",
      "\u001B[1m23/23\u001B[0m \u001B[32m━━━━━━━━━━━━━━━━━━━━\u001B[0m\u001B[37m\u001B[0m \u001B[1m0s\u001B[0m 387us/step - loss: 0.4766 - mean_absolute_percentage_error: 9.5811 - r2_score: 0.3484\n",
      "\u001B[1m23/23\u001B[0m \u001B[32m━━━━━━━━━━━━━━━━━━━━\u001B[0m\u001B[37m\u001B[0m \u001B[1m0s\u001B[0m 364us/step - loss: 0.5257 - mean_absolute_percentage_error: 9.7873 - r2_score: 0.3390\n",
      "\u001B[1m23/23\u001B[0m \u001B[32m━━━━━━━━━━━━━━━━━━━━\u001B[0m\u001B[37m\u001B[0m \u001B[1m0s\u001B[0m 364us/step - loss: 0.4677 - mean_absolute_percentage_error: 9.3102 - r2_score: 0.3683\n",
      "\r\n",
      "Cross Validation\n",
      "- R^2: [0.37257862 0.35796833 0.37269026 0.37575996 0.39454073]\n",
      "- R^2 Durchschnittlicher: 0.3747\n",
      "- R^2 Standardabweichung: 0.0117\n",
      "\r\n",
      "\n",
      "\u001B[1m39/39\u001B[0m \u001B[32m━━━━━━━━━━━━━━━━━━━━\u001B[0m\u001B[37m\u001B[0m \u001B[1m0s\u001B[0m 662us/step\n",
      "Test:\n",
      "- R^2: 0.3085\n",
      "- RMSE: 0.74\n",
      "- MAPE: 10.24%\n"
     ]
    },
    {
     "data": {
      "text/plain": [
       "<Figure size 640x480 with 1 Axes>"
      ],
      "image/png": "[encoded data removed]"
     },
     "metadata": {},
     "output_type": "display_data"
    },
    {
     "data": {
      "text/plain": [
       "<Figure size 640x480 with 1 Axes>"
      ],
      "image/png": "[encoded data removed]"
     },
     "metadata": {},
     "output_type": "display_data"
    },
    {
     "name": "stdout",
     "output_type": "stream",
     "text": [
      "CPU times: total: 5.44 s\n",
      "Wall time: 18.4 s\n"
     ]
    },
    {
     "data": {
      "text/plain": [
       "(array([[ 0.50871283, 10.06041527,  0.37257862],\n",
       "        [ 0.49418965,  9.70754814,  0.35796833],\n",
       "        [ 0.49953073, 10.05245018,  0.37269026],\n",
       "        [ 0.49732003,  9.53590488,  0.37575996],\n",
       "        [ 0.44828007,  9.21850491,  0.39454073]]),\n",
       " (<Sequential name=sequential_1, built=True>,\n",
       "  <keras.src.callbacks.history.History at 0x1fd75745880>))"
      ]
     },
     "execution_count": 17,
     "metadata": {},
     "output_type": "execute_result"
    }
   ],
   "execution_count": 17
  },
  {
   "metadata": {
    "ExecuteTime": {
     "end_time": "2024-04-17T12:31:15.234826Z",
     "start_time": "2024-04-17T12:31:15.232513Z"
    }
   },
   "cell_type": "code",
   "source": "best_hp.values",
   "id": "4a636f525cac62e7",
   "outputs": [
    {
     "data": {
      "text/plain": [
       "{'lr': 0.004160564576348168,\n",
       " 'num_layers': 3,\n",
       " 'units_0': 40,\n",
       " 'units_1': 120,\n",
       " 'units_2': 120,\n",
       " 'units_3': 72}"
      ]
     },
     "execution_count": 18,
     "metadata": {},
     "output_type": "execute_result"
    }
   ],
   "execution_count": 18
  },
  {
   "metadata": {},
   "cell_type": "markdown",
   "source": "## RED Wine",
   "id": "7c84be6b3622c9e"
  },
  {
   "metadata": {
    "ExecuteTime": {
     "end_time": "2024-04-17T12:31:15.291192Z",
     "start_time": "2024-04-17T12:31:15.234826Z"
    }
   },
   "cell_type": "code",
   "source": [
    "red_tuner = keras_tuner.RandomSearch(\n",
    "    hypermodel=HyperRegressor(),\n",
    "    objective = keras_tuner.Objective(name=\"val_r2_score\", direction='max'),\n",
    "    max_trials=50,\n",
    "    overwrite=False,\n",
    "    directory=\"wine_score_training\",\n",
    "    project_name=\"red\",\n",
    ")"
   ],
   "id": "ec9d082ca050879b",
   "outputs": [
    {
     "name": "stdout",
     "output_type": "stream",
     "text": [
      "Reloading Tuner from wine_score_training\\red\\tuner0.json\n"
     ]
    }
   ],
   "execution_count": 19
  },
  {
   "metadata": {
    "ExecuteTime": {
     "end_time": "2024-04-17T12:31:15.295213Z",
     "start_time": "2024-04-17T12:31:15.291192Z"
    }
   },
   "cell_type": "code",
   "source": [
    "red_tuner.search(\n",
    "    x=red_training_Data_scaled,\n",
    "    y=red_training_scores,\n",
    ")\n",
    "\n",
    "red_tuner.results_summary()"
   ],
   "id": "54cfba8b4d9643e",
   "outputs": [
    {
     "name": "stdout",
     "output_type": "stream",
     "text": [
      "Results summary\n",
      "Results in wine_score_training\\red\n",
      "Showing 10 best trials\n",
      "Objective(name=\"val_r2_score\", direction=\"max\")\n",
      "\n",
      "Trial 45 summary\n",
      "Hyperparameters:\n",
      "lr: 0.006859377633228802\n",
      "num_layers: 4\n",
      "units_0: 104\n",
      "units_1: 88\n",
      "units_2: 8\n",
      "units_3: 80\n",
      "Score: 0.34972081184387205\n",
      "\n",
      "Trial 17 summary\n",
      "Hyperparameters:\n",
      "lr: 0.0018925128438043142\n",
      "num_layers: 2\n",
      "units_0: 88\n",
      "units_1: 88\n",
      "units_2: 96\n",
      "units_3: 24\n",
      "Score: 0.34657400846481323\n",
      "\n",
      "Trial 09 summary\n",
      "Hyperparameters:\n",
      "lr: 0.004029414387684745\n",
      "num_layers: 3\n",
      "units_0: 40\n",
      "units_1: 120\n",
      "units_2: 88\n",
      "units_3: 80\n",
      "Score: 0.34105840921401975\n",
      "\n",
      "Trial 19 summary\n",
      "Hyperparameters:\n",
      "lr: 0.0032409501212600873\n",
      "num_layers: 2\n",
      "units_0: 48\n",
      "units_1: 56\n",
      "units_2: 120\n",
      "units_3: 32\n",
      "Score: 0.3389271378517151\n",
      "\n",
      "Trial 08 summary\n",
      "Hyperparameters:\n",
      "lr: 0.00306562330900601\n",
      "num_layers: 3\n",
      "units_0: 88\n",
      "units_1: 88\n",
      "units_2: 48\n",
      "units_3: 112\n",
      "Score: 0.33255308866500854\n",
      "\n",
      "Trial 40 summary\n",
      "Hyperparameters:\n",
      "lr: 0.0016228511966086888\n",
      "num_layers: 3\n",
      "units_0: 32\n",
      "units_1: 16\n",
      "units_2: 40\n",
      "units_3: 32\n",
      "Score: 0.3317701697349548\n",
      "\n",
      "Trial 32 summary\n",
      "Hyperparameters:\n",
      "lr: 0.0019933868284204735\n",
      "num_layers: 2\n",
      "units_0: 56\n",
      "units_1: 56\n",
      "units_2: 24\n",
      "units_3: 112\n",
      "Score: 0.330897855758667\n",
      "\n",
      "Trial 13 summary\n",
      "Hyperparameters:\n",
      "lr: 0.002252436642805286\n",
      "num_layers: 3\n",
      "units_0: 128\n",
      "units_1: 128\n",
      "units_2: 64\n",
      "units_3: 40\n",
      "Score: 0.33050979375839235\n",
      "\n",
      "Trial 29 summary\n",
      "Hyperparameters:\n",
      "lr: 0.0016779074585105726\n",
      "num_layers: 2\n",
      "units_0: 48\n",
      "units_1: 64\n",
      "units_2: 120\n",
      "units_3: 120\n",
      "Score: 0.33029128313064576\n",
      "\n",
      "Trial 22 summary\n",
      "Hyperparameters:\n",
      "lr: 0.007279565485545583\n",
      "num_layers: 2\n",
      "units_0: 120\n",
      "units_1: 120\n",
      "units_2: 128\n",
      "units_3: 24\n",
      "Score: 0.32997307777404783\n"
     ]
    }
   ],
   "execution_count": 20
  },
  {
   "metadata": {
    "ExecuteTime": {
     "end_time": "2024-04-17T12:31:15.599445Z",
     "start_time": "2024-04-17T12:31:15.295213Z"
    }
   },
   "cell_type": "code",
   "source": [
    "best_red_model = red_tuner.get_best_models()[0]\n",
    "best_red_model.summary()"
   ],
   "id": "b87475aa64a74154",
   "outputs": [
    {
     "name": "stderr",
     "output_type": "stream",
     "text": [
      "C:\\GitClones\\TINF21C_Maschinelles-Lernen\\Programmierabgabe 2\\.venv\\Lib\\site-packages\\keras\\src\\saving\\saving_lib.py:418: UserWarning: Skipping variable loading for optimizer 'adam', because it has 2 variables whereas the saved optimizer has 22 variables. \n",
      "  trackable.load_own_variables(weights_store.get(inner_path))\n"
     ]
    },
    {
     "data": {
      "text/plain": [
       "\u001B[1mModel: \"sequential\"\u001B[0m\n"
      ],
      "text/html": [
       "<pre style=\"white-space:pre;overflow-x:auto;line-height:normal;font-family:Menlo,'DejaVu Sans Mono',consolas,'Courier New',monospace\"><span style=\"font-weight: bold\">Model: \"sequential\"</span>\n",
       "</pre>\n"
      ]
     },
     "metadata": {},
     "output_type": "display_data"
    },
    {
     "data": {
      "text/plain": [
       "┏━━━━━━━━━━━━━━━━━━━━━━━━━━━━━━━━━┳━━━━━━━━━━━━━━━━━━━━━━━━┳━━━━━━━━━━━━━━━┓\n",
       "┃\u001B[1m \u001B[0m\u001B[1mLayer (type)                   \u001B[0m\u001B[1m \u001B[0m┃\u001B[1m \u001B[0m\u001B[1mOutput Shape          \u001B[0m\u001B[1m \u001B[0m┃\u001B[1m \u001B[0m\u001B[1m      Param #\u001B[0m\u001B[1m \u001B[0m┃\n",
       "┡━━━━━━━━━━━━━━━━━━━━━━━━━━━━━━━━━╇━━━━━━━━━━━━━━━━━━━━━━━━╇━━━━━━━━━━━━━━━┩\n",
       "│ dense (\u001B[38;5;33mDense\u001B[0m)                   │ (\u001B[38;5;45mNone\u001B[0m, \u001B[38;5;34m104\u001B[0m)            │         \u001B[38;5;34m1,248\u001B[0m │\n",
       "├─────────────────────────────────┼────────────────────────┼───────────────┤\n",
       "│ dense_1 (\u001B[38;5;33mDense\u001B[0m)                 │ (\u001B[38;5;45mNone\u001B[0m, \u001B[38;5;34m88\u001B[0m)             │         \u001B[38;5;34m9,240\u001B[0m │\n",
       "├─────────────────────────────────┼────────────────────────┼───────────────┤\n",
       "│ dense_2 (\u001B[38;5;33mDense\u001B[0m)                 │ (\u001B[38;5;45mNone\u001B[0m, \u001B[38;5;34m8\u001B[0m)              │           \u001B[38;5;34m712\u001B[0m │\n",
       "├─────────────────────────────────┼────────────────────────┼───────────────┤\n",
       "│ dense_3 (\u001B[38;5;33mDense\u001B[0m)                 │ (\u001B[38;5;45mNone\u001B[0m, \u001B[38;5;34m80\u001B[0m)             │           \u001B[38;5;34m720\u001B[0m │\n",
       "├─────────────────────────────────┼────────────────────────┼───────────────┤\n",
       "│ dense_4 (\u001B[38;5;33mDense\u001B[0m)                 │ (\u001B[38;5;45mNone\u001B[0m, \u001B[38;5;34m1\u001B[0m)              │            \u001B[38;5;34m81\u001B[0m │\n",
       "└─────────────────────────────────┴────────────────────────┴───────────────┘\n"
      ],
      "text/html": [
       "<pre style=\"white-space:pre;overflow-x:auto;line-height:normal;font-family:Menlo,'DejaVu Sans Mono',consolas,'Courier New',monospace\">┏━━━━━━━━━━━━━━━━━━━━━━━━━━━━━━━━━┳━━━━━━━━━━━━━━━━━━━━━━━━┳━━━━━━━━━━━━━━━┓\n",
       "┃<span style=\"font-weight: bold\"> Layer (type)                    </span>┃<span style=\"font-weight: bold\"> Output Shape           </span>┃<span style=\"font-weight: bold\">       Param # </span>┃\n",
       "┡━━━━━━━━━━━━━━━━━━━━━━━━━━━━━━━━━╇━━━━━━━━━━━━━━━━━━━━━━━━╇━━━━━━━━━━━━━━━┩\n",
       "│ dense (<span style=\"color: #0087ff; text-decoration-color: #0087ff\">Dense</span>)                   │ (<span style=\"color: #00d7ff; text-decoration-color: #00d7ff\">None</span>, <span style=\"color: #00af00; text-decoration-color: #00af00\">104</span>)            │         <span style=\"color: #00af00; text-decoration-color: #00af00\">1,248</span> │\n",
       "├─────────────────────────────────┼────────────────────────┼───────────────┤\n",
       "│ dense_1 (<span style=\"color: #0087ff; text-decoration-color: #0087ff\">Dense</span>)                 │ (<span style=\"color: #00d7ff; text-decoration-color: #00d7ff\">None</span>, <span style=\"color: #00af00; text-decoration-color: #00af00\">88</span>)             │         <span style=\"color: #00af00; text-decoration-color: #00af00\">9,240</span> │\n",
       "├─────────────────────────────────┼────────────────────────┼───────────────┤\n",
       "│ dense_2 (<span style=\"color: #0087ff; text-decoration-color: #0087ff\">Dense</span>)                 │ (<span style=\"color: #00d7ff; text-decoration-color: #00d7ff\">None</span>, <span style=\"color: #00af00; text-decoration-color: #00af00\">8</span>)              │           <span style=\"color: #00af00; text-decoration-color: #00af00\">712</span> │\n",
       "├─────────────────────────────────┼────────────────────────┼───────────────┤\n",
       "│ dense_3 (<span style=\"color: #0087ff; text-decoration-color: #0087ff\">Dense</span>)                 │ (<span style=\"color: #00d7ff; text-decoration-color: #00d7ff\">None</span>, <span style=\"color: #00af00; text-decoration-color: #00af00\">80</span>)             │           <span style=\"color: #00af00; text-decoration-color: #00af00\">720</span> │\n",
       "├─────────────────────────────────┼────────────────────────┼───────────────┤\n",
       "│ dense_4 (<span style=\"color: #0087ff; text-decoration-color: #0087ff\">Dense</span>)                 │ (<span style=\"color: #00d7ff; text-decoration-color: #00d7ff\">None</span>, <span style=\"color: #00af00; text-decoration-color: #00af00\">1</span>)              │            <span style=\"color: #00af00; text-decoration-color: #00af00\">81</span> │\n",
       "└─────────────────────────────────┴────────────────────────┴───────────────┘\n",
       "</pre>\n"
      ]
     },
     "metadata": {},
     "output_type": "display_data"
    },
    {
     "data": {
      "text/plain": [
       "\u001B[1m Total params: \u001B[0m\u001B[38;5;34m12,001\u001B[0m (46.88 KB)\n"
      ],
      "text/html": [
       "<pre style=\"white-space:pre;overflow-x:auto;line-height:normal;font-family:Menlo,'DejaVu Sans Mono',consolas,'Courier New',monospace\"><span style=\"font-weight: bold\"> Total params: </span><span style=\"color: #00af00; text-decoration-color: #00af00\">12,001</span> (46.88 KB)\n",
       "</pre>\n"
      ]
     },
     "metadata": {},
     "output_type": "display_data"
    },
    {
     "data": {
      "text/plain": [
       "\u001B[1m Trainable params: \u001B[0m\u001B[38;5;34m12,001\u001B[0m (46.88 KB)\n"
      ],
      "text/html": [
       "<pre style=\"white-space:pre;overflow-x:auto;line-height:normal;font-family:Menlo,'DejaVu Sans Mono',consolas,'Courier New',monospace\"><span style=\"font-weight: bold\"> Trainable params: </span><span style=\"color: #00af00; text-decoration-color: #00af00\">12,001</span> (46.88 KB)\n",
       "</pre>\n"
      ]
     },
     "metadata": {},
     "output_type": "display_data"
    },
    {
     "data": {
      "text/plain": [
       "\u001B[1m Non-trainable params: \u001B[0m\u001B[38;5;34m0\u001B[0m (0.00 B)\n"
      ],
      "text/html": [
       "<pre style=\"white-space:pre;overflow-x:auto;line-height:normal;font-family:Menlo,'DejaVu Sans Mono',consolas,'Courier New',monospace\"><span style=\"font-weight: bold\"> Non-trainable params: </span><span style=\"color: #00af00; text-decoration-color: #00af00\">0</span> (0.00 B)\n",
       "</pre>\n"
      ]
     },
     "metadata": {},
     "output_type": "display_data"
    }
   ],
   "execution_count": 21
  },
  {
   "metadata": {
    "ExecuteTime": {
     "end_time": "2024-04-17T12:31:28.717138Z",
     "start_time": "2024-04-17T12:31:15.599445Z"
    }
   },
   "cell_type": "code",
   "source": [
    "%%time\n",
    "#Retrain best Model\n",
    "best_red_hp = red_tuner.get_best_hyperparameters()[0]\n",
    "best_red_model = HyperRegressor().build(best_red_hp)\n",
    "red_learning_rate = best_red_hp.get(\"lr\")\n",
    "best_red_model_history = evaluate_model_cv_print(red_learning_rate, best_model, red_training_Data_scaled, red_training_scores, red_test_data_scaled, red_test_scores)\n",
    "best_red_model_history"
   ],
   "id": "d866086c8d863252",
   "outputs": [
    {
     "name": "stdout",
     "output_type": "stream",
     "text": [
      "\u001B[1m8/8\u001B[0m \u001B[32m━━━━━━━━━━━━━━━━━━━━\u001B[0m\u001B[37m\u001B[0m \u001B[1m0s\u001B[0m 647us/step - loss: 0.4803 - mean_absolute_percentage_error: 9.4713 - r2_score: 0.2659\n",
      "\u001B[1m8/8\u001B[0m \u001B[32m━━━━━━━━━━━━━━━━━━━━\u001B[0m\u001B[37m\u001B[0m \u001B[1m0s\u001B[0m 643us/step - loss: 0.6028 - mean_absolute_percentage_error: 10.7124 - r2_score: 0.1022\n",
      "\u001B[1m8/8\u001B[0m \u001B[32m━━━━━━━━━━━━━━━━━━━━\u001B[0m\u001B[37m\u001B[0m \u001B[1m0s\u001B[0m 571us/step - loss: 0.6032 - mean_absolute_percentage_error: 10.8667 - r2_score: -0.1219\n",
      "\u001B[1m8/8\u001B[0m \u001B[32m━━━━━━━━━━━━━━━━━━━━\u001B[0m\u001B[37m\u001B[0m \u001B[1m0s\u001B[0m 504us/step - loss: 0.5118 - mean_absolute_percentage_error: 9.9967 - r2_score: 0.3075\n",
      "\u001B[1m8/8\u001B[0m \u001B[32m━━━━━━━━━━━━━━━━━━━━\u001B[0m\u001B[37m\u001B[0m \u001B[1m0s\u001B[0m 572us/step - loss: 0.3394 - mean_absolute_percentage_error: 8.6419 - r2_score: 0.3416\n",
      "\r\n",
      "Cross Validation\n",
      "- R^2: [ 0.31765223  0.22227609 -0.13576066  0.29424477  0.30436295]\n",
      "- R^2 Durchschnittlicher: 0.2006\n",
      "- R^2 Standardabweichung: 0.1714\n",
      "\r\n",
      "\n",
      "\u001B[1m13/13\u001B[0m \u001B[32m━━━━━━━━━━━━━━━━━━━━\u001B[0m\u001B[37m\u001B[0m \u001B[1m0s\u001B[0m 1ms/step \n",
      "Test:\n",
      "- R^2: 0.4113\n",
      "- RMSE: 0.67\n",
      "- MAPE: 9.18%\n"
     ]
    },
    {
     "data": {
      "text/plain": [
       "<Figure size 640x480 with 1 Axes>"
      ],
      "image/png": "[encoded data removed]"
     },
     "metadata": {},
     "output_type": "display_data"
    },
    {
     "data": {
      "text/plain": [
       "<Figure size 640x480 with 1 Axes>"
      ],
      "image/png": "[encoded data removed]"
     },
     "metadata": {},
     "output_type": "display_data"
    },
    {
     "name": "stdout",
     "output_type": "stream",
     "text": [
      "CPU times: total: 4.92 s\n",
      "Wall time: 13.1 s\n"
     ]
    },
    {
     "data": {
      "text/plain": [
       "(array([[ 0.44120353,  9.22926998,  0.31765223],\n",
       "        [ 0.51583701,  9.80092812,  0.22227609],\n",
       "        [ 0.60319722, 10.68018436, -0.13576066],\n",
       "        [ 0.48166588,  9.58721352,  0.29424477],\n",
       "        [ 0.38558829,  8.89576626,  0.30436295]]),\n",
       " (<Sequential name=sequential_1, built=True>,\n",
       "  <keras.src.callbacks.history.History at 0x1fd732c2ab0>))"
      ]
     },
     "execution_count": 22,
     "metadata": {},
     "output_type": "execute_result"
    }
   ],
   "execution_count": 22
  }
 ],
 "metadata": {
  "kernelspec": {
   "display_name": "Python 3",
   "language": "python",
   "name": "python3"
  },
  "language_info": {
   "codemirror_mode": {
    "name": "ipython",
    "version": 2
   },
   "file_extension": ".py",
   "mimetype": "text/x-python",
   "name": "python",
   "nbconvert_exporter": "python",
   "pygments_lexer": "ipython2",
   "version": "2.7.6"
  }
 },
 "nbformat": 4,
 "nbformat_minor": 5
}
