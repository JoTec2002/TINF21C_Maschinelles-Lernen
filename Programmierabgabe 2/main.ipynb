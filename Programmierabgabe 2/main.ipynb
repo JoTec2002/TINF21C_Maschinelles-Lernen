{
 "cells": [
  {
   "metadata": {},
   "cell_type": "markdown",
   "source": "Abgabe von: Mat.Nr.: 9452857 & 1113800",
   "id": "a454e9c8e561de40"
  },
  {
   "metadata": {},
   "cell_type": "markdown",
   "source": "Before doing anything installing all needed dependencies",
   "id": "9c6dccc67e1c0231"
  },
  {
   "metadata": {},
   "cell_type": "markdown",
   "source": [
    "# Software requirements\n",
    "\n",
    "Python 3.9–3.11"
   ],
   "id": "5888947177567c81"
  },
  {
   "metadata": {},
   "cell_type": "markdown",
   "source": [
    "Version\tPython version\tCompiler\tBuild tools\tcuDNN\tCUDA\n",
    "tensorflow-2.16.1\t3.9-3.12\tClang 17.0.6\tBazel 6.5.0\t8.9\t12.3"
   ],
   "id": "513d72e8194e4e2b"
  },
  {
   "metadata": {},
   "cell_type": "markdown",
   "source": [
    "!pip3 install pandas\n",
    "!pip3 install scikit-learn\n",
    "!pip3 install tensorflow\n",
    "!pip3 install keras-tuner\n",
    "!pip3 install matplotlib"
   ],
   "id": "bc729ff4219f376a"
  },
  {
   "metadata": {},
   "cell_type": "markdown",
   "source": "# Aufgabe 1",
   "id": "4f23b98e8bec9a3e"
  },
  {
   "metadata": {
    "ExecuteTime": {
     "end_time": "2024-04-17T11:08:32.042660Z",
     "start_time": "2024-04-17T11:08:31.565753Z"
    }
   },
   "cell_type": "code",
   "source": [
    "import os\n",
    "os.environ[\"KERAS_BACKEND\"] = \"tensorflow\"\n",
    "import matplotlib.pyplot as plt\n",
    "import pandas as pd\n",
    "import numpy as np\n",
    "from sklearn.model_selection import train_test_split"
   ],
   "id": "7afb645d8eee8308",
   "outputs": [],
   "execution_count": 1
  },
  {
   "metadata": {},
   "cell_type": "markdown",
   "source": "Import data",
   "id": "97aabfa007d964d2"
  },
  {
   "metadata": {
    "ExecuteTime": {
     "end_time": "2024-04-17T11:08:32.054142Z",
     "start_time": "2024-04-17T11:08:32.044071Z"
    }
   },
   "cell_type": "code",
   "source": [
    "white_raw = pd.read_csv(os.getcwd() + \"/dataset/winequality-white.csv\", delimiter=\";\")\n",
    "red_raw = pd.read_csv(os.getcwd() + \"/dataset/winequality-red.csv\", delimiter=\";\")"
   ],
   "id": "4160001e3aab46f7",
   "outputs": [],
   "execution_count": 2
  },
  {
   "metadata": {
    "ExecuteTime": {
     "end_time": "2024-04-17T11:08:32.065899Z",
     "start_time": "2024-04-17T11:08:32.055020Z"
    }
   },
   "cell_type": "code",
   "source": "white_raw",
   "id": "1fcde4a3dd70d6bf",
   "outputs": [
    {
     "data": {
      "text/plain": [
       "      fixed acidity  volatile acidity  citric acid  residual sugar  chlorides  \\\n",
       "0               7.0              0.27         0.36            20.7      0.045   \n",
       "1               6.3              0.30         0.34             1.6      0.049   \n",
       "2               8.1              0.28         0.40             6.9      0.050   \n",
       "3               7.2              0.23         0.32             8.5      0.058   \n",
       "4               7.2              0.23         0.32             8.5      0.058   \n",
       "...             ...               ...          ...             ...        ...   \n",
       "4893            6.2              0.21         0.29             1.6      0.039   \n",
       "4894            6.6              0.32         0.36             8.0      0.047   \n",
       "4895            6.5              0.24         0.19             1.2      0.041   \n",
       "4896            5.5              0.29         0.30             1.1      0.022   \n",
       "4897            6.0              0.21         0.38             0.8      0.020   \n",
       "\n",
       "      free sulfur dioxide  total sulfur dioxide  density    pH  sulphates  \\\n",
       "0                    45.0                 170.0  1.00100  3.00       0.45   \n",
       "1                    14.0                 132.0  0.99400  3.30       0.49   \n",
       "2                    30.0                  97.0  0.99510  3.26       0.44   \n",
       "3                    47.0                 186.0  0.99560  3.19       0.40   \n",
       "4                    47.0                 186.0  0.99560  3.19       0.40   \n",
       "...                   ...                   ...      ...   ...        ...   \n",
       "4893                 24.0                  92.0  0.99114  3.27       0.50   \n",
       "4894                 57.0                 168.0  0.99490  3.15       0.46   \n",
       "4895                 30.0                 111.0  0.99254  2.99       0.46   \n",
       "4896                 20.0                 110.0  0.98869  3.34       0.38   \n",
       "4897                 22.0                  98.0  0.98941  3.26       0.32   \n",
       "\n",
       "      alcohol  quality  \n",
       "0         8.8        6  \n",
       "1         9.5        6  \n",
       "2        10.1        6  \n",
       "3         9.9        6  \n",
       "4         9.9        6  \n",
       "...       ...      ...  \n",
       "4893     11.2        6  \n",
       "4894      9.6        5  \n",
       "4895      9.4        6  \n",
       "4896     12.8        7  \n",
       "4897     11.8        6  \n",
       "\n",
       "[4898 rows x 12 columns]"
      ],
      "text/html": [
       "<div>\n",
       "<style scoped>\n",
       "    .dataframe tbody tr th:only-of-type {\n",
       "        vertical-align: middle;\n",
       "    }\n",
       "\n",
       "    .dataframe tbody tr th {\n",
       "        vertical-align: top;\n",
       "    }\n",
       "\n",
       "    .dataframe thead th {\n",
       "        text-align: right;\n",
       "    }\n",
       "</style>\n",
       "<table border=\"1\" class=\"dataframe\">\n",
       "  <thead>\n",
       "    <tr style=\"text-align: right;\">\n",
       "      <th></th>\n",
       "      <th>fixed acidity</th>\n",
       "      <th>volatile acidity</th>\n",
       "      <th>citric acid</th>\n",
       "      <th>residual sugar</th>\n",
       "      <th>chlorides</th>\n",
       "      <th>free sulfur dioxide</th>\n",
       "      <th>total sulfur dioxide</th>\n",
       "      <th>density</th>\n",
       "      <th>pH</th>\n",
       "      <th>sulphates</th>\n",
       "      <th>alcohol</th>\n",
       "      <th>quality</th>\n",
       "    </tr>\n",
       "  </thead>\n",
       "  <tbody>\n",
       "    <tr>\n",
       "      <th>0</th>\n",
       "      <td>7.0</td>\n",
       "      <td>0.27</td>\n",
       "      <td>0.36</td>\n",
       "      <td>20.7</td>\n",
       "      <td>0.045</td>\n",
       "      <td>45.0</td>\n",
       "      <td>170.0</td>\n",
       "      <td>1.00100</td>\n",
       "      <td>3.00</td>\n",
       "      <td>0.45</td>\n",
       "      <td>8.8</td>\n",
       "      <td>6</td>\n",
       "    </tr>\n",
       "    <tr>\n",
       "      <th>1</th>\n",
       "      <td>6.3</td>\n",
       "      <td>0.30</td>\n",
       "      <td>0.34</td>\n",
       "      <td>1.6</td>\n",
       "      <td>0.049</td>\n",
       "      <td>14.0</td>\n",
       "      <td>132.0</td>\n",
       "      <td>0.99400</td>\n",
       "      <td>3.30</td>\n",
       "      <td>0.49</td>\n",
       "      <td>9.5</td>\n",
       "      <td>6</td>\n",
       "    </tr>\n",
       "    <tr>\n",
       "      <th>2</th>\n",
       "      <td>8.1</td>\n",
       "      <td>0.28</td>\n",
       "      <td>0.40</td>\n",
       "      <td>6.9</td>\n",
       "      <td>0.050</td>\n",
       "      <td>30.0</td>\n",
       "      <td>97.0</td>\n",
       "      <td>0.99510</td>\n",
       "      <td>3.26</td>\n",
       "      <td>0.44</td>\n",
       "      <td>10.1</td>\n",
       "      <td>6</td>\n",
       "    </tr>\n",
       "    <tr>\n",
       "      <th>3</th>\n",
       "      <td>7.2</td>\n",
       "      <td>0.23</td>\n",
       "      <td>0.32</td>\n",
       "      <td>8.5</td>\n",
       "      <td>0.058</td>\n",
       "      <td>47.0</td>\n",
       "      <td>186.0</td>\n",
       "      <td>0.99560</td>\n",
       "      <td>3.19</td>\n",
       "      <td>0.40</td>\n",
       "      <td>9.9</td>\n",
       "      <td>6</td>\n",
       "    </tr>\n",
       "    <tr>\n",
       "      <th>4</th>\n",
       "      <td>7.2</td>\n",
       "      <td>0.23</td>\n",
       "      <td>0.32</td>\n",
       "      <td>8.5</td>\n",
       "      <td>0.058</td>\n",
       "      <td>47.0</td>\n",
       "      <td>186.0</td>\n",
       "      <td>0.99560</td>\n",
       "      <td>3.19</td>\n",
       "      <td>0.40</td>\n",
       "      <td>9.9</td>\n",
       "      <td>6</td>\n",
       "    </tr>\n",
       "    <tr>\n",
       "      <th>...</th>\n",
       "      <td>...</td>\n",
       "      <td>...</td>\n",
       "      <td>...</td>\n",
       "      <td>...</td>\n",
       "      <td>...</td>\n",
       "      <td>...</td>\n",
       "      <td>...</td>\n",
       "      <td>...</td>\n",
       "      <td>...</td>\n",
       "      <td>...</td>\n",
       "      <td>...</td>\n",
       "      <td>...</td>\n",
       "    </tr>\n",
       "    <tr>\n",
       "      <th>4893</th>\n",
       "      <td>6.2</td>\n",
       "      <td>0.21</td>\n",
       "      <td>0.29</td>\n",
       "      <td>1.6</td>\n",
       "      <td>0.039</td>\n",
       "      <td>24.0</td>\n",
       "      <td>92.0</td>\n",
       "      <td>0.99114</td>\n",
       "      <td>3.27</td>\n",
       "      <td>0.50</td>\n",
       "      <td>11.2</td>\n",
       "      <td>6</td>\n",
       "    </tr>\n",
       "    <tr>\n",
       "      <th>4894</th>\n",
       "      <td>6.6</td>\n",
       "      <td>0.32</td>\n",
       "      <td>0.36</td>\n",
       "      <td>8.0</td>\n",
       "      <td>0.047</td>\n",
       "      <td>57.0</td>\n",
       "      <td>168.0</td>\n",
       "      <td>0.99490</td>\n",
       "      <td>3.15</td>\n",
       "      <td>0.46</td>\n",
       "      <td>9.6</td>\n",
       "      <td>5</td>\n",
       "    </tr>\n",
       "    <tr>\n",
       "      <th>4895</th>\n",
       "      <td>6.5</td>\n",
       "      <td>0.24</td>\n",
       "      <td>0.19</td>\n",
       "      <td>1.2</td>\n",
       "      <td>0.041</td>\n",
       "      <td>30.0</td>\n",
       "      <td>111.0</td>\n",
       "      <td>0.99254</td>\n",
       "      <td>2.99</td>\n",
       "      <td>0.46</td>\n",
       "      <td>9.4</td>\n",
       "      <td>6</td>\n",
       "    </tr>\n",
       "    <tr>\n",
       "      <th>4896</th>\n",
       "      <td>5.5</td>\n",
       "      <td>0.29</td>\n",
       "      <td>0.30</td>\n",
       "      <td>1.1</td>\n",
       "      <td>0.022</td>\n",
       "      <td>20.0</td>\n",
       "      <td>110.0</td>\n",
       "      <td>0.98869</td>\n",
       "      <td>3.34</td>\n",
       "      <td>0.38</td>\n",
       "      <td>12.8</td>\n",
       "      <td>7</td>\n",
       "    </tr>\n",
       "    <tr>\n",
       "      <th>4897</th>\n",
       "      <td>6.0</td>\n",
       "      <td>0.21</td>\n",
       "      <td>0.38</td>\n",
       "      <td>0.8</td>\n",
       "      <td>0.020</td>\n",
       "      <td>22.0</td>\n",
       "      <td>98.0</td>\n",
       "      <td>0.98941</td>\n",
       "      <td>3.26</td>\n",
       "      <td>0.32</td>\n",
       "      <td>11.8</td>\n",
       "      <td>6</td>\n",
       "    </tr>\n",
       "  </tbody>\n",
       "</table>\n",
       "<p>4898 rows × 12 columns</p>\n",
       "</div>"
      ]
     },
     "execution_count": 3,
     "metadata": {},
     "output_type": "execute_result"
    }
   ],
   "execution_count": 3
  },
  {
   "metadata": {},
   "cell_type": "markdown",
   "source": "Split wine in Test and Training Data (75% / 25%)",
   "id": "f35c33506d4e5286"
  },
  {
   "metadata": {
    "ExecuteTime": {
     "end_time": "2024-04-17T11:08:32.071592Z",
     "start_time": "2024-04-17T11:08:32.067160Z"
    }
   },
   "cell_type": "code",
   "source": [
    "white_training_Data, white_test_data, white_training_scores, white_test_scores = (train_test_split(white_raw.drop(\"quality\", axis=1), white_raw['quality'],test_size=0.25, random_state=39))\n",
    "\n",
    "red_training_Data, red_test_data, red_training_scores, red_test_scores = (train_test_split(red_raw.drop(\"quality\", axis=1), red_raw['quality'],test_size=0.25, random_state=39))"
   ],
   "id": "580c5e24fed82ef7",
   "outputs": [],
   "execution_count": 4
  },
  {
   "metadata": {},
   "cell_type": "markdown",
   "source": [
    "Normalize the Data\n",
    "Standard Scaler to Scale around 0\n",
    "MIN May to Scale this than between 0-1\n",
    "\n",
    "Some Functionality as tensorflow Normalization Layer"
   ],
   "id": "277c1b6316304bb5"
  },
  {
   "metadata": {
    "ExecuteTime": {
     "end_time": "2024-04-17T11:08:32.079259Z",
     "start_time": "2024-04-17T11:08:32.072489Z"
    }
   },
   "cell_type": "code",
   "source": [
    "from sklearn.pipeline import Pipeline\n",
    "from sklearn.preprocessing import Normalizer, normalize, MinMaxScaler, StandardScaler\n",
    "\n",
    "pipeline = Pipeline([\n",
    "    ('scaler1', StandardScaler()),\n",
    "    ('scaler2', MinMaxScaler())\n",
    "])\n",
    "\n",
    "white_training_Data_scaled = np.array(pipeline.fit_transform(white_training_Data))\n",
    "white_training_scores = np.array(white_training_scores)\n",
    "white_test_data_scaled = np.array(pipeline.transform(white_test_data))\n",
    "white_test_scores = np.array(white_test_scores)\n",
    "\n",
    "red_training_Data_scaled = np.array(pipeline.fit_transform(red_training_Data))\n",
    "red_training_scores = np.array(red_training_scores)\n",
    "red_test_data_scaled = np.array(pipeline.transform (red_test_data))\n",
    "red_test_scores = np.array(red_test_scores)\n"
   ],
   "id": "a7db3b106afd6d33",
   "outputs": [],
   "execution_count": 5
  },
  {
   "metadata": {
    "ExecuteTime": {
     "end_time": "2024-04-17T11:08:32.082940Z",
     "start_time": "2024-04-17T11:08:32.080121Z"
    }
   },
   "cell_type": "code",
   "source": "white_training_Data_scaled",
   "id": "51f1963906260ecb",
   "outputs": [
    {
     "data": {
      "text/plain": [
       "array([[0.33653846, 0.29411765, 0.13855422, ..., 0.35185185, 0.39285714,\n",
       "        0.51612903],\n",
       "       [0.24038462, 0.24509804, 0.12048193, ..., 0.38888889, 0.3452381 ,\n",
       "        0.12903226],\n",
       "       [0.34615385, 0.32352941, 0.39759036, ..., 0.30555556, 0.28571429,\n",
       "        0.11290323],\n",
       "       ...,\n",
       "       [0.34615385, 0.11764706, 0.22289157, ..., 0.28703704, 0.23809524,\n",
       "        0.19354839],\n",
       "       [0.33653846, 0.04901961, 0.19277108, ..., 0.44444444, 0.1547619 ,\n",
       "        0.19354839],\n",
       "       [0.28846154, 0.10784314, 0.20481928, ..., 0.49074074, 0.27380952,\n",
       "        0.79032258]])"
      ]
     },
     "execution_count": 6,
     "metadata": {},
     "output_type": "execute_result"
    }
   ],
   "execution_count": 6
  },
  {
   "metadata": {},
   "cell_type": "markdown",
   "source": "# Aufgabe 3",
   "id": "4e5e298fb6355054"
  },
  {
   "metadata": {},
   "cell_type": "markdown",
   "source": "https://www.tensorflow.org/tutorials/keras/regression#regression_using_a_dnn_and_multiple_inputs",
   "id": "df0e56de4a7fc0fe"
  },
  {
   "metadata": {},
   "cell_type": "markdown",
   "source": "## General Model definition",
   "id": "7d4751e485a223c1"
  },
  {
   "metadata": {
    "ExecuteTime": {
     "end_time": "2024-04-17T11:08:33.045348Z",
     "start_time": "2024-04-17T11:08:32.083660Z"
    }
   },
   "cell_type": "code",
   "source": [
    "from math import sqrt\n",
    "\n",
    "import keras\n",
    "from keras import layers\n",
    "from keras.src.models.cloning import clone_model\n",
    "\n",
    "import tensorflow as tf\n",
    "\n",
    "from sklearn.model_selection import GridSearchCV\n",
    "from sklearn.metrics import mean_absolute_error, mean_squared_error\n",
    "from sklearn.metrics import r2_score, mean_absolute_percentage_error\n",
    "from sklearn.model_selection import KFold\n",
    "\n",
    "import keras_tuner"
   ],
   "id": "83ee2365a96b07c9",
   "outputs": [
    {
     "name": "stderr",
     "output_type": "stream",
     "text": [
      "2024-04-17 13:08:32.208654: I tensorflow/core/util/port.cc:113] oneDNN custom operations are on. You may see slightly different numerical results due to floating-point round-off errors from different computation orders. To turn them off, set the environment variable `TF_ENABLE_ONEDNN_OPTS=0`.\n",
      "2024-04-17 13:08:32.232737: I tensorflow/core/platform/cpu_feature_guard.cc:210] This TensorFlow binary is optimized to use available CPU instructions in performance-critical operations.\n",
      "To enable the following instructions: AVX2 AVX512F AVX512_VNNI AVX512_BF16 FMA, in other operations, rebuild TensorFlow with the appropriate compiler flags.\n",
      "2024-04-17 13:08:32.706566: W tensorflow/compiler/tf2tensorrt/utils/py_utils.cc:38] TF-TRT Warning: Could not find TensorRT\n"
     ]
    }
   ],
   "execution_count": 7
  },
  {
   "metadata": {
    "ExecuteTime": {
     "end_time": "2024-04-17T11:08:33.236353Z",
     "start_time": "2024-04-17T11:08:33.046171Z"
    }
   },
   "cell_type": "code",
   "source": [
    "#Check and Print Tensorflow GPU Availability\n",
    "print(\"Num GPUs Available: \", len(tf.config.list_physical_devices('GPU')))"
   ],
   "id": "3bde899157cc2a6c",
   "outputs": [
    {
     "name": "stdout",
     "output_type": "stream",
     "text": [
      "Num GPUs Available:  1\n"
     ]
    },
    {
     "name": "stderr",
     "output_type": "stream",
     "text": [
      "2024-04-17 13:08:33.212539: I external/local_xla/xla/stream_executor/cuda/cuda_executor.cc:984] could not open file to read NUMA node: /sys/bus/pci/devices/0000:01:00.0/numa_node\n",
      "Your kernel may have been built without NUMA support.\n",
      "2024-04-17 13:08:33.233513: I external/local_xla/xla/stream_executor/cuda/cuda_executor.cc:984] could not open file to read NUMA node: /sys/bus/pci/devices/0000:01:00.0/numa_node\n",
      "Your kernel may have been built without NUMA support.\n",
      "2024-04-17 13:08:33.233549: I external/local_xla/xla/stream_executor/cuda/cuda_executor.cc:984] could not open file to read NUMA node: /sys/bus/pci/devices/0000:01:00.0/numa_node\n",
      "Your kernel may have been built without NUMA support.\n"
     ]
    }
   ],
   "execution_count": 8
  },
  {
   "metadata": {
    "ExecuteTime": {
     "end_time": "2024-04-17T11:08:33.240530Z",
     "start_time": "2024-04-17T11:08:33.237192Z"
    }
   },
   "cell_type": "code",
   "source": [
    "def plot_loss(keras_regressor_model):\n",
    "  plt.plot(keras_regressor_model.history['loss'], label='loss')\n",
    "  plt.plot(keras_regressor_model.history['val_loss'], label='val_loss')\n",
    "  plt.ylim([0, 2])\n",
    "  plt.xlabel('Epoch')\n",
    "  plt.ylabel('Mean Squared Error [Wine Quality Score]')\n",
    "  plt.legend()\n",
    "  plt.grid(True)\n",
    "  plt.show()\n",
    "  \n",
    "def plot_metrics(white_test_scores, test_predictions):\n",
    "    a = plt.axes(aspect='equal')\n",
    "    plt.scatter(white_test_scores, test_predictions)\n",
    "    plt.xlabel('True Values [winequality-white]')\n",
    "    plt.ylabel('Predictions [winequality-white]')\n",
    "    lims = [0, 10]\n",
    "    plt.xlim(lims)\n",
    "    plt.ylim(lims)\n",
    "    _ = plt.plot(lims, lims)\n",
    "    plt.show()"
   ],
   "id": "7f8221c6ce32687a",
   "outputs": [],
   "execution_count": 9
  },
  {
   "metadata": {
    "ExecuteTime": {
     "end_time": "2024-04-17T11:08:33.244927Z",
     "start_time": "2024-04-17T11:08:33.241631Z"
    }
   },
   "cell_type": "code",
   "source": [
    "# Function to calculate model and print Bewertungsmetriken\n",
    "def model_regressor_grid_calculator(estimator: any, param_grid: dict | list,\n",
    "                               training_data: any, valid_data: any, training_scores: any, valid_scores: any):\n",
    "    #select the best HyperParameters while using cross-validation for it (cv=5)\n",
    "    grid_search = GridSearchCV(estimator, param_grid=param_grid, cv=5, scoring=\"r2\")\n",
    "    grid_search.fit(training_data, training_scores)\n",
    "    \n",
    "    print(\"Beste Hyperparameter: \" + str(grid_search.best_params_))\n",
    "    \n",
    "    # Select the best model from Grid Search\n",
    "    optimal_model = grid_search.best_estimator_\n",
    "    \n",
    "    # Selected Params\n",
    "    cv_results = pd.DataFrame(grid_search.cv_results_).loc[grid_search.best_index_]\n",
    "    \n",
    "    r2_score_cv = [cv_results['split0_test_score'], \n",
    "                   cv_results['split1_test_score'],\n",
    "                   cv_results['split2_test_score'],\n",
    "                   cv_results['split3_test_score'],\n",
    "                   cv_results['split4_test_score'],\n",
    "                   ]\n",
    "    r2_score_cv_mean = cv_results['mean_test_score']\n",
    "    r2_score_cv_std = cv_results['std_test_score']\n",
    "    \n",
    "    print('Cross Validation')\n",
    "    print(f'- R^2: {r2_score_cv}')\n",
    "    print(f'- R^2 Durchschnittlicher: {r2_score_cv_mean:.4f}')\n",
    "    print(f'- R^2 Standardabweichung: {r2_score_cv_std:.4f}')\n",
    "    print('\\r\\n')\n",
    "    \n",
    "    \n",
    "    predicted_test_scores = optimal_model.predict(valid_data)\n",
    "    \n",
    "    r2_score_test = r2_score(valid_scores, predicted_test_scores)\n",
    "    rmse_test = sqrt(mean_squared_error(valid_scores, predicted_test_scores))\n",
    "    mape_test = mean_absolute_percentage_error(valid_scores, predicted_test_scores)\n",
    "    \n",
    "    print('Test:')\n",
    "    print(f'- R^2: {r2_score_test:.4f}')\n",
    "    print(f'- RMSE: {rmse_test:.2f}')\n",
    "    print(f'- MAPE: {mape_test:.2%}')\n",
    "    \n",
    "    plot_loss(optimal_model)\n",
    "    plot_metrics(valid_scores, predicted_test_scores)\n",
    "    \n",
    "    return cv_results, optimal_model"
   ],
   "id": "15f492a10baa4b0b",
   "outputs": [],
   "execution_count": 10
  },
  {
   "metadata": {
    "ExecuteTime": {
     "end_time": "2024-04-17T11:08:33.248117Z",
     "start_time": "2024-04-17T11:08:33.245661Z"
    }
   },
   "cell_type": "code",
   "source": [
    "def create_model_tuner(hp, learning_rate):    \n",
    "    # Konfiguriere die Verteilungsstrategie\n",
    "    input_layer = layers.Input(shape=(11,))\n",
    "    model = keras.Sequential([\n",
    "        input_layer       \n",
    "    ])\n",
    "    \n",
    "    for i in range(hp.Int(\"num_layers\", 2, 4)):\n",
    "        model.add(\n",
    "            layers.Dense(\n",
    "                # Tune number of units separately.\n",
    "                units=hp.Int(f\"units_{i}\", min_value=8, max_value=128, step=8),\n",
    "                activation='relu',\n",
    "            )\n",
    "        )\n",
    "    model.add(layers.Dense(1))#output\n",
    "    \n",
    "    model.compile(loss=keras.losses.mean_squared_error,\n",
    "            optimizer=keras.optimizers.Adam(learning_rate=learning_rate), metrics=[keras.metrics.mean_absolute_percentage_error, keras.metrics.R2Score])      \n",
    "    \n",
    "    return model"
   ],
   "id": "182ee7b7404dd257",
   "outputs": [],
   "execution_count": 11
  },
  {
   "metadata": {
    "ExecuteTime": {
     "end_time": "2024-04-17T11:08:33.253600Z",
     "start_time": "2024-04-17T11:08:33.248854Z"
    }
   },
   "cell_type": "code",
   "source": [
    "def evaluate_model_cv(learning_rate, model, training_data, training_scores, **kwargs):\n",
    "    cv_scores = []\n",
    "    models_history = []\n",
    "    \n",
    "    kfold = KFold(n_splits=5, shuffle=True) #Cross Validation cv=5\n",
    "    for i, (train_index, test_index) in enumerate(kfold.split(training_data, training_scores)):\n",
    "        local_model = clone_model(model)\n",
    "        local_model.compile(\n",
    "            loss=keras.losses.mean_squared_error, \n",
    "            optimizer=keras.optimizers.Adam(learning_rate=learning_rate), \n",
    "            metrics=[keras.metrics.mean_absolute_percentage_error, keras.metrics.R2Score])\n",
    "        \n",
    "        model_history = local_model.fit(training_data[train_index], training_scores[train_index], batch_size=64, epochs=64, validation_data=(training_data[test_index], training_scores[test_index]), verbose=0, **kwargs)\n",
    "        cv_scores.append(local_model.evaluate(training_data[test_index], training_scores[test_index]))\n",
    "        models_history.append(model_history)\n",
    "        \n",
    "    cv_scores = np.array(cv_scores)\n",
    "    r2_score_mean = np.mean(cv_scores[:, 2])\n",
    "    \n",
    "    return r2_score_mean\n",
    "\n",
    "\n",
    "def evaluate_model_cv_print(learning_rate, model, training_data, training_scores, valid_data, valid_scores,  **kwargs):\n",
    "    cv_scores = []\n",
    "    models_history = []\n",
    "    \n",
    "    kfold = KFold(n_splits=5, shuffle=True) #Cross Validation cv=5\n",
    "    for i, (train_index, test_index) in enumerate(kfold.split(training_data, training_scores)):\n",
    "        local_model = clone_model(model)\n",
    "        local_model.compile(\n",
    "            loss=keras.losses.mean_squared_error, \n",
    "            optimizer=keras.optimizers.Adam(learning_rate=learning_rate), \n",
    "            metrics=[keras.metrics.mean_absolute_percentage_error, keras.metrics.R2Score])\n",
    "        \n",
    "        model_history = local_model.fit(training_data[train_index], training_scores[train_index], batch_size=64, epochs=512, validation_data=(training_data[test_index], training_scores[test_index]), verbose=0, **kwargs)\n",
    "        cv_scores.append(local_model.evaluate(training_data[test_index], training_scores[test_index]))\n",
    "        models_history.append((local_model, model_history))\n",
    "        \n",
    "    cv_scores = np.array(cv_scores)\n",
    "        \n",
    "    print('\\r\\nCross Validation')\n",
    "    print(f'- R^2: {cv_scores[:, 2]}')\n",
    "    print(f'- R^2 Durchschnittlicher: {np.mean(cv_scores[:, 2]):.4f}')\n",
    "    print(f'- R^2 Standardabweichung: {np.std(cv_scores[:, 2]):.4f}')\n",
    "    print('\\r\\n')\n",
    "    \n",
    "    #get best model\n",
    "    best_model_index = np.argmax(cv_scores[:, 2])   #get best r2 score model\n",
    "    optimal_model = models_history[best_model_index]\n",
    "    \n",
    "    predicted_test_scores = optimal_model[0].predict(valid_data)\n",
    "    \n",
    "    r2_score_test = r2_score(valid_scores, predicted_test_scores)\n",
    "    rmse_test = sqrt(mean_squared_error(valid_scores, predicted_test_scores))\n",
    "    mape_test = mean_absolute_percentage_error(valid_scores, predicted_test_scores)\n",
    "    \n",
    "    print('Test:')\n",
    "    print(f'- R^2: {r2_score_test:.4f}')\n",
    "    print(f'- RMSE: {rmse_test:.2f}')\n",
    "    print(f'- MAPE: {mape_test:.2%}')\n",
    "    \n",
    "    plot_loss(optimal_model[1])\n",
    "    plot_metrics(valid_scores, predicted_test_scores)\n",
    "    \n",
    "    return cv_scores, optimal_model\n",
    "    \n",
    "        "
   ],
   "id": "ff5e2f6569da43b2",
   "outputs": [],
   "execution_count": 12
  },
  {
   "metadata": {},
   "cell_type": "markdown",
   "source": [
    "Ablauf Hyperparameter optimierung:\n",
    "Fitting 5 folds for each of x candidates totalling 5x fits\n",
    "Select best model based on r2 score mean (valid)"
   ],
   "id": "20aff0fcabd87ab"
  },
  {
   "metadata": {
    "ExecuteTime": {
     "end_time": "2024-04-17T11:08:33.256490Z",
     "start_time": "2024-04-17T11:08:33.254334Z"
    }
   },
   "cell_type": "code",
   "source": [
    "class HyperRegressor(keras_tuner.HyperModel):\n",
    "    def build(self, hp):\n",
    "        learning_rate = hp.Float(\"lr\", min_value=1e-4, max_value=1e-2, sampling=\"log\")\n",
    "        return create_model_tuner(hp, learning_rate)\n",
    "\n",
    "    def fit(self, hp, model, x, y, **kwargs):\n",
    "        # Return a single float to maximize\n",
    "        learning_rate = hp.get(\"lr\")\n",
    "        return evaluate_model_cv(learning_rate, model, x, y, **kwargs)"
   ],
   "id": "e4fc5dd69d91eb05",
   "outputs": [],
   "execution_count": 13
  },
  {
   "metadata": {},
   "cell_type": "markdown",
   "source": "## White Wine",
   "id": "c887c743e48975cd"
  },
  {
   "metadata": {
    "ExecuteTime": {
     "end_time": "2024-04-17T11:08:59.138137Z",
     "start_time": "2024-04-17T11:08:59.118330Z"
    }
   },
   "cell_type": "code",
   "source": [
    "tuner = keras_tuner.RandomSearch(\n",
    "    hypermodel=HyperRegressor(),\n",
    "    objective = keras_tuner.Objective(name=\"val_r2_score\", direction='max'),\n",
    "    max_trials=10,\n",
    "    overwrite=False,\n",
    "    directory=\"wine_score_training\",\n",
    "    project_name=\"white\",\n",
    ")"
   ],
   "id": "527545615ad27775",
   "outputs": [],
   "execution_count": 15
  },
  {
   "metadata": {},
   "cell_type": "markdown",
   "source": "Following cell could be disabled if values should just be loaded",
   "id": "fa7e3a40467b6a6"
  },
  {
   "metadata": {},
   "cell_type": "code",
   "source": [
    "tuner.search(\n",
    "    x=white_training_Data_scaled,\n",
    "    y=white_training_scores,\n",
    ")\n",
    "\n",
    "tuner.results_summary()"
   ],
   "id": "e76a2255b09fe670",
   "execution_count": 16,
   "outputs": [
    {
     "name": "stdout",
     "output_type": "stream",
     "text": [
      "Trial 10 Complete [00h 00m 34s]\n",
      "val_r2_score: 0.25329371690750124\n",
      "\n",
      "Best val_r2_score So Far: 0.3592687487602234\n",
      "Total elapsed time: 00h 06m 15s\n",
      "Results summary\n",
      "Results in wine_score_training/white\n",
      "Showing 10 best trials\n",
      "Objective(name=\"val_r2_score\", direction=\"max\")\n",
      "\n",
      "Trial 06 summary\n",
      "Hyperparameters:\n",
      "lr: 0.001192978696747447\n",
      "num_layers: 2\n",
      "units_0: 88\n",
      "units_1: 72\n",
      "units_2: 32\n",
      "units_3: 88\n",
      "Score: 0.3592687487602234\n",
      "\n",
      "Trial 07 summary\n",
      "Hyperparameters:\n",
      "lr: 0.0002353664033049617\n",
      "num_layers: 4\n",
      "units_0: 80\n",
      "units_1: 72\n",
      "units_2: 88\n",
      "units_3: 88\n",
      "Score: 0.3592187762260437\n",
      "\n",
      "Trial 02 summary\n",
      "Hyperparameters:\n",
      "lr: 0.0009756660584259578\n",
      "num_layers: 4\n",
      "units_0: 96\n",
      "units_1: 88\n",
      "units_2: 8\n",
      "units_3: 8\n",
      "Score: 0.3589567065238953\n",
      "\n",
      "Trial 05 summary\n",
      "Hyperparameters:\n",
      "lr: 0.0007430496378866318\n",
      "num_layers: 3\n",
      "units_0: 64\n",
      "units_1: 80\n",
      "units_2: 24\n",
      "units_3: 8\n",
      "Score: 0.35183703899383545\n",
      "\n",
      "Trial 01 summary\n",
      "Hyperparameters:\n",
      "lr: 0.0018956271615599293\n",
      "num_layers: 2\n",
      "units_0: 32\n",
      "units_1: 72\n",
      "Score: 0.3459965467453003\n",
      "\n",
      "Trial 03 summary\n",
      "Hyperparameters:\n",
      "lr: 0.000334067220168496\n",
      "num_layers: 3\n",
      "units_0: 88\n",
      "units_1: 32\n",
      "units_2: 40\n",
      "units_3: 88\n",
      "Score: 0.32297842502593993\n",
      "\n",
      "Trial 00 summary\n",
      "Hyperparameters:\n",
      "lr: 0.007848535477938902\n",
      "num_layers: 2\n",
      "units_0: 56\n",
      "units_1: 88\n",
      "Score: 0.32177947759628295\n",
      "\n",
      "Trial 04 summary\n",
      "Hyperparameters:\n",
      "lr: 0.00016654036995590322\n",
      "num_layers: 4\n",
      "units_0: 96\n",
      "units_1: 88\n",
      "units_2: 56\n",
      "units_3: 48\n",
      "Score: 0.31908349990844725\n",
      "\n",
      "Trial 09 summary\n",
      "Hyperparameters:\n",
      "lr: 0.0007443190353728441\n",
      "num_layers: 2\n",
      "units_0: 8\n",
      "units_1: 48\n",
      "units_2: 24\n",
      "units_3: 64\n",
      "Score: 0.25329371690750124\n",
      "\n",
      "Trial 08 summary\n",
      "Hyperparameters:\n",
      "lr: 0.00019146217628342266\n",
      "num_layers: 2\n",
      "units_0: 128\n",
      "units_1: 8\n",
      "units_2: 64\n",
      "units_3: 72\n",
      "Score: 0.20887453556060792\n"
     ]
    }
   ]
  },
  {
   "metadata": {
    "ExecuteTime": {
     "end_time": "2024-04-17T11:15:19.492638Z",
     "start_time": "2024-04-17T11:15:18.707608Z"
    }
   },
   "cell_type": "code",
   "source": [
    "best_model = tuner.get_best_models()[0]\n",
    "best_model.summary()"
   ],
   "id": "f18808ad89607bf6",
   "outputs": [
    {
     "name": "stderr",
     "output_type": "stream",
     "text": [
      "/home/jonas/.local/lib/python3.10/site-packages/keras/src/saving/saving_lib.py:418: UserWarning: Skipping variable loading for optimizer 'adam', because it has 2 variables whereas the saved optimizer has 14 variables. \n",
      "  trackable.load_own_variables(weights_store.get(inner_path))\n"
     ]
    },
    {
     "data": {
      "text/plain": [
       "\u001B[1mModel: \"sequential\"\u001B[0m\n"
      ],
      "text/html": [
       "<pre style=\"white-space:pre;overflow-x:auto;line-height:normal;font-family:Menlo,'DejaVu Sans Mono',consolas,'Courier New',monospace\"><span style=\"font-weight: bold\">Model: \"sequential\"</span>\n",
       "</pre>\n"
      ]
     },
     "metadata": {},
     "output_type": "display_data"
    },
    {
     "data": {
      "text/plain": [
       "┏━━━━━━━━━━━━━━━━━━━━━━━━━━━━━━━━━┳━━━━━━━━━━━━━━━━━━━━━━━━┳━━━━━━━━━━━━━━━┓\n",
       "┃\u001B[1m \u001B[0m\u001B[1mLayer (type)                   \u001B[0m\u001B[1m \u001B[0m┃\u001B[1m \u001B[0m\u001B[1mOutput Shape          \u001B[0m\u001B[1m \u001B[0m┃\u001B[1m \u001B[0m\u001B[1m      Param #\u001B[0m\u001B[1m \u001B[0m┃\n",
       "┡━━━━━━━━━━━━━━━━━━━━━━━━━━━━━━━━━╇━━━━━━━━━━━━━━━━━━━━━━━━╇━━━━━━━━━━━━━━━┩\n",
       "│ dense (\u001B[38;5;33mDense\u001B[0m)                   │ (\u001B[38;5;45mNone\u001B[0m, \u001B[38;5;34m88\u001B[0m)             │         \u001B[38;5;34m1,056\u001B[0m │\n",
       "├─────────────────────────────────┼────────────────────────┼───────────────┤\n",
       "│ dense_1 (\u001B[38;5;33mDense\u001B[0m)                 │ (\u001B[38;5;45mNone\u001B[0m, \u001B[38;5;34m72\u001B[0m)             │         \u001B[38;5;34m6,408\u001B[0m │\n",
       "├─────────────────────────────────┼────────────────────────┼───────────────┤\n",
       "│ dense_2 (\u001B[38;5;33mDense\u001B[0m)                 │ (\u001B[38;5;45mNone\u001B[0m, \u001B[38;5;34m1\u001B[0m)              │            \u001B[38;5;34m73\u001B[0m │\n",
       "└─────────────────────────────────┴────────────────────────┴───────────────┘\n"
      ],
      "text/html": [
       "<pre style=\"white-space:pre;overflow-x:auto;line-height:normal;font-family:Menlo,'DejaVu Sans Mono',consolas,'Courier New',monospace\">┏━━━━━━━━━━━━━━━━━━━━━━━━━━━━━━━━━┳━━━━━━━━━━━━━━━━━━━━━━━━┳━━━━━━━━━━━━━━━┓\n",
       "┃<span style=\"font-weight: bold\"> Layer (type)                    </span>┃<span style=\"font-weight: bold\"> Output Shape           </span>┃<span style=\"font-weight: bold\">       Param # </span>┃\n",
       "┡━━━━━━━━━━━━━━━━━━━━━━━━━━━━━━━━━╇━━━━━━━━━━━━━━━━━━━━━━━━╇━━━━━━━━━━━━━━━┩\n",
       "│ dense (<span style=\"color: #0087ff; text-decoration-color: #0087ff\">Dense</span>)                   │ (<span style=\"color: #00d7ff; text-decoration-color: #00d7ff\">None</span>, <span style=\"color: #00af00; text-decoration-color: #00af00\">88</span>)             │         <span style=\"color: #00af00; text-decoration-color: #00af00\">1,056</span> │\n",
       "├─────────────────────────────────┼────────────────────────┼───────────────┤\n",
       "│ dense_1 (<span style=\"color: #0087ff; text-decoration-color: #0087ff\">Dense</span>)                 │ (<span style=\"color: #00d7ff; text-decoration-color: #00d7ff\">None</span>, <span style=\"color: #00af00; text-decoration-color: #00af00\">72</span>)             │         <span style=\"color: #00af00; text-decoration-color: #00af00\">6,408</span> │\n",
       "├─────────────────────────────────┼────────────────────────┼───────────────┤\n",
       "│ dense_2 (<span style=\"color: #0087ff; text-decoration-color: #0087ff\">Dense</span>)                 │ (<span style=\"color: #00d7ff; text-decoration-color: #00d7ff\">None</span>, <span style=\"color: #00af00; text-decoration-color: #00af00\">1</span>)              │            <span style=\"color: #00af00; text-decoration-color: #00af00\">73</span> │\n",
       "└─────────────────────────────────┴────────────────────────┴───────────────┘\n",
       "</pre>\n"
      ]
     },
     "metadata": {},
     "output_type": "display_data"
    },
    {
     "data": {
      "text/plain": [
       "\u001B[1m Total params: \u001B[0m\u001B[38;5;34m7,537\u001B[0m (29.44 KB)\n"
      ],
      "text/html": [
       "<pre style=\"white-space:pre;overflow-x:auto;line-height:normal;font-family:Menlo,'DejaVu Sans Mono',consolas,'Courier New',monospace\"><span style=\"font-weight: bold\"> Total params: </span><span style=\"color: #00af00; text-decoration-color: #00af00\">7,537</span> (29.44 KB)\n",
       "</pre>\n"
      ]
     },
     "metadata": {},
     "output_type": "display_data"
    },
    {
     "data": {
      "text/plain": [
       "\u001B[1m Trainable params: \u001B[0m\u001B[38;5;34m7,537\u001B[0m (29.44 KB)\n"
      ],
      "text/html": [
       "<pre style=\"white-space:pre;overflow-x:auto;line-height:normal;font-family:Menlo,'DejaVu Sans Mono',consolas,'Courier New',monospace\"><span style=\"font-weight: bold\"> Trainable params: </span><span style=\"color: #00af00; text-decoration-color: #00af00\">7,537</span> (29.44 KB)\n",
       "</pre>\n"
      ]
     },
     "metadata": {},
     "output_type": "display_data"
    },
    {
     "data": {
      "text/plain": [
       "\u001B[1m Non-trainable params: \u001B[0m\u001B[38;5;34m0\u001B[0m (0.00 B)\n"
      ],
      "text/html": [
       "<pre style=\"white-space:pre;overflow-x:auto;line-height:normal;font-family:Menlo,'DejaVu Sans Mono',consolas,'Courier New',monospace\"><span style=\"font-weight: bold\"> Non-trainable params: </span><span style=\"color: #00af00; text-decoration-color: #00af00\">0</span> (0.00 B)\n",
       "</pre>\n"
      ]
     },
     "metadata": {},
     "output_type": "display_data"
    }
   ],
   "execution_count": 17
  },
  {
   "metadata": {
    "ExecuteTime": {
     "end_time": "2024-04-17T11:18:52.536518Z",
     "start_time": "2024-04-17T11:15:19.493393Z"
    }
   },
   "cell_type": "code",
   "source": [
    "%%time\n",
    "#Retrain best Model\n",
    "best_hp = tuner.get_best_hyperparameters()[0]\n",
    "best_model = HyperRegressor().build(best_hp)\n",
    "learning_rate = best_hp.get(\"lr\")\n",
    "best_model_history = evaluate_model_cv_print(learning_rate, best_model, white_training_Data_scaled, white_training_scores, white_test_data_scaled, white_test_scores)\n",
    "best_model_history"
   ],
   "id": "93db6616d7a69c45",
   "outputs": [
    {
     "name": "stdout",
     "output_type": "stream",
     "text": [
      "\u001B[1m23/23\u001B[0m \u001B[32m━━━━━━━━━━━━━━━━━━━━\u001B[0m\u001B[37m\u001B[0m \u001B[1m0s\u001B[0m 8ms/step - loss: 0.5961 - mean_absolute_percentage_error: 10.2406 - r2_score: 0.2648\n",
      "\u001B[1m23/23\u001B[0m \u001B[32m━━━━━━━━━━━━━━━━━━━━\u001B[0m\u001B[37m\u001B[0m \u001B[1m0s\u001B[0m 2ms/step - loss: 0.4681 - mean_absolute_percentage_error: 9.0972 - r2_score: 0.3359 \n",
      "\u001B[1m23/23\u001B[0m \u001B[32m━━━━━━━━━━━━━━━━━━━━\u001B[0m\u001B[37m\u001B[0m \u001B[1m0s\u001B[0m 1ms/step - loss: 0.5152 - mean_absolute_percentage_error: 10.1425 - r2_score: 0.2695  \n",
      "\u001B[1m23/23\u001B[0m \u001B[32m━━━━━━━━━━━━━━━━━━━━\u001B[0m\u001B[37m\u001B[0m \u001B[1m0s\u001B[0m 1ms/step - loss: 0.5161 - mean_absolute_percentage_error: 9.5069 - r2_score: 0.3473  \n",
      "\u001B[1m23/23\u001B[0m \u001B[32m━━━━━━━━━━━━━━━━━━━━\u001B[0m\u001B[37m\u001B[0m \u001B[1m0s\u001B[0m 1ms/step - loss: 0.4857 - mean_absolute_percentage_error: 9.4324 - r2_score: 0.3982 \n",
      "\r\n",
      "Cross Validation\n",
      "- R^2: [0.27460611 0.34406525 0.32483822 0.40277398 0.41105855]\n",
      "- R^2 Durchschnittlicher: 0.3515\n",
      "- R^2 Standardabweichung: 0.0507\n",
      "\r\n",
      "\n",
      "\u001B[1m39/39\u001B[0m \u001B[32m━━━━━━━━━━━━━━━━━━━━\u001B[0m\u001B[37m\u001B[0m \u001B[1m1s\u001B[0m 11ms/step\n",
      "Test:\n",
      "- R^2: 0.3226\n",
      "- RMSE: 0.73\n",
      "- MAPE: 10.17%\n"
     ]
    },
    {
     "data": {
      "text/plain": [
       "<Figure size 640x480 with 1 Axes>"
      ],
      "image/png": "[encoded data removed]"
     },
     "metadata": {},
     "output_type": "display_data"
    },
    {
     "data": {
      "text/plain": [
       "<Figure size 640x480 with 1 Axes>"
      ],
      "image/png": "[encoded data removed]"
     },
     "metadata": {},
     "output_type": "display_data"
    },
    {
     "name": "stdout",
     "output_type": "stream",
     "text": [
      "CPU times: user 3min 18s, sys: 51.1 s, total: 4min 9s\n",
      "Wall time: 3min 33s\n"
     ]
    },
    {
     "data": {
      "text/plain": [
       "(array([[ 0.58054835, 10.09690857,  0.27460611],\n",
       "        [ 0.49373594,  9.24330235,  0.34406525],\n",
       "        [ 0.51669109, 10.23150158,  0.32483822],\n",
       "        [ 0.48031649,  9.36284733,  0.40277398],\n",
       "        [ 0.46474609,  9.40080929,  0.41105855]]),\n",
       " (<Sequential name=sequential_1, built=True>,\n",
       "  <keras.src.callbacks.history.History at 0x7ff2d2661a50>))"
      ]
     },
     "execution_count": 18,
     "metadata": {},
     "output_type": "execute_result"
    }
   ],
   "execution_count": 18
  },
  {
   "metadata": {
    "ExecuteTime": {
     "end_time": "2024-04-17T11:18:52.540559Z",
     "start_time": "2024-04-17T11:18:52.537592Z"
    }
   },
   "cell_type": "code",
   "source": "best_hp.values",
   "id": "4a636f525cac62e7",
   "outputs": [
    {
     "data": {
      "text/plain": [
       "{'lr': 0.001192978696747447,\n",
       " 'num_layers': 2,\n",
       " 'units_0': 88,\n",
       " 'units_1': 72,\n",
       " 'units_2': 32,\n",
       " 'units_3': 88}"
      ]
     },
     "execution_count": 19,
     "metadata": {},
     "output_type": "execute_result"
    }
   ],
   "execution_count": 19
  },
  {
   "metadata": {},
   "cell_type": "markdown",
   "source": "## RED Wine",
   "id": "7c84be6b3622c9e"
  },
  {
   "metadata": {
    "ExecuteTime": {
     "end_time": "2024-04-17T11:18:52.571263Z",
     "start_time": "2024-04-17T11:18:52.541321Z"
    }
   },
   "cell_type": "code",
   "source": [
    "red_tuner = keras_tuner.RandomSearch(\n",
    "    hypermodel=HyperRegressor(),\n",
    "    objective = keras_tuner.Objective(name=\"val_r2_score\", direction='max'),\n",
    "    max_trials=50,\n",
    "    overwrite=False,\n",
    "    directory=\"wine_score_training\",\n",
    "    project_name=\"red\",\n",
    ")"
   ],
   "id": "ec9d082ca050879b",
   "outputs": [],
   "execution_count": 20
  },
  {
   "metadata": {},
   "cell_type": "code",
   "source": [
    "red_tuner.search(\n",
    "    x=red_training_Data_scaled,\n",
    "    y=red_training_scores,\n",
    ")\n",
    "\n",
    "red_tuner.results_summary()"
   ],
   "id": "54cfba8b4d9643e",
   "execution_count": 21,
   "outputs": [
    {
     "name": "stdout",
     "output_type": "stream",
     "text": [
      "Trial 24 Complete [00h 00m 30s]\n",
      "val_r2_score: 0.2688764572143555\n",
      "\n",
      "Best val_r2_score So Far: 0.34657400846481323\n",
      "Total elapsed time: 00h 10m 22s\n",
      "\n",
      "Search: Running Trial #25\n",
      "\n",
      "Value             |Best Value So Far |Hyperparameter\n",
      "0.00035369        |0.0018925         |lr\n",
      "4                 |2                 |num_layers\n",
      "24                |88                |units_0\n",
      "120               |88                |units_1\n",
      "40                |96                |units_2\n",
      "96                |24                |units_3\n",
      "\n"
     ]
    },
    {
     "ename": "KeyboardInterrupt",
     "evalue": "",
     "output_type": "error",
     "traceback": [
      "\u001B[0;31m---------------------------------------------------------------------------\u001B[0m",
      "\u001B[0;31mKeyboardInterrupt\u001B[0m                         Traceback (most recent call last)",
      "Cell \u001B[0;32mIn[21], line 1\u001B[0m\n\u001B[0;32m----> 1\u001B[0m \u001B[43mred_tuner\u001B[49m\u001B[38;5;241;43m.\u001B[39;49m\u001B[43msearch\u001B[49m\u001B[43m(\u001B[49m\n\u001B[1;32m      2\u001B[0m \u001B[43m    \u001B[49m\u001B[43mx\u001B[49m\u001B[38;5;241;43m=\u001B[39;49m\u001B[43mred_training_Data_scaled\u001B[49m\u001B[43m,\u001B[49m\n\u001B[1;32m      3\u001B[0m \u001B[43m    \u001B[49m\u001B[43my\u001B[49m\u001B[38;5;241;43m=\u001B[39;49m\u001B[43mred_training_scores\u001B[49m\u001B[43m,\u001B[49m\n\u001B[1;32m      4\u001B[0m \u001B[43m)\u001B[49m\n\u001B[1;32m      6\u001B[0m red_tuner\u001B[38;5;241m.\u001B[39mresults_summary()\n",
      "File \u001B[0;32m~/.local/lib/python3.10/site-packages/keras_tuner/src/engine/base_tuner.py:234\u001B[0m, in \u001B[0;36mBaseTuner.search\u001B[0;34m(self, *fit_args, **fit_kwargs)\u001B[0m\n\u001B[1;32m    231\u001B[0m         \u001B[38;5;28;01mcontinue\u001B[39;00m\n\u001B[1;32m    233\u001B[0m     \u001B[38;5;28mself\u001B[39m\u001B[38;5;241m.\u001B[39mon_trial_begin(trial)\n\u001B[0;32m--> 234\u001B[0m     \u001B[38;5;28;43mself\u001B[39;49m\u001B[38;5;241;43m.\u001B[39;49m\u001B[43m_try_run_and_update_trial\u001B[49m\u001B[43m(\u001B[49m\u001B[43mtrial\u001B[49m\u001B[43m,\u001B[49m\u001B[43m \u001B[49m\u001B[38;5;241;43m*\u001B[39;49m\u001B[43mfit_args\u001B[49m\u001B[43m,\u001B[49m\u001B[43m \u001B[49m\u001B[38;5;241;43m*\u001B[39;49m\u001B[38;5;241;43m*\u001B[39;49m\u001B[43mfit_kwargs\u001B[49m\u001B[43m)\u001B[49m\n\u001B[1;32m    235\u001B[0m     \u001B[38;5;28mself\u001B[39m\u001B[38;5;241m.\u001B[39mon_trial_end(trial)\n\u001B[1;32m    236\u001B[0m \u001B[38;5;28mself\u001B[39m\u001B[38;5;241m.\u001B[39mon_search_end()\n",
      "File \u001B[0;32m~/.local/lib/python3.10/site-packages/keras_tuner/src/engine/base_tuner.py:274\u001B[0m, in \u001B[0;36mBaseTuner._try_run_and_update_trial\u001B[0;34m(self, trial, *fit_args, **fit_kwargs)\u001B[0m\n\u001B[1;32m    272\u001B[0m \u001B[38;5;28;01mdef\u001B[39;00m \u001B[38;5;21m_try_run_and_update_trial\u001B[39m(\u001B[38;5;28mself\u001B[39m, trial, \u001B[38;5;241m*\u001B[39mfit_args, \u001B[38;5;241m*\u001B[39m\u001B[38;5;241m*\u001B[39mfit_kwargs):\n\u001B[1;32m    273\u001B[0m     \u001B[38;5;28;01mtry\u001B[39;00m:\n\u001B[0;32m--> 274\u001B[0m         \u001B[38;5;28;43mself\u001B[39;49m\u001B[38;5;241;43m.\u001B[39;49m\u001B[43m_run_and_update_trial\u001B[49m\u001B[43m(\u001B[49m\u001B[43mtrial\u001B[49m\u001B[43m,\u001B[49m\u001B[43m \u001B[49m\u001B[38;5;241;43m*\u001B[39;49m\u001B[43mfit_args\u001B[49m\u001B[43m,\u001B[49m\u001B[43m \u001B[49m\u001B[38;5;241;43m*\u001B[39;49m\u001B[38;5;241;43m*\u001B[39;49m\u001B[43mfit_kwargs\u001B[49m\u001B[43m)\u001B[49m\n\u001B[1;32m    275\u001B[0m         trial\u001B[38;5;241m.\u001B[39mstatus \u001B[38;5;241m=\u001B[39m trial_module\u001B[38;5;241m.\u001B[39mTrialStatus\u001B[38;5;241m.\u001B[39mCOMPLETED\n\u001B[1;32m    276\u001B[0m         \u001B[38;5;28;01mreturn\u001B[39;00m\n",
      "File \u001B[0;32m~/.local/lib/python3.10/site-packages/keras_tuner/src/engine/base_tuner.py:239\u001B[0m, in \u001B[0;36mBaseTuner._run_and_update_trial\u001B[0;34m(self, trial, *fit_args, **fit_kwargs)\u001B[0m\n\u001B[1;32m    238\u001B[0m \u001B[38;5;28;01mdef\u001B[39;00m \u001B[38;5;21m_run_and_update_trial\u001B[39m(\u001B[38;5;28mself\u001B[39m, trial, \u001B[38;5;241m*\u001B[39mfit_args, \u001B[38;5;241m*\u001B[39m\u001B[38;5;241m*\u001B[39mfit_kwargs):\n\u001B[0;32m--> 239\u001B[0m     results \u001B[38;5;241m=\u001B[39m \u001B[38;5;28;43mself\u001B[39;49m\u001B[38;5;241;43m.\u001B[39;49m\u001B[43mrun_trial\u001B[49m\u001B[43m(\u001B[49m\u001B[43mtrial\u001B[49m\u001B[43m,\u001B[49m\u001B[43m \u001B[49m\u001B[38;5;241;43m*\u001B[39;49m\u001B[43mfit_args\u001B[49m\u001B[43m,\u001B[49m\u001B[43m \u001B[49m\u001B[38;5;241;43m*\u001B[39;49m\u001B[38;5;241;43m*\u001B[39;49m\u001B[43mfit_kwargs\u001B[49m\u001B[43m)\u001B[49m\n\u001B[1;32m    240\u001B[0m     \u001B[38;5;28;01mif\u001B[39;00m \u001B[38;5;28mself\u001B[39m\u001B[38;5;241m.\u001B[39moracle\u001B[38;5;241m.\u001B[39mget_trial(trial\u001B[38;5;241m.\u001B[39mtrial_id)\u001B[38;5;241m.\u001B[39mmetrics\u001B[38;5;241m.\u001B[39mexists(\n\u001B[1;32m    241\u001B[0m         \u001B[38;5;28mself\u001B[39m\u001B[38;5;241m.\u001B[39moracle\u001B[38;5;241m.\u001B[39mobjective\u001B[38;5;241m.\u001B[39mname\n\u001B[1;32m    242\u001B[0m     ):\n\u001B[1;32m    243\u001B[0m         \u001B[38;5;66;03m# The oracle is updated by calling `self.oracle.update_trial()` in\u001B[39;00m\n\u001B[1;32m    244\u001B[0m         \u001B[38;5;66;03m# `Tuner.run_trial()`. For backward compatibility, we support this\u001B[39;00m\n\u001B[1;32m    245\u001B[0m         \u001B[38;5;66;03m# use case. No further action needed in this case.\u001B[39;00m\n\u001B[1;32m    246\u001B[0m         warnings\u001B[38;5;241m.\u001B[39mwarn(\n\u001B[1;32m    247\u001B[0m             \u001B[38;5;124m\"\u001B[39m\u001B[38;5;124mThe use case of calling \u001B[39m\u001B[38;5;124m\"\u001B[39m\n\u001B[1;32m    248\u001B[0m             \u001B[38;5;124m\"\u001B[39m\u001B[38;5;124m`self.oracle.update_trial(trial_id, metrics)` \u001B[39m\u001B[38;5;124m\"\u001B[39m\n\u001B[0;32m   (...)\u001B[0m\n\u001B[1;32m    254\u001B[0m             stacklevel\u001B[38;5;241m=\u001B[39m\u001B[38;5;241m2\u001B[39m,\n\u001B[1;32m    255\u001B[0m         )\n",
      "File \u001B[0;32m~/.local/lib/python3.10/site-packages/keras_tuner/src/engine/tuner.py:314\u001B[0m, in \u001B[0;36mTuner.run_trial\u001B[0;34m(self, trial, *args, **kwargs)\u001B[0m\n\u001B[1;32m    312\u001B[0m     callbacks\u001B[38;5;241m.\u001B[39mappend(model_checkpoint)\n\u001B[1;32m    313\u001B[0m     copied_kwargs[\u001B[38;5;124m\"\u001B[39m\u001B[38;5;124mcallbacks\u001B[39m\u001B[38;5;124m\"\u001B[39m] \u001B[38;5;241m=\u001B[39m callbacks\n\u001B[0;32m--> 314\u001B[0m     obj_value \u001B[38;5;241m=\u001B[39m \u001B[38;5;28;43mself\u001B[39;49m\u001B[38;5;241;43m.\u001B[39;49m\u001B[43m_build_and_fit_model\u001B[49m\u001B[43m(\u001B[49m\u001B[43mtrial\u001B[49m\u001B[43m,\u001B[49m\u001B[43m \u001B[49m\u001B[38;5;241;43m*\u001B[39;49m\u001B[43margs\u001B[49m\u001B[43m,\u001B[49m\u001B[43m \u001B[49m\u001B[38;5;241;43m*\u001B[39;49m\u001B[38;5;241;43m*\u001B[39;49m\u001B[43mcopied_kwargs\u001B[49m\u001B[43m)\u001B[49m\n\u001B[1;32m    316\u001B[0m     histories\u001B[38;5;241m.\u001B[39mappend(obj_value)\n\u001B[1;32m    317\u001B[0m \u001B[38;5;28;01mreturn\u001B[39;00m histories\n",
      "File \u001B[0;32m~/.local/lib/python3.10/site-packages/keras_tuner/src/engine/tuner.py:233\u001B[0m, in \u001B[0;36mTuner._build_and_fit_model\u001B[0;34m(self, trial, *args, **kwargs)\u001B[0m\n\u001B[1;32m    231\u001B[0m hp \u001B[38;5;241m=\u001B[39m trial\u001B[38;5;241m.\u001B[39mhyperparameters\n\u001B[1;32m    232\u001B[0m model \u001B[38;5;241m=\u001B[39m \u001B[38;5;28mself\u001B[39m\u001B[38;5;241m.\u001B[39m_try_build(hp)\n\u001B[0;32m--> 233\u001B[0m results \u001B[38;5;241m=\u001B[39m \u001B[38;5;28;43mself\u001B[39;49m\u001B[38;5;241;43m.\u001B[39;49m\u001B[43mhypermodel\u001B[49m\u001B[38;5;241;43m.\u001B[39;49m\u001B[43mfit\u001B[49m\u001B[43m(\u001B[49m\u001B[43mhp\u001B[49m\u001B[43m,\u001B[49m\u001B[43m \u001B[49m\u001B[43mmodel\u001B[49m\u001B[43m,\u001B[49m\u001B[43m \u001B[49m\u001B[38;5;241;43m*\u001B[39;49m\u001B[43margs\u001B[49m\u001B[43m,\u001B[49m\u001B[43m \u001B[49m\u001B[38;5;241;43m*\u001B[39;49m\u001B[38;5;241;43m*\u001B[39;49m\u001B[43mkwargs\u001B[49m\u001B[43m)\u001B[49m\n\u001B[1;32m    235\u001B[0m \u001B[38;5;66;03m# Save the build config for model loading later.\u001B[39;00m\n\u001B[1;32m    236\u001B[0m \u001B[38;5;28;01mif\u001B[39;00m backend\u001B[38;5;241m.\u001B[39mconfig\u001B[38;5;241m.\u001B[39mmulti_backend():\n",
      "Cell \u001B[0;32mIn[13], line 9\u001B[0m, in \u001B[0;36mHyperRegressor.fit\u001B[0;34m(self, hp, model, x, y, **kwargs)\u001B[0m\n\u001B[1;32m      6\u001B[0m \u001B[38;5;28;01mdef\u001B[39;00m \u001B[38;5;21mfit\u001B[39m(\u001B[38;5;28mself\u001B[39m, hp, model, x, y, \u001B[38;5;241m*\u001B[39m\u001B[38;5;241m*\u001B[39mkwargs):\n\u001B[1;32m      7\u001B[0m     \u001B[38;5;66;03m# Return a single float to maximize\u001B[39;00m\n\u001B[1;32m      8\u001B[0m     learning_rate \u001B[38;5;241m=\u001B[39m hp\u001B[38;5;241m.\u001B[39mget(\u001B[38;5;124m\"\u001B[39m\u001B[38;5;124mlr\u001B[39m\u001B[38;5;124m\"\u001B[39m)\n\u001B[0;32m----> 9\u001B[0m     \u001B[38;5;28;01mreturn\u001B[39;00m \u001B[43mevaluate_model_cv\u001B[49m\u001B[43m(\u001B[49m\u001B[43mlearning_rate\u001B[49m\u001B[43m,\u001B[49m\u001B[43m \u001B[49m\u001B[43mmodel\u001B[49m\u001B[43m,\u001B[49m\u001B[43m \u001B[49m\u001B[43mx\u001B[49m\u001B[43m,\u001B[49m\u001B[43m \u001B[49m\u001B[43my\u001B[49m\u001B[43m,\u001B[49m\u001B[43m \u001B[49m\u001B[38;5;241;43m*\u001B[39;49m\u001B[38;5;241;43m*\u001B[39;49m\u001B[43mkwargs\u001B[49m\u001B[43m)\u001B[49m\n",
      "Cell \u001B[0;32mIn[12], line 13\u001B[0m, in \u001B[0;36mevaluate_model_cv\u001B[0;34m(learning_rate, model, training_data, training_scores, **kwargs)\u001B[0m\n\u001B[1;32m      7\u001B[0m local_model \u001B[38;5;241m=\u001B[39m clone_model(model)\n\u001B[1;32m      8\u001B[0m local_model\u001B[38;5;241m.\u001B[39mcompile(\n\u001B[1;32m      9\u001B[0m     loss\u001B[38;5;241m=\u001B[39mkeras\u001B[38;5;241m.\u001B[39mlosses\u001B[38;5;241m.\u001B[39mmean_squared_error, \n\u001B[1;32m     10\u001B[0m     optimizer\u001B[38;5;241m=\u001B[39mkeras\u001B[38;5;241m.\u001B[39moptimizers\u001B[38;5;241m.\u001B[39mAdam(learning_rate\u001B[38;5;241m=\u001B[39mlearning_rate), \n\u001B[1;32m     11\u001B[0m     metrics\u001B[38;5;241m=\u001B[39m[keras\u001B[38;5;241m.\u001B[39mmetrics\u001B[38;5;241m.\u001B[39mmean_absolute_percentage_error, keras\u001B[38;5;241m.\u001B[39mmetrics\u001B[38;5;241m.\u001B[39mR2Score])\n\u001B[0;32m---> 13\u001B[0m model_history \u001B[38;5;241m=\u001B[39m \u001B[43mlocal_model\u001B[49m\u001B[38;5;241;43m.\u001B[39;49m\u001B[43mfit\u001B[49m\u001B[43m(\u001B[49m\u001B[43mtraining_data\u001B[49m\u001B[43m[\u001B[49m\u001B[43mtrain_index\u001B[49m\u001B[43m]\u001B[49m\u001B[43m,\u001B[49m\u001B[43m \u001B[49m\u001B[43mtraining_scores\u001B[49m\u001B[43m[\u001B[49m\u001B[43mtrain_index\u001B[49m\u001B[43m]\u001B[49m\u001B[43m,\u001B[49m\u001B[43m \u001B[49m\u001B[43mbatch_size\u001B[49m\u001B[38;5;241;43m=\u001B[39;49m\u001B[38;5;241;43m64\u001B[39;49m\u001B[43m,\u001B[49m\u001B[43m \u001B[49m\u001B[43mepochs\u001B[49m\u001B[38;5;241;43m=\u001B[39;49m\u001B[38;5;241;43m64\u001B[39;49m\u001B[43m,\u001B[49m\u001B[43m \u001B[49m\u001B[43mvalidation_data\u001B[49m\u001B[38;5;241;43m=\u001B[39;49m\u001B[43m(\u001B[49m\u001B[43mtraining_data\u001B[49m\u001B[43m[\u001B[49m\u001B[43mtest_index\u001B[49m\u001B[43m]\u001B[49m\u001B[43m,\u001B[49m\u001B[43m \u001B[49m\u001B[43mtraining_scores\u001B[49m\u001B[43m[\u001B[49m\u001B[43mtest_index\u001B[49m\u001B[43m]\u001B[49m\u001B[43m)\u001B[49m\u001B[43m,\u001B[49m\u001B[43m \u001B[49m\u001B[43mverbose\u001B[49m\u001B[38;5;241;43m=\u001B[39;49m\u001B[38;5;241;43m0\u001B[39;49m\u001B[43m,\u001B[49m\u001B[43m \u001B[49m\u001B[38;5;241;43m*\u001B[39;49m\u001B[38;5;241;43m*\u001B[39;49m\u001B[43mkwargs\u001B[49m\u001B[43m)\u001B[49m\n\u001B[1;32m     14\u001B[0m cv_scores\u001B[38;5;241m.\u001B[39mappend(local_model\u001B[38;5;241m.\u001B[39mevaluate(training_data[test_index], training_scores[test_index]))\n\u001B[1;32m     15\u001B[0m models_history\u001B[38;5;241m.\u001B[39mappend(model_history)\n",
      "File \u001B[0;32m~/.local/lib/python3.10/site-packages/keras/src/utils/traceback_utils.py:117\u001B[0m, in \u001B[0;36mfilter_traceback.<locals>.error_handler\u001B[0;34m(*args, **kwargs)\u001B[0m\n\u001B[1;32m    115\u001B[0m filtered_tb \u001B[38;5;241m=\u001B[39m \u001B[38;5;28;01mNone\u001B[39;00m\n\u001B[1;32m    116\u001B[0m \u001B[38;5;28;01mtry\u001B[39;00m:\n\u001B[0;32m--> 117\u001B[0m     \u001B[38;5;28;01mreturn\u001B[39;00m \u001B[43mfn\u001B[49m\u001B[43m(\u001B[49m\u001B[38;5;241;43m*\u001B[39;49m\u001B[43margs\u001B[49m\u001B[43m,\u001B[49m\u001B[43m \u001B[49m\u001B[38;5;241;43m*\u001B[39;49m\u001B[38;5;241;43m*\u001B[39;49m\u001B[43mkwargs\u001B[49m\u001B[43m)\u001B[49m\n\u001B[1;32m    118\u001B[0m \u001B[38;5;28;01mexcept\u001B[39;00m \u001B[38;5;167;01mException\u001B[39;00m \u001B[38;5;28;01mas\u001B[39;00m e:\n\u001B[1;32m    119\u001B[0m     filtered_tb \u001B[38;5;241m=\u001B[39m _process_traceback_frames(e\u001B[38;5;241m.\u001B[39m__traceback__)\n",
      "File \u001B[0;32m~/.local/lib/python3.10/site-packages/keras/src/backend/tensorflow/trainer.py:370\u001B[0m, in \u001B[0;36mTensorFlowTrainer.fit\u001B[0;34m(self, x, y, batch_size, epochs, verbose, callbacks, validation_split, validation_data, shuffle, class_weight, sample_weight, initial_epoch, steps_per_epoch, validation_steps, validation_batch_size, validation_freq)\u001B[0m\n\u001B[1;32m    365\u001B[0m     val_logs \u001B[38;5;241m=\u001B[39m {\n\u001B[1;32m    366\u001B[0m         \u001B[38;5;124m\"\u001B[39m\u001B[38;5;124mval_\u001B[39m\u001B[38;5;124m\"\u001B[39m \u001B[38;5;241m+\u001B[39m name: val \u001B[38;5;28;01mfor\u001B[39;00m name, val \u001B[38;5;129;01min\u001B[39;00m val_logs\u001B[38;5;241m.\u001B[39mitems()\n\u001B[1;32m    367\u001B[0m     }\n\u001B[1;32m    368\u001B[0m     epoch_logs\u001B[38;5;241m.\u001B[39mupdate(val_logs)\n\u001B[0;32m--> 370\u001B[0m \u001B[43mcallbacks\u001B[49m\u001B[38;5;241;43m.\u001B[39;49m\u001B[43mon_epoch_end\u001B[49m\u001B[43m(\u001B[49m\u001B[43mepoch\u001B[49m\u001B[43m,\u001B[49m\u001B[43m \u001B[49m\u001B[43mepoch_logs\u001B[49m\u001B[43m)\u001B[49m\n\u001B[1;32m    371\u001B[0m training_logs \u001B[38;5;241m=\u001B[39m epoch_logs\n\u001B[1;32m    372\u001B[0m \u001B[38;5;28;01mif\u001B[39;00m \u001B[38;5;28mself\u001B[39m\u001B[38;5;241m.\u001B[39mstop_training:\n",
      "File \u001B[0;32m~/.local/lib/python3.10/site-packages/keras/src/callbacks/callback_list.py:96\u001B[0m, in \u001B[0;36mCallbackList.on_epoch_end\u001B[0;34m(self, epoch, logs)\u001B[0m\n\u001B[1;32m     94\u001B[0m logs \u001B[38;5;241m=\u001B[39m logs \u001B[38;5;129;01mor\u001B[39;00m {}\n\u001B[1;32m     95\u001B[0m \u001B[38;5;28;01mfor\u001B[39;00m callback \u001B[38;5;129;01min\u001B[39;00m \u001B[38;5;28mself\u001B[39m\u001B[38;5;241m.\u001B[39mcallbacks:\n\u001B[0;32m---> 96\u001B[0m     \u001B[43mcallback\u001B[49m\u001B[38;5;241;43m.\u001B[39;49m\u001B[43mon_epoch_end\u001B[49m\u001B[43m(\u001B[49m\u001B[43mepoch\u001B[49m\u001B[43m,\u001B[49m\u001B[43m \u001B[49m\u001B[43mlogs\u001B[49m\u001B[43m)\u001B[49m\n",
      "File \u001B[0;32m~/.local/lib/python3.10/site-packages/keras_tuner/src/engine/tuner_utils.py:76\u001B[0m, in \u001B[0;36mSaveBestEpoch.on_epoch_end\u001B[0;34m(self, epoch, logs)\u001B[0m\n\u001B[1;32m     74\u001B[0m \u001B[38;5;28;01mif\u001B[39;00m \u001B[38;5;28mself\u001B[39m\u001B[38;5;241m.\u001B[39mobjective\u001B[38;5;241m.\u001B[39mbetter_than(current_value, \u001B[38;5;28mself\u001B[39m\u001B[38;5;241m.\u001B[39mbest_value):\n\u001B[1;32m     75\u001B[0m     \u001B[38;5;28mself\u001B[39m\u001B[38;5;241m.\u001B[39mbest_value \u001B[38;5;241m=\u001B[39m current_value\n\u001B[0;32m---> 76\u001B[0m     \u001B[38;5;28;43mself\u001B[39;49m\u001B[38;5;241;43m.\u001B[39;49m\u001B[43m_save_model\u001B[49m\u001B[43m(\u001B[49m\u001B[43m)\u001B[49m\n",
      "File \u001B[0;32m~/.local/lib/python3.10/site-packages/keras_tuner/src/engine/tuner_utils.py:86\u001B[0m, in \u001B[0;36mSaveBestEpoch._save_model\u001B[0;34m(self)\u001B[0m\n\u001B[1;32m     82\u001B[0m \u001B[38;5;66;03m# Create temporary saved model files on non-chief workers.\u001B[39;00m\n\u001B[1;32m     83\u001B[0m write_filepath \u001B[38;5;241m=\u001B[39m backend\u001B[38;5;241m.\u001B[39mio\u001B[38;5;241m.\u001B[39mwrite_filepath(\n\u001B[1;32m     84\u001B[0m     \u001B[38;5;28mself\u001B[39m\u001B[38;5;241m.\u001B[39mfilepath, \u001B[38;5;28mself\u001B[39m\u001B[38;5;241m.\u001B[39mmodel\u001B[38;5;241m.\u001B[39mdistribute_strategy\n\u001B[1;32m     85\u001B[0m )\n\u001B[0;32m---> 86\u001B[0m \u001B[38;5;28;43mself\u001B[39;49m\u001B[38;5;241;43m.\u001B[39;49m\u001B[43mmodel\u001B[49m\u001B[38;5;241;43m.\u001B[39;49m\u001B[43msave_weights\u001B[49m\u001B[43m(\u001B[49m\u001B[43mwrite_filepath\u001B[49m\u001B[43m)\u001B[49m\n\u001B[1;32m     87\u001B[0m \u001B[38;5;66;03m# Remove temporary saved model files on non-chief workers.\u001B[39;00m\n\u001B[1;32m     88\u001B[0m backend\u001B[38;5;241m.\u001B[39mio\u001B[38;5;241m.\u001B[39mremove_temp_dir_with_filepath(\n\u001B[1;32m     89\u001B[0m     write_filepath, \u001B[38;5;28mself\u001B[39m\u001B[38;5;241m.\u001B[39mmodel\u001B[38;5;241m.\u001B[39mdistribute_strategy\n\u001B[1;32m     90\u001B[0m )\n",
      "File \u001B[0;32m~/.local/lib/python3.10/site-packages/keras/src/utils/traceback_utils.py:117\u001B[0m, in \u001B[0;36mfilter_traceback.<locals>.error_handler\u001B[0;34m(*args, **kwargs)\u001B[0m\n\u001B[1;32m    115\u001B[0m filtered_tb \u001B[38;5;241m=\u001B[39m \u001B[38;5;28;01mNone\u001B[39;00m\n\u001B[1;32m    116\u001B[0m \u001B[38;5;28;01mtry\u001B[39;00m:\n\u001B[0;32m--> 117\u001B[0m     \u001B[38;5;28;01mreturn\u001B[39;00m \u001B[43mfn\u001B[49m\u001B[43m(\u001B[49m\u001B[38;5;241;43m*\u001B[39;49m\u001B[43margs\u001B[49m\u001B[43m,\u001B[49m\u001B[43m \u001B[49m\u001B[38;5;241;43m*\u001B[39;49m\u001B[38;5;241;43m*\u001B[39;49m\u001B[43mkwargs\u001B[49m\u001B[43m)\u001B[49m\n\u001B[1;32m    118\u001B[0m \u001B[38;5;28;01mexcept\u001B[39;00m \u001B[38;5;167;01mException\u001B[39;00m \u001B[38;5;28;01mas\u001B[39;00m e:\n\u001B[1;32m    119\u001B[0m     filtered_tb \u001B[38;5;241m=\u001B[39m _process_traceback_frames(e\u001B[38;5;241m.\u001B[39m__traceback__)\n",
      "File \u001B[0;32m~/.local/lib/python3.10/site-packages/keras/src/models/model.py:316\u001B[0m, in \u001B[0;36mModel.save_weights\u001B[0;34m(self, filepath, overwrite)\u001B[0m\n\u001B[1;32m    305\u001B[0m \u001B[38;5;129m@traceback_utils\u001B[39m\u001B[38;5;241m.\u001B[39mfilter_traceback\n\u001B[1;32m    306\u001B[0m \u001B[38;5;28;01mdef\u001B[39;00m \u001B[38;5;21msave_weights\u001B[39m(\u001B[38;5;28mself\u001B[39m, filepath, overwrite\u001B[38;5;241m=\u001B[39m\u001B[38;5;28;01mTrue\u001B[39;00m):\n\u001B[1;32m    307\u001B[0m \u001B[38;5;250m    \u001B[39m\u001B[38;5;124;03m\"\"\"Saves all layer weights to a `.weights.h5` file.\u001B[39;00m\n\u001B[1;32m    308\u001B[0m \n\u001B[1;32m    309\u001B[0m \u001B[38;5;124;03m    Args:\u001B[39;00m\n\u001B[0;32m   (...)\u001B[0m\n\u001B[1;32m    314\u001B[0m \u001B[38;5;124;03m            via an interactive prompt.\u001B[39;00m\n\u001B[1;32m    315\u001B[0m \u001B[38;5;124;03m    \"\"\"\u001B[39;00m\n\u001B[0;32m--> 316\u001B[0m     \u001B[38;5;28;01mreturn\u001B[39;00m \u001B[43msaving_api\u001B[49m\u001B[38;5;241;43m.\u001B[39;49m\u001B[43msave_weights\u001B[49m\u001B[43m(\u001B[49m\u001B[38;5;28;43mself\u001B[39;49m\u001B[43m,\u001B[49m\u001B[43m \u001B[49m\u001B[43mfilepath\u001B[49m\u001B[43m,\u001B[49m\u001B[43m \u001B[49m\u001B[43moverwrite\u001B[49m\u001B[38;5;241;43m=\u001B[39;49m\u001B[38;5;28;43;01mTrue\u001B[39;49;00m\u001B[43m)\u001B[49m\n",
      "File \u001B[0;32m~/.local/lib/python3.10/site-packages/keras/src/saving/saving_api.py:221\u001B[0m, in \u001B[0;36msave_weights\u001B[0;34m(model, filepath, overwrite, **kwargs)\u001B[0m\n\u001B[1;32m    219\u001B[0m     \u001B[38;5;28;01mif\u001B[39;00m \u001B[38;5;129;01mnot\u001B[39;00m proceed:\n\u001B[1;32m    220\u001B[0m         \u001B[38;5;28;01mreturn\u001B[39;00m\n\u001B[0;32m--> 221\u001B[0m \u001B[43msaving_lib\u001B[49m\u001B[38;5;241;43m.\u001B[39;49m\u001B[43msave_weights_only\u001B[49m\u001B[43m(\u001B[49m\u001B[43mmodel\u001B[49m\u001B[43m,\u001B[49m\u001B[43m \u001B[49m\u001B[43mfilepath\u001B[49m\u001B[43m,\u001B[49m\u001B[43m \u001B[49m\u001B[38;5;241;43m*\u001B[39;49m\u001B[38;5;241;43m*\u001B[39;49m\u001B[43mkwargs\u001B[49m\u001B[43m)\u001B[49m\n",
      "File \u001B[0;32m~/.local/lib/python3.10/site-packages/keras/src/saving/saving_lib.py:229\u001B[0m, in \u001B[0;36msave_weights_only\u001B[0;34m(model, filepath, objects_to_skip)\u001B[0m\n\u001B[1;32m    227\u001B[0m \u001B[38;5;28;01melse\u001B[39;00m:\n\u001B[1;32m    228\u001B[0m     visited_trackables \u001B[38;5;241m=\u001B[39m \u001B[38;5;28mset\u001B[39m()\n\u001B[0;32m--> 229\u001B[0m \u001B[43m_save_state\u001B[49m\u001B[43m(\u001B[49m\n\u001B[1;32m    230\u001B[0m \u001B[43m    \u001B[49m\u001B[43mmodel\u001B[49m\u001B[43m,\u001B[49m\n\u001B[1;32m    231\u001B[0m \u001B[43m    \u001B[49m\u001B[43mweights_store\u001B[49m\u001B[38;5;241;43m=\u001B[39;49m\u001B[43mweights_store\u001B[49m\u001B[43m,\u001B[49m\n\u001B[1;32m    232\u001B[0m \u001B[43m    \u001B[49m\u001B[43massets_store\u001B[49m\u001B[38;5;241;43m=\u001B[39;49m\u001B[38;5;28;43;01mNone\u001B[39;49;00m\u001B[43m,\u001B[49m\n\u001B[1;32m    233\u001B[0m \u001B[43m    \u001B[49m\u001B[43minner_path\u001B[49m\u001B[38;5;241;43m=\u001B[39;49m\u001B[38;5;124;43m\"\u001B[39;49m\u001B[38;5;124;43m\"\u001B[39;49m\u001B[43m,\u001B[49m\n\u001B[1;32m    234\u001B[0m \u001B[43m    \u001B[49m\u001B[43mvisited_trackables\u001B[49m\u001B[38;5;241;43m=\u001B[39;49m\u001B[43mvisited_trackables\u001B[49m\u001B[43m,\u001B[49m\n\u001B[1;32m    235\u001B[0m \u001B[43m\u001B[49m\u001B[43m)\u001B[49m\n\u001B[1;32m    236\u001B[0m weights_store\u001B[38;5;241m.\u001B[39mclose()\n",
      "File \u001B[0;32m~/.local/lib/python3.10/site-packages/keras/src/saving/saving_lib.py:379\u001B[0m, in \u001B[0;36m_save_state\u001B[0;34m(trackable, weights_store, assets_store, inner_path, visited_trackables)\u001B[0m\n\u001B[1;32m    377\u001B[0m \u001B[38;5;28;01mfor\u001B[39;00m child_attr, child_obj \u001B[38;5;129;01min\u001B[39;00m _walk_trackable(trackable):\n\u001B[1;32m    378\u001B[0m     \u001B[38;5;28;01mif\u001B[39;00m _is_keras_trackable(child_obj):\n\u001B[0;32m--> 379\u001B[0m         \u001B[43m_save_state\u001B[49m\u001B[43m(\u001B[49m\n\u001B[1;32m    380\u001B[0m \u001B[43m            \u001B[49m\u001B[43mchild_obj\u001B[49m\u001B[43m,\u001B[49m\n\u001B[1;32m    381\u001B[0m \u001B[43m            \u001B[49m\u001B[43mweights_store\u001B[49m\u001B[43m,\u001B[49m\n\u001B[1;32m    382\u001B[0m \u001B[43m            \u001B[49m\u001B[43massets_store\u001B[49m\u001B[43m,\u001B[49m\n\u001B[1;32m    383\u001B[0m \u001B[43m            \u001B[49m\u001B[43minner_path\u001B[49m\u001B[38;5;241;43m=\u001B[39;49m\u001B[43mfile_utils\u001B[49m\u001B[38;5;241;43m.\u001B[39;49m\u001B[43mjoin\u001B[49m\u001B[43m(\u001B[49m\u001B[43minner_path\u001B[49m\u001B[43m,\u001B[49m\u001B[43m \u001B[49m\u001B[43mchild_attr\u001B[49m\u001B[43m)\u001B[49m\u001B[38;5;241;43m.\u001B[39;49m\u001B[43mreplace\u001B[49m\u001B[43m(\u001B[49m\n\u001B[1;32m    384\u001B[0m \u001B[43m                \u001B[49m\u001B[38;5;124;43m\"\u001B[39;49m\u001B[38;5;130;43;01m\\\\\u001B[39;49;00m\u001B[38;5;124;43m\"\u001B[39;49m\u001B[43m,\u001B[49m\u001B[43m \u001B[49m\u001B[38;5;124;43m\"\u001B[39;49m\u001B[38;5;124;43m/\u001B[39;49m\u001B[38;5;124;43m\"\u001B[39;49m\n\u001B[1;32m    385\u001B[0m \u001B[43m            \u001B[49m\u001B[43m)\u001B[49m\u001B[43m,\u001B[49m\n\u001B[1;32m    386\u001B[0m \u001B[43m            \u001B[49m\u001B[43mvisited_trackables\u001B[49m\u001B[38;5;241;43m=\u001B[39;49m\u001B[43mvisited_trackables\u001B[49m\u001B[43m,\u001B[49m\n\u001B[1;32m    387\u001B[0m \u001B[43m        \u001B[49m\u001B[43m)\u001B[49m\n\u001B[1;32m    388\u001B[0m     \u001B[38;5;28;01melif\u001B[39;00m \u001B[38;5;28misinstance\u001B[39m(child_obj, (\u001B[38;5;28mlist\u001B[39m, \u001B[38;5;28mdict\u001B[39m, \u001B[38;5;28mtuple\u001B[39m, \u001B[38;5;28mset\u001B[39m)):\n\u001B[1;32m    389\u001B[0m         _save_container_state(\n\u001B[1;32m    390\u001B[0m             child_obj,\n\u001B[1;32m    391\u001B[0m             weights_store,\n\u001B[0;32m   (...)\u001B[0m\n\u001B[1;32m    396\u001B[0m             visited_trackables\u001B[38;5;241m=\u001B[39mvisited_trackables,\n\u001B[1;32m    397\u001B[0m         )\n",
      "File \u001B[0;32m~/.local/lib/python3.10/site-packages/keras/src/saving/saving_lib.py:370\u001B[0m, in \u001B[0;36m_save_state\u001B[0;34m(trackable, weights_store, assets_store, inner_path, visited_trackables)\u001B[0m\n\u001B[1;32m    367\u001B[0m     \u001B[38;5;28;01mreturn\u001B[39;00m\n\u001B[1;32m    369\u001B[0m \u001B[38;5;28;01mif\u001B[39;00m \u001B[38;5;28mhasattr\u001B[39m(trackable, \u001B[38;5;124m\"\u001B[39m\u001B[38;5;124msave_own_variables\u001B[39m\u001B[38;5;124m\"\u001B[39m) \u001B[38;5;129;01mand\u001B[39;00m weights_store:\n\u001B[0;32m--> 370\u001B[0m     \u001B[43mtrackable\u001B[49m\u001B[38;5;241;43m.\u001B[39;49m\u001B[43msave_own_variables\u001B[49m\u001B[43m(\u001B[49m\u001B[43mweights_store\u001B[49m\u001B[38;5;241;43m.\u001B[39;49m\u001B[43mmake\u001B[49m\u001B[43m(\u001B[49m\u001B[43minner_path\u001B[49m\u001B[43m)\u001B[49m\u001B[43m)\u001B[49m\n\u001B[1;32m    371\u001B[0m \u001B[38;5;28;01mif\u001B[39;00m \u001B[38;5;28mhasattr\u001B[39m(trackable, \u001B[38;5;124m\"\u001B[39m\u001B[38;5;124msave_assets\u001B[39m\u001B[38;5;124m\"\u001B[39m) \u001B[38;5;129;01mand\u001B[39;00m assets_store:\n\u001B[1;32m    372\u001B[0m     trackable\u001B[38;5;241m.\u001B[39msave_assets(assets_store\u001B[38;5;241m.\u001B[39mmake(inner_path))\n",
      "File \u001B[0;32m~/.local/lib/python3.10/site-packages/keras/src/optimizers/base_optimizer.py:544\u001B[0m, in \u001B[0;36mBaseOptimizer.save_own_variables\u001B[0;34m(self, store)\u001B[0m\n\u001B[1;32m    542\u001B[0m \u001B[38;5;250m\u001B[39m\u001B[38;5;124;03m\"\"\"Get the state of this optimizer object.\"\"\"\u001B[39;00m\n\u001B[1;32m    543\u001B[0m \u001B[38;5;28;01mfor\u001B[39;00m i, variable \u001B[38;5;129;01min\u001B[39;00m \u001B[38;5;28menumerate\u001B[39m(\u001B[38;5;28mself\u001B[39m\u001B[38;5;241m.\u001B[39mvariables):\n\u001B[0;32m--> 544\u001B[0m     store[\u001B[38;5;28mstr\u001B[39m(i)] \u001B[38;5;241m=\u001B[39m variable\u001B[38;5;241m.\u001B[39mnumpy()\n",
      "\u001B[0;31mKeyboardInterrupt\u001B[0m: "
     ]
    }
   ]
  },
  {
   "metadata": {
    "ExecuteTime": {
     "end_time": "2024-04-17T11:29:28.971798Z",
     "start_time": "2024-04-17T11:29:26.854295Z"
    }
   },
   "cell_type": "code",
   "source": [
    "best_red_model = red_tuner.get_best_models()[0]\n",
    "best_red_model.summary()"
   ],
   "id": "b87475aa64a74154",
   "outputs": [
    {
     "name": "stderr",
     "output_type": "stream",
     "text": [
      "/home/jonas/.local/lib/python3.10/site-packages/keras/src/saving/saving_lib.py:418: UserWarning: Skipping variable loading for optimizer 'adam', because it has 2 variables whereas the saved optimizer has 14 variables. \n",
      "  trackable.load_own_variables(weights_store.get(inner_path))\n"
     ]
    },
    {
     "data": {
      "text/plain": [
       "\u001B[1mModel: \"sequential\"\u001B[0m\n"
      ],
      "text/html": [
       "<pre style=\"white-space:pre;overflow-x:auto;line-height:normal;font-family:Menlo,'DejaVu Sans Mono',consolas,'Courier New',monospace\"><span style=\"font-weight: bold\">Model: \"sequential\"</span>\n",
       "</pre>\n"
      ]
     },
     "metadata": {},
     "output_type": "display_data"
    },
    {
     "data": {
      "text/plain": [
       "┏━━━━━━━━━━━━━━━━━━━━━━━━━━━━━━━━━┳━━━━━━━━━━━━━━━━━━━━━━━━┳━━━━━━━━━━━━━━━┓\n",
       "┃\u001B[1m \u001B[0m\u001B[1mLayer (type)                   \u001B[0m\u001B[1m \u001B[0m┃\u001B[1m \u001B[0m\u001B[1mOutput Shape          \u001B[0m\u001B[1m \u001B[0m┃\u001B[1m \u001B[0m\u001B[1m      Param #\u001B[0m\u001B[1m \u001B[0m┃\n",
       "┡━━━━━━━━━━━━━━━━━━━━━━━━━━━━━━━━━╇━━━━━━━━━━━━━━━━━━━━━━━━╇━━━━━━━━━━━━━━━┩\n",
       "│ dense (\u001B[38;5;33mDense\u001B[0m)                   │ (\u001B[38;5;45mNone\u001B[0m, \u001B[38;5;34m88\u001B[0m)             │         \u001B[38;5;34m1,056\u001B[0m │\n",
       "├─────────────────────────────────┼────────────────────────┼───────────────┤\n",
       "│ dense_1 (\u001B[38;5;33mDense\u001B[0m)                 │ (\u001B[38;5;45mNone\u001B[0m, \u001B[38;5;34m88\u001B[0m)             │         \u001B[38;5;34m7,832\u001B[0m │\n",
       "├─────────────────────────────────┼────────────────────────┼───────────────┤\n",
       "│ dense_2 (\u001B[38;5;33mDense\u001B[0m)                 │ (\u001B[38;5;45mNone\u001B[0m, \u001B[38;5;34m1\u001B[0m)              │            \u001B[38;5;34m89\u001B[0m │\n",
       "└─────────────────────────────────┴────────────────────────┴───────────────┘\n"
      ],
      "text/html": [
       "<pre style=\"white-space:pre;overflow-x:auto;line-height:normal;font-family:Menlo,'DejaVu Sans Mono',consolas,'Courier New',monospace\">┏━━━━━━━━━━━━━━━━━━━━━━━━━━━━━━━━━┳━━━━━━━━━━━━━━━━━━━━━━━━┳━━━━━━━━━━━━━━━┓\n",
       "┃<span style=\"font-weight: bold\"> Layer (type)                    </span>┃<span style=\"font-weight: bold\"> Output Shape           </span>┃<span style=\"font-weight: bold\">       Param # </span>┃\n",
       "┡━━━━━━━━━━━━━━━━━━━━━━━━━━━━━━━━━╇━━━━━━━━━━━━━━━━━━━━━━━━╇━━━━━━━━━━━━━━━┩\n",
       "│ dense (<span style=\"color: #0087ff; text-decoration-color: #0087ff\">Dense</span>)                   │ (<span style=\"color: #00d7ff; text-decoration-color: #00d7ff\">None</span>, <span style=\"color: #00af00; text-decoration-color: #00af00\">88</span>)             │         <span style=\"color: #00af00; text-decoration-color: #00af00\">1,056</span> │\n",
       "├─────────────────────────────────┼────────────────────────┼───────────────┤\n",
       "│ dense_1 (<span style=\"color: #0087ff; text-decoration-color: #0087ff\">Dense</span>)                 │ (<span style=\"color: #00d7ff; text-decoration-color: #00d7ff\">None</span>, <span style=\"color: #00af00; text-decoration-color: #00af00\">88</span>)             │         <span style=\"color: #00af00; text-decoration-color: #00af00\">7,832</span> │\n",
       "├─────────────────────────────────┼────────────────────────┼───────────────┤\n",
       "│ dense_2 (<span style=\"color: #0087ff; text-decoration-color: #0087ff\">Dense</span>)                 │ (<span style=\"color: #00d7ff; text-decoration-color: #00d7ff\">None</span>, <span style=\"color: #00af00; text-decoration-color: #00af00\">1</span>)              │            <span style=\"color: #00af00; text-decoration-color: #00af00\">89</span> │\n",
       "└─────────────────────────────────┴────────────────────────┴───────────────┘\n",
       "</pre>\n"
      ]
     },
     "metadata": {},
     "output_type": "display_data"
    },
    {
     "data": {
      "text/plain": [
       "\u001B[1m Total params: \u001B[0m\u001B[38;5;34m8,977\u001B[0m (35.07 KB)\n"
      ],
      "text/html": [
       "<pre style=\"white-space:pre;overflow-x:auto;line-height:normal;font-family:Menlo,'DejaVu Sans Mono',consolas,'Courier New',monospace\"><span style=\"font-weight: bold\"> Total params: </span><span style=\"color: #00af00; text-decoration-color: #00af00\">8,977</span> (35.07 KB)\n",
       "</pre>\n"
      ]
     },
     "metadata": {},
     "output_type": "display_data"
    },
    {
     "data": {
      "text/plain": [
       "\u001B[1m Trainable params: \u001B[0m\u001B[38;5;34m8,977\u001B[0m (35.07 KB)\n"
      ],
      "text/html": [
       "<pre style=\"white-space:pre;overflow-x:auto;line-height:normal;font-family:Menlo,'DejaVu Sans Mono',consolas,'Courier New',monospace\"><span style=\"font-weight: bold\"> Trainable params: </span><span style=\"color: #00af00; text-decoration-color: #00af00\">8,977</span> (35.07 KB)\n",
       "</pre>\n"
      ]
     },
     "metadata": {},
     "output_type": "display_data"
    },
    {
     "data": {
      "text/plain": [
       "\u001B[1m Non-trainable params: \u001B[0m\u001B[38;5;34m0\u001B[0m (0.00 B)\n"
      ],
      "text/html": [
       "<pre style=\"white-space:pre;overflow-x:auto;line-height:normal;font-family:Menlo,'DejaVu Sans Mono',consolas,'Courier New',monospace\"><span style=\"font-weight: bold\"> Non-trainable params: </span><span style=\"color: #00af00; text-decoration-color: #00af00\">0</span> (0.00 B)\n",
       "</pre>\n"
      ]
     },
     "metadata": {},
     "output_type": "display_data"
    }
   ],
   "execution_count": 22
  },
  {
   "metadata": {
    "ExecuteTime": {
     "end_time": "2024-04-17T11:31:33.459446Z",
     "start_time": "2024-04-17T11:29:39.266022Z"
    }
   },
   "cell_type": "code",
   "source": [
    "%%time\n",
    "#Retrain best Model\n",
    "best_red_hp = red_tuner.get_best_hyperparameters()[0]\n",
    "best_red_model = HyperRegressor().build(best_red_hp)\n",
    "red_learning_rate = best_red_hp.get(\"lr\")\n",
    "best_red_model_history = evaluate_model_cv_print(red_learning_rate, best_model, red_training_Data_scaled, red_training_scores, red_test_data_scaled, red_test_scores)\n",
    "best_red_model_history"
   ],
   "id": "d866086c8d863252",
   "outputs": [
    {
     "name": "stderr",
     "output_type": "stream",
     "text": [
      "I0000 00:00:1713353380.535383 1946440 asm_compiler.cc:369] ptxas warning : Registers are spilled to local memory in function 'triton_gemm_dot_360', 96 bytes spill stores, 96 bytes spill loads\n",
      "\n",
      "I0000 00:00:1713353381.434157 1946553 asm_compiler.cc:369] ptxas warning : Registers are spilled to local memory in function 'triton_gemm_dot_70', 8 bytes spill stores, 8 bytes spill loads\n",
      "\n"
     ]
    },
    {
     "name": "stdout",
     "output_type": "stream",
     "text": [
      "\u001B[1m8/8\u001B[0m \u001B[32m━━━━━━━━━━━━━━━━━━━━\u001B[0m\u001B[37m\u001B[0m \u001B[1m0s\u001B[0m 46ms/step - loss: 0.4072 - mean_absolute_percentage_error: 8.6241 - r2_score: 0.2853\n",
      "\u001B[1m8/8\u001B[0m \u001B[32m━━━━━━━━━━━━━━━━━━━━\u001B[0m\u001B[37m\u001B[0m \u001B[1m0s\u001B[0m 13ms/step - loss: 0.3875 - mean_absolute_percentage_error: 8.5890 - r2_score: 0.3776\n",
      "\u001B[1m8/8\u001B[0m \u001B[32m━━━━━━━━━━━━━━━━━━━━\u001B[0m\u001B[37m\u001B[0m \u001B[1m0s\u001B[0m 17ms/step - loss: 0.5497 - mean_absolute_percentage_error: 10.5738 - r2_score: 0.1787\n",
      "\u001B[1m8/8\u001B[0m \u001B[32m━━━━━━━━━━━━━━━━━━━━\u001B[0m\u001B[37m\u001B[0m \u001B[1m0s\u001B[0m 12ms/step - loss: 0.4937 - mean_absolute_percentage_error: 9.8735 - r2_score: 0.1746\n"
     ]
    },
    {
     "name": "stderr",
     "output_type": "stream",
     "text": [
      "I0000 00:00:1713353470.474441 2061979 asm_compiler.cc:369] ptxas warning : Registers are spilled to local memory in function 'triton_gemm_dot_70', 8 bytes spill stores, 8 bytes spill loads\n",
      "\n"
     ]
    },
    {
     "name": "stdout",
     "output_type": "stream",
     "text": [
      "\u001B[1m8/8\u001B[0m \u001B[32m━━━━━━━━━━━━━━━━━━━━\u001B[0m\u001B[37m\u001B[0m \u001B[1m0s\u001B[0m 52ms/step - loss: 0.6023 - mean_absolute_percentage_error: 10.5154 - r2_score: 0.1105\n",
      "\r\n",
      "Cross Validation\n",
      "- R^2: [0.27200627 0.31784314 0.19017696 0.18455803 0.20948696]\n",
      "- R^2 Durchschnittlicher: 0.2348\n",
      "- R^2 Standardabweichung: 0.0518\n",
      "\r\n",
      "\n",
      "\u001B[1m13/13\u001B[0m \u001B[32m━━━━━━━━━━━━━━━━━━━━\u001B[0m\u001B[37m\u001B[0m \u001B[1m0s\u001B[0m 8ms/step\n",
      "Test:\n",
      "- R^2: 0.3933\n",
      "- RMSE: 0.68\n",
      "- MAPE: 9.31%\n"
     ]
    },
    {
     "data": {
      "text/plain": [
       "<Figure size 640x480 with 1 Axes>"
      ],
      "image/png": "[encoded data removed]"
     },
     "metadata": {},
     "output_type": "display_data"
    },
    {
     "data": {
      "text/plain": [
       "<Figure size 640x480 with 1 Axes>"
      ],
      "image/png": "[encoded data removed]"
     },
     "metadata": {},
     "output_type": "display_data"
    },
    {
     "name": "stdout",
     "output_type": "stream",
     "text": [
      "CPU times: user 1min 51s, sys: 25.9 s, total: 2min 17s\n",
      "Wall time: 1min 54s\n"
     ]
    },
    {
     "data": {
      "text/plain": [
       "(array([[ 0.4177877 ,  8.7944355 ,  0.27200627],\n",
       "        [ 0.43274325,  8.99968815,  0.31784314],\n",
       "        [ 0.53560817, 10.53393841,  0.19017696],\n",
       "        [ 0.48347521,  9.81507206,  0.18455803],\n",
       "        [ 0.48700327,  9.50203514,  0.20948696]]),\n",
       " (<Sequential name=sequential_1, built=True>,\n",
       "  <keras.src.callbacks.history.History at 0x7ff30fc1f0a0>))"
      ]
     },
     "execution_count": 23,
     "metadata": {},
     "output_type": "execute_result"
    }
   ],
   "execution_count": 23
  },
  {
   "metadata": {},
   "cell_type": "markdown",
   "source": "",
   "id": "cc5be2af4f120bf2"
  },
  {
   "metadata": {
    "ExecuteTime": {
     "end_time": "2024-04-11T07:06:31.088885Z",
     "start_time": "2024-04-11T07:06:31.004679Z"
    }
   },
   "cell_type": "code",
   "source": [
    "error = test_predictions - white_test_scores\n",
    "plt.hist(error, bins=25)\n",
    "plt.xlabel('Prediction Error [winequality-white]')\n",
    "_ = plt.ylabel('Count')"
   ],
   "id": "39fbd9a03e414fb5",
   "outputs": [
    {
     "data": {
      "text/plain": [
       "<Figure size 640x480 with 1 Axes>"
      ],
      "image/png": "[encoded data removed]"
     },
     "metadata": {},
     "output_type": "display_data"
    }
   ],
   "execution_count": 17
  },
  {
   "metadata": {},
   "cell_type": "code",
   "outputs": [],
   "execution_count": null,
   "source": "",
   "id": "189342a4e271f992"
  }
 ],
 "metadata": {
  "kernelspec": {
   "display_name": "Python 3",
   "language": "python",
   "name": "python3"
  },
  "language_info": {
   "codemirror_mode": {
    "name": "ipython",
    "version": 2
   },
   "file_extension": ".py",
   "mimetype": "text/x-python",
   "name": "python",
   "nbconvert_exporter": "python",
   "pygments_lexer": "ipython2",
   "version": "2.7.6"
  }
 },
 "nbformat": 4,
 "nbformat_minor": 5
}
