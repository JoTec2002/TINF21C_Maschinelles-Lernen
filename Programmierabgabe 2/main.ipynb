{
 "cells": [
  {
   "cell_type": "markdown",
   "id": "a454e9c8e561de40",
   "metadata": {},
   "source": [
    "Abgabe von: Mat.Nr.: 9452857 & 1113800\n",
    "\n",
    "Aufteilung:<br>\n",
    "9452857: Modell-Definition, Hyperparameter-Optimierung<br>\n",
    "1113800: Netzwerkarchitektur, Loss-Funktion und Optimizer, Vergleiche"
   ]
  },
  {
   "cell_type": "markdown",
   "id": "9c6dccc67e1c0231",
   "metadata": {},
   "source": [
    "Before doing anything installing all needed dependencies"
   ]
  },
  {
   "cell_type": "markdown",
   "id": "5888947177567c81",
   "metadata": {},
   "source": [
    "# Software requirements"
   ]
  },
  {
   "cell_type": "markdown",
   "id": "513d72e8194e4e2b",
   "metadata": {},
   "source": [
    "Version\tPython version\tCompiler\tBuild tools\tcuDNN\tCUDA<br>\n",
    "tensorflow-2.16.1\t3.9-3.12\tClang 17.0.6\tBazel 6.5.0\t8.9\t12.3"
   ]
  },
  {
   "cell_type": "markdown",
   "id": "d63d3a705c941902",
   "metadata": {},
   "source": [
    "!pip3 install pandas\n",
    "!pip3 install scikit-learn\n",
    "!pip3 install tensorflow==2.16.1\n",
    "!pip3 install keras-tuner\n",
    "!pip3 install matplotlib\n",
    "!pip3 install imblearn"
   ]
  },
  {
   "cell_type": "markdown",
   "id": "4f23b98e8bec9a3e",
   "metadata": {},
   "source": [
    "# Aufgabe 1"
   ]
  },
  {
   "cell_type": "code",
   "execution_count": 1,
   "id": "7afb645d8eee8308",
   "metadata": {
    "ExecuteTime": {
     "end_time": "2024-04-19T22:42:33.507883Z",
     "start_time": "2024-04-19T22:42:32.474294Z"
    }
   },
   "outputs": [],
   "source": [
    "import os\n",
    "os.environ[\"KERAS_BACKEND\"] = \"tensorflow\"\n",
    "import matplotlib.pyplot as plt\n",
    "import pandas as pd\n",
    "import numpy as np\n",
    "from sklearn.model_selection import train_test_split"
   ]
  },
  {
   "cell_type": "markdown",
   "id": "97aabfa007d964d2",
   "metadata": {},
   "source": [
    "Import data"
   ]
  },
  {
   "cell_type": "code",
   "execution_count": 2,
   "id": "4160001e3aab46f7",
   "metadata": {
    "ExecuteTime": {
     "end_time": "2024-04-19T22:42:33.522176Z",
     "start_time": "2024-04-19T22:42:33.508888Z"
    }
   },
   "outputs": [],
   "source": [
    "white_raw = pd.read_csv(os.getcwd() + \"/dataset/winequality-white.csv\", delimiter=\";\")\n",
    "red_raw = pd.read_csv(os.getcwd() + \"/dataset/winequality-red.csv\", delimiter=\";\")"
   ]
  },
  {
   "cell_type": "code",
   "execution_count": 3,
   "id": "1fcde4a3dd70d6bf",
   "metadata": {
    "ExecuteTime": {
     "end_time": "2024-04-19T22:42:33.537148Z",
     "start_time": "2024-04-19T22:42:33.522176Z"
    }
   },
   "outputs": [
    {
     "data": {
      "text/html": [
       "<div>\n",
       "<style scoped>\n",
       "    .dataframe tbody tr th:only-of-type {\n",
       "        vertical-align: middle;\n",
       "    }\n",
       "\n",
       "    .dataframe tbody tr th {\n",
       "        vertical-align: top;\n",
       "    }\n",
       "\n",
       "    .dataframe thead th {\n",
       "        text-align: right;\n",
       "    }\n",
       "</style>\n",
       "<table border=\"1\" class=\"dataframe\">\n",
       "  <thead>\n",
       "    <tr style=\"text-align: right;\">\n",
       "      <th></th>\n",
       "      <th>fixed acidity</th>\n",
       "      <th>volatile acidity</th>\n",
       "      <th>citric acid</th>\n",
       "      <th>residual sugar</th>\n",
       "      <th>chlorides</th>\n",
       "      <th>free sulfur dioxide</th>\n",
       "      <th>total sulfur dioxide</th>\n",
       "      <th>density</th>\n",
       "      <th>pH</th>\n",
       "      <th>sulphates</th>\n",
       "      <th>alcohol</th>\n",
       "      <th>quality</th>\n",
       "    </tr>\n",
       "  </thead>\n",
       "  <tbody>\n",
       "    <tr>\n",
       "      <th>0</th>\n",
       "      <td>7.0</td>\n",
       "      <td>0.27</td>\n",
       "      <td>0.36</td>\n",
       "      <td>20.7</td>\n",
       "      <td>0.045</td>\n",
       "      <td>45.0</td>\n",
       "      <td>170.0</td>\n",
       "      <td>1.00100</td>\n",
       "      <td>3.00</td>\n",
       "      <td>0.45</td>\n",
       "      <td>8.8</td>\n",
       "      <td>6</td>\n",
       "    </tr>\n",
       "    <tr>\n",
       "      <th>1</th>\n",
       "      <td>6.3</td>\n",
       "      <td>0.30</td>\n",
       "      <td>0.34</td>\n",
       "      <td>1.6</td>\n",
       "      <td>0.049</td>\n",
       "      <td>14.0</td>\n",
       "      <td>132.0</td>\n",
       "      <td>0.99400</td>\n",
       "      <td>3.30</td>\n",
       "      <td>0.49</td>\n",
       "      <td>9.5</td>\n",
       "      <td>6</td>\n",
       "    </tr>\n",
       "    <tr>\n",
       "      <th>2</th>\n",
       "      <td>8.1</td>\n",
       "      <td>0.28</td>\n",
       "      <td>0.40</td>\n",
       "      <td>6.9</td>\n",
       "      <td>0.050</td>\n",
       "      <td>30.0</td>\n",
       "      <td>97.0</td>\n",
       "      <td>0.99510</td>\n",
       "      <td>3.26</td>\n",
       "      <td>0.44</td>\n",
       "      <td>10.1</td>\n",
       "      <td>6</td>\n",
       "    </tr>\n",
       "    <tr>\n",
       "      <th>3</th>\n",
       "      <td>7.2</td>\n",
       "      <td>0.23</td>\n",
       "      <td>0.32</td>\n",
       "      <td>8.5</td>\n",
       "      <td>0.058</td>\n",
       "      <td>47.0</td>\n",
       "      <td>186.0</td>\n",
       "      <td>0.99560</td>\n",
       "      <td>3.19</td>\n",
       "      <td>0.40</td>\n",
       "      <td>9.9</td>\n",
       "      <td>6</td>\n",
       "    </tr>\n",
       "    <tr>\n",
       "      <th>4</th>\n",
       "      <td>7.2</td>\n",
       "      <td>0.23</td>\n",
       "      <td>0.32</td>\n",
       "      <td>8.5</td>\n",
       "      <td>0.058</td>\n",
       "      <td>47.0</td>\n",
       "      <td>186.0</td>\n",
       "      <td>0.99560</td>\n",
       "      <td>3.19</td>\n",
       "      <td>0.40</td>\n",
       "      <td>9.9</td>\n",
       "      <td>6</td>\n",
       "    </tr>\n",
       "    <tr>\n",
       "      <th>...</th>\n",
       "      <td>...</td>\n",
       "      <td>...</td>\n",
       "      <td>...</td>\n",
       "      <td>...</td>\n",
       "      <td>...</td>\n",
       "      <td>...</td>\n",
       "      <td>...</td>\n",
       "      <td>...</td>\n",
       "      <td>...</td>\n",
       "      <td>...</td>\n",
       "      <td>...</td>\n",
       "      <td>...</td>\n",
       "    </tr>\n",
       "    <tr>\n",
       "      <th>4893</th>\n",
       "      <td>6.2</td>\n",
       "      <td>0.21</td>\n",
       "      <td>0.29</td>\n",
       "      <td>1.6</td>\n",
       "      <td>0.039</td>\n",
       "      <td>24.0</td>\n",
       "      <td>92.0</td>\n",
       "      <td>0.99114</td>\n",
       "      <td>3.27</td>\n",
       "      <td>0.50</td>\n",
       "      <td>11.2</td>\n",
       "      <td>6</td>\n",
       "    </tr>\n",
       "    <tr>\n",
       "      <th>4894</th>\n",
       "      <td>6.6</td>\n",
       "      <td>0.32</td>\n",
       "      <td>0.36</td>\n",
       "      <td>8.0</td>\n",
       "      <td>0.047</td>\n",
       "      <td>57.0</td>\n",
       "      <td>168.0</td>\n",
       "      <td>0.99490</td>\n",
       "      <td>3.15</td>\n",
       "      <td>0.46</td>\n",
       "      <td>9.6</td>\n",
       "      <td>5</td>\n",
       "    </tr>\n",
       "    <tr>\n",
       "      <th>4895</th>\n",
       "      <td>6.5</td>\n",
       "      <td>0.24</td>\n",
       "      <td>0.19</td>\n",
       "      <td>1.2</td>\n",
       "      <td>0.041</td>\n",
       "      <td>30.0</td>\n",
       "      <td>111.0</td>\n",
       "      <td>0.99254</td>\n",
       "      <td>2.99</td>\n",
       "      <td>0.46</td>\n",
       "      <td>9.4</td>\n",
       "      <td>6</td>\n",
       "    </tr>\n",
       "    <tr>\n",
       "      <th>4896</th>\n",
       "      <td>5.5</td>\n",
       "      <td>0.29</td>\n",
       "      <td>0.30</td>\n",
       "      <td>1.1</td>\n",
       "      <td>0.022</td>\n",
       "      <td>20.0</td>\n",
       "      <td>110.0</td>\n",
       "      <td>0.98869</td>\n",
       "      <td>3.34</td>\n",
       "      <td>0.38</td>\n",
       "      <td>12.8</td>\n",
       "      <td>7</td>\n",
       "    </tr>\n",
       "    <tr>\n",
       "      <th>4897</th>\n",
       "      <td>6.0</td>\n",
       "      <td>0.21</td>\n",
       "      <td>0.38</td>\n",
       "      <td>0.8</td>\n",
       "      <td>0.020</td>\n",
       "      <td>22.0</td>\n",
       "      <td>98.0</td>\n",
       "      <td>0.98941</td>\n",
       "      <td>3.26</td>\n",
       "      <td>0.32</td>\n",
       "      <td>11.8</td>\n",
       "      <td>6</td>\n",
       "    </tr>\n",
       "  </tbody>\n",
       "</table>\n",
       "<p>4898 rows × 12 columns</p>\n",
       "</div>"
      ],
      "text/plain": [
       "      fixed acidity  volatile acidity  citric acid  residual sugar  chlorides  \\\n",
       "0               7.0              0.27         0.36            20.7      0.045   \n",
       "1               6.3              0.30         0.34             1.6      0.049   \n",
       "2               8.1              0.28         0.40             6.9      0.050   \n",
       "3               7.2              0.23         0.32             8.5      0.058   \n",
       "4               7.2              0.23         0.32             8.5      0.058   \n",
       "...             ...               ...          ...             ...        ...   \n",
       "4893            6.2              0.21         0.29             1.6      0.039   \n",
       "4894            6.6              0.32         0.36             8.0      0.047   \n",
       "4895            6.5              0.24         0.19             1.2      0.041   \n",
       "4896            5.5              0.29         0.30             1.1      0.022   \n",
       "4897            6.0              0.21         0.38             0.8      0.020   \n",
       "\n",
       "      free sulfur dioxide  total sulfur dioxide  density    pH  sulphates  \\\n",
       "0                    45.0                 170.0  1.00100  3.00       0.45   \n",
       "1                    14.0                 132.0  0.99400  3.30       0.49   \n",
       "2                    30.0                  97.0  0.99510  3.26       0.44   \n",
       "3                    47.0                 186.0  0.99560  3.19       0.40   \n",
       "4                    47.0                 186.0  0.99560  3.19       0.40   \n",
       "...                   ...                   ...      ...   ...        ...   \n",
       "4893                 24.0                  92.0  0.99114  3.27       0.50   \n",
       "4894                 57.0                 168.0  0.99490  3.15       0.46   \n",
       "4895                 30.0                 111.0  0.99254  2.99       0.46   \n",
       "4896                 20.0                 110.0  0.98869  3.34       0.38   \n",
       "4897                 22.0                  98.0  0.98941  3.26       0.32   \n",
       "\n",
       "      alcohol  quality  \n",
       "0         8.8        6  \n",
       "1         9.5        6  \n",
       "2        10.1        6  \n",
       "3         9.9        6  \n",
       "4         9.9        6  \n",
       "...       ...      ...  \n",
       "4893     11.2        6  \n",
       "4894      9.6        5  \n",
       "4895      9.4        6  \n",
       "4896     12.8        7  \n",
       "4897     11.8        6  \n",
       "\n",
       "[4898 rows x 12 columns]"
      ]
     },
     "execution_count": 3,
     "metadata": {},
     "output_type": "execute_result"
    }
   ],
   "source": [
    "white_raw"
   ]
  },
  {
   "cell_type": "markdown",
   "id": "f35c33506d4e5286",
   "metadata": {},
   "source": [
    "Split wine in Test and Training Data (80% / 20%)"
   ]
  },
  {
   "cell_type": "code",
   "execution_count": 4,
   "id": "580c5e24fed82ef7",
   "metadata": {
    "ExecuteTime": {
     "end_time": "2024-04-19T22:42:33.543662Z",
     "start_time": "2024-04-19T22:42:33.538154Z"
    }
   },
   "outputs": [],
   "source": [
    "white_training_Data, white_test_data, white_training_scores, white_test_scores = (train_test_split(white_raw.drop(\"quality\", axis=1), white_raw['quality'],test_size=0.2, random_state=39))\n",
    "\n",
    "red_training_Data, red_test_data, red_training_scores, red_test_scores = (train_test_split(red_raw.drop(\"quality\", axis=1), red_raw['quality'],test_size=0.2, random_state=39))"
   ]
  },
  {
   "cell_type": "markdown",
   "id": "277c1b6316304bb5",
   "metadata": {},
   "source": [
    "Normalize the Data\n",
    "Standard Scaler to Scale around 0\n",
    "MIN May to Scale this than between 0-1\n",
    "\n",
    "Some Functionality as tensorflow Normalization Layer"
   ]
  },
  {
   "cell_type": "code",
   "execution_count": 5,
   "id": "a7db3b106afd6d33",
   "metadata": {
    "ExecuteTime": {
     "end_time": "2024-04-19T22:42:33.699130Z",
     "start_time": "2024-04-19T22:42:33.544668Z"
    }
   },
   "outputs": [],
   "source": [
    "from sklearn.pipeline import Pipeline\n",
    "from sklearn.preprocessing import Normalizer, normalize, MinMaxScaler, StandardScaler\n",
    "from imblearn.over_sampling import RandomOverSampler\n",
    "\n",
    "ros = RandomOverSampler(random_state=39)\n",
    "white_training_Data, white_training_scores = ros.fit_resample(white_training_Data, white_training_scores)\n",
    "red_training_Data, red_training_scores = ros.fit_resample(red_training_Data, red_training_scores)\n",
    "\n",
    "pipeline = Pipeline([\n",
    "    ('scaler1', StandardScaler()),\n",
    "    ('scaler2', MinMaxScaler())\n",
    "])\n",
    "\n",
    "white_training_Data_scaled = np.array(pipeline.fit_transform(white_training_Data))\n",
    "white_training_scores = np.array(white_training_scores)\n",
    "white_test_data_scaled = np.array(pipeline.transform(white_test_data))\n",
    "white_test_scores = np.array(white_test_scores)\n",
    "\n",
    "red_training_Data_scaled = np.array(pipeline.fit_transform(red_training_Data))\n",
    "red_training_scores = np.array(red_training_scores)\n",
    "red_test_data_scaled = np.array(pipeline.transform (red_test_data))\n",
    "red_test_scores = np.array(red_test_scores)\n"
   ]
  },
  {
   "cell_type": "code",
   "execution_count": 6,
   "id": "51f1963906260ecb",
   "metadata": {
    "ExecuteTime": {
     "end_time": "2024-04-19T22:42:33.703816Z",
     "start_time": "2024-04-19T22:42:33.699130Z"
    }
   },
   "outputs": [
    {
     "data": {
      "text/plain": [
       "array([[0.26923077, 0.2254902 , 0.22289157, ..., 0.47272727, 0.20238095,\n",
       "        0.12903226],\n",
       "       [0.375     , 0.23529412, 0.37349398, ..., 0.37272727, 0.26190476,\n",
       "        0.14516129],\n",
       "       [0.23076923, 0.07843137, 0.19277108, ..., 0.45454545, 0.22619048,\n",
       "        0.48387097],\n",
       "       ...,\n",
       "       [0.50961538, 0.18627451, 0.27108434, ..., 0.43636364, 0.28571429,\n",
       "        0.38709677],\n",
       "       [0.31730769, 0.17647059, 0.29518072, ..., 0.59090909, 0.23809524,\n",
       "        0.79032258],\n",
       "       [0.26923077, 0.2745098 , 0.1746988 , ..., 0.62727273, 0.46428571,\n",
       "        0.70967742]])"
      ]
     },
     "execution_count": 6,
     "metadata": {},
     "output_type": "execute_result"
    }
   ],
   "source": [
    "white_training_Data_scaled"
   ]
  },
  {
   "cell_type": "markdown",
   "metadata": {},
   "source": [
    "# Aufgabe 2\n",
    "## Netzwerkarchitektur:\n",
    "Die Netzwerkarchitektur basiert auf einem tiefen neuronalen Netzwerk, das mithilfe der Keras-Bibliothek implementiert wurde.\n",
    "\n",
    "Die Architektur beginnt mit einer Eingabeschicht. Diese umfasst aufgrund der im Datensatz verwendeten 11 chemischen Eigenschaften von Wein bzw. Features eine Anzahl von 11 Neuronen. \n",
    "Aus der Eingabeschicht werden die Daten an die folgenden Schichten weitergeleitet, wo die eigentliche Verarbeitung stattfindet.\n",
    "\n",
    "Es folgen die verdeckten Schichten, welche jeweils eine bestimmte Anzahl von Neuronen beinhalten. Jedes Neuron berechnet eine gewichtete Summe seiner Eingaben und wendet dann eine Aktivierungsfunktion auf das Ergebnis an. Es wird hier auf die ReLU-Aktivierungsfunktion zurückgegriffen, da die Regression mit einer nichtlinearen Aktivierungsfunktion durchgeführt werden sollte. ReLU zeichnet sich durch die Effizienz und die gute Gradientenverbreitung aus. \n",
    "Die Anzahl der verdeckten Schichten und die Anzahl der Neuronen in jeder Schicht sind Hyperparameter, welche mittels einer Hyperparameter-Optimierung bestimmt werden sollten.\n",
    "\n",
    "Abschließend folgt eine Ausgabeschicht, welche eine einzige Ausgabe liefert. Diese Ausgabe repräsentiert die Vorhersage des Modells für den Weinscore basierend auf den Eingabedaten. "
   ]
  },
  {
   "cell_type": "markdown",
   "id": "4e5e298fb6355054",
   "metadata": {},
   "source": [
    "# Aufgabe 3"
   ]
  },
  {
   "cell_type": "markdown",
   "id": "7d4751e485a223c1",
   "metadata": {},
   "source": [
    "## General Model definition"
   ]
  },
  {
   "cell_type": "code",
   "execution_count": 7,
   "id": "83ee2365a96b07c9",
   "metadata": {
    "ExecuteTime": {
     "end_time": "2024-04-19T22:42:35.804260Z",
     "start_time": "2024-04-19T22:42:33.703816Z"
    }
   },
   "outputs": [],
   "source": [
    "from math import sqrt\n",
    "\n",
    "import keras\n",
    "from keras import layers\n",
    "from keras.src.models.cloning import clone_model\n",
    "\n",
    "import tensorflow as tf\n",
    "\n",
    "from sklearn.metrics import mean_squared_error\n",
    "from sklearn.metrics import r2_score, mean_absolute_percentage_error\n",
    "from sklearn.model_selection import KFold\n",
    "\n",
    "import keras_tuner"
   ]
  },
  {
   "cell_type": "code",
   "execution_count": 8,
   "id": "3bde899157cc2a6c",
   "metadata": {
    "ExecuteTime": {
     "end_time": "2024-04-19T22:42:35.808085Z",
     "start_time": "2024-04-19T22:42:35.804260Z"
    }
   },
   "outputs": [
    {
     "name": "stdout",
     "output_type": "stream",
     "text": [
      "Num GPUs Available:  0\n"
     ]
    }
   ],
   "source": [
    "#Check and Print Tensorflow GPU Availability\n",
    "print(\"Num GPUs Available: \", len(tf.config.list_physical_devices('GPU')))"
   ]
  },
  {
   "cell_type": "code",
   "execution_count": 9,
   "id": "7f8221c6ce32687a",
   "metadata": {
    "ExecuteTime": {
     "end_time": "2024-04-19T22:42:35.835866Z",
     "start_time": "2024-04-19T22:42:35.808085Z"
    }
   },
   "outputs": [],
   "source": [
    "from sklearn.metrics import confusion_matrix, ConfusionMatrixDisplay\n",
    "def plot_loss(keras_regressor_model):\n",
    "  plt.plot(keras_regressor_model.history['loss'], label='loss')\n",
    "  plt.plot(keras_regressor_model.history['val_loss'], label='val_loss')\n",
    "  plt.ylim([0, 2])\n",
    "  plt.xlabel('Epoch')\n",
    "  plt.ylabel('Mean Squared Error [Wine Quality Score]')\n",
    "  plt.legend()\n",
    "  plt.grid(True)\n",
    "  plt.show()\n",
    "  \n",
    "def plot_metrics(test_scores, test_predictions):\n",
    "    a = plt.axes(aspect='equal')\n",
    "    plt.scatter(test_scores, test_predictions)\n",
    "    plt.xlabel('True Values [winequality-white]')\n",
    "    plt.ylabel('Predictions [winequality-white]')\n",
    "    lims = [0, 10]\n",
    "    plt.xlim(lims)\n",
    "    plt.ylim(lims)\n",
    "    _ = plt.plot(lims, lims)\n",
    "    plt.show()\n",
    "    \n",
    "    cm = confusion_matrix(test_scores, test_predictions.round(), labels=[0, 1,2,3,4,5,6,7,8,9,10])\n",
    "    cm_disp = ConfusionMatrixDisplay(cm)\n",
    "    cm_disp.plot()"
   ]
  },
  {
   "cell_type": "code",
   "execution_count": 10,
   "id": "182ee7b7404dd257",
   "metadata": {
    "ExecuteTime": {
     "end_time": "2024-04-19T22:42:35.848384Z",
     "start_time": "2024-04-19T22:42:35.836872Z"
    }
   },
   "outputs": [],
   "source": [
    "def create_model_tuner(hp, learning_rate):    \n",
    "    # Konfiguriere die Verteilungsstrategie\n",
    "    input_layer = layers.Input(shape=(11,))\n",
    "    model = keras.Sequential([\n",
    "        input_layer       \n",
    "    ])\n",
    "    \n",
    "    for i in range(hp.Int(\"num_layers\", 1, 3)):\n",
    "        model.add(\n",
    "            layers.Dense(\n",
    "                # Tune number of units separately.\n",
    "                units=hp.Int(f\"units_{i}\", min_value=2, max_value=330, step=2),\n",
    "                activation='relu',\n",
    "            )\n",
    "        )\n",
    "        model.add(layers.Dropout(rate=0.2))\n",
    "    model.add(layers.Dense(1))#output\n",
    "    \n",
    "    model.compile(loss=keras.losses.mean_squared_error,\n",
    "            optimizer=keras.optimizers.Adam(learning_rate=learning_rate), metrics=[keras.metrics.R2Score])      \n",
    "    \n",
    "    return model"
   ]
  },
  {
   "cell_type": "code",
   "execution_count": 11,
   "id": "ff5e2f6569da43b2",
   "metadata": {
    "ExecuteTime": {
     "end_time": "2024-04-19T22:42:35.861951Z",
     "start_time": "2024-04-19T22:42:35.848384Z"
    }
   },
   "outputs": [],
   "source": [
    "import concurrent.futures\n",
    "def fit_and_evaluate_model(model: keras.Sequential, x_train, y_train, x_test, y_test, **kwargs):\n",
    "    model_history = model.fit(x_train, y_train, batch_size=64, epochs=500, validation_data=(x_test, y_test), verbose=0, **kwargs)\n",
    "    return model_history\n",
    "    \n",
    "\n",
    "def evaluate_model_cv(learning_rate, model, training_data, training_scores, **kwargs):\n",
    "    cv_scores = []\n",
    "    models_history = []\n",
    "    \n",
    "    kfold = KFold(n_splits=5, shuffle=True) #Cross Validation cv=5\n",
    "    for i, (train_index, test_index) in enumerate(kfold.split(training_data, training_scores)):\n",
    "        local_model = clone_model(model)\n",
    "        #model needs recompiling after clones - recompiled with same parameters\n",
    "        local_model.compile(\n",
    "            loss=keras.losses.mean_squared_error, \n",
    "            optimizer=keras.optimizers.Adam(learning_rate=learning_rate), \n",
    "            metrics=[keras.metrics.R2Score])  \n",
    "\n",
    "        model_history = fit_and_evaluate_model(local_model, training_data[train_index], training_scores[train_index], training_data[test_index], training_scores[test_index], **kwargs)\n",
    "        score = model_history.history['val_r2_score'][-1]\n",
    "        print(score)\n",
    "        cv_scores.append(score)\n",
    "        \n",
    "    cv_scores = np.array(cv_scores)\n",
    "    cv_score_mean = np.mean(cv_scores)    \n",
    "    return cv_score_mean\n",
    "\n",
    "\n",
    "def evaluate_model_cv_print(hp, training_data, training_scores, valid_data, valid_scores,  **kwargs):\n",
    "    cv_scores = []\n",
    "    models_history = []\n",
    "    \n",
    "    kfold = KFold(n_splits=5, shuffle=True) #Cross Validation cv=5\n",
    "    for i, (train_index, test_index) in enumerate(kfold.split(training_data, training_scores)):\n",
    "        local_model = HyperRegressor().build(hp)\n",
    "        \n",
    "        model_history = local_model.fit(training_data[train_index], training_scores[train_index], batch_size=64, epochs=512, validation_data=(training_data[test_index], training_scores[test_index]), verbose=0, **kwargs)\n",
    "        cv_scores.append(model_history.history['val_r2_score'][-1])\n",
    "        models_history.append((local_model, model_history))\n",
    "        \n",
    "    cv_scores = np.array(cv_scores)\n",
    "        \n",
    "    print('\\r\\nCross Validation')\n",
    "    print(f'- R^2: {cv_scores}')\n",
    "    print(f'- R^2 Durchschnittlicher: {np.mean(cv_scores):.4f}')\n",
    "    print(f'- R^2 Standardabweichung: {np.std(cv_scores):.4f}')\n",
    "    print('\\r\\n')\n",
    "    \n",
    "    #get best model\n",
    "    best_model_index = np.argmax(cv_scores)   #get best r2 score model\n",
    "    optimal_model = models_history[best_model_index]\n",
    "    \n",
    "    predicted_test_scores = optimal_model[0].predict(valid_data)\n",
    "    \n",
    "    r2_score_test = r2_score(valid_scores, predicted_test_scores)\n",
    "    rmse_test = sqrt(mean_squared_error(valid_scores, predicted_test_scores))\n",
    "    mape_test = mean_absolute_percentage_error(valid_scores, predicted_test_scores)\n",
    "    \n",
    "    print('Test:')\n",
    "    print(f'- R^2: {r2_score_test:.4f}')\n",
    "    print(f'- RMSE: {rmse_test:.2f}')\n",
    "    print(f'- MAPE: {mape_test:.2%}')\n",
    "    \n",
    "    plot_loss(optimal_model[1])\n",
    "    plot_metrics(valid_scores, predicted_test_scores)\n",
    "    \n",
    "    return cv_scores, optimal_model\n",
    "    \n",
    "        "
   ]
  },
  {
   "cell_type": "markdown",
   "id": "20aff0fcabd87ab",
   "metadata": {},
   "source": [
    "Ablauf Hyperparameter optimierung:\n",
    "Fitting 5 folds for each of x candidates totalling 5x fits\n",
    "Select best model based on r2 score mean (valid)"
   ]
  },
  {
   "cell_type": "code",
   "execution_count": 12,
   "id": "e4fc5dd69d91eb05",
   "metadata": {
    "ExecuteTime": {
     "end_time": "2024-04-19T22:42:35.872508Z",
     "start_time": "2024-04-19T22:42:35.861951Z"
    }
   },
   "outputs": [],
   "source": [
    "class HyperRegressor(keras_tuner.HyperModel):\n",
    "    def build(self, hp):\n",
    "        learning_rate = hp.Float(\"lr\", min_value=1e-4, max_value=1e-2, sampling=\"log\")\n",
    "        return create_model_tuner(hp, learning_rate)\n",
    "\n",
    "    def fit(self, hp, model, x, y, **kwargs):\n",
    "        # Return a single float to maximize\n",
    "        processes = []\n",
    "        cv_scores = []\n",
    "        \n",
    "        kfold = KFold(n_splits=5, shuffle=True) #Cross Validation cv=5\n",
    "        for i, (train_index, test_index) in enumerate(kfold.split(x, y)):\n",
    "            local_model = self.build(hp)\n",
    "            \n",
    "            model_history = fit_and_evaluate_model(local_model, x[train_index], y[train_index], x[test_index], y[test_index], **kwargs)\n",
    "            score = model_history.history['val_r2_score'][-1]            \n",
    "            cv_scores.append(score)\n",
    "            \n",
    "        cv_scores = np.array(cv_scores)\n",
    "        cv_score_mean = np.mean(cv_scores) \n",
    "        return cv_score_mean\n",
    "    "
   ]
  },
  {
   "cell_type": "markdown",
   "id": "c887c743e48975cd",
   "metadata": {},
   "source": [
    "## White Wine"
   ]
  },
  {
   "cell_type": "code",
   "execution_count": 13,
   "id": "527545615ad27775",
   "metadata": {
    "ExecuteTime": {
     "end_time": "2024-04-19T22:42:35.939911Z",
     "start_time": "2024-04-19T22:42:35.873514Z"
    }
   },
   "outputs": [
    {
     "name": "stdout",
     "output_type": "stream",
     "text": [
      "Reloading Tuner from wine_score_training/white/tuner0.json\n"
     ]
    }
   ],
   "source": [
    "tuner = keras_tuner.BayesianOptimization(\n",
    "    hypermodel=HyperRegressor(),\n",
    "    objective = keras_tuner.Objective(name=\"\", direction='max'),\n",
    "    max_trials=100,\n",
    "    overwrite=False,\n",
    "    directory=\"wine_score_training\",\n",
    "    project_name=\"white\",\n",
    ")"
   ]
  },
  {
   "cell_type": "markdown",
   "id": "fa7e3a40467b6a6",
   "metadata": {},
   "source": [
    "Following cell could be disabled if values should just be loaded"
   ]
  },
  {
   "cell_type": "code",
   "execution_count": 14,
   "id": "e76a2255b09fe670",
   "metadata": {},
   "outputs": [
    {
     "name": "stdout",
     "output_type": "stream",
     "text": [
      "Results summary\n",
      "Results in wine_score_training/white\n",
      "Showing 10 best trials\n",
      "Objective(name=\"\", direction=\"max\")\n",
      "\n",
      "Trial 092 summary\n",
      "Hyperparameters:\n",
      "lr: 0.0012332982197502966\n",
      "num_layers: 2\n",
      "units_0: 220\n",
      "units_1: 206\n",
      "Score: 0.9653748989105224\n",
      "\n",
      "Trial 18 summary\n",
      "Hyperparameters:\n",
      "lr: 0.0011664940321518\n",
      "num_layers: 2\n",
      "units_0: 220\n",
      "units_1: 220\n",
      "Score: 0.9648572564125061\n",
      "\n",
      "Trial 072 summary\n",
      "Hyperparameters:\n",
      "lr: 0.0012215599200960591\n",
      "num_layers: 2\n",
      "units_0: 220\n",
      "units_1: 198\n",
      "Score: 0.9643449425697327\n",
      "\n",
      "Trial 053 summary\n",
      "Hyperparameters:\n",
      "lr: 0.0011583836811043184\n",
      "num_layers: 2\n",
      "units_0: 220\n",
      "units_1: 206\n",
      "Score: 0.9642662286758423\n",
      "\n",
      "Trial 49 summary\n",
      "Hyperparameters:\n",
      "lr: 0.0013140019210284941\n",
      "num_layers: 2\n",
      "units_0: 220\n",
      "units_1: 190\n",
      "Score: 0.9642589569091797\n",
      "\n",
      "Trial 17 summary\n",
      "Hyperparameters:\n",
      "lr: 0.0012659952144362654\n",
      "num_layers: 2\n",
      "units_0: 220\n",
      "units_1: 202\n",
      "Score: 0.9640674471855164\n",
      "\n",
      "Trial 090 summary\n",
      "Hyperparameters:\n",
      "lr: 0.0012370253610342911\n",
      "num_layers: 2\n",
      "units_0: 220\n",
      "units_1: 202\n",
      "Score: 0.9640587329864502\n",
      "\n",
      "Trial 080 summary\n",
      "Hyperparameters:\n",
      "lr: 0.001226023179296953\n",
      "num_layers: 2\n",
      "units_0: 220\n",
      "units_1: 204\n",
      "Score: 0.9638802289962769\n",
      "\n",
      "Trial 076 summary\n",
      "Hyperparameters:\n",
      "lr: 0.0012284187466688754\n",
      "num_layers: 2\n",
      "units_0: 220\n",
      "units_1: 200\n",
      "Score: 0.9637610912322998\n",
      "\n",
      "Trial 26 summary\n",
      "Hyperparameters:\n",
      "lr: 0.0012590367667134458\n",
      "num_layers: 2\n",
      "units_0: 220\n",
      "units_1: 208\n",
      "Score: 0.963724958896637\n"
     ]
    }
   ],
   "source": [
    "tuner.search(\n",
    "    x=white_training_Data_scaled,\n",
    "    y=white_training_scores,\n",
    ")\n",
    "\n",
    "tuner.results_summary()"
   ]
  },
  {
   "cell_type": "markdown",
   "id": "f902fbb34b092f6b",
   "metadata": {},
   "source": [
    "Note: the Input layer is there implicitly, but it is not considered a layer proper and it does not show up in model.summary()"
   ]
  },
  {
   "cell_type": "code",
   "execution_count": 15,
   "id": "f18808ad89607bf6",
   "metadata": {
    "ExecuteTime": {
     "end_time": "2024-04-20T04:58:18.118161Z",
     "start_time": "2024-04-20T04:58:15.650595Z"
    }
   },
   "outputs": [
    {
     "name": "stderr",
     "output_type": "stream",
     "text": [
      "/Users/paulbrenner/anaconda3/lib/python3.11/site-packages/keras/src/saving/saving_lib.py:418: UserWarning: Skipping variable loading for optimizer 'adam', because it has 2 variables whereas the saved optimizer has 14 variables. \n",
      "  trackable.load_own_variables(weights_store.get(inner_path))\n"
     ]
    },
    {
     "data": {
      "text/html": [
       "<pre style=\"white-space:pre;overflow-x:auto;line-height:normal;font-family:Menlo,'DejaVu Sans Mono',consolas,'Courier New',monospace\"><span style=\"font-weight: bold\">Model: \"sequential\"</span>\n",
       "</pre>\n"
      ],
      "text/plain": [
       "\u001b[1mModel: \"sequential\"\u001b[0m\n"
      ]
     },
     "metadata": {},
     "output_type": "display_data"
    },
    {
     "data": {
      "text/html": [
       "<pre style=\"white-space:pre;overflow-x:auto;line-height:normal;font-family:Menlo,'DejaVu Sans Mono',consolas,'Courier New',monospace\">┏━━━━━━━━━━━━━━━━━━━━━━━━━━━━━━━━━┳━━━━━━━━━━━━━━━━━━━━━━━━┳━━━━━━━━━━━━━━━┓\n",
       "┃<span style=\"font-weight: bold\"> Layer (type)                    </span>┃<span style=\"font-weight: bold\"> Output Shape           </span>┃<span style=\"font-weight: bold\">       Param # </span>┃\n",
       "┡━━━━━━━━━━━━━━━━━━━━━━━━━━━━━━━━━╇━━━━━━━━━━━━━━━━━━━━━━━━╇━━━━━━━━━━━━━━━┩\n",
       "│ dense (<span style=\"color: #0087ff; text-decoration-color: #0087ff\">Dense</span>)                   │ (<span style=\"color: #00d7ff; text-decoration-color: #00d7ff\">None</span>, <span style=\"color: #00af00; text-decoration-color: #00af00\">220</span>)            │         <span style=\"color: #00af00; text-decoration-color: #00af00\">2,640</span> │\n",
       "├─────────────────────────────────┼────────────────────────┼───────────────┤\n",
       "│ dropout (<span style=\"color: #0087ff; text-decoration-color: #0087ff\">Dropout</span>)               │ (<span style=\"color: #00d7ff; text-decoration-color: #00d7ff\">None</span>, <span style=\"color: #00af00; text-decoration-color: #00af00\">220</span>)            │             <span style=\"color: #00af00; text-decoration-color: #00af00\">0</span> │\n",
       "├─────────────────────────────────┼────────────────────────┼───────────────┤\n",
       "│ dense_1 (<span style=\"color: #0087ff; text-decoration-color: #0087ff\">Dense</span>)                 │ (<span style=\"color: #00d7ff; text-decoration-color: #00d7ff\">None</span>, <span style=\"color: #00af00; text-decoration-color: #00af00\">206</span>)            │        <span style=\"color: #00af00; text-decoration-color: #00af00\">45,526</span> │\n",
       "├─────────────────────────────────┼────────────────────────┼───────────────┤\n",
       "│ dropout_1 (<span style=\"color: #0087ff; text-decoration-color: #0087ff\">Dropout</span>)             │ (<span style=\"color: #00d7ff; text-decoration-color: #00d7ff\">None</span>, <span style=\"color: #00af00; text-decoration-color: #00af00\">206</span>)            │             <span style=\"color: #00af00; text-decoration-color: #00af00\">0</span> │\n",
       "├─────────────────────────────────┼────────────────────────┼───────────────┤\n",
       "│ dense_2 (<span style=\"color: #0087ff; text-decoration-color: #0087ff\">Dense</span>)                 │ (<span style=\"color: #00d7ff; text-decoration-color: #00d7ff\">None</span>, <span style=\"color: #00af00; text-decoration-color: #00af00\">1</span>)              │           <span style=\"color: #00af00; text-decoration-color: #00af00\">207</span> │\n",
       "└─────────────────────────────────┴────────────────────────┴───────────────┘\n",
       "</pre>\n"
      ],
      "text/plain": [
       "┏━━━━━━━━━━━━━━━━━━━━━━━━━━━━━━━━━┳━━━━━━━━━━━━━━━━━━━━━━━━┳━━━━━━━━━━━━━━━┓\n",
       "┃\u001b[1m \u001b[0m\u001b[1mLayer (type)                   \u001b[0m\u001b[1m \u001b[0m┃\u001b[1m \u001b[0m\u001b[1mOutput Shape          \u001b[0m\u001b[1m \u001b[0m┃\u001b[1m \u001b[0m\u001b[1m      Param #\u001b[0m\u001b[1m \u001b[0m┃\n",
       "┡━━━━━━━━━━━━━━━━━━━━━━━━━━━━━━━━━╇━━━━━━━━━━━━━━━━━━━━━━━━╇━━━━━━━━━━━━━━━┩\n",
       "│ dense (\u001b[38;5;33mDense\u001b[0m)                   │ (\u001b[38;5;45mNone\u001b[0m, \u001b[38;5;34m220\u001b[0m)            │         \u001b[38;5;34m2,640\u001b[0m │\n",
       "├─────────────────────────────────┼────────────────────────┼───────────────┤\n",
       "│ dropout (\u001b[38;5;33mDropout\u001b[0m)               │ (\u001b[38;5;45mNone\u001b[0m, \u001b[38;5;34m220\u001b[0m)            │             \u001b[38;5;34m0\u001b[0m │\n",
       "├─────────────────────────────────┼────────────────────────┼───────────────┤\n",
       "│ dense_1 (\u001b[38;5;33mDense\u001b[0m)                 │ (\u001b[38;5;45mNone\u001b[0m, \u001b[38;5;34m206\u001b[0m)            │        \u001b[38;5;34m45,526\u001b[0m │\n",
       "├─────────────────────────────────┼────────────────────────┼───────────────┤\n",
       "│ dropout_1 (\u001b[38;5;33mDropout\u001b[0m)             │ (\u001b[38;5;45mNone\u001b[0m, \u001b[38;5;34m206\u001b[0m)            │             \u001b[38;5;34m0\u001b[0m │\n",
       "├─────────────────────────────────┼────────────────────────┼───────────────┤\n",
       "│ dense_2 (\u001b[38;5;33mDense\u001b[0m)                 │ (\u001b[38;5;45mNone\u001b[0m, \u001b[38;5;34m1\u001b[0m)              │           \u001b[38;5;34m207\u001b[0m │\n",
       "└─────────────────────────────────┴────────────────────────┴───────────────┘\n"
      ]
     },
     "metadata": {},
     "output_type": "display_data"
    },
    {
     "data": {
      "text/html": [
       "<pre style=\"white-space:pre;overflow-x:auto;line-height:normal;font-family:Menlo,'DejaVu Sans Mono',consolas,'Courier New',monospace\"><span style=\"font-weight: bold\"> Total params: </span><span style=\"color: #00af00; text-decoration-color: #00af00\">48,373</span> (188.96 KB)\n",
       "</pre>\n"
      ],
      "text/plain": [
       "\u001b[1m Total params: \u001b[0m\u001b[38;5;34m48,373\u001b[0m (188.96 KB)\n"
      ]
     },
     "metadata": {},
     "output_type": "display_data"
    },
    {
     "data": {
      "text/html": [
       "<pre style=\"white-space:pre;overflow-x:auto;line-height:normal;font-family:Menlo,'DejaVu Sans Mono',consolas,'Courier New',monospace\"><span style=\"font-weight: bold\"> Trainable params: </span><span style=\"color: #00af00; text-decoration-color: #00af00\">48,373</span> (188.96 KB)\n",
       "</pre>\n"
      ],
      "text/plain": [
       "\u001b[1m Trainable params: \u001b[0m\u001b[38;5;34m48,373\u001b[0m (188.96 KB)\n"
      ]
     },
     "metadata": {},
     "output_type": "display_data"
    },
    {
     "data": {
      "text/html": [
       "<pre style=\"white-space:pre;overflow-x:auto;line-height:normal;font-family:Menlo,'DejaVu Sans Mono',consolas,'Courier New',monospace\"><span style=\"font-weight: bold\"> Non-trainable params: </span><span style=\"color: #00af00; text-decoration-color: #00af00\">0</span> (0.00 B)\n",
       "</pre>\n"
      ],
      "text/plain": [
       "\u001b[1m Non-trainable params: \u001b[0m\u001b[38;5;34m0\u001b[0m (0.00 B)\n"
      ]
     },
     "metadata": {},
     "output_type": "display_data"
    }
   ],
   "source": [
    "best_model = tuner.get_best_models()[0]\n",
    "best_model.summary()"
   ]
  },
  {
   "cell_type": "code",
   "execution_count": 16,
   "id": "93db6616d7a69c45",
   "metadata": {
    "ExecuteTime": {
     "end_time": "2024-04-20T05:04:46.781199Z",
     "start_time": "2024-04-20T04:58:18.119186Z"
    }
   },
   "outputs": [
    {
     "name": "stdout",
     "output_type": "stream",
     "text": [
      "\n",
      "Cross Validation\n",
      "- R^2: [0.96046251 0.96224058 0.96451825 0.96726704 0.96159637]\n",
      "- R^2 Durchschnittlicher: 0.9632\n",
      "- R^2 Standardabweichung: 0.0024\n",
      "\n",
      "\n",
      "\u001b[1m31/31\u001b[0m \u001b[32m━━━━━━━━━━━━━━━━━━━━\u001b[0m\u001b[37m\u001b[0m \u001b[1m0s\u001b[0m 851us/step\n",
      "Test:\n",
      "- R^2: 0.3183\n",
      "- RMSE: 0.75\n",
      "- MAPE: 9.60%\n"
     ]
    },
    {
     "data": {
      "image/png": "[encoded data removed]",
      "text/plain": [
       "<Figure size 640x480 with 1 Axes>"
      ]
     },
     "metadata": {},
     "output_type": "display_data"
    },
    {
     "data": {
      "image/png": "[encoded data removed]",
      "text/plain": [
       "<Figure size 640x480 with 1 Axes>"
      ]
     },
     "metadata": {},
     "output_type": "display_data"
    },
    {
     "name": "stdout",
     "output_type": "stream",
     "text": [
      "CPU times: user 9min 45s, sys: 1min 33s, total: 11min 18s\n",
      "Wall time: 7min 53s\n"
     ]
    },
    {
     "data": {
      "text/plain": [
       "(array([0.96046251, 0.96224058, 0.96451825, 0.96726704, 0.96159637]),\n",
       " (<Sequential name=sequential_4, built=True>,\n",
       "  <keras.src.callbacks.history.History at 0x3294b7150>))"
      ]
     },
     "execution_count": 16,
     "metadata": {},
     "output_type": "execute_result"
    },
    {
     "data": {
      "image/png": "[encoded data removed]",
      "text/plain": [
       "<Figure size 640x480 with 2 Axes>"
      ]
     },
     "metadata": {},
     "output_type": "display_data"
    }
   ],
   "source": [
    "%%time\n",
    "#Retrain best Model\n",
    "best_hp = tuner.get_best_hyperparameters()[0]\n",
    "best_model_history = evaluate_model_cv_print(best_hp, white_training_Data_scaled, white_training_scores, white_test_data_scaled, white_test_scores)\n",
    "best_model_history"
   ]
  },
  {
   "cell_type": "code",
   "execution_count": 17,
   "id": "4a636f525cac62e7",
   "metadata": {
    "ExecuteTime": {
     "end_time": "2024-04-20T05:04:46.785683Z",
     "start_time": "2024-04-20T05:04:46.781199Z"
    }
   },
   "outputs": [
    {
     "data": {
      "text/plain": [
       "{'lr': 0.0012332982197502966, 'num_layers': 2, 'units_0': 220, 'units_1': 206}"
      ]
     },
     "execution_count": 17,
     "metadata": {},
     "output_type": "execute_result"
    }
   ],
   "source": [
    "best_hp.values"
   ]
  },
  {
   "cell_type": "markdown",
   "id": "7c84be6b3622c9e",
   "metadata": {},
   "source": [
    "## RED Wine"
   ]
  },
  {
   "cell_type": "code",
   "execution_count": 18,
   "id": "ec9d082ca050879b",
   "metadata": {
    "ExecuteTime": {
     "end_time": "2024-04-20T05:04:46.845970Z",
     "start_time": "2024-04-20T05:04:46.785683Z"
    }
   },
   "outputs": [
    {
     "name": "stdout",
     "output_type": "stream",
     "text": [
      "Reloading Tuner from wine_score_training/red/tuner0.json\n"
     ]
    }
   ],
   "source": [
    "red_tuner = keras_tuner.BayesianOptimization(\n",
    "    hypermodel=HyperRegressor(),\n",
    "    objective = keras_tuner.Objective(name=\"\", direction='max'),\n",
    "    max_trials=85,\n",
    "    overwrite=False,\n",
    "    directory=\"wine_score_training\",\n",
    "    project_name=\"red\",\n",
    ")"
   ]
  },
  {
   "cell_type": "code",
   "execution_count": 19,
   "id": "54cfba8b4d9643e",
   "metadata": {},
   "outputs": [
    {
     "name": "stdout",
     "output_type": "stream",
     "text": [
      "Results summary\n",
      "Results in wine_score_training/red\n",
      "Showing 10 best trials\n",
      "Objective(name=\"\", direction=\"max\")\n",
      "\n",
      "Trial 50 summary\n",
      "Hyperparameters:\n",
      "lr: 0.0017062317635702748\n",
      "num_layers: 2\n",
      "units_0: 158\n",
      "units_1: 220\n",
      "Score: 0.9500704526901245\n",
      "\n",
      "Trial 64 summary\n",
      "Hyperparameters:\n",
      "lr: 0.0017259004301463411\n",
      "num_layers: 2\n",
      "units_0: 158\n",
      "units_1: 220\n",
      "Score: 0.949598515033722\n",
      "\n",
      "Trial 33 summary\n",
      "Hyperparameters:\n",
      "lr: 0.0018243901560444126\n",
      "num_layers: 2\n",
      "units_0: 144\n",
      "units_1: 168\n",
      "Score: 0.9494137525558471\n",
      "\n",
      "Trial 53 summary\n",
      "Hyperparameters:\n",
      "lr: 0.0031383175335364445\n",
      "num_layers: 2\n",
      "units_0: 186\n",
      "units_1: 120\n",
      "Score: 0.9489416718482971\n",
      "\n",
      "Trial 31 summary\n",
      "Hyperparameters:\n",
      "lr: 0.0017178158788675895\n",
      "num_layers: 2\n",
      "units_0: 146\n",
      "units_1: 174\n",
      "Score: 0.9488247871398926\n",
      "\n",
      "Trial 46 summary\n",
      "Hyperparameters:\n",
      "lr: 0.0016562356416230438\n",
      "num_layers: 2\n",
      "units_0: 166\n",
      "units_1: 220\n",
      "Score: 0.9487973213195801\n",
      "\n",
      "Trial 39 summary\n",
      "Hyperparameters:\n",
      "lr: 0.0014408426585621583\n",
      "num_layers: 2\n",
      "units_0: 180\n",
      "units_1: 220\n",
      "Score: 0.948509418964386\n",
      "\n",
      "Trial 47 summary\n",
      "Hyperparameters:\n",
      "lr: 0.0016876126455504555\n",
      "num_layers: 2\n",
      "units_0: 164\n",
      "units_1: 220\n",
      "Score: 0.9484629273414612\n",
      "\n",
      "Trial 44 summary\n",
      "Hyperparameters:\n",
      "lr: 0.0017255680321120448\n",
      "num_layers: 2\n",
      "units_0: 158\n",
      "units_1: 220\n",
      "Score: 0.9480587005615234\n",
      "\n",
      "Trial 35 summary\n",
      "Hyperparameters:\n",
      "lr: 0.0011981217425369548\n",
      "num_layers: 2\n",
      "units_0: 186\n",
      "units_1: 220\n",
      "Score: 0.9477508664131165\n"
     ]
    }
   ],
   "source": [
    "red_tuner.search(\n",
    "    x=red_training_Data_scaled,\n",
    "    y=red_training_scores,\n",
    ")\n",
    "\n",
    "red_tuner.results_summary()"
   ]
  },
  {
   "cell_type": "code",
   "execution_count": 20,
   "id": "b87475aa64a74154",
   "metadata": {
    "ExecuteTime": {
     "end_time": "2024-04-20T07:49:41.734331Z",
     "start_time": "2024-04-20T07:49:36.953939Z"
    }
   },
   "outputs": [
    {
     "name": "stderr",
     "output_type": "stream",
     "text": [
      "/Users/paulbrenner/anaconda3/lib/python3.11/site-packages/keras/src/saving/saving_lib.py:418: UserWarning: Skipping variable loading for optimizer 'adam', because it has 2 variables whereas the saved optimizer has 14 variables. \n",
      "  trackable.load_own_variables(weights_store.get(inner_path))\n"
     ]
    },
    {
     "data": {
      "text/html": [
       "<pre style=\"white-space:pre;overflow-x:auto;line-height:normal;font-family:Menlo,'DejaVu Sans Mono',consolas,'Courier New',monospace\"><span style=\"font-weight: bold\">Model: \"sequential\"</span>\n",
       "</pre>\n"
      ],
      "text/plain": [
       "\u001b[1mModel: \"sequential\"\u001b[0m\n"
      ]
     },
     "metadata": {},
     "output_type": "display_data"
    },
    {
     "data": {
      "text/html": [
       "<pre style=\"white-space:pre;overflow-x:auto;line-height:normal;font-family:Menlo,'DejaVu Sans Mono',consolas,'Courier New',monospace\">┏━━━━━━━━━━━━━━━━━━━━━━━━━━━━━━━━━┳━━━━━━━━━━━━━━━━━━━━━━━━┳━━━━━━━━━━━━━━━┓\n",
       "┃<span style=\"font-weight: bold\"> Layer (type)                    </span>┃<span style=\"font-weight: bold\"> Output Shape           </span>┃<span style=\"font-weight: bold\">       Param # </span>┃\n",
       "┡━━━━━━━━━━━━━━━━━━━━━━━━━━━━━━━━━╇━━━━━━━━━━━━━━━━━━━━━━━━╇━━━━━━━━━━━━━━━┩\n",
       "│ dense (<span style=\"color: #0087ff; text-decoration-color: #0087ff\">Dense</span>)                   │ (<span style=\"color: #00d7ff; text-decoration-color: #00d7ff\">None</span>, <span style=\"color: #00af00; text-decoration-color: #00af00\">158</span>)            │         <span style=\"color: #00af00; text-decoration-color: #00af00\">1,896</span> │\n",
       "├─────────────────────────────────┼────────────────────────┼───────────────┤\n",
       "│ dropout (<span style=\"color: #0087ff; text-decoration-color: #0087ff\">Dropout</span>)               │ (<span style=\"color: #00d7ff; text-decoration-color: #00d7ff\">None</span>, <span style=\"color: #00af00; text-decoration-color: #00af00\">158</span>)            │             <span style=\"color: #00af00; text-decoration-color: #00af00\">0</span> │\n",
       "├─────────────────────────────────┼────────────────────────┼───────────────┤\n",
       "│ dense_1 (<span style=\"color: #0087ff; text-decoration-color: #0087ff\">Dense</span>)                 │ (<span style=\"color: #00d7ff; text-decoration-color: #00d7ff\">None</span>, <span style=\"color: #00af00; text-decoration-color: #00af00\">220</span>)            │        <span style=\"color: #00af00; text-decoration-color: #00af00\">34,980</span> │\n",
       "├─────────────────────────────────┼────────────────────────┼───────────────┤\n",
       "│ dropout_1 (<span style=\"color: #0087ff; text-decoration-color: #0087ff\">Dropout</span>)             │ (<span style=\"color: #00d7ff; text-decoration-color: #00d7ff\">None</span>, <span style=\"color: #00af00; text-decoration-color: #00af00\">220</span>)            │             <span style=\"color: #00af00; text-decoration-color: #00af00\">0</span> │\n",
       "├─────────────────────────────────┼────────────────────────┼───────────────┤\n",
       "│ dense_2 (<span style=\"color: #0087ff; text-decoration-color: #0087ff\">Dense</span>)                 │ (<span style=\"color: #00d7ff; text-decoration-color: #00d7ff\">None</span>, <span style=\"color: #00af00; text-decoration-color: #00af00\">1</span>)              │           <span style=\"color: #00af00; text-decoration-color: #00af00\">221</span> │\n",
       "└─────────────────────────────────┴────────────────────────┴───────────────┘\n",
       "</pre>\n"
      ],
      "text/plain": [
       "┏━━━━━━━━━━━━━━━━━━━━━━━━━━━━━━━━━┳━━━━━━━━━━━━━━━━━━━━━━━━┳━━━━━━━━━━━━━━━┓\n",
       "┃\u001b[1m \u001b[0m\u001b[1mLayer (type)                   \u001b[0m\u001b[1m \u001b[0m┃\u001b[1m \u001b[0m\u001b[1mOutput Shape          \u001b[0m\u001b[1m \u001b[0m┃\u001b[1m \u001b[0m\u001b[1m      Param #\u001b[0m\u001b[1m \u001b[0m┃\n",
       "┡━━━━━━━━━━━━━━━━━━━━━━━━━━━━━━━━━╇━━━━━━━━━━━━━━━━━━━━━━━━╇━━━━━━━━━━━━━━━┩\n",
       "│ dense (\u001b[38;5;33mDense\u001b[0m)                   │ (\u001b[38;5;45mNone\u001b[0m, \u001b[38;5;34m158\u001b[0m)            │         \u001b[38;5;34m1,896\u001b[0m │\n",
       "├─────────────────────────────────┼────────────────────────┼───────────────┤\n",
       "│ dropout (\u001b[38;5;33mDropout\u001b[0m)               │ (\u001b[38;5;45mNone\u001b[0m, \u001b[38;5;34m158\u001b[0m)            │             \u001b[38;5;34m0\u001b[0m │\n",
       "├─────────────────────────────────┼────────────────────────┼───────────────┤\n",
       "│ dense_1 (\u001b[38;5;33mDense\u001b[0m)                 │ (\u001b[38;5;45mNone\u001b[0m, \u001b[38;5;34m220\u001b[0m)            │        \u001b[38;5;34m34,980\u001b[0m │\n",
       "├─────────────────────────────────┼────────────────────────┼───────────────┤\n",
       "│ dropout_1 (\u001b[38;5;33mDropout\u001b[0m)             │ (\u001b[38;5;45mNone\u001b[0m, \u001b[38;5;34m220\u001b[0m)            │             \u001b[38;5;34m0\u001b[0m │\n",
       "├─────────────────────────────────┼────────────────────────┼───────────────┤\n",
       "│ dense_2 (\u001b[38;5;33mDense\u001b[0m)                 │ (\u001b[38;5;45mNone\u001b[0m, \u001b[38;5;34m1\u001b[0m)              │           \u001b[38;5;34m221\u001b[0m │\n",
       "└─────────────────────────────────┴────────────────────────┴───────────────┘\n"
      ]
     },
     "metadata": {},
     "output_type": "display_data"
    },
    {
     "data": {
      "text/html": [
       "<pre style=\"white-space:pre;overflow-x:auto;line-height:normal;font-family:Menlo,'DejaVu Sans Mono',consolas,'Courier New',monospace\"><span style=\"font-weight: bold\"> Total params: </span><span style=\"color: #00af00; text-decoration-color: #00af00\">37,097</span> (144.91 KB)\n",
       "</pre>\n"
      ],
      "text/plain": [
       "\u001b[1m Total params: \u001b[0m\u001b[38;5;34m37,097\u001b[0m (144.91 KB)\n"
      ]
     },
     "metadata": {},
     "output_type": "display_data"
    },
    {
     "data": {
      "text/html": [
       "<pre style=\"white-space:pre;overflow-x:auto;line-height:normal;font-family:Menlo,'DejaVu Sans Mono',consolas,'Courier New',monospace\"><span style=\"font-weight: bold\"> Trainable params: </span><span style=\"color: #00af00; text-decoration-color: #00af00\">37,097</span> (144.91 KB)\n",
       "</pre>\n"
      ],
      "text/plain": [
       "\u001b[1m Trainable params: \u001b[0m\u001b[38;5;34m37,097\u001b[0m (144.91 KB)\n"
      ]
     },
     "metadata": {},
     "output_type": "display_data"
    },
    {
     "data": {
      "text/html": [
       "<pre style=\"white-space:pre;overflow-x:auto;line-height:normal;font-family:Menlo,'DejaVu Sans Mono',consolas,'Courier New',monospace\"><span style=\"font-weight: bold\"> Non-trainable params: </span><span style=\"color: #00af00; text-decoration-color: #00af00\">0</span> (0.00 B)\n",
       "</pre>\n"
      ],
      "text/plain": [
       "\u001b[1m Non-trainable params: \u001b[0m\u001b[38;5;34m0\u001b[0m (0.00 B)\n"
      ]
     },
     "metadata": {},
     "output_type": "display_data"
    }
   ],
   "source": [
    "best_red_model = red_tuner.get_best_models()[0]\n",
    "best_red_model.summary()"
   ]
  },
  {
   "cell_type": "code",
   "execution_count": 21,
   "id": "d866086c8d863252",
   "metadata": {
    "ExecuteTime": {
     "end_time": "2024-04-20T07:52:32.717375Z",
     "start_time": "2024-04-20T07:49:41.734331Z"
    }
   },
   "outputs": [
    {
     "name": "stdout",
     "output_type": "stream",
     "text": [
      "\n",
      "Cross Validation\n",
      "- R^2: [0.95604324 0.94921893 0.94770503 0.94272274 0.95272017]\n",
      "- R^2 Durchschnittlicher: 0.9497\n",
      "- R^2 Standardabweichung: 0.0045\n",
      "\n",
      "\n",
      "\u001b[1m10/10\u001b[0m \u001b[32m━━━━━━━━━━━━━━━━━━━━\u001b[0m\u001b[37m\u001b[0m \u001b[1m0s\u001b[0m 461us/step\n",
      "Test:\n",
      "- R^2: 0.4133\n",
      "- RMSE: 0.66\n",
      "- MAPE: 9.28%\n"
     ]
    },
    {
     "data": {
      "image/png": "[encoded data removed]",
      "text/plain": [
       "<Figure size 640x480 with 1 Axes>"
      ]
     },
     "metadata": {},
     "output_type": "display_data"
    },
    {
     "data": {
      "image/png": "[encoded data removed]",
      "text/plain": [
       "<Figure size 640x480 with 1 Axes>"
      ]
     },
     "metadata": {},
     "output_type": "display_data"
    },
    {
     "name": "stdout",
     "output_type": "stream",
     "text": [
      "CPU times: user 3min 23s, sys: 30 s, total: 3min 53s\n",
      "Wall time: 2min 55s\n"
     ]
    },
    {
     "data": {
      "text/plain": [
       "(array([0.95604324, 0.94921893, 0.94770503, 0.94272274, 0.95272017]),\n",
       " (<Sequential name=sequential_1, built=True>,\n",
       "  <keras.src.callbacks.history.History at 0x31ece7190>))"
      ]
     },
     "execution_count": 21,
     "metadata": {},
     "output_type": "execute_result"
    },
    {
     "data": {
      "image/png": "[encoded data removed]",
      "text/plain": [
       "<Figure size 640x480 with 2 Axes>"
      ]
     },
     "metadata": {},
     "output_type": "display_data"
    }
   ],
   "source": [
    "%%time\n",
    "#Retrain best Model\n",
    "best_red_hp = red_tuner.get_best_hyperparameters()[0]\n",
    "best_red_model_history = evaluate_model_cv_print(best_hp, red_training_Data_scaled, red_training_scores, red_test_data_scaled, red_test_scores)\n",
    "best_red_model_history"
   ]
  },
  {
   "cell_type": "code",
   "execution_count": 22,
   "id": "70a064210936b428",
   "metadata": {
    "ExecuteTime": {
     "end_time": "2024-04-20T07:52:32.721426Z",
     "start_time": "2024-04-20T07:52:32.717375Z"
    }
   },
   "outputs": [
    {
     "data": {
      "text/plain": [
       "{'lr': 0.0017062317635702748, 'num_layers': 2, 'units_0': 158, 'units_1': 220}"
      ]
     },
     "execution_count": 22,
     "metadata": {},
     "output_type": "execute_result"
    }
   ],
   "source": [
    "best_red_hp.values"
   ]
  },
  {
   "cell_type": "markdown",
   "id": "61371815",
   "metadata": {},
   "source": [
    "# Aufgabe 4\n",
    "## Loss-Fkt und Optimizer:\n",
    "Auf Basis der Aufgabenstellung wurden die Mean Squared Error (MSE) Loss-Funktion und der Adam-Optimizer ausgewählt.\n",
    "\n",
    "Die MSE Loss-Funktion ist eine häufig verwendete Loss-Funktion, da sie die Genauigkeit der Vorhersagen quantifiziert und das Modell dadurch anregt, möglichst nahe an den tatsächlichen Werten zu liegen. \n",
    "\n",
    "Der Adam-Optimierer ist einer der beliebtesten Optimierer und bietet eine adaptive Lernrate. Er überzeugt durch seine Effizienz und minimale Speicheranforderungen und ist auch für Probleme mit großen Datensets gut geeignet. Durch die adaptive Skalierung seiner Lernraten eignet sich Adam gut für Modelle mit verrauschten Daten.\n",
    "\n",
    "Einer der wichtigsten Hyperparameter für die Nutzung des Adam-Optimizers ist die Learning-Rate, welche mittels Hyperparameter-Optimierung bestimmt wird.\n"
   ]
  },
  {
   "cell_type": "markdown",
   "id": "958418e0",
   "metadata": {},
   "source": [
    "# Aufgabe 5\n",
    "## Vergleich Roter und Weißer Wein\n",
    "Für den weißen Wein ergab die Cross-Validation einen durchschnittlichen R2-Score von 0,9632 mit einer geringen Standardabweichung von 0,0024. Dies deutet darauf hin, dass das Modell konsistente und präzise Vorhersagen für verschiedene Teilmengen der Daten liefert. \n",
    "\n",
    "Der R2-Score des Testsets lässt jedoch mit seinem niedrigen Wert von 0,3183 darauf schließen, dass das Modell Schwierigkeiten hatte auf unbekannten Daten zu schließen. \n",
    "\n",
    "Für den roten Wein ergab die Cross-Validation aufgrund des kleineren Datensets einen etwas niedrigeren R2-Wert von 0,9497 und eine etwas höhere Standardabweichung (0,0045 vs 0,0024). \n",
    "\n",
    "Auf den Testdaten wurde hier jedoch ein R2-Score von 0.4133 erzielt, was gegenüber dem weißen Datenset mit 0.3183 eine bessere Vorhersagegenauigkeit bedeutet.\n",
    "\n",
    "Zusammenfassend wurde hier also trotz des kleineren Datensets eine bessere Genauigkeit für die Vorhersage des roten Weins erzielt, obwohl der weiße Wein bei der Cross-Validation eine höhere Genauigkeit aufwies.\n",
    "\n",
    "## Vergleich klassischer Ansatz vs Deep Learning\n",
    "Der klassische Ansatz lässt sich im Vergleich zum Deep Learning schneller implementieren.\n",
    "Des weiteren sticht Deep Learning durch deutlich längere Trainingszeiten (1 Minute klassisch vs. 10 Minuten Deep Learning) heraus. \n",
    "\n",
    "Im Vergleich der Scores auf den Testdaten liefert der klassische Ansatz auf dem größeren Datensatz (weißer Wein) einen besseren R2-Score (0.4862 klassich, 0.3183 Deep Learning). \n",
    "Bei einem kleineren Datenset (roter Wein) liefern beide Ansätze eine nahezu identische Performance (0,3914 klassisch, 0,4133 Deep Learning).\n"
   ]
  }
 ],
 "metadata": {
  "kernelspec": {
   "display_name": "Python 3",
   "language": "python",
   "name": "python3"
  },
  "language_info": {
   "codemirror_mode": {
    "name": "ipython",
    "version": 3
   },
   "file_extension": ".py",
   "mimetype": "text/x-python",
   "name": "python",
   "nbconvert_exporter": "python",
   "pygments_lexer": "ipython3",
   "version": "3.11.8"
  }
 },
 "nbformat": 4,
 "nbformat_minor": 5
}
